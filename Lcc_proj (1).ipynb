{
  "cells": [
    {
      "cell_type": "markdown",
      "metadata": {
        "id": "4aqU3DDs_kIv"
      },
      "source": [
        "##3) Using semantic vectors to decode brain activation"
      ]
    },
    {
      "cell_type": "markdown",
      "metadata": {
        "id": "cFrD0CUr_sh3"
      },
      "source": [
        "### Load the data"
      ]
    },
    {
      "cell_type": "code",
      "execution_count": null,
      "metadata": {
        "colab": {
          "base_uri": "https://localhost:8080/"
        },
        "id": "RwgOUIetGxAF",
        "outputId": "728da03f-fb4c-40ef-801f-296063c0d45c"
      },
      "outputs": [
        {
          "output_type": "stream",
          "name": "stdout",
          "text": [
            "--2024-08-26 17:41:48--  https://drive.usercontent.google.com/download?id=1xZaorRH-xxjfochvSesAhOTUg82_Xq56&export=download&authuser=0&confirm=t&uuid=efeb9ce5-a5c5-453b-938d-6c0ece963f3c&at=APZUnTV18b5mSao0MQ2JbtpefTxr%3A1719665236172\n",
            "Resolving drive.usercontent.google.com (drive.usercontent.google.com)... 74.125.196.132, 2607:f8b0:400c:c36::84\n",
            "Connecting to drive.usercontent.google.com (drive.usercontent.google.com)|74.125.196.132|:443... connected.\n",
            "HTTP request sent, awaiting response... 200 OK\n",
            "Length: 97708666 (93M) [application/octet-stream]\n",
            "Saving to: ‘files.zip’\n",
            "\n",
            "files.zip           100%[===================>]  93.18M  82.5MB/s    in 1.1s    \n",
            "\n",
            "2024-08-26 17:41:49 (82.5 MB/s) - ‘files.zip’ saved [97708666/97708666]\n",
            "\n",
            "Archive:  files.zip\n",
            "  inflating: stimuli_180concepts.txt  \n",
            "  inflating: learn_decoder.py        \n",
            "  inflating: vectors_180concepts.GV42B300.txt  \n",
            "  inflating: imaging_data.csv        \n"
          ]
        }
      ],
      "source": [
        "# Download and extract the data and learn_decoder.py\n",
        "# !wget --load-cookies /tmp/cookies.txt \"https://docs.google.com/uc?export=download&confirm=$(wget --quiet --save-cookies /tmp/cookies.txt --keep-session-cookies --no-check-certificate 'https://docs.google.com/uc?export=download&id=1xZaorRH-xxjfochvSesAhOTUg82_Xq56' -O- | sed -rn 's/.*confirm=([0-9A-Za-z_]+).*/\\1\\n/p')&id=1xZaorRH-xxjfochvSesAhOTUg82_Xq56\" -O files.zip && rm -rf /tmp/cookies.txt\n",
        "!wget --header=\"Host: drive.usercontent.google.com\" --header=\"Accept: text/html,application/xhtml+xml,application/xml;q=0.9,image/avif,image/webp,image/apng,*/*;q=0.8,application/signed-exchange;v=b3;q=0.7\" --header=\"Accept-Language: en-US,en;q=0.9,he;q=0.8\" --header=\"Cookie: HSID=AHJfxja1o67aaDDKP; SSID=AcFaYUEeiC88MwrF9; APISID=-FXvHmBvJ828Jrpq/AaIp_RI6gKwBAA-zy; SAPISID=_psqReiv0O2WdiVv/AhLpZThJtVNAPgAJP; __Secure-1PAPISID=_psqReiv0O2WdiVv/AhLpZThJtVNAPgAJP; __Secure-3PAPISID=_psqReiv0O2WdiVv/AhLpZThJtVNAPgAJP; S=billing-ui-v3=pX9aAWC8SzxQZfQvQ-0SbCFRz65PPkVY:billing-ui-v3-efe=pX9aAWC8SzxQZfQvQ-0SbCFRz65PPkVY:maestro=dsv3G-owxPD6uTATLH0lBQZNadhFo6ZKJiuB9usoQVU; __Secure-BUCKET=CPgG; SID=g.a000kggtmVDh8D92rqHe5fiG-bMoXQw7Ld8Tf_C8qHhSE2ZoFUyx_uObP_F4bCqI8I561ccGMwACgYKAWESARQSFQHGX2Mi5DnhBiJ2gjjbMSP0XJbU5BoVAUF8yKrlBjWMdNOfGnmA7TZzmbWD0076; __Secure-1PSID=g.a000kggtmVDh8D92rqHe5fiG-bMoXQw7Ld8Tf_C8qHhSE2ZoFUyx2BFINS8lXhFUyAFwuvl8CQACgYKAW4SARQSFQHGX2MiWd6bHkI0JN89-1dFZUbS2hoVAUF8yKpc-H3AD8N6tj-dmFG21SeE0076; __Secure-3PSID=g.a000kggtmVDh8D92rqHe5fiG-bMoXQw7Ld8Tf_C8qHhSE2ZoFUyxJl_TGsCsjeiVN72q3lSCWQACgYKASASARQSFQHGX2MiULluXa7aABDwxgCWjB6IyhoVAUF8yKoy_HHYLCqIFMwNjx-GwYWe0076; __Secure-ENID=20.SE=jyM_w2hA8DW6FvPOh9wudde93a0A9P41Epzo098LV_LyU79-VVcJ9K-vNLrhCLuVzi69CyV4RxlSls8AAT9J8odwIXi_ISVn8Z1U1DH52BC3YiwOwO9LKUsBesCbGx2D6u1XwZ5GIP_PZMo1tkLLJq2VCtcxRP9OtC_QgHNbAD4eyc1TTu1C8XbZLFTOIgb0k9IfM2bMBXeha6t3sJysARZWpDIzs3I8wWZ5JtABB253grtjQyCnxyy9MUgTcYAVaoEGwgVHV4V4lSY6gydFkO2gYxl7JqYloqCq74HahGK54TBlsGZIOTM_KvFAsIidcrPaVOBpH6IGQTPChxy3Tr-GLK7VpBiQ8JW7V0xC8XTN1crEaaZnGFQ6MrjDv8f3hCY0Kg; AEC=AQTF6HwEtUB747fVHMzvOWJV9pmRoGs8Ix8FJ1HTrxbE9NY1dtyro2AvNQ; NID=515=Wdt0NWZqVSh3TtdIfjXCGTCCkj7jaJjt-lkOL3hLD_hPSSMyGxKkVthECwGGFbbxmvfM2iKZ1SkPGDVgLwjghAOrV9Ya7iEJJ0eSXZSfszc0WxRXm3Jy6LxqPEZLmY8v3AIkMX-o8KE5ZRXGEzgv_s9pfgS8bmeiIGT13Iiyw9tPzRZDChGijNbZ0Mp1oF-4YKikOZCyo8Km9wXOgLAC9dbeIqAlTdER97cQ7B5GajyRLH_bFrg0lCVN4tyZEycjihHOu6Eq_V88rswgV7uvzemJ_yk4WbbIWJVm9NCO4tWdDQG8NY3EY57xAJbmIhu260jDftYwzjCnpqJ8C1iCm-FjboF6xJwKJEtLkCXagIcSWxfPGqRWIn5KY72ogAMZTlUZ5RE5F8bH4sFgkt5pW_AalY5mxYPOfZgF-9hcJYsF71rMOic6mqSfvR8iNo-k6_SZ-4o5WkYxbwdLgiaIOiCJHkhIGBoXsm5hh5BHDqlk5ERGnFn5zpqOguNLJFjXT3nhaP1g_a2fFvd0bmZw2A9Y6tBNAC7CbDOmSHSmYmLag0qVcqu286CZh5svuhdM-QPcSCt5u0kPgfWN3KBha0G9L9qCiDIwntvnlVNoUYLBM4je1bhGjO9M2tdH_vteLo4vjm9Cq-4I2A; __Secure-1PSIDTS=sidts-CjIB3EgAEi6AJoaJlu_IOdqmparuSFUne3RqD5YKK5hcqKjRlc0CTp9lSpyH2OoVVoqmlxAA; __Secure-3PSIDTS=sidts-CjIB3EgAEi6AJoaJlu_IOdqmparuSFUne3RqD5YKK5hcqKjRlc0CTp9lSpyH2OoVVoqmlxAA; SIDCC=AKEyXzW7IJ8miV8hX_pqzqqPW7--eMWuWfausspLBoDPlfZDCRZDED56ohpancLYOBPizfUzi1aM; __Secure-1PSIDCC=AKEyXzVGnmSuG07J22njRVFPQ_sk88MgnqtYxJd-M0_9Pz3jdh4GpGPhPOqCMrayTU9SJTW3n54; __Secure-3PSIDCC=AKEyXzVScJYbKdtIImPYKpTRkExsc5UhC5n9Rkk8wNFlMZNW3_xkvWlimAXWaZ4T7kTcJy5AE4I\" --header=\"Connection: keep-alive\" \"https://drive.usercontent.google.com/download?id=1xZaorRH-xxjfochvSesAhOTUg82_Xq56&export=download&authuser=0&confirm=t&uuid=efeb9ce5-a5c5-453b-938d-6c0ece963f3c&at=APZUnTV18b5mSao0MQ2JbtpefTxr%3A1719665236172\" -c -O 'files.zip'\n",
        "!unzip files.zip\n",
        "!rm files.zip"
      ]
    },
    {
      "cell_type": "code",
      "execution_count": null,
      "metadata": {
        "colab": {
          "base_uri": "https://localhost:8080/"
        },
        "id": "sygvslgRVHxi",
        "outputId": "15ee64f7-c493-45a5-8682-4f876c46cf1a"
      },
      "outputs": [
        {
          "output_type": "stream",
          "name": "stdout",
          "text": [
            "Original working directory: /content\n"
          ]
        }
      ],
      "source": [
        "import os\n",
        "\n",
        "# Save the current working directory\n",
        "original_working_directory = os.getcwd()\n",
        "print(\"Original working directory:\", original_working_directory)"
      ]
    },
    {
      "cell_type": "code",
      "execution_count": null,
      "metadata": {
        "colab": {
          "base_uri": "https://localhost:8080/"
        },
        "id": "qan179F-QQQB",
        "outputId": "907aba12-4dcd-43a6-83fe-8c214254d793"
      },
      "outputs": [
        {
          "output_type": "stream",
          "name": "stdout",
          "text": [
            "Mounted at /content/drive\n"
          ]
        },
        {
          "output_type": "execute_result",
          "data": {
            "text/plain": [
              "['glove.42B.300d.txt',\n",
              " 'vectors_384sentences.GV42B300.average.txt',\n",
              " 'vectors_243sentences.GV42B300.average.txt',\n",
              " 'stimuli_384sentences.txt',\n",
              " 'stimuli_243sentences.txt',\n",
              " 'EXP3.pkl',\n",
              " 'neuralData_for_EXP1.csv',\n",
              " 'EXP2.pkl',\n",
              " 'stimuli_180concepts.txt',\n",
              " 'learn_decoder.py',\n",
              " 'vectors_180concepts.GV42B300.txt',\n",
              " 'imaging_data.csv',\n",
              " '__pycache__',\n",
              " 'colab_pdf.py']"
            ]
          },
          "metadata": {},
          "execution_count": 3
        }
      ],
      "source": [
        "from google.colab import drive\n",
        "drive.mount('/content/drive')\n",
        "import os\n",
        "os.chdir('/content/drive/My Drive/project_lcc')\n",
        "os.listdir('.')\n"
      ]
    },
    {
      "cell_type": "code",
      "execution_count": null,
      "metadata": {
        "id": "Pg90rA4QSdG3",
        "colab": {
          "base_uri": "https://localhost:8080/"
        },
        "outputId": "9f51c6f6-b9de-4958-b84e-2aa954a911cc"
      },
      "outputs": [
        {
          "output_type": "stream",
          "name": "stdout",
          "text": [
            "           0          1          2          3          4         5         6  \\\n",
            "0  -8.173708  -5.593922  -4.737303  -3.210317  -5.064872 -2.867938 -0.647879   \n",
            "1  14.175880  12.258254  15.118346  16.929986  14.128274  7.703238  5.102477   \n",
            "2  11.025751   9.451916  11.282665  10.330555   9.168634  6.326451  8.325448   \n",
            "3  -9.224141 -10.744989 -12.231927  -9.563610  -2.367995 -2.873559 -2.707560   \n",
            "4 -11.051150 -14.732372 -17.551868 -14.449508  -8.301250 -5.309789 -3.145870   \n",
            "\n",
            "           7          8          9  ...     185856     185857     185858  \\\n",
            "0   0.630494   4.112772   7.625108  ...  23.007180  15.161489 -10.211452   \n",
            "1   7.847398  13.293932  18.975664  ...  32.169971  23.818106  11.242535   \n",
            "2  11.559850  10.385498  11.301625  ...  11.159157   5.839374 -29.386549   \n",
            "3  -2.943065  -0.751547   0.859832  ...  22.441511  20.071060  12.036822   \n",
            "4  -6.857210 -13.070992 -13.807587  ...   4.275233  -3.619274 -14.709950   \n",
            "\n",
            "      185859     185860     185861     185862     185863     185864     185865  \n",
            "0 -15.066769  -7.162252 -12.148584  -7.709421  -8.667380  -7.432775  -1.341048  \n",
            "1  10.213672  11.618843  11.568193  16.380403   6.865870  19.064210   3.893508  \n",
            "2 -38.144211 -22.866592 -25.429646 -11.122913 -15.491569  -8.743717 -13.216781  \n",
            "3   9.080935  15.576979  21.669859  11.972719  21.229646   6.781682  13.736124  \n",
            "4 -12.471845 -10.840275   5.344355 -12.400245  13.086634 -17.702188   2.824599  \n",
            "\n",
            "[5 rows x 185866 columns]\n"
          ]
        }
      ],
      "source": [
        "import pandas as pd\n",
        "\n",
        "neural_data_exp1 = pd.read_csv('neuralData_for_EXP1.csv', index_col=0)\n",
        "print(neural_data_exp1.head())\n"
      ]
    },
    {
      "cell_type": "code",
      "execution_count": null,
      "metadata": {
        "id": "hsmldrhVTTNK",
        "colab": {
          "base_uri": "https://localhost:8080/"
        },
        "outputId": "e90fb5f9-cc04-4a90-83d9-0e3e8de463ca"
      },
      "outputs": [
        {
          "output_type": "stream",
          "name": "stdout",
          "text": [
            "Beekeeping encourages the conservation of local habitats.\n",
            "It is in every beekeeper's interest to conserve local plants that produce pollen.\n",
            "As a passive form of agriculture, it does not require that native vegetation be cleared to make way for crops.\n",
            "Beekeepers also discourage the use of pesticides on crops, because they could kill the honeybees.\n",
            "Artisanal beekeepers go to extremes for their craft, but their product is worth the effort.\n",
            "Artisanal honey-making emphasizes quality and character over quantity and consistency.\n",
            "To produce the finest honey, beekeepers become micromanagers of their honeybees.\n",
            "They scout the fields, know when nectar flows, and select the best ways to extract honey.\n",
            "As the beekeeper opens the hive, the deep hum of 40,000 bees fills the air.\n",
            "The beekeeper checks honey stores, pollen supplies, and the bee nursery.\n",
            "Bees crawl across his bare arms and hands, but they don't sting, because they're gentle.\n",
            "I have a recurring dream about exams, even though I'm no longer in college.\n",
            "In my dream, it's the day of my final exam and I suddenly realize I've never gone to class.\n",
            "I've never even done any of the reading assignments.\n",
            "I know many other people who have the same nightmare.\n",
            "Each morning, participants in the study had to write down their dream experience from the previous night.\n",
            "They recorded if they recalled any dreams, and described each dream and its emotional intensity.\n",
            "Participants then assigned each dream to a category, such as a flying dream, a bad dream, or a nightmare.\n",
            "Every night while we sleep, our minds are as active as when we are awake.\n",
            "We dream throughout the night, in cycles of about ninety minutes each.\n",
            "Images, feelings, stories, and strange combinations of characters and places can fill our dreams.\n",
            "When I decided to start playing cards, things went from bad to worse.\n",
            "Gambling was something I had to do, and I had already spent close to $10,000 doing it.\n",
            "My friends were sick of watching me gamble my savings away.\n",
            "The hardest part was the horror of leaving a casino after losing money I did not have.\n",
            "Good data on the social and economic effects of legalized gambling are hard to come by.\n",
            "Some studies indicate that having a casino nearby makes gambling problems more likely.\n",
            "Gambling may also be associated with personal bankruptcies and marriage problems.\n",
            "Over the past generation, there has been a dramatic expansion of legalized gambling.\n",
            "Most states have instituted lotteries, and many have casinos as well.\n",
            "Gambling has become very big but controversial business.\n",
            "The wind from the hurricane shook the house, shattering a window in the kitchen.\n",
            "We ran in, grabbed some food, slammed the door, and surrendered the kitchen to the hurricane.\n",
            "I was afraid our house would be ripped from its foundation.\n",
            "Later that night, with the wind shaking the house, we fell asleep huddled on the sofa.\n",
            "Hurricanes can tear limbs off of trees and suck houses off their foundations.\n",
            "They dump heavy rains that can trigger floods and mudslides.\n",
            "Hurricanes can also bring a storm surge: a wall of ocean water that lurches onto land.\n",
            "Scientists use several methods to look for evidence of ancient hurricanes.\n",
            "The strongest storms deposited layers of windblown beach sand at the bottoms of coastal lakes.\n",
            "Trees drenched by passing hurricanes preserve a record of each storm in their growth rings.\n",
            "American ice cream is exported around the world, but different countries have different preferences.\n",
            "Many people enjoy their ice cream flavored with local delicacies.\n",
            "In some tropical places, vanilla ice cream is topped with bananas and fresh mangos.\n",
            "I remember making ice cream at home as a child.\n",
            "We poured the cream mixture into a frozen tub, then start turning the crank to expose it to the cold.\n",
            "Eventually it froze enough that I couldn't turn the hand crank any more.\n",
            "Then I put the container of half-frozen ice cream into the freezer to harden.\n",
            "Ice cream is a mixture of milk or cream, sugar, flavorings, and up to half whipped-in air.\n",
            "The butterfat in milk and cream is what makes it smooth and silky.\n",
            "High-priced premium ice cream is loaded with butterfat and natural flavorings.\n",
            "When I use the riding lawn mower, the uncomfortable chair makes my back hurt.\n",
            "I use the two levers in front of me to control the machine.\n",
            "The sharp blades underneath the lawn mower precisely sever each blade of grass.\n",
            "Mowing the lawn is a long task and it has taught me patience.\n",
            "A lawn mower is a machine with revolving blades that cut grass to an even height.\n",
            "The blades may be powered by muscle or the machine may have a motor.\n",
            "The most common power source for lawn mowers is a small gas engine.\n",
            "Electric lawnmowers are better for the environment because they do not create emissions.\n",
            "They also need less maintenance and are less expensive to run.\n",
            "Electric lawn mowers use as much electricity as an ordinary toaster.\n",
            "Astronauts train a long time for their spacewalks.\n",
            "Much of their training is conducted underwater.\n",
            "They may spend 8 to 10 hours in the pool for every hour they will spend floating in space.\n",
            "Astronauts practice to be able to perform construction and repair work on the outside of the space station.\n",
            "The commanders of shuttle flights are always pilots, and many have backgrounds as military test pilots.\n",
            "Other astronauts are trained as doctors, engineers, and scientists, who can run experiments in space.\n",
            "Early crews were all young men, but astronauts now are much more diverse.\n",
            "The team of astronauts floated out together to the exterior of the space shuttle.\n",
            "They carried tools needed to repair the broken part on the huge telescope.\n",
            "One astronaut loosened the bolts on the pipe, while the other fitted the replacement part into place.\n",
            "Computers have been used in art for a long time by experimental artists.\n",
            "Now that computers are more affordable and widespread, computer graphics have entered the mainstream art world.\n",
            "Some computer science conferences have art exhibitions that showcase the latest graphics technology.\n",
            "Brand new conferences have sprung up that are devoted to bridging the two cultures.\n",
            "The computer graphics specialist works with doctors to visualize medical conditions and surgical procedures.\n",
            "She uses digital animation to help doctors understand structures within a patient's body.\n",
            "Seeing the internal structures in an animation on a screen is much clearer than squinting at X-rays.\n",
            "Modern digital animation is a powerful tool for education.\n",
            "As the field of computer graphics broadens, we must ask if graphics actually help students.\n",
            "Research does suggest that vivid and engaging digital imagery can be effective in the classroom.\n",
            "The reason he came to law school in the first place was cliche.\n",
            "He wanted to change things for the better.\n",
            "He recalled one evening at law school when he and the program director had pulled an all-nighter.\n",
            "They finally finished drafting a petition for several evicted families at sunrise.\n",
            "Over the past four decades, the cost of legal education has gone up relentlessly.\n",
            "Private law school tuition increased by a factor of four since the 1970s.\n",
            "The market for admission to law school and for new lawyers could eventually crash.\n",
            "Law school faculty often have minimal experience in actually practicing law.\n",
            "Professors focus on writing law review articles for prestigious journals.\n",
            "Law schools often emphasize the theoretical, with classes on topics like property law in feudal England.\n",
            "Pharmacists are increasingly involved in preventive care.\n",
            "They are becoming front-line health advisers because people go to pharmacies often.\n",
            "Pharmacists are often a good source of information about public health.\n",
            "Doctors consult with pharmacists because they know a lot about drug interactions and side effects.\n",
            "Pharmacists dispense prescription drugs to patients and offer advice about the safe use of medications.\n",
            "They also conduct health and wellness screenings and provide vaccines.\n",
            "Pharmacists must have professional degrees and pass two exams in order to be licensed.\n",
            "I think the pharmacy profession chose me as much as I chose to be a pharmacist.\n",
            "I was fascinated by the neatly arranged bottles in pharmacies as a child.\n",
            "I know it's cliche, but I love the impact that I have on lives of my patients.\n",
            "Each person has his or her own response to potentially stressful situations.\n",
            "One person may be devastated by unemployment, while another may find working fulltime stressful.\n",
            "There are everyday stresses, like being stuck in traffic.\n",
            "There are also traumatic stresses, such as divorce or loss of a child.\n",
            "Some people can adapt to different levels of stress.\n",
            "If not dealt with effectively, though, stress can take a real toll on health.\n",
            "Remember that it's your reaction to stress that determines if it will be harmful or beneficial.\n",
            "When my company was downsizing, I felt incredibly stressed and worried.\n",
            "My heart would race for no reason, and I even felt dizzy at times.\n",
            "Then, I started taking yoga to try to manage my stress level.\n",
            "The man wore a jet black tuxedo with satin stripes.\n",
            "It was made with rich fabric cut in the latest style.\n",
            "Clearly he had it tailored, as it fit the man perfectly.\n",
            "It looked like something a professional stylist would have picked out for a formal event.\n",
            "While the tuxedo is still preferred, today's grooms are making personal statements in wedding attire.\n",
            "Shorter jackets are on the cutting edge of wedding fashion for men.\n",
            "Grooms are also jazzing up their tuxedos with colorful shirts and satin ties.\n",
            "A tuxedo jacket is a tailless dinner jacket with black silk lapels.\n",
            "Black tie trousers should be a perfect match to the tuxedo jacket.\n",
            "The shirt should always be plain white and the tie should be black and match the jacket lapels.\n",
            "The concert pianist went blind in adulthood.\n",
            "Her blindness was caused by a genetic condition that slowly damaged the eyes.\n",
            "She told interviewers that being blind was an advantage to a pianist.\n",
            "She had no visual distractions, so she could concentrate more fully on her music.\n",
            "The government defines blindness as vision insufficient for the ordinary activities of life.\n",
            "By establishing the parameters of legal blindness, resources can be focused on the legally blind.\n",
            "This may overlook those who have vision problems but who do not meet the standard.\n",
            "In developing countries, blindness in children is usually caused by infectious disease and nutritional deficiencies.\n",
            "These causes can often be prevented by medicine and vitamin supplements.\n",
            "In developed countries, blindness is more likely to be caused by genetic problems.\n",
            "No one really knows exactly how a taste gets from your mouth to your brain.\n",
            "Scientists think the process begins when a molecule of food touches a taste bud cell.\n",
            "The cell carries a taste message to taste nerves beneath the cell.\n",
            "It was once believed that each taste bud responded to one of the four basic tastes.\n",
            "That is, a taste bud on the tip of the tongue would respond only if you were eating something sweet.\n",
            "Scientists now think that a single taste bud can be sensitive to all of the basic tastes.\n",
            "My sense of taste isn't very good, so I tend to eat foods with very strong flavors.\n",
            "I like lots of hot sauce, and I drink my coffee with no cream, so it's very bitter.\n",
            "I can't even taste sweetness well, so when I make cookies I add extra sugar.\n",
            "Hip fractures are a real problem for aging individuals.\n",
            "Patients are faced with the pain of the break and the difficult process of healing.\n",
            "Families have to adjust to the patient's loss of independence.\n",
            "And for society, hip fractures involve substantial expense and time in the hospital.\n",
            "Halfway through the race, I heard a sound like someone snapping their fingers.\n",
            "I felt a crunch and I knew instantly that my foot was broken.\n",
            "Every step felt like running on spikes.\n",
            "At the doctor's office afterward, the x-ray clearly showed the fracture.\n",
            "There are a few different types of bone fracture.\n",
            "In closed or simple fractures, the bone is broken but the skin is intact.\n",
            "In open or compound fractures, the broken bone has punctured the skin and produced an open wound.\n",
            "New ear piercings can become infected if they're not carefully cleaned.\n",
            "Signs of infection include tenderness, swelling, or redness around the earlobe.\n",
            "If you see these symptoms, clean the area and apply some ointment.\n",
            "If the redness and swelling don't go away, contact your health care provider.\n",
            "A local hospital has initiated new measures to reduce infections.\n",
            "They have improved hand washing habits and ensured that infected patients are isolated from other patients.\n",
            "The hospital has seen infection rates drop since the new measures began.\n",
            "Scrubbing a wound with soap or alcohol delays healing, which increases the risk of infection.\n",
            "Band-aids can increase the risk of infection by holding in heat and moisture.\n",
            "Fortunately, most skin infections can easily be treated once they are diagnosed.\n",
            "Modern opera started at the end of the sixteenth century.\n",
            "It began as an effort to rediscover and imitate Greek tragic performance.\n",
            "Early founders of opera chose tales from antiquity for their subject matter.\n",
            "Later operas branched out into different sources of stories and musical traditions.\n",
            "Opera is an art form in which singers and musicians perform a play that combines words and music.\n",
            "It incorporates many of the elements of spoken theatre, such as acting, scenery, and costumes.\n",
            "Performances are typically given in an opera house and accompanied by an orchestra.\n",
            "The opera singer has worked hard to win the role in the new production.\n",
            "Her job is not just about singing.\n",
            "Acting, stage presence, and musical interpretation are all critical.\n",
            "But her pure, strong voice is certainly the star of the show.\n",
            "A painter must keep many elements in mind while completing a painting.\n",
            "She has to use solid elements of design, like strong composition and lighting.\n",
            "She has to execute the brush strokes with skill.\n",
            "Most importantly, the content of the painting should reveal a glimpse of the painter's soul.\n",
            "Long ago, painters were employed more as skilled artisans than as creative artists.\n",
            "However, prominent painters had the social status of scholars and members of the royal court.\n",
            "They signed their work, decided on its subject and imagery, and established a personal relationship with their patrons.\n",
            "As a painter, I learned to focus less on the actual scene and more on the painting itself.\n",
            "An artist's eye is not a camera lens that has to record everything within its field of vision.\n",
            "I found nature provides useful information, but more than is needed for a good painting.\n",
            "The eagle owl is an impressive bird.\n",
            "It has ear tufts that stick up like horns.\n",
            "Its large orange eyes are downright creepy, and look like they could pierce right through you.\n",
            "This owl hunts at night, flying swiftly and silently through the darkness.\n",
            "While some owl species have become endangered, others are thriving.\n",
            "The barred owl has spread well beyond its previous habitat.\n",
            "Early findings suggest that logging may have facilitated the barred owl's invasion.\n",
            "The owl landed on a thick branch and gripped it with her talons.\n",
            "She pressed her wings to her sides and settled down, half-closing an eye.\n",
            "She might have been a statue but for the glow of her eyes.\n",
            "It's unnerving to watch a polar bear stalk across floating sea ice.\n",
            "It's even worse when you are submerged in the frigid waters directly beneath the huge animal.\n",
            "Overhead, giant paws set down on the ice as the polar bear pursued its prey.\n",
            "As part of the film crew for a polar bear documentary, I spent months capturing these shots.\n",
            "Polar bears are one of the few animals that will attack people for reasons other than fear or confusion.\n",
            "They may attack out of hunger because they live in a food-scarce environment.\n",
            "They will sneak up on people slowly, careful to conserve their energy.\n",
            "The seal is an important part of the polar bear's diet.\n",
            "When hunting, they will wait by a seal's breathing hole, or stalk seals that are basking on the ice.\n",
            "The polar bear will crawl quietly forward and freeze in place when the seal looks around.\n",
            "The medieval castle was not a structure built primarily for defense.\n",
            "Its purpose was to dominate its surroundings.\n",
            "A castle could easily control lands within a day's walk.\n",
            "During times of attack, peasants, livestock, and property could be brought inside the castle's walls for protection.\n",
            "Spectacular castles in dramatic locations provide a record of the stormy history of many regions.\n",
            "Today, they stand atop rocky cliffs overlooking beautiful landscapes and quaint villages.\n",
            "In the past, they were home to battles, plots and intrigue.\n",
            "Upon leaving the train station we saw our hotel looming above:  a magnificent castle built on a cliff.\n",
            "The thick outside walls sheltered an inner courtyard hundreds of feet above the river.\n",
            "Our tower rooms had an incredible but slightly scary view.\n",
            "After climbing fifty feet up the side of the pyramid, the man gestured me into a small black entranceway.\n",
            "This led into the chamber at the pyramid's center.\n",
            "I followed him down the steep, dark, narrow Passage.\n",
            "The smell inside the pyramid was chalky and the air was thick.\n",
            "More than just the tomb of the king, pyramids represented the pride of the nation.\n",
            "The care that the pyramid builders took in their craft is evident.\n",
            "The stones covering the pyramid were precisely fitted together and polished until the structure gleamed.\n",
            "Architects are still working to solve the mysteries of how pyramids were constructed.\n",
            "Some think ramps were built inside the pyramid's walls to raise stone blocks.\n",
            "Others speculate that ramps zigzagged up the exterior walls of the pyramid.\n",
            "Even beginner rock climbing takes courage and strength.\n",
            "Climbers who are learning the sport can try scrambling on large boulders.\n",
            "Once they're comfortable with that, they can begin using ropes to safely climb vertical rock faces.\n",
            "All of the boys on the trip were new to rock climbing.\n",
            "Many were afraid of heights.\n",
            "Having someone else check their knots and harnesses helped them calm down.\n",
            "The adults set up climbing routes appropriate for beginners.\n",
            "Free-climbing is one particular style of rock climbing.\n",
            "The climber relies solely on her skill and physical strength to ascend a rock face.\n",
            "Rope and bolts are the only equipment used.\n",
            "They are meant only to stop the climber if she falls.\n",
            "I hesitantly skied down the steep trail that my buddies convinced me to try.\n",
            "I made a bad turn and I found myself tumbling down.\n",
            "I finally came to a stop at a flat part of the slope.\n",
            "My skis were nowhere to be found and my poles were lodged in a snow drift up the hill.\n",
            "A major strength of professional skiers is how they use ski poles.\n",
            "Proper use of ski poles improves their balance and adds flair to their skiing.\n",
            "It minimizes the need for upper body movements to regain lost balance while skiing.\n",
            "New ski designs and stiffer boots let skiers turn more quickly.\n",
            "But faster and tighter turns increase the twisting force on the legs.\n",
            "This has led to more injuries, particularly to ligaments in the skier's knee.\n",
            "\n"
          ]
        }
      ],
      "source": [
        "with open('stimuli_243sentences.txt', 'r') as file:\n",
        "    stimuli_243sentences = file.read()\n",
        "print(stimuli_243sentences)"
      ]
    },
    {
      "cell_type": "code",
      "execution_count": null,
      "metadata": {
        "id": "37RJ802hTUqX",
        "colab": {
          "base_uri": "https://localhost:8080/"
        },
        "outputId": "fec22ac2-a0ce-4d7c-921b-f3312c332518"
      },
      "outputs": [
        {
          "output_type": "stream",
          "name": "stdout",
          "text": [
            "An accordion is a portable musical instrument with two keyboards.\n",
            "One keyboard is used for individual notes, the other for chords.\n",
            "Accordions produce sound with bellows that blow air through reeds.\n",
            "An accordionist plays both keyboards while opening and closing the bellows.\n",
            "An apartment is a self-contained home that is part of a building.\n",
            "An apartment may have one or more rooms, as well as a kitchen and a bathroom.\n",
            "Some apartments are for single people, others for families.\n",
            "The building can have a garage, a laundry facility or extra storage space.\n",
            "An apple is a fruit that can be green, red or yellow.\n",
            "Apples have thin skin, a crisp, sweet pulp and seeds inside.\n",
            "Some very tart apples are used to make cider.\n",
            "Apples can be eaten raw, roasted or baked in pies.\n",
            "Arson is the criminal act of burning a building or wildland.\n",
            "A fire investigation determines if a fire was caused by accident or arson.\n",
            "Arson can be done to cause damage to others or collect insurance.\n",
            "The severity of the crime depends on whether people were harmed.\n",
            "An automobile, or car, is a wheeled vehicle for transporting passengers.\n",
            "A car can be powered by a gasoline or electric engine.\n",
            "The driver steers the car on roads, other passengers just sit.\n",
            "Automobiles vary in size, number of doors and the type of trunk.\n",
            "The axe is a tool used to split and cut wood.\n",
            "The axe usually consists of a head attached to a handle.\n",
            "Historically, axe heads were made of stone and then metal.\n",
            "Axes are used by woodcutters and firemen entering buildings.\n",
            "A banana is a long fruit that grows in bunchs, with a soft edible inside.\n",
            "A banana when ripe can be yellow, purple or red and have small brown spots.\n",
            "The greatest producers are tropical countries, such as India or Ecuador.\n",
            "Unripe bananas and plantains are staple foods and often cooked like potatoes.\n",
            "A bed is a piece of furniture used as a place to sleep or have sex in.\n",
            "A bed is made of a mattress and a box spring, plus sheets, pillows and covers.\n",
            "In waterbeds the mattress is filled with water, and in airbeds it is filled with air.\n",
            "Another type of bed is the hammock, a fabric sling suspended above the ground.\n",
            "A bee is a flying insect, with a black and yellow body and six legs.\n",
            "Bees spread pollen between flowers as they collect nectar to make honey.\n",
            "Bees are social insects and live together in a colony located in a hive.\n",
            "Many bees have stingers and can attack if they feel threatened.\n",
            "A bicycle is a vehicle with two wheels and pedals on a frame.\n",
            "A bicycle is propelled by the pedalling of a cyclist on the saddle.\n",
            "The wheels have rubber tires with an inner tube full of air.\n",
            "People use bicycles for transportation, recreation and racing.\n",
            "A blacksmith creates objects by forging iron or steel.\n",
            "A blacksmith hammers and bends hot iron on an anvil to change its shape.\n",
            "Blacksmiths wears a thick apron and handle the metal with tongs.\n",
            "Blacksmiths make objects like weapons, horse shoes or iron furniture.\n",
            "A blender is a kitchen appliance used to mix ingredients or puree food.\n",
            "Blenders have a glass or plastic container with a rotating blade in the bottom.\n",
            "Blenders are used to make milk shakes and fruit smoothies.\n",
            "Blenders are also used to make cold alcoholic drinks with crushed ice.\n",
            "A boy is a young male child who has not undergone puberty.\n",
            "The term is used to indicate sex distinctions relative to girls.\n",
            "Traditionally boys like to play rough games and fight with each other.\n",
            "An adult male behaving immaturely is often referred to as a boy.\n",
            "Broccoli is a plant in the cabbage family.\n",
            "Broccoli has a green flower head and a thick, tough stalk.\n",
            "Broccoli is high in vitamins, fiber and other nutrients.\n",
            "Broccoli can be boiled, stir-fried or eaten raw.\n",
            "A butterfly is a flying insect with four large wings.\n",
            "The wings of butterflies can be very colorful and patterned.\n",
            "Metamorphosis is the transformation of a caterpillar into a butterfly.\n",
            "Some people collect butterflies because of their colorful wings.\n",
            "A carpenter is an artist or manual laborer who works with wood.\n",
            "Carpenters build and repair houses, furniture, boats and other objects.\n",
            "Carpenters use tools such as hammers, saws, pliers and planes.\n",
            "A luthier is a carpenter that makes and repairs musical instruments.\n",
            "Cats are small furry animals with four legs and a tail.\n",
            "Cats like to groom themselves by licking their fur.\n",
            "Cats can hunt mice or birds, but are often fed by their owners.\n",
            "The claws of cats are retractable so that they keep sharp.\n",
            "A chair is a piece of furniture designed for people to sit on.\n",
            "Chairs consist of a seat raised above floor level, supported by legs.\n",
            "Chairs can also have back and arm rests, as well as a cushion.\n",
            "Seats are fixed chairs located in vehicles or in places like cinemas.\n",
            "A clarinet is a woodwind musical instrument.\n",
            "A clarinet is a long black tube with a flare at the bottom.\n",
            "The player chooses notes by pressing keys and holes.\n",
            "The clarinet is used both in jazz and classical music.\n",
            "A cod is a fish that lives in the colder areas of the Atlantic.\n",
            "Cod flesh is white and mild-tasting, and flakes easily when cooked.\n",
            "Fresh cod is used for fish and chips, salted cod for elaborate dishes.\n",
            "Cod has been caught, salted and traded since the time of the Vikings.\n",
            "Coffee is made from coffee beans, the seeds of the coffee plant.\n",
            "Coffee is a popular drink in many countries, and usually served hot.\n",
            "Coffee contains a mild drug called caffeine that keeps people awake.\n",
            "Coffee is the world's seventh-largest legal agricultural export.\n",
            "A desert is a natural environment where almost no rain falls.\n",
            "Hot deserts are usually filled with sand dunes or rocks.\n",
            "Some animals and plants have adapted to live in deserts.\n",
            "The biggest hot desert is the Sahara in northern Africa.\n",
            "A desk is a piece of furniture used for working at, sometimes with a computer.\n",
            "A desk has a flat surface and can be made of wood, plastic or metal.\n",
            "A desk may have drawers to store supplies and papers.\n",
            "A cubicle consists of a desk surrounded by partitions on three sides.\n",
            "A door is a movable barrier to entrance or exit from an enclosed area.\n",
            "Most doors have locks to control who gets to pass through them.\n",
            "Most doors are opened by pushing or pulling a handle after they are unlocked.\n",
            "Other types of doors can slide or consist of a revolving chamber.\n",
            "A dress is a piece of clothing that women sometimes wear.\n",
            "A dress is like a shirt attached to a long, matching skirt.\n",
            "A dress is usually worn at formal occasions, such as a wedding or a dance.\n",
            "It can be hard to climb stairs or ride a bike in a dress.\n",
            "Drunk driving is the act of driving under the effects of alcohol.\n",
            "Drunk driving of any vehicle is a crime in most of the world.\n",
            "It plays a role in almost half of all vehicle-related deaths.\n",
            "Drunk drivers are caught by field sobriety and breathing tests.\n",
            "A drought is a persistent shortage of the water supply caused by lack of rain.\n",
            "Drought will cause crops and plants to stop growing and die.\n",
            "Extreme drought will eventually turn areas into desert and cause famine.\n",
            "Large numbers of people have to migrate away from dust bowls.\n",
            "Eagles are large birds of prey that hunt during the day and have very good eyesight.\n",
            "Eagles have hooked beaks for tearing flesh, strong legs and sharp talons.\n",
            "Eagles live in eyries and some species eat fish and others small mammals.\n",
            "The bald eagle has a bright white head and is the national bird of the United States.\n",
            "Earthquakes shake the ground and can knock down buildings and other structures.\n",
            "The shaking can also trigger landslides and volcanic activity.\n",
            "Most earthquakes are caused by the release of energy in the Earth's crust.\n",
            "An earthquake at sea can displace the seabed and cause a tsunami.\n",
            "Elephants are the largest kind of land mammal, weighing several tons.\n",
            "An elephant has a long nose called a trunk, which can grab things or food.\n",
            "The elephant has a pair of ivory tusks, for moving objects or digging into trees.\n",
            "The elephant flaps its large ears to cool the blood in them and its body.\n",
            "The eye is an organ for sensing light and coding it for the visual cortex.\n",
            "Most animals have complex eyes which can detect color, motion and texture.\n",
            "The fovea is the center of the human eye and the most sensitive part of it.\n",
            "Insects have compound eyes made up of eye units facing in many directions.\n",
            "A farm is land used to grow plants or raise animals for food.\n",
            "Farmers are the people who run the farm and decide what to produce.\n",
            "Farms usually have a house for farmers, a silo and a barn.\n",
            "A cooperative is a farm where many farmers share the land and equipment.\n",
            "Primates usually have four fingers and a thumb on each hand.\n",
            "Fingers are used for grasping, writing, grooming and other activities.\n",
            "The fingertips are sensitive to temperature, pressure and vibration.\n",
            "The nail protects the tip of the finger and can be grown or decorated.\n",
            "A flood is an overflow of an expanse of water that submerges inhabited land.\n",
            "Flood can be caused by heavy rain or rapid snow melt, as well as earthquakes at sea.\n",
            "In a flood a river will flow out of its channel or break dams and levees.\n",
            "During a flood people evacuate and the contaminated water causes diseases.\n",
            "A floor is a horizontal surface inside a building, used for walking on.\n",
            "Floors may be made of bare concrete, tile, linoleum or wooden floorboards.\n",
            "People often put carpets on a floor, for comfort and to dampen noise.\n",
            "In buildings the floor often has pipes and electrical wiring under it.\n",
            "A foot is a body part on the end of a leg. \n",
            "People use their feet when walking, running or standing straight.\n",
            "People also use their feet to kick, in both fighting and sports.\n",
            "Many cultures have rules for behavior related to feet.\n",
            "A forest is an area with a high density of trees and canopy cover.\n",
            "The type of forest depends on temperature and rainfall in its location.\n",
            "A forest ecosystem has various types of trees and animals, as well as ground plants.\n",
            "Deforestation is the cutting down of forests disregarding regeneration.\n",
            "A fork is a tool for eating solid foods, with a handle and several tines.\n",
            "Forks are usually  made of metal, or plastic, if disposable.\n",
            "Forks are used to lift food to the mouth or to hold food in place while cutting.\n",
            "Forks are used in Western cultures, and there are special kinds for various foods.\n",
            "A frying pan is a small pan with sloping sides and a handle.\n",
            "A frying pan is used to fry, sear and brown food.\n",
            "The food is cooked on oil covering the bottom of the pan.\n",
            "Frying pans are made of iron or teflon-clad steel.\n",
            "A girl is a female human who has not yet reached maturity.\n",
            "At puberty the body of a girl develops into that of a woman.\n",
            "Girls often like playing with dolls and social games.\n",
            "Girls sometimes grow long hair and wear dresses and skirts.\n",
            "A glove is a piece of clothing that covers the hand and fingers.\n",
            "Gloves to protect against cold are made of wool or lined waterproof material.\n",
            "Disposable rubber or latex gloves are used to shield hands from germs or chemicals.\n",
            "A mitten is a kind of glove where the four fingers are covered together.\n",
            "A hammer is a tool used to deliver an impact to an object.\n",
            "A hammer is most often used to drive nails into wood.\n",
            "The claw on the head can be used to remove nails.\n",
            "Hammers vary in the shape of the head and handle length.\n",
            "A hand grenade is an explosive used as a weapon against people.\n",
            "Hand grenades are thrown and timed to explode a bit after that.\n",
            "Grenades can also be fired from rifles or shoulder launchers.\n",
            "Tear gas grenades are thrown into the middle of a mob to disperse it.\n",
            "A horse is a large hoofed mammal with four long, muscular legs.\n",
            "A horse has a tail and a mane on its neck, and is usually gray or brown.\n",
            "Horses have been used for draft work, travel and entertainment.\n",
            "A human can ride a horse while it walks, trots or gallops.\n",
            "People go to hospitals to be healed when they are sick or injured.\n",
            "Hospitals are staffed by professional physicians, surgeons, and nurses.\n",
            "Some patients go there for specialist diagnosis or therapy, leaving the same day.\n",
            "For some operations or treatments patients have to stay for several weeks.\n",
            "A house is a permanent building or structure for people or families to live in.\n",
            "A house has a roof and walls to keep out cold and rain, and windows to let light in.\n",
            "A house can have rooms for purposes like sleeping, cooking or washing.\n",
            "Most people leave the house to work and come back at night to eat and sleep.\n",
            "An igloo is a type of shelter made from blocks of snow by Inuit.\n",
            "Igloos are built in places where snow covers the land most of the time.\n",
            "Igloos are often built in the shape of a dome, with an entrance tunnel.\n",
            "Air pockets in snow insulate the space, and body heat warms igloos.\n",
            "A knife is a tool with a sharp edge that is used to cut things.\n",
            "Modern knives consist of a handle and a blade, usually made of metal.\n",
            "Knives have also been used as weapons and instruments in rituals.\n",
            "A knife can be used to attack by slashing, stabbing or throwing. \n",
            "Lentils are the seeds of a plant of the legume family.\n",
            "Lentils can be red, green, brown, black or yellow.\n",
            "Lentils are commonly used in Indian and Mediterranean cuisines.\n",
            "Lentils are cooked by boiling and are a great source of protein.\n",
            "Lettuce is a biennial plant often grown in temperate climates as a leaf vegetable.\n",
            "Lettuce can be eaten cold and raw, in salads and other dishes, or cooked.\n",
            "Lettuce is considered fairly easy to grow and a suitable crop for beginners.\n",
            "Most lettuce leaves taste bitter, but some are bred to remove the bitterness.\n",
            "A library is a place where a collection of books, documents and media is kept.\n",
            "Librarians work at libraries and are experts at finding and organizing information.\n",
            "People can go to public libraries and borrow books to take home for several weeks.\n",
            "Academic libraries support scholarly research and have specialized books.\n",
            "A log cabin is a small house built from round logs.\n",
            "Log cabin is a symbol of American frontier life and humble origins.\n",
            "Log cabins were used as first shelters by european settlers.\n",
            "Log cabins were built using logs with notch joints at the ends.\n",
            "A man is a male human adult.\n",
            "A boy becomes a man after passing through puberty.\n",
            "Manhood is associated with masculinity and virility.\n",
            "Men differ from women in height, weight, and body structure.\n",
            "Milk is a white liquid produced by female mammals to feed their young.\n",
            "Newborn animals must be fed milk before they can eat solid food.\n",
            "Dairy products such as cheese and butter are made from milk.\n",
            "Liquid produced from soybeans and coconuts is sometimes called milk.\n",
            "Mosquitos are thin, small flying insects that emit a high-pitched sound.\n",
            "Mosquitoes have mouthparts for piercing the skin of plants and animals.\n",
            "Female mosquitoes bite people and animals and suck their blood for protein.\n",
            "Mosquito bites can spread yellow fever, malaria and other parasite diseases.\n",
            "A mountain is a landform that rises steeply above surrounding land.\n",
            "Mountains rise higher than hills and sometimes have snow at the top.\n",
            "A range of mountains forms due to tectonic plate collision.\n",
            "Mountaineers are people who climb or hike up mountains.\n",
            "The mouth is the face cavity we put food in when we eat.\n",
            "The mouth has teeth to chew food and mix it with saliva.\n",
            "The mouth is also used for kissing and talking.\n",
            "Speech sounds are controlled by tongue placement in the mouth.\n",
            "A mug is a sturdy cup with a handle for drinking hot liquids.\n",
            "A mug is normally ceramic, but can also be made of metal or glass.\n",
            "A mug is thick and has a ring base for thermal insulation.\n",
            "Mugs can be plain or have drawings imprinted or carved on them.\n",
            "Murder is the unlawful killing of another human being with intent.\n",
            "Murder a serious crime because it deprives the victim of their existence.\n",
            "Killing in self-defense, accidentally or in war is not considered murder.\n",
            "A convicted murderer is often given a life sentence or the death penalty.\n",
            "Orange juice is a drink made from the liquid in orange pulp.\n",
            "Orange juice has a sweet, acid taste and contains a lot of vitamin C.\n",
            "Freshly squeezed orange juice often contains pulp as well.\n",
            "Orange juice is often drunk at breakfast from a glass.\n",
            "A parrot is a bird that lives in warm and tropical regions.\n",
            "Parrots have brightly-colored feathers and a sharp, curved beak.\n",
            "Parrots can imitate the human voice if they hear it repeatedly.\n",
            "Their appearance and abilities makes them popular pets.\n",
            "A peach is an orange-yellow fruit with a characteristic smell.\n",
            "The skin of a peach is thin and covered in small, fine hairs.\n",
            "Peaches have a large, red-brown stone inside which contains the seed.\n",
            "Peaches are sweet and delicate, and must be harvested after ripening.\n",
            "The piano is a popular musical instrument played by means of a keyboard.\n",
            "Pressing a piano key causes a felt-tipped hammer to hit a vibrating steel string.\n",
            "The piano has an enormous note range, and pedals to change the sound quality.\n",
            "The piano repertoire is large and famous pianists can give solo concerts.\n",
            "Piranhas are small, ferocious fish that live in South American rivers.\n",
            "Piranhas live and attack in schools and are most active during the day.\n",
            "Piranhas have very sharp teeth and are opportunistic carnivores.\n",
            "Piranhas eat fish, insects, lizards, mammals and carrion.\n",
            "The raspberry is a fruit that grows in forest clearings or fields.\n",
            "A single raspberry consists of many small fruits joined together.\n",
            "Raspberries are eaten by themselves or cooked with sugar into jam.\n",
            "Leaves of the raspberry are used fresh or dried in herbal teas.\n",
            "A raven is a large black bird that thrives in many climates.\n",
            "Ravens feed on carrion, insects, berries or small animals. \n",
            "Ravens have large brains and are capable of problem solving.\n",
            "In folklore ravens are birds of ill-omen and also tricksters. \n",
            "A refrigerator is a cooling device used to contain and preserve food.\n",
            "Some refrigerators can have a small compartment at freezing temperature.\n",
            "A refrigerator can have shelves and small compartments for different types of food.\n",
            "A refrigerator is generally white and people often put magnets on its surface.\n",
            "A rifle is a firearm that rests on the shoulder and has a barrel with twisting grooves.\n",
            "The grooves make the bullets spin around the rifle axis as they fly through the air.\n",
            "Rifles are used in hunting and shooting sports, sometimes with scopes.\n",
            "Assault rifles can fire in bursts and are the standard infantry weapon.\n",
            "Salmon is a fish that migrates from fresh water to the ocean and back to spawn.\n",
            "Salmon flesh is orange or red and has high protein content and a nice taste.\n",
            "Salmon can be eaten raw in sushi or cooked by grilling, poaching or in other ways.\n",
            "Salmon is the most common farmed fish, though it can also be caught in the wild.\n",
            "A saw is a tool that uses a hard blade or abrasive wire to cut hard materials.\n",
            "The small sharp points along the cutting side of the saw are called the teeth.\n",
            "Saws can be worked by hand, or powered by an electric motor or gas engine.\n",
            "Saws are used extensively in forestry, construction, carpentry and medicine.\n",
            "A scientist studies and produces new knowledge about the physical world.\n",
            "A scientist creates hypotheses and does experiments to test them.\n",
            "Physics, chemistry and biology are classic examples of sciences.\n",
            "Scientists publish their research in journals and conferences.\n",
            "Scissors are a two-bladed instrument used for cutting.\n",
            "The blades are usually metallic, with plastic or metal handles.\n",
            "Depending on the size and format, scissors can cut paper, hair or fabric.\n",
            "Shears are large scissors used for cutting shrubs or pieces of metal.\n",
            "A screwdriver is a tool for inserting and tightening screws into something.\n",
            "Screwdrivers can also be used to remove screws after they are inserted.\n",
            "The screwdriver tip applies the torque from rotating the handle.\n",
            "The two major types of screwdrivers are Phillips and flathead.\n",
            "A shark is a large fish with a cartilage skeleton.\n",
            "Sharks have streamlined bodies, with a large dorsal fin.\n",
            "Most sharks predate on fish and mammals, with powerful jaws.\n",
            "Sharks have very keen senses and can detect electrical fields.\n",
            "A ship is a large vehicle that floats and travels on water.\n",
            "A ship can be powered in the ocean by sails, steam, or diesel engines.\n",
            "Ships are used to fish in the ocean and to transport cargo containers.\n",
            "Cruise ships are floating hotels that take people between cities.\n",
            "A shoe is clothing for the foot, with a sole, an outsole and a heel.\n",
            "Shoes are usually made of leather, canvas, rubber or plastic.\n",
            "Women's shoes often have high heels and come in many styles and colors.\n",
            "A sneaker is a shoe for sports and athletic activity.\n",
            "A soldier is a member of the national armed forces who fights on land.\n",
            "A soldier in the militia must wear a uniform, usually camouflage.\n",
            "In a volunteer army, a soldier is paid for his or her work.\n",
            "A soldier fights using weapons such as rifles and grenades.\n",
            "Spears are weapons that consist of a pole and sharpened head at one end.\n",
            "Spears were the most common personal weapon before the advent of firearms.\n",
            "Spears were used for stabbing or throwing when fighting in war.\n",
            "Some native people still use the spear for hunting and fishing.\n",
            "Spiders are insects with eight legs that make silk.\n",
            "Spiders build webs with silk and use them to catch insects.\n",
            "Spiders use venomous fangs to paralyse their stuck prey.\n",
            "Spiders can be as small as a coin or as big as a bird.\n",
            "Swamps are low, spongy land subject to frequent inundation.\n",
            "A swamp is covered with shallow water, mud and vegetation.\n",
            "Swamps are nesting and breeding grounds for birds and reptiles.\n",
            "Farmers often drain swamps to produce fertile arable land. \n",
            "A sweater is a heavy garment worn on the torso for warmth.\n",
            "Sweaters are often knitted from wool but cotton is also common.\n",
            "A sweater that opens down the front is called a cardigan.\n",
            "Sweaters differ in cut, collar and sleeve shape, as well as decoration.\n",
            "A table is a piece of furniture with a flat surface and legs.\n",
            "There are usually chairs around a table for people to sit.\n",
            "People set cutlery, plates and food on a table to eat a meal together.\n",
            "Tables are also used as surfaces to work or write on.\n",
            "A television is an appliance with a screen that displays moving images.\n",
            "Televisions are mostly used for watching programs or films.\n",
            "They are used to play videogames when connected to a game console.\n",
            "Television content can be broadcast or received via cable or internet.\n",
            "Theft is the taking of person's property without their consent.\n",
            "Thieves steal to own something or to sell it to receivers.\n",
            "Theft is a crime and can be punishable with jail or fines.\n",
            "Industrial espionage is theft of ideas and intellectual property.\n",
            "A toaster is a kitchen appliance for toasting bread using heating elements.\n",
            "Pop-up toasters toast the bread placed in a slot and eject it once done.\n",
            "Toaster ovens have a door on the side, a tray within and temperature control.\n",
            "They allow bread to be cooked with toppings like garlic or cheese.\n",
            "The tomato is a shiny and smooth red fruit, with a savory taste.\n",
            "A tomato softens and changes color from green to red as it gets more ripe.\n",
            "Tomatoes can be used to make salads, soup or ketchup, as well as sauce.\n",
            "There are many varieties of tomato, with different sizes and tastes.\n",
            "A train is a connected series of cars that moves between stations on a track.\n",
            "The train is pulled by a locomotive, powered by diesel or electricity.\n",
            "A freight train transports containers of goods or fuel over long distances.\n",
            "Commuter trains transport people between suburbs and stations inside a city.\n",
            "A train station is a place where passengers get on or off a train.\n",
            "Train stations have counters or machines for purchasing tickets.\n",
            "There are waiting rooms and places to eat in a station.\n",
            "Passengers or cargo trains enter from a platform next to the line.\n",
            "A tropical cyclone is a storm formed over warm tropical sea.\n",
            "Cyclones can produce very powerful winds and torrential rain.\n",
            "Tropical cyclone can also cause high waves and coastal flooding.\n",
            "A tropical cyclone can move inland and seriously damage property.\n",
            "The violin is an instrument with four strings that is played with a bow.\n",
            "Violin is the smallest and highest pitched instrument in its family.\n",
            "A violinist holds the instrument between the chin and the collarbone.\n",
            "Different notes are made by fingering the neck with one hand while bowing.\n",
            "Vultures are scavenging birds, feeding mostly on the carcasses of dead animals.\n",
            "Many vultures have a bald head without feathers for losing heat.\n",
            "Vultures use their large wings to soar for miles without flapping.\n",
            "Vultures seldom attack healthy animals, but may kill the wounded or sick.\n",
            "A wall is a solid structure that defines and sometimes protects an area.\n",
            "Walls delineate a building, support the roof, and divide the space into rooms.\n",
            "Walls are usually made of stone, brick, or cement, as well as drywall.\n",
            "Retaining walls provide a barrier to movement of earth, stone or water.\n",
            "Water is the most common liquid on Earth, covering 70% of its area.\n",
            "Plants, animals and people must drink water in order to live.\n",
            "Water freezes at a low temperature and becomes solid ice.\n",
            "Rain is water that falls from clouds in the sky, which are condensed vapor.\n",
            "A whale is a very large mammal that lives in the ocean.\n",
            "Whales breathe through blowholes on their heads when surfacing.\n",
            "The blubber in a whale serves as an energy reservoir and as insulation.\n",
            "Whales have been hunted for meat, whale oil and ambergris.\n",
            "A window is a transparent opening in a wall to let light through.\n",
            "A typical window is made of sheets of glass held in place by frames.\n",
            "When open, a window will also let air and sound through.\n",
            "Some windows have multiple panes to increase insulation inside.\n",
            "A woman is a female human adult.\n",
            "A woman is stereotypically seen as a caregiver.\n",
            "A woman can become pregnant and bear children.\n",
            "A woman has different reproductive organs than a man.\n",
            "\n"
          ]
        }
      ],
      "source": [
        "with open('stimuli_384sentences.txt', 'r') as file:\n",
        "    stimuli_384sentences = file.read()\n",
        "print(stimuli_384sentences)"
      ]
    },
    {
      "cell_type": "code",
      "execution_count": null,
      "metadata": {
        "id": "ZmBaxlGgShJ5"
      },
      "outputs": [],
      "source": [
        "from learn_decoder import *\n",
        "vectors_243 = read_matrix('vectors_243sentences.GV42B300.average.txt', sep=\" \")\n",
        "# print(vectors_243.head())\n",
        "\n",
        "vectors_384 = read_matrix('vectors_384sentences.GV42B300.average.txt', sep=\" \")\n",
        "# print(vectors_384.head())\n"
      ]
    },
    {
      "cell_type": "code",
      "execution_count": null,
      "metadata": {
        "id": "aNzBwXQJSjaW",
        "colab": {
          "base_uri": "https://localhost:8080/"
        },
        "outputId": "d9885ffd-0f4b-48b2-9952-d91f28e6d1c7"
      },
      "outputs": [
        {
          "output_type": "stream",
          "name": "stdout",
          "text": [
            "dict_keys(['__header__', '__version__', '__globals__', 'keyPassageCategory', 'keyPassages', 'keySentences', 'labelsPassageCategory', 'labelsPassageForEachSentence', 'labelsSentences', 'meta', 'Fmridata'])\n",
            "dict_keys(['__header__', '__version__', '__globals__', 'keyPassageCategory', 'keyPassages', 'keySentences', 'labelsPassageCategory', 'labelsPassageForEachSentence', 'labelsSentences', 'meta', 'Fmridata'])\n"
          ]
        }
      ],
      "source": [
        "import pickle\n",
        "\n",
        "with open('EXP3.pkl', 'rb') as f:\n",
        "    exp3_data = pickle.load(f)\n",
        "    print(exp3_data.keys())\n",
        "\n",
        "with open('EXP2.pkl', 'rb') as f:\n",
        "    exp2_data = pickle.load(f)\n",
        "    print(exp2_data.keys())\n"
      ]
    },
    {
      "cell_type": "code",
      "execution_count": null,
      "metadata": {
        "id": "1eQ3WdSPVNE6",
        "colab": {
          "base_uri": "https://localhost:8080/"
        },
        "outputId": "56352bf1-a4ec-467d-8333-f93f6ce7bb82"
      },
      "outputs": [
        {
          "output_type": "stream",
          "name": "stdout",
          "text": [
            "Returned to the default working directory: /content\n"
          ]
        }
      ],
      "source": [
        "\n",
        "# Change back to the default working directory\n",
        "os.chdir('/content')\n",
        "# Confirm the change\n",
        "print(\"Returned to the default working directory:\", os.getcwd())"
      ]
    },
    {
      "cell_type": "code",
      "execution_count": null,
      "metadata": {
        "id": "Liosd9lWBdQI"
      },
      "outputs": [],
      "source": [
        "#Let's load the functions from learn_decoder.py\n",
        "from learn_decoder import *\n",
        "\n",
        "#and the data\n",
        "data = read_matrix(\"imaging_data.csv\", sep=\",\")\n",
        "vectors = read_matrix(\"vectors_180concepts.GV42B300.txt\", sep=\" \")\n",
        "concepts = np.genfromtxt('stimuli_180concepts.txt', dtype=np.dtype('U')) #The names of the 180 concepts"
      ]
    },
    {
      "cell_type": "code",
      "execution_count": null,
      "metadata": {
        "id": "CRI_G2E3jWIb",
        "colab": {
          "base_uri": "https://localhost:8080/"
        },
        "outputId": "21d1de28-760c-43e4-efe4-c9f29100b001"
      },
      "outputs": [
        {
          "output_type": "execute_result",
          "data": {
            "text/plain": [
              "numpy.ndarray"
            ]
          },
          "metadata": {},
          "execution_count": 11
        }
      ],
      "source": [
        "type(data)"
      ]
    },
    {
      "cell_type": "markdown",
      "metadata": {
        "id": "h8RI_ZEJEA61"
      },
      "source": [
        "You can verify for your self what learn_decoder consists of by going to Files and opening it."
      ]
    },
    {
      "cell_type": "markdown",
      "metadata": {
        "id": "sIWqcFzpSjNj"
      },
      "source": [
        "### What are the Accuracy scores?"
      ]
    },
    {
      "cell_type": "markdown",
      "metadata": {
        "id": "xGLDercIBFSx"
      },
      "source": [
        "Define a function that computes rank-based accuracy score, then, iterate over the 18 folds. For each fold,  train the decoder **using the `learn_decoder` function** (the function is already imported from `learn_decoder.py`) on the fold train data, obtain the predicions on the fold test data, and store both the accuracy score of each concept (use the labels from `concepts`) as well as the average score of the 10 concepts.  "
      ]
    },
    {
      "cell_type": "code",
      "execution_count": null,
      "metadata": {
        "id": "yMtlTgG5EdTb",
        "colab": {
          "base_uri": "https://localhost:8080/"
        },
        "outputId": "736321f6-05e6-40d1-8b39-d2bd121ab4e0"
      },
      "outputs": [
        {
          "output_type": "stream",
          "name": "stdout",
          "text": [
            "(180, 170712)\n",
            "(180, 300)\n",
            "(180,)\n"
          ]
        }
      ],
      "source": [
        "import numpy as np\n",
        "import random\n",
        "\n",
        "seed = 42\n",
        "indices = list(range(180))\n",
        "\n",
        "def cosine_similarity(x: np.ndarray, y: np.ndarray) -> float:\n",
        "    dot_prod = np.dot(x, y)\n",
        "    norm_prod = np.linalg.norm(x) * np.linalg.norm(y)\n",
        "    return dot_prod / norm_prod\n",
        "\n",
        "folds_avg_ranks = []\n",
        "concept_rank = []\n",
        "\n",
        "for fold_i in range(18):\n",
        "    test_inds = indices[fold_i * 10 : (fold_i + 1) * 10]\n",
        "    train_inds = indices[:fold_i * 10] + indices[(fold_i + 1) * 10:]\n",
        "\n",
        "    data_test_vectors = np.take(data, test_inds, axis=0)\n",
        "    data_train_vectors = np.take(data, train_inds, axis=0)\n",
        "    semantic_test_vectors = np.take(vectors, test_inds, axis=0)\n",
        "    semantic_train_vectors = np.take(vectors, train_inds, axis=0)\n",
        "\n",
        "    model = learn_decoder(data_train_vectors, semantic_train_vectors)\n",
        "\n",
        "    sum_ranks = 0\n",
        "    for i in range(len(test_inds)):\n",
        "        our_pred = np.dot(data_test_vectors[i], model)\n",
        "        true_concept = semantic_test_vectors[i]\n",
        "        ranked = sorted(vectors, key=lambda sem_vec: cosine_similarity(sem_vec, our_pred), reverse=True)\n",
        "        rank = np.argwhere(np.all(ranked == true_concept, axis=1))[0][0] + 1\n",
        "        sum_ranks += rank\n",
        "        concept_rank.append(rank)\n",
        "\n",
        "    folds_avg_ranks.append(sum_ranks / 10)\n",
        "\n",
        "print(data.shape)\n",
        "print(vectors.shape)\n",
        "print(concepts.shape)\n"
      ]
    },
    {
      "cell_type": "markdown",
      "metadata": {
        "id": "r4P3Ub86IgcB"
      },
      "source": [
        "Now let's plot the averaged accuracy score for each fold  "
      ]
    },
    {
      "cell_type": "code",
      "execution_count": null,
      "metadata": {
        "id": "Z4HHdj5xIRnH",
        "colab": {
          "base_uri": "https://localhost:8080/",
          "height": 598
        },
        "outputId": "910ab191-f74c-4a83-c80a-f6e2e2c9fb6c"
      },
      "outputs": [
        {
          "output_type": "stream",
          "name": "stdout",
          "text": [
            "18\n",
            "18\n"
          ]
        },
        {
          "output_type": "display_data",
          "data": {
            "text/plain": [
              "<Figure size 640x480 with 1 Axes>"
            ],
            "image/png": "[encoded data removed]"
          },
          "metadata": {}
        }
      ],
      "source": [
        "import matplotlib.pyplot as plt\n",
        "fig = plt.figure()\n",
        "ax = fig.add_axes([0,0,1,1])\n",
        "folds = list(range(1,19))\n",
        "folds = [str(number) for number in folds]\n",
        "accs = folds_avg_ranks\n",
        "print(len(folds))\n",
        "print(len(accs))\n",
        "ax.bar(folds,accs)\n",
        "plt.title(\"Avg_rank for each fold\")\n",
        "plt.show()\n",
        "\n",
        "#TODO"
      ]
    },
    {
      "cell_type": "code",
      "execution_count": null,
      "metadata": {
        "id": "xvKU61PVDBcI",
        "colab": {
          "base_uri": "https://localhost:8080/"
        },
        "outputId": "c1096911-d614-4d1b-9386-50cd1d40e76e"
      },
      "outputs": [
        {
          "output_type": "execute_result",
          "data": {
            "text/plain": [
              "61.91111111111112"
            ]
          },
          "metadata": {},
          "execution_count": 14
        }
      ],
      "source": [
        "average_rank = sum(folds_avg_ranks) / len(folds_avg_ranks)\n",
        "average_rank"
      ]
    },
    {
      "cell_type": "code",
      "execution_count": null,
      "metadata": {
        "id": "JBzioWXaDIf5",
        "colab": {
          "base_uri": "https://localhost:8080/"
        },
        "outputId": "d6f0d194-94a9-4922-ef8e-882a119a36d5"
      },
      "outputs": [
        {
          "output_type": "execute_result",
          "data": {
            "text/plain": [
              "105.1"
            ]
          },
          "metadata": {},
          "execution_count": 15
        }
      ],
      "source": [
        "max(folds_avg_ranks)"
      ]
    },
    {
      "cell_type": "code",
      "execution_count": null,
      "metadata": {
        "id": "EvlzaOEUDMSy",
        "colab": {
          "base_uri": "https://localhost:8080/"
        },
        "outputId": "5f60c791-8342-4efd-e746-16452df4f30a"
      },
      "outputs": [
        {
          "output_type": "execute_result",
          "data": {
            "text/plain": [
              "36.8"
            ]
          },
          "metadata": {},
          "execution_count": 16
        }
      ],
      "source": [
        "min(folds_avg_ranks)"
      ]
    },
    {
      "cell_type": "code",
      "execution_count": null,
      "metadata": {
        "id": "3Ok3kgcNDOGV",
        "colab": {
          "base_uri": "https://localhost:8080/"
        },
        "outputId": "857cfcbf-1e8f-49d5-f9d2-577c43f55ceb"
      },
      "outputs": [
        {
          "output_type": "execute_result",
          "data": {
            "text/plain": [
              "18.785777388725904"
            ]
          },
          "metadata": {},
          "execution_count": 17
        }
      ],
      "source": [
        "var_rank = sum((xi - average_rank) ** 2 for xi in folds_avg_ranks) / len(folds_avg_ranks)\n",
        "np.sqrt(var_rank)"
      ]
    },
    {
      "cell_type": "markdown",
      "metadata": {
        "id": "jElBCr8_C-B7"
      },
      "source": []
    },
    {
      "cell_type": "markdown",
      "metadata": {
        "id": "Rd3N7q3k_avH"
      },
      "source": [
        "### Which concepts can be decoded with more or less success?"
      ]
    },
    {
      "cell_type": "code",
      "execution_count": null,
      "metadata": {
        "id": "fAhfAbjOJCtf",
        "colab": {
          "base_uri": "https://localhost:8080/"
        },
        "outputId": "eb7eb15b-9116-458e-cf64-5c30087a9c03"
      },
      "outputs": [
        {
          "output_type": "stream",
          "name": "stdout",
          "text": [
            "42 Concepts were decoded with more success:\n",
            "['ability', 'art', 'attitude', 'big', 'building', 'construction', 'crazy', 'damage', 'dinner', 'do', 'event', 'extremely', 'feeling', 'fish', 'food', 'great', 'hair', 'help', 'lady', 'laugh', 'left', 'light', 'money', 'mountain', 'music', 'picture', 'play', 'quality', 'read', 'relationship', 'road', 'shape', 'show', 'silly', 'skin', 'soul', 'stupid', 'successful', 'team', 'time', 'wear', 'word']\n",
            "138 Concepts were decoded with less success:\n",
            "['accomplished', 'angry', 'apartment', 'applause', 'argument', 'argumentatively', 'bag', 'ball', 'bar', 'bear', 'beat', 'bed', 'beer', 'bird', 'blood', 'body', 'brain', 'broken', 'burn', 'business', 'camera', 'carefully', 'challenge', 'charity', 'charming', 'clothes', 'cockroach', 'code', 'collection', 'computer', 'cook', 'counting', 'dance', 'dangerous', 'deceive', 'dedication', 'deliberately', 'delivery', 'dessert', 'device', 'dig', 'disease', 'dissolve', 'disturb', 'doctor', 'dog', 'dressing', 'driver', 'economy', 'election', 'electron', 'elegance', 'emotion', 'emotionally', 'engine', 'experiment', 'fight', 'flow', 'garbage', 'gold', 'gun', 'hurting', 'ignorance', 'illness', 'impress', 'invention', 'investigation', 'invisible', 'job', 'jungle', 'kindness', 'king', 'land', 'law', 'level', 'liar', 'magic', 'marriage', 'material', 'mathematical', 'mechanism', 'medication', 'movement', 'movie', 'nation', 'news', 'noise', 'obligation', 'pain', 'personality', 'philosophy', 'pig', 'plan', 'plant', 'pleasure', 'poor', 'prison', 'professional', 'protection', 'reaction', 'religious', 'residence', 'sad', 'science', 'seafood', 'sell', 'sew', 'sexy', 'ship', 'sign', 'sin', 'smart', 'smiling', 'solution', 'sound', 'spoke', 'star', 'student', 'sugar', 'suspect', 'table', 'taste', 'texture', 'tool', 'toy', 'tree', 'trial', 'tried', 'typical', 'unaware', 'usable', 'useless', 'vacation', 'war', 'wash', 'weak', 'weather', 'willingly']\n"
          ]
        }
      ],
      "source": [
        "#TODO\n",
        "more_success = []\n",
        "less_success = []\n",
        "for i in range(180):\n",
        "  if concept_rank[i] <= 18:\n",
        "    more_success.append(concepts[i])\n",
        "  else:\n",
        "    less_success.append(concepts[i])\n",
        "print(f\"{len(more_success)} Concepts were decoded with more success:\")\n",
        "print(more_success)\n",
        "print(f\"{len(less_success)} Concepts were decoded with less success:\")\n",
        "print(less_success)"
      ]
    },
    {
      "cell_type": "markdown",
      "metadata": {
        "id": "3YMW7QzESqf2"
      },
      "source": [
        "### Are the results satisfactory, in your opinion? Why or why not?"
      ]
    },
    {
      "cell_type": "markdown",
      "metadata": {
        "id": "ZMBoho0S_iUU"
      },
      "source": [
        "\\#TODO\n",
        "\n",
        "As shown in the bar graph, all but one fold achieved an average ranking score below 80, indicating strong performance. This is considerably better than a random guess, which would yield a score of 90.\n",
        "\n",
        "We defined a \"successful\" decoding as identifying the correct concept within the top 10% of the rankings (i.e., a rank of 18 or lower). The results show that we achieved this for 48 concepts, which is nearly 27% of our data classified very successfully.\n",
        "\n",
        "Considering the complexity of the task (essentially \"reading minds\"), these results are highly satisfactory. We achieved accuracy significantly above chance, which we regard as a substantial success."
      ]
    },
    {
      "cell_type": "code",
      "execution_count": null,
      "metadata": {
        "id": "ZFid4Tj9sRHk"
      },
      "outputs": [],
      "source": [
        "# Step 1: Install gensim (uncomment if needed)\n",
        "!pip install gensim"
      ]
    },
    {
      "cell_type": "code",
      "execution_count": null,
      "metadata": {
        "id": "2WGnq3ow2Lje"
      },
      "outputs": [],
      "source": [
        "# import numpy as np\n",
        "# import gensim.downloader as api\n",
        "# import random\n",
        "# import matplotlib.pyplot as plt\n",
        "\n",
        "# Load the Google News pre-trained Word2Vec model\n",
        "word2vec_model = api.load(\"word2vec-google-news-300\")"
      ]
    },
    {
      "cell_type": "code",
      "execution_count": null,
      "metadata": {
        "id": "URAnWwM96_ai",
        "colab": {
          "base_uri": "https://localhost:8080/",
          "height": 332
        },
        "outputId": "f9ef59f4-5b59-463c-88ab-681e0bcbad4a"
      },
      "outputs": [
        {
          "output_type": "error",
          "ename": "NameError",
          "evalue": "name 'word2vec_model' is not defined",
          "traceback": [
            "\u001b[0;31m---------------------------------------------------------------------------\u001b[0m",
            "\u001b[0;31mNameError\u001b[0m                                 Traceback (most recent call last)",
            "\u001b[0;32m<ipython-input-21-25c0a3f6db0c>\u001b[0m in \u001b[0;36m<cell line: 12>\u001b[0;34m()\u001b[0m\n\u001b[1;32m     10\u001b[0m \u001b[0;34m\u001b[0m\u001b[0m\n\u001b[1;32m     11\u001b[0m \u001b[0;31m# Get Word2Vec vectors for the concepts\u001b[0m\u001b[0;34m\u001b[0m\u001b[0;34m\u001b[0m\u001b[0m\n\u001b[0;32m---> 12\u001b[0;31m \u001b[0mvectors\u001b[0m \u001b[0;34m=\u001b[0m \u001b[0mget_word2vec_vectors\u001b[0m\u001b[0;34m(\u001b[0m\u001b[0mconcepts\u001b[0m\u001b[0;34m)\u001b[0m\u001b[0;34m\u001b[0m\u001b[0;34m\u001b[0m\u001b[0m\n\u001b[0m\u001b[1;32m     13\u001b[0m \u001b[0;34m\u001b[0m\u001b[0m\n\u001b[1;32m     14\u001b[0m \u001b[0mseed\u001b[0m \u001b[0;34m=\u001b[0m \u001b[0;36m42\u001b[0m\u001b[0;34m\u001b[0m\u001b[0;34m\u001b[0m\u001b[0m\n",
            "\u001b[0;32m<ipython-input-21-25c0a3f6db0c>\u001b[0m in \u001b[0;36mget_word2vec_vectors\u001b[0;34m(concepts)\u001b[0m\n\u001b[1;32m      3\u001b[0m     \u001b[0mvectors\u001b[0m \u001b[0;34m=\u001b[0m \u001b[0;34m[\u001b[0m\u001b[0;34m]\u001b[0m\u001b[0;34m\u001b[0m\u001b[0;34m\u001b[0m\u001b[0m\n\u001b[1;32m      4\u001b[0m     \u001b[0;32mfor\u001b[0m \u001b[0mconcept\u001b[0m \u001b[0;32min\u001b[0m \u001b[0mconcepts\u001b[0m\u001b[0;34m:\u001b[0m\u001b[0;34m\u001b[0m\u001b[0;34m\u001b[0m\u001b[0m\n\u001b[0;32m----> 5\u001b[0;31m         \u001b[0;32mif\u001b[0m \u001b[0mconcept\u001b[0m \u001b[0;32min\u001b[0m \u001b[0mword2vec_model\u001b[0m\u001b[0;34m:\u001b[0m\u001b[0;34m\u001b[0m\u001b[0;34m\u001b[0m\u001b[0m\n\u001b[0m\u001b[1;32m      6\u001b[0m             \u001b[0mvectors\u001b[0m\u001b[0;34m.\u001b[0m\u001b[0mappend\u001b[0m\u001b[0;34m(\u001b[0m\u001b[0mword2vec_model\u001b[0m\u001b[0;34m[\u001b[0m\u001b[0mconcept\u001b[0m\u001b[0;34m]\u001b[0m\u001b[0;34m)\u001b[0m\u001b[0;34m\u001b[0m\u001b[0;34m\u001b[0m\u001b[0m\n\u001b[1;32m      7\u001b[0m         \u001b[0;32melse\u001b[0m\u001b[0;34m:\u001b[0m\u001b[0;34m\u001b[0m\u001b[0;34m\u001b[0m\u001b[0m\n",
            "\u001b[0;31mNameError\u001b[0m: name 'word2vec_model' is not defined"
          ]
        }
      ],
      "source": [
        "# Function to get Word2Vec vectors for the concepts\n",
        "def get_word2vec_vectors(concepts):\n",
        "    vectors = []\n",
        "    for concept in concepts:\n",
        "        if concept in word2vec_model:\n",
        "            vectors.append(word2vec_model[concept])\n",
        "        else:\n",
        "            vectors.append(np.random.rand(word2vec_model.vector_size))  # Use random vector for missing concepts\n",
        "    return np.array(vectors)\n",
        "\n",
        "# Get Word2Vec vectors for the concepts\n",
        "vectors = get_word2vec_vectors(concepts)\n",
        "\n",
        "seed = 42\n",
        "random.seed(seed)\n",
        "indices = list(range(180))\n",
        "\n",
        "folds_avg_ranks = []\n",
        "concept_rank = []\n",
        "\n",
        "for fold_i in range(18):\n",
        "    test_inds = indices[fold_i * 10 : (fold_i + 1) * 10]\n",
        "    train_inds = indices[:fold_i * 10] + indices[(fold_i + 1) * 10:]\n",
        "\n",
        "    data_test_vectors = np.take(data, test_inds, axis=0)\n",
        "    data_train_vectors = np.take(data, train_inds, axis=0)\n",
        "    semantic_test_vectors = np.take(vectors, test_inds, axis=0)\n",
        "    semantic_train_vectors = np.take(vectors, train_inds, axis=0)\n",
        "\n",
        "    model = learn_decoder(data_train_vectors, semantic_train_vectors)\n",
        "\n",
        "    sum_ranks = 0\n",
        "    for i in range(len(test_inds)):\n",
        "        our_pred = np.dot(data_test_vectors[i], model)\n",
        "        true_concept = semantic_test_vectors[i]\n",
        "        ranked = sorted(vectors, key=lambda sem_vec: cosine_similarity(sem_vec, our_pred), reverse=True)\n",
        "        rank = np.argwhere(np.all(ranked == true_concept, axis=1))[0][0] + 1\n",
        "        sum_ranks += rank\n",
        "        concept_rank.append(rank)\n",
        "\n",
        "    folds_avg_ranks.append(sum_ranks / 10)\n",
        "\n",
        "\n",
        "# Print the ranks to diagnose\n",
        "print(\"Folds Average Ranks:\", folds_avg_ranks)\n",
        "print(\"Concept Ranks:\", concept_rank)\n",
        "\n",
        "# Plotting\n",
        "fig = plt.figure()\n",
        "ax = fig.add_axes([0,0,1,1])\n",
        "folds = list(range(1, 19))\n",
        "folds = [str(number) for number in folds]\n",
        "accs = folds_avg_ranks\n",
        "ax.bar(folds, accs)\n",
        "plt.title(\"Avg_rank for each fold\")\n",
        "plt.xlabel(\"Fold\")\n",
        "plt.ylabel(\"Average Rank\")\n",
        "plt.show()\n",
        "\n",
        "# Additional Analysis\n",
        "more_success = []\n",
        "less_success = []\n",
        "for i in range(180):\n",
        "    if concept_rank[i] <= 18:\n",
        "        more_success.append(concepts[i])\n",
        "    else:\n",
        "        less_success.append(concepts[i])\n",
        "\n",
        "print(f\"{len(more_success)} Concepts were decoded with more success:\")\n",
        "print(more_success)\n",
        "print(f\"{len(less_success)} Concepts were decoded with less success:\")\n",
        "print(less_success)"
      ]
    },
    {
      "cell_type": "code",
      "execution_count": null,
      "metadata": {
        "id": "Qpd_toFiC1Di"
      },
      "outputs": [],
      "source": [
        "average_rank = sum(folds_avg_ranks) / len(folds_avg_ranks)\n",
        "average_rank"
      ]
    },
    {
      "cell_type": "code",
      "execution_count": null,
      "metadata": {
        "id": "GiI-hwybDSbE"
      },
      "outputs": [],
      "source": [
        "max(folds_avg_ranks)"
      ]
    },
    {
      "cell_type": "code",
      "execution_count": null,
      "metadata": {
        "id": "pTF2-Su0DTBr"
      },
      "outputs": [],
      "source": [
        "min(folds_avg_ranks)"
      ]
    },
    {
      "cell_type": "code",
      "execution_count": null,
      "metadata": {
        "id": "YV-HReokDVjp"
      },
      "outputs": [],
      "source": [
        "var_rank = sum((xi - average_rank) ** 2 for xi in folds_avg_ranks) / len(folds_avg_ranks)\n",
        "np.sqrt(var_rank)"
      ]
    },
    {
      "cell_type": "code",
      "execution_count": null,
      "metadata": {
        "id": "XyL6IqgBv_QC"
      },
      "outputs": [],
      "source": []
    },
    {
      "cell_type": "markdown",
      "metadata": {
        "id": "0Y4wtsaQAwLR"
      },
      "source": [
        "\\#TODO\n",
        "\n",
        "compression between the graphs:\n",
        "\n",
        "We can see thetwo models got simillar avrege resukts as for w2v the average rank was 60.83 and for glove 61.91, but in our opinion from what can be seen from the graph the word2vec model did better as it has less variance and more consistantly proformed well (more robust over folds) in comperision to glove that was very fold dependent.\n",
        "We can see the max avrage rank for glove is 105 compared 80 by word2vec when a random model would get around ~90 avrage rank (lower is better)."
      ]
    },
    {
      "cell_type": "markdown",
      "metadata": {
        "id": "8_ftyRsLM_Qg"
      },
      "source": [
        "## Read Pereira et al., 2018 and describe the similarities and differences between analyzes 1, 2, and 3 in that paper.\n",
        "\n",
        "\\# TODO\n",
        "\n",
        "All of the analyses were focused on evaluating the capabilities of the model to create semantic vectors given stimuli representing concepts but there were also major diffrences between them.\n",
        "In analysis 1 the stimuli are individual concepts (single words) compared to 2 and 3 where the stimuli are sentences.\n",
        "The data used in analysis 1 (180 words) were the base for training the decoder model for all the expiriments, the diffrence is that in 1 it was used in cross validation to see how good we can decode words and in 2 and 3 all of the data was used to train the decoder and the expirement checks the ability of model trained on single words to generalize to sentances.\n",
        "\n",
        "Although analyses 2 and 3 were more similar to each other compered to analysis 1 there are also some diffrences between them.\n",
        " The data from expiriment 2 contained 384 sentances and the data for 3 contained 243, because of the number of sentances expiriment 2 took longer than 3 for each participent (7 min 34 s compared to 4 min 56 s). Both of the expiriments had sentances from 24 topics, the topics in the two expiriments were diffrent. they both shown similar results for the pair-wise comparison for diffrent topic, same topic and same passage comparison, the rank accuracy in analyses 2 was slightly lower (better) then 3.\n",
        "<!-- ### Similarities: -->\n",
        "<!--\n",
        "* All analyses used the same decoding model trained on brain images associated with individual words.\n",
        "* All analyses used pairwise classification and rank accuracy to evaluate the decoding performance.\n",
        "* All analyses used the same training set of 180 words\n",
        "\n",
        "### Differences:\n",
        "\n",
        "* Analysis 1 focused on individual words, while Analyses 2 and 3 focused on sentences.\n",
        "* Analysis 1 aimed to validate the decoding approach for individual words, while Analyses 2 and 3 aimed to test the generalization to sentence-level decoding from different types of textual content, requiring the decoder to generalize beyond single-word meanings to more complex linguistic structures. -->"
      ]
    },
    {
      "cell_type": "code",
      "execution_count": null,
      "metadata": {
        "id": "I3RGJdnH-aHD"
      },
      "outputs": [],
      "source": [
        "os.chdir('/content/drive/My Drive/project_lcc')\n",
        "os.listdir('.')\n",
        "data = neural_data_exp1\n",
        "os.chdir('/content')\n",
        "vectors = read_matrix(\"vectors_180concepts.GV42B300.txt\", sep=\" \")\n",
        "concepts = np.genfromtxt('stimuli_180concepts.txt', dtype=np.dtype('U')) #The names of the 180 concepts"
      ]
    },
    {
      "cell_type": "code",
      "execution_count": null,
      "metadata": {
        "id": "t96IKvPo7gA8"
      },
      "outputs": [],
      "source": [
        "import learn_decoder as ld\n",
        "glove_model=ld.learn_decoder(data, vectors)"
      ]
    },
    {
      "cell_type": "code",
      "execution_count": null,
      "metadata": {
        "colab": {
          "base_uri": "https://localhost:8080/"
        },
        "collapsed": true,
        "id": "RWN7pYjhX3zF",
        "outputId": "f09bd884-ff85-4d23-fdb5-7eb618410a04"
      },
      "outputs": [
        {
          "output_type": "stream",
          "name": "stdout",
          "text": [
            "(384, 185866)\n",
            "(384, 300)\n",
            "Average rank for Analysis 2: 156.92708333333334\n"
          ]
        }
      ],
      "source": [
        "data_384 = exp2_data['Fmridata']\n",
        "\n",
        "# Verify the shapes\n",
        "print(data_384.shape)\n",
        "print(vectors_384.shape)\n",
        "\n",
        "# # Set seed for reproducibility\n",
        "# seed = 42\n",
        "# random.seed(seed)\n",
        "indices_384 = list(range(384))\n",
        "\n",
        "# def cosine_similarity(x: np.ndarray, y: np.ndarray) -> float:\n",
        "#     dot_prod = np.dot(x, y)\n",
        "#     norm_prod = np.linalg.norm(x) * np.linalg.norm(y)\n",
        "#     return dot_prod / norm_prod\n",
        "\n",
        "# def learn_decoder(train_data, train_semantics):\n",
        "#     return np.linalg.lstsq(train_data, train_semantics, rcond=None)[0]\n",
        "\n",
        "# folds_avg_ranks_384 = []\n",
        "concept_rank_384 = []\n",
        "\n",
        "# for fold_i in range(38):  # Adjusted for 384 sentences\n",
        "#     test_inds = indices_384[fold_i * 10 : (fold_i + 1) * 10]\n",
        "#     train_inds = indices_384[:fold_i * 10] + indices_384[(fold_i + 1) * 10:]\n",
        "\n",
        "#     data_test_vectors = np.take(data_384, test_inds, axis=0)\n",
        "#     data_train_vectors = np.take(data_384, train_inds, axis=0)\n",
        "#     semantic_test_vectors = np.take(vectors_384, test_inds, axis=0)\n",
        "#     semantic_train_vectors = np.take(vectors_384, train_inds, axis=0)\n",
        "\n",
        "#     model = learn_decoder(data_train_vectors, semantic_train_vectors)\n",
        "\n",
        "sum_ranks = 0\n",
        "for i in range(len(indices_384)):\n",
        "    our_pred = np.dot(data_384[i], glove_model)\n",
        "    true_concept = vectors_384[i]  # Convert Series to NumPy array\n",
        "    ranked = sorted(vectors_384, key=lambda sem_vec: cosine_similarity(sem_vec, our_pred), reverse=True)  # Convert DataFrame to NumPy array\n",
        "    try:\n",
        "        rank = np.argwhere(np.all(ranked == true_concept, axis=1))[0][0] + 1  # Now the comparison should work\n",
        "    except IndexError:\n",
        "        print(\"True concept not found in ranked list\")\n",
        "        rank = 0  # Or handle the case as appropriate\n",
        "\n",
        "    sum_ranks += rank\n",
        "    concept_rank_384.append(rank)\n",
        "\n",
        "accuracy_384 = sum_ranks/len(indices_384)\n",
        "    # folds_avg_ranks_384.append(sum_ranks / 10)\n",
        "\n",
        "print(\"Average rank for Analysis 2:\", accuracy_384)"
      ]
    },
    {
      "cell_type": "code",
      "execution_count": null,
      "metadata": {
        "id": "yi7Q1tUeisGx"
      },
      "outputs": [],
      "source": [
        "# Plotting\n",
        "# fig = plt.figure()\n",
        "# ax = fig.add_axes([0,0,1,1])\n",
        "# folds = list(range(1, 39))\n",
        "# folds = [str(number) for number in folds]\n",
        "# accs = folds_avg_ranks_384\n",
        "# ax.bar(folds, accs)\n",
        "# plt.title(\"Avg_rank for each fold\")\n",
        "# plt.xlabel(\"Fold\")\n",
        "# plt.ylabel(\"Average Rank\")\n",
        "# plt.show()"
      ]
    },
    {
      "cell_type": "code",
      "execution_count": null,
      "metadata": {
        "colab": {
          "base_uri": "https://localhost:8080/"
        },
        "id": "0FPtlxFub4_3",
        "outputId": "45736cb0-0aee-4767-8d21-5649dedc5faa"
      },
      "outputs": [
        {
          "output_type": "stream",
          "name": "stdout",
          "text": [
            "Average rank for Analysis 2: 100.7448559670782\n"
          ]
        }
      ],
      "source": [
        "data_243 = exp3_data['Fmridata']\n",
        "\n",
        "indices_243 = list(range(243))\n",
        "concept_rank_243 = []\n",
        "\n",
        "sum_ranks = 0\n",
        "for i in range(len(indices_243)):\n",
        "    our_pred = np.dot(data_243[i], glove_model)\n",
        "    true_concept = vectors_243[i]\n",
        "    ranked = sorted(vectors_243, key=lambda sem_vec: cosine_similarity(sem_vec, our_pred), reverse=True)  # Convert DataFrame to NumPy array\n",
        "    try:\n",
        "        rank = np.argwhere(np.all(ranked == true_concept, axis=1))[0][0] + 1  # Now the comparison should work\n",
        "    except IndexError:\n",
        "        print(\"True concept not found in ranked list\")\n",
        "        rank = 0\n",
        "\n",
        "    sum_ranks += rank\n",
        "    concept_rank_243.append(rank)\n",
        "\n",
        "accuracy_243 = sum_ranks/len(indices_243)\n",
        "\n",
        "print(\"Average rank for Analysis 2:\", accuracy_243)\n"
      ]
    },
    {
      "cell_type": "code",
      "execution_count": null,
      "metadata": {
        "id": "uxhik8BedS_B"
      },
      "outputs": [],
      "source": [
        "# fig = plt.figure()\n",
        "# ax = fig.add_axes([0,0,1,1])\n",
        "# folds = list(range(1, 25))\n",
        "# folds = [str(number) for number in folds]\n",
        "# accs = folds_avg_ranks_243\n",
        "# ax.bar(folds, accs)\n",
        "# plt.title(\"Avg_rank for each fold\")\n",
        "# plt.xlabel(\"Fold\")\n",
        "# plt.ylabel(\"Average Rank\")\n",
        "# plt.show()"
      ]
    },
    {
      "cell_type": "markdown",
      "metadata": {
        "id": "an3yFxBaxDfy"
      },
      "source": [
        "#Part4"
      ]
    },
    {
      "cell_type": "code",
      "execution_count": null,
      "metadata": {
        "colab": {
          "base_uri": "https://localhost:8080/"
        },
        "id": "ws-eVFg5xFIV",
        "outputId": "91f703d1-ddd3-473b-bf00-3416893975a9"
      },
      "outputs": [
        {
          "output_type": "stream",
          "name": "stdout",
          "text": [
            "Sorted Topics for Analysis 2 by Average Rank Accuracy: [(4, 70.4375), (14, 92.75), (9, 98.9375), (10, 113.6875), (2, 113.75), (13, 131.875), (16, 141.25), (8, 149.3125), (11, 152.375), (21, 153.0625), (3, 156.3125), (19, 157.5), (5, 158.625), (6, 160.3125), (24, 163.8125), (7, 164.875), (12, 176.3125), (17, 176.5), (15, 179.875), (18, 185.0), (23, 186.6875), (1, 196.25), (22, 237.625), (20, 249.125)]\n"
          ]
        },
        {
          "output_type": "stream",
          "name": "stderr",
          "text": [
            "<ipython-input-28-b50238ccd124>:4: DeprecationWarning: Conversion of an array with ndim > 0 to a scalar is deprecated, and will error in future. Ensure you extract a single element from your array before performing this operation. (Deprecated NumPy 1.25.)\n",
            "  passage_id = int(passages[i])  # Convert passage_id to integer\n",
            "<ipython-input-28-b50238ccd124>:5: DeprecationWarning: Conversion of an array with ndim > 0 to a scalar is deprecated, and will error in future. Ensure you extract a single element from your array before performing this operation. (Deprecated NumPy 1.25.)\n",
            "  topic_id = int(topics[passage_id-1])  # Convert topic_id to integer\n"
          ]
        }
      ],
      "source": [
        "def analyze_accuracy_by_topic(concept_ranks, topics, passages):\n",
        "    topic_ranks = {}\n",
        "    for i, rank in enumerate(concept_ranks):\n",
        "        passage_id = int(passages[i])  # Convert passage_id to integer\n",
        "        topic_id = int(topics[passage_id-1])  # Convert topic_id to integer\n",
        "\n",
        "        if topic_id not in topic_ranks:\n",
        "            topic_ranks[topic_id] = []\n",
        "\n",
        "        topic_ranks[topic_id].append(rank)\n",
        "\n",
        "    # Calculate average rank for each topic\n",
        "    avg_topic_ranks = {topic: np.mean(ranks) for topic, ranks in topic_ranks.items()}\n",
        "\n",
        "    # Sort topics by their average rank\n",
        "    sorted_topics = sorted(avg_topic_ranks.items(), key=lambda item: item[1])\n",
        "\n",
        "    return sorted_topics\n",
        "\n",
        "# Analysis for 384 dataset\n",
        "passages_384 = exp2_data['labelsPassageForEachSentence']\n",
        "topics_384 = exp2_data['labelsPassageCategory']\n",
        "passage_ids_384 = exp2_data['labelsSentences']\n",
        "topic_names_384 = exp2_data['keyPassageCategory'][0]\n",
        "sorted_topics_384 = analyze_accuracy_by_topic(concept_rank_384, topics_384, passages_384)\n",
        "print(\"Sorted Topics for Analysis 2 by Average Rank Accuracy:\", sorted_topics_384)"
      ]
    },
    {
      "cell_type": "code",
      "execution_count": null,
      "metadata": {
        "colab": {
          "base_uri": "https://localhost:8080/"
        },
        "id": "LsBjon0o0ewn",
        "outputId": "6466deaa-0eed-4270-9132-627e7773648f"
      },
      "outputs": [
        {
          "output_type": "stream",
          "name": "stdout",
          "text": [
            "['animal', 'appliance', 'bird', 'body_part', 'building_part', 'clothing', 'crime', 'disaster', 'drink_non_alcoholic', 'dwelling', 'fish', 'fruit', 'furniture', 'human', 'insect', 'kitchen_utensil', 'landscape', 'music', 'place', 'profession', 'tool', 'vegetable', 'vehicles_transport', 'weapon']\n",
            "[(4, 70.4375), (14, 92.75), (9, 98.9375), (10, 113.6875), (2, 113.75), (13, 131.875), (16, 141.25), (8, 149.3125), (11, 152.375), (21, 153.0625), (3, 156.3125), (19, 157.5), (5, 158.625), (6, 160.3125), (24, 163.8125), (7, 164.875), (12, 176.3125), (17, 176.5), (15, 179.875), (18, 185.0), (23, 186.6875), (1, 196.25), (22, 237.625), (20, 249.125)]\n"
          ]
        }
      ],
      "source": [
        "topic_names_384=[name[0] for name in topic_names_384]\n",
        "print(topic_names_384)\n",
        "print(sorted_topics_384)"
      ]
    },
    {
      "cell_type": "code",
      "execution_count": null,
      "metadata": {
        "colab": {
          "base_uri": "https://localhost:8080/",
          "height": 718
        },
        "id": "Kzp-XDat0KcD",
        "outputId": "1d6a323a-f449-44d6-9b40-6e39c1998d3d"
      },
      "outputs": [
        {
          "output_type": "display_data",
          "data": {
            "text/plain": [
              "<Figure size 1000x800 with 1 Axes>"
            ],
            "image/png": "[encoded data removed]"
          },
          "metadata": {}
        }
      ],
      "source": [
        "name_accuracy_384=[]\n",
        "for id, acc in sorted_topics_384:\n",
        "  name_accuracy_384.append((topic_names_384[id-1], acc))\n",
        "name_accuracy_384\n",
        "\n",
        "topics, avg_ranks = zip(*name_accuracy_384)\n",
        "\n",
        "# Plotting the topics\n",
        "plt.figure(figsize=(10, 8))\n",
        "plt.barh(topics, avg_ranks, color='skyblue')\n",
        "plt.axvline(x = 384/2, color = 'b', label = 'axvline - full height')\n",
        "plt.xlabel('Average Rank')\n",
        "plt.title('Average Rank by Topic for Analysis 2')\n",
        "plt.gca().invert_yaxis()\n",
        "plt.show()"
      ]
    },
    {
      "cell_type": "code",
      "execution_count": null,
      "metadata": {
        "colab": {
          "base_uri": "https://localhost:8080/"
        },
        "id": "8r93MZVX1p2O",
        "outputId": "70e211b3-5b74-40c1-c0b9-dd800c392eb0"
      },
      "outputs": [
        {
          "output_type": "stream",
          "name": "stdout",
          "text": [
            "Sorted Topics for Analysis 3 by Average Rank Accuracy: [(7, 52.8), (22, 58.2), (5, 59.1), (14, 63.63636363636363), (4, 68.0909090909091), (12, 68.2), (8, 71.6), (23, 78.66666666666667), (16, 80.9), (18, 81.7), (6, 89.5), (9, 99.8), (24, 101.4), (3, 104.9), (20, 108.18181818181819), (1, 110.7), (11, 118.2), (10, 119.6), (21, 129.5), (17, 136.6), (19, 147.2), (13, 148.1), (15, 148.6), (2, 169.8181818181818)]\n"
          ]
        },
        {
          "output_type": "stream",
          "name": "stderr",
          "text": [
            "<ipython-input-28-b50238ccd124>:4: DeprecationWarning: Conversion of an array with ndim > 0 to a scalar is deprecated, and will error in future. Ensure you extract a single element from your array before performing this operation. (Deprecated NumPy 1.25.)\n",
            "  passage_id = int(passages[i])  # Convert passage_id to integer\n",
            "<ipython-input-28-b50238ccd124>:5: DeprecationWarning: Conversion of an array with ndim > 0 to a scalar is deprecated, and will error in future. Ensure you extract a single element from your array before performing this operation. (Deprecated NumPy 1.25.)\n",
            "  topic_id = int(topics[passage_id-1])  # Convert topic_id to integer\n"
          ]
        }
      ],
      "source": [
        "passages_243 = exp3_data['labelsPassageForEachSentence']\n",
        "topics_243 = exp3_data['labelsPassageCategory']\n",
        "passage_ids_243 = exp3_data['labelsSentences']\n",
        "topic_names_243 = exp3_data['keyPassageCategory'][0]\n",
        "sorted_topics_243 = analyze_accuracy_by_topic(concept_rank_243, topics_243, passages_243)\n",
        "print(\"Sorted Topics for Analysis 3 by Average Rank Accuracy:\", sorted_topics_243)"
      ]
    },
    {
      "cell_type": "code",
      "execution_count": null,
      "metadata": {
        "colab": {
          "base_uri": "https://localhost:8080/"
        },
        "id": "VGJCNqD_1_6b",
        "outputId": "bc42d01e-a574-41fa-a083-5f94a56ef21d"
      },
      "outputs": [
        {
          "output_type": "stream",
          "name": "stdout",
          "text": [
            "['astronaut', 'beekeeping', 'blindness', 'bone_fracture', 'castle', 'computer_graphics', 'dreams', 'gambling', 'hurricane', 'ice_cream', 'infection', 'law_school', 'lawn_mower', 'opera', 'owl', 'painter', 'pharmacist', 'polar_bear', 'pyramid', 'rock_climbing', 'skiing', 'stress', 'taste', 'tuxedo']\n",
            "[(7, 52.8), (22, 58.2), (5, 59.1), (14, 63.63636363636363), (4, 68.0909090909091), (12, 68.2), (8, 71.6), (23, 78.66666666666667), (16, 80.9), (18, 81.7), (6, 89.5), (9, 99.8), (24, 101.4), (3, 104.9), (20, 108.18181818181819), (1, 110.7), (11, 118.2), (10, 119.6), (21, 129.5), (17, 136.6), (19, 147.2), (13, 148.1), (15, 148.6), (2, 169.8181818181818)]\n"
          ]
        }
      ],
      "source": [
        "topic_names_243=[name[0] for name in topic_names_243]\n",
        "print(topic_names_243)\n",
        "print(sorted_topics_243)"
      ]
    },
    {
      "cell_type": "code",
      "execution_count": null,
      "metadata": {
        "colab": {
          "base_uri": "https://localhost:8080/",
          "height": 718
        },
        "id": "Ul2DWS0s10eo",
        "outputId": "47416313-c47b-47f2-bb51-2b0346e461c9"
      },
      "outputs": [
        {
          "output_type": "display_data",
          "data": {
            "text/plain": [
              "<Figure size 1000x800 with 1 Axes>"
            ],
            "image/png": "[encoded data removed]"
          },
          "metadata": {}
        }
      ],
      "source": [
        "name_accuracy_243=[]\n",
        "for id, acc in sorted_topics_243:\n",
        "  name_accuracy_243.append((topic_names_243[id-1], acc))\n",
        "name_accuracy_243\n",
        "\n",
        "topics, avg_ranks = zip(*name_accuracy_243)\n",
        "\n",
        "# Plotting the topics\n",
        "plt.figure(figsize=(10, 8))\n",
        "plt.barh(topics, avg_ranks, color='skyblue')\n",
        "plt.axvline(x = 243/2, color = 'b', label = 'axvline - full height')\n",
        "plt.xlabel('Average Rank')\n",
        "plt.title('Average Rank by Topic for Analysis 3')\n",
        "plt.gca().invert_yaxis()\n",
        "plt.show()"
      ]
    },
    {
      "cell_type": "markdown",
      "source": [
        "#Semi-Structured Task"
      ],
      "metadata": {
        "id": "34bSJFGGZ6Fj"
      }
    },
    {
      "cell_type": "code",
      "source": [
        "from google.colab import drive\n",
        "drive.mount('/content/drive')\n",
        "import os\n",
        "os.chdir('/content/drive/My Drive/project_lcc')\n",
        "os.listdir('.')"
      ],
      "metadata": {
        "colab": {
          "base_uri": "https://localhost:8080/"
        },
        "id": "8EBcnZxVE0EQ",
        "outputId": "38671656-72dd-4b26-b704-35370be5dfb6"
      },
      "execution_count": null,
      "outputs": [
        {
          "output_type": "stream",
          "name": "stdout",
          "text": [
            "Drive already mounted at /content/drive; to attempt to forcibly remount, call drive.mount(\"/content/drive\", force_remount=True).\n"
          ]
        },
        {
          "output_type": "execute_result",
          "data": {
            "text/plain": [
              "['glove.42B.300d.txt',\n",
              " 'vectors_384sentences.GV42B300.average.txt',\n",
              " 'vectors_243sentences.GV42B300.average.txt',\n",
              " 'stimuli_384sentences.txt',\n",
              " 'stimuli_243sentences.txt',\n",
              " 'EXP3.pkl',\n",
              " 'neuralData_for_EXP1.csv',\n",
              " 'EXP2.pkl',\n",
              " 'stimuli_180concepts.txt',\n",
              " 'learn_decoder.py',\n",
              " 'vectors_180concepts.GV42B300.txt',\n",
              " 'imaging_data.csv',\n",
              " '__pycache__',\n",
              " 'colab_pdf.py']"
            ]
          },
          "metadata": {},
          "execution_count": 34
        }
      ]
    },
    {
      "cell_type": "code",
      "source": [
        "import numpy as np\n",
        "import pandas as pd\n",
        "from transformers import BertModel, BertTokenizer\n",
        "\n",
        "# Load and prepare data from Experiment 2 and 3\n",
        "import pickle\n",
        "\n",
        "with open('EXP2.pkl', 'rb') as f:\n",
        "    exp2_data = pickle.load(f)\n",
        "    print(exp2_data.keys())\n",
        "\n",
        "FMRI_EXP2 = exp2_data[\"Fmridata\"]\n",
        "concept_keys_EXP2 = list(map(lambda x: int(exp2_data['labelsPassageCategory'][int(x)-1]), exp2_data[\"labelsPassageForEachSentence\"]))\n",
        "concepts_EXP2 = list(map(lambda x: str(exp2_data['keyPassageCategory'][0][x-1][0]), concept_keys_EXP2))\n",
        "\n",
        "\n",
        "with open('EXP3.pkl', 'rb') as f:\n",
        "    exp3_data = pickle.load(f)\n",
        "    print(exp3_data.keys())\n",
        "\n",
        "FMRI_EXP3 = exp3_data[\"Fmridata\"]\n",
        "concept_keys_EXP3 = list(map(lambda x: int(exp3_data['labelsPassageCategory'][int(x)-1]), list(exp3_data[\"labelsPassageForEachSentence\"])))\n",
        "concepts_EXP3 = list(map(lambda x: str(exp3_data['keyPassageCategory'][0][x-1][0]), concept_keys_EXP3))\n",
        "\n",
        "# Combine FMRI data and concepts\n",
        "FMRI_combined = np.vstack((FMRI_EXP2, FMRI_EXP3))\n",
        "concepts_combined = concepts_EXP2 + concepts_EXP3\n",
        "\n",
        "print(len(FMRI_combined))\n",
        "print(FMRI_combined.shape)\n",
        "print(len(concepts_combined))\n",
        "print(len(concepts_combined[626]))\n",
        "print(concepts_combined[626])\n",
        "\n",
        "# Load and process stimuli sentences for Experiment 2\n",
        "sentences_file_path = 'stimuli_384sentences.txt'\n",
        "with open(sentences_file_path, \"r\") as f:\n",
        "    sentences = f.readlines()\n",
        "\n",
        "# Initialize BERT model and tokenizer\n",
        "tokenizer = BertTokenizer.from_pretrained('bert-base-uncased')\n",
        "bert_model = BertModel.from_pretrained('bert-base-uncased')\n",
        "\n",
        "# Embed the raw text sentences using BERT\n",
        "def get_bert_embeddings(sentences, model, tokenizer):\n",
        "    embeddings = []\n",
        "    for sentence in sentences:\n",
        "        inputs = tokenizer(sentence, return_tensors='pt')\n",
        "        outputs = model(**inputs)\n",
        "        embeddings.append(outputs.last_hidden_state.mean(dim=1).detach().numpy())\n",
        "    return np.array(embeddings)\n",
        "\n",
        "# Get embeddings for the sentences\n",
        "sentences_vectors_BERT = get_bert_embeddings(sentences, bert_model, tokenizer)\n",
        "\n",
        "# Load p-values for significant voxels\n",
        "# df = pd.read_csv(\"regressed_BERT.csv\")\n",
        "# pvals_BERT = df['p_value']\n",
        "\n",
        "# def extract_sig_voxel_inds(Pval_list, sig_threshold=0.05):\n",
        "#     sig_voxels = set()\n",
        "#     for voxel in range(len(Pval_list)):\n",
        "#         if Pval_list[voxel] < sig_threshold:\n",
        "#             sig_voxels.add(voxel)\n",
        "#     return sig_voxels\n",
        "\n",
        "# BERT_sig_voxels = extract_sig_voxel_inds(pvals_BERT)\n",
        "\n",
        "# os.chdir('/content')\n",
        "# # Confirm the change\n",
        "# print(\"Returned to the default working directory:\", os.getcwd())\n",
        "from learn_decoder import *\n",
        "\n",
        "\n",
        "# Decoding and evaluation\n",
        "def cosine_similarity(x, y):\n",
        "    dot_prod = np.dot(x, y)\n",
        "    norm_prod = np.linalg.norm(x) * np.linalg.norm(y)\n",
        "    return dot_prod / norm_prod\n",
        "\n",
        "def create_average_rank(data, vectors, k_folds, num_concepts, concepts_list_ordinal):\n",
        "    folds_avg_ranks = []\n",
        "    concept_rank = []\n",
        "    indices = list(range(num_concepts))\n",
        "    size_of_fold = num_concepts // k_folds\n",
        "    print(size_of_fold, num_concepts)\n",
        "\n",
        "    for fold_i in range(k_folds):\n",
        "        print('Calculating fold ' + str(fold_i + 1))\n",
        "        test_inds = indices[fold_i * size_of_fold:(fold_i + 1) * size_of_fold]\n",
        "        train_inds = indices[0:fold_i * size_of_fold] + indices[(fold_i + 1) * size_of_fold:]\n",
        "\n",
        "        data_test_vectors = np.take(data, test_inds, 0)\n",
        "        data_train_vectors = np.take(data, train_inds, 0)\n",
        "\n",
        "        semantic_test_vectors = np.take(vectors, test_inds, 0)\n",
        "        semantic_train_vectors = np.take(vectors, train_inds, 0)\n",
        "\n",
        "        model = learn_decoder(data_train_vectors, semantic_train_vectors)\n",
        "\n",
        "        sum_ranks = 0\n",
        "        for i in range(len(test_inds)):\n",
        "            our_pred = np.dot(data_test_vectors[i], model)\n",
        "            true_concept = semantic_test_vectors[i]\n",
        "\n",
        "            ranked = sorted(vectors, key=lambda sem_vec: cosine_similarity(sem_vec, our_pred), reverse=True)\n",
        "            sum_ranks += np.argwhere(ranked == true_concept)[0][0] + 1\n",
        "            concept_rank.append(np.argwhere(ranked == true_concept)[0][0] + 1)\n",
        "        folds_avg_ranks.append(sum_ranks / size_of_fold)\n",
        "\n",
        "    print(concept_rank)\n",
        "    print(len(concept_rank))\n",
        "    return folds_avg_ranks, concept_rank\n",
        "\n",
        "# Run decoding analysis\n",
        "# # Example assuming FMRI_EXP2 is the 3D array with shape (samples, time_steps, features)\n",
        "FMRI_EXP2_reshaped = FMRI_EXP2.reshape(FMRI_EXP2.shape[0], -1)\n",
        "\n",
        "# Similarly reshape the BERT embeddings if they are 3D\n",
        "sentences_vectors_BERT_reshaped = sentences_vectors_BERT.reshape(sentences_vectors_BERT.shape[0], -1)\n",
        "\n",
        "# Run decoding analysis with reshaped data\n",
        "average_ranks, concept_ranks = create_average_rank(FMRI_EXP2_reshaped, sentences_vectors_BERT_reshaped, 16, len(FMRI_EXP2_reshaped), concepts_EXP2)"
      ],
      "metadata": {
        "id": "8Xo59G2GZ-ax",
        "colab": {
          "base_uri": "https://localhost:8080/",
          "height": 822,
          "referenced_widgets": [
            "5c677e8e8aeb42afb5be584a7181a8a8",
            "74b5de7803e14ba09c61f90fc0caf966",
            "f4f04b8686ee42babb6faa0788d247c0",
            "23b773ce3b8a47dca9b47ca9064949cb",
            "39c6d736fe6a4cd3abdf4e9f45073bae",
            "d4b03dbe81f74f2a9802b3583d9b65f0",
            "fb866f1ea0c54b9dafd0118e79263c80",
            "9d66e28d8d2949b293d2ed370d532e54",
            "be5ecd87510e4ac883e3a88e2175673e",
            "fbc5a6b4387f4959ba8f6e0953214ecd",
            "f205fefdcf8845f9b1954c6912709002",
            "972239a998c0416cb42316b6a0756769",
            "665c5f17acf74a1eb0a3004a1d9c879f",
            "c37f877bed164725b66af366207ca9cb",
            "ae70f2d169174c07aeab6642328e7f06",
            "88c95bf3a0eb4b75b99dfd246d8d741d",
            "ef4f269ff5344702b6168433442fdff2",
            "78af7ce42d844cf896fa58648cc31d47",
            "b98ff2c7e2db4f7682fd3219af188998",
            "b9556d9518ae41ca8f1547f01c6e7e5b",
            "2636d914c72b4ce38ff015f285371208",
            "fc35d80cab7843f184af9618d330e471",
            "ebe3f99712494fdaad38d345404d0fc2",
            "395480c8150b41f3b18a6e7810b460b7",
            "99bcaf9eeae74623b9fcf67d286de7f4",
            "755bf05c67e348e69d0e2169c17aa93e",
            "c5ac011f5ce84a5489a1ca16a5075597",
            "1190a3999f614fe996c7610e5e642a0e",
            "d2a8260f2897446ebd8317efe9c0577f",
            "0686d8df70a9476198d60fd6a77a1373",
            "ad2d96d8a2454192b3dabb3e165a935c",
            "b9627c1de8594806974de2a0b2e5b41b",
            "5175f0075c3c415e85c5e0b84f826931",
            "fbb1fe223c504c5e8ab3e2f82743ceeb",
            "64affe88224143d59b1cb5d4b3cc2221",
            "ed10213a2ca943708e636bc7fc1f3f9e",
            "0c8c1fd3960646a081b35fc5fc0eadfa",
            "a88a1ea4b8f04c208482e7d77753f4b2",
            "6bdf6e56b4164a15a3312db658e98a18",
            "b3da0839deb5492c9551a024f4085a1f",
            "048c18f5a6bb4825bffff056a10dafcb",
            "f1a16660be224b468e2866ed19939cb4",
            "5b1ca5839b454a9e9bd253c7863a9ad8",
            "a3a2b1bee26341148339820612769d39",
            "a09fa10f1d8947e7a28f08be6ae371a8",
            "87cf4b7056114c6ca8317fcf202473a5",
            "a79ac3c8cfe04d88b049ca017e175c79",
            "4ceb2b4ab49449d581d1a1fcd393d35f",
            "486c37aa71434720b0f528149fe1e658",
            "6ea2254a4d2f4832a4f69659e49518ab",
            "d68bdbff40a34678835b773b000f8648",
            "e68c49c6585c4a04afee00c128275d44",
            "739c1ddf1d4f4fefadd95c4b895f9a19",
            "bc0ec10f70cd47dd918a2f79de002d8c",
            "bb1cab4df0c64c9e99e0b78a48450836"
          ]
        },
        "outputId": "5435aca5-1938-4049-9063-bf1632d96a19"
      },
      "execution_count": null,
      "outputs": [
        {
          "output_type": "stream",
          "name": "stdout",
          "text": [
            "dict_keys(['__header__', '__version__', '__globals__', 'keyPassageCategory', 'keyPassages', 'keySentences', 'labelsPassageCategory', 'labelsPassageForEachSentence', 'labelsSentences', 'meta', 'Fmridata'])\n"
          ]
        },
        {
          "output_type": "stream",
          "name": "stderr",
          "text": [
            "<ipython-input-35-6a6be8fe1c17>:13: DeprecationWarning: Conversion of an array with ndim > 0 to a scalar is deprecated, and will error in future. Ensure you extract a single element from your array before performing this operation. (Deprecated NumPy 1.25.)\n",
            "  concept_keys_EXP2 = list(map(lambda x: int(exp2_data['labelsPassageCategory'][int(x)-1]), exp2_data[\"labelsPassageForEachSentence\"]))\n"
          ]
        },
        {
          "output_type": "stream",
          "name": "stdout",
          "text": [
            "dict_keys(['__header__', '__version__', '__globals__', 'keyPassageCategory', 'keyPassages', 'keySentences', 'labelsPassageCategory', 'labelsPassageForEachSentence', 'labelsSentences', 'meta', 'Fmridata'])\n"
          ]
        },
        {
          "output_type": "stream",
          "name": "stderr",
          "text": [
            "<ipython-input-35-6a6be8fe1c17>:22: DeprecationWarning: Conversion of an array with ndim > 0 to a scalar is deprecated, and will error in future. Ensure you extract a single element from your array before performing this operation. (Deprecated NumPy 1.25.)\n",
            "  concept_keys_EXP3 = list(map(lambda x: int(exp3_data['labelsPassageCategory'][int(x)-1]), list(exp3_data[\"labelsPassageForEachSentence\"])))\n"
          ]
        },
        {
          "output_type": "stream",
          "name": "stdout",
          "text": [
            "627\n",
            "(627, 185866)\n",
            "627\n",
            "6\n",
            "skiing\n"
          ]
        },
        {
          "output_type": "stream",
          "name": "stderr",
          "text": [
            "/usr/local/lib/python3.10/dist-packages/huggingface_hub/utils/_token.py:89: UserWarning: \n",
            "The secret `HF_TOKEN` does not exist in your Colab secrets.\n",
            "To authenticate with the Hugging Face Hub, create a token in your settings tab (https://huggingface.co/settings/tokens), set it as secret in your Google Colab and restart your session.\n",
            "You will be able to reuse this secret in all of your notebooks.\n",
            "Please note that authentication is recommended but still optional to access public models or datasets.\n",
            "  warnings.warn(\n"
          ]
        },
        {
          "output_type": "display_data",
          "data": {
            "text/plain": [
              "tokenizer_config.json:   0%|          | 0.00/48.0 [00:00<?, ?B/s]"
            ],
            "application/vnd.jupyter.widget-view+json": {
              "version_major": 2,
              "version_minor": 0,
              "model_id": "5c677e8e8aeb42afb5be584a7181a8a8"
            }
          },
          "metadata": {}
        },
        {
          "output_type": "display_data",
          "data": {
            "text/plain": [
              "vocab.txt:   0%|          | 0.00/232k [00:00<?, ?B/s]"
            ],
            "application/vnd.jupyter.widget-view+json": {
              "version_major": 2,
              "version_minor": 0,
              "model_id": "972239a998c0416cb42316b6a0756769"
            }
          },
          "metadata": {}
        },
        {
          "output_type": "display_data",
          "data": {
            "text/plain": [
              "tokenizer.json:   0%|          | 0.00/466k [00:00<?, ?B/s]"
            ],
            "application/vnd.jupyter.widget-view+json": {
              "version_major": 2,
              "version_minor": 0,
              "model_id": "ebe3f99712494fdaad38d345404d0fc2"
            }
          },
          "metadata": {}
        },
        {
          "output_type": "display_data",
          "data": {
            "text/plain": [
              "config.json:   0%|          | 0.00/570 [00:00<?, ?B/s]"
            ],
            "application/vnd.jupyter.widget-view+json": {
              "version_major": 2,
              "version_minor": 0,
              "model_id": "fbb1fe223c504c5e8ab3e2f82743ceeb"
            }
          },
          "metadata": {}
        },
        {
          "output_type": "display_data",
          "data": {
            "text/plain": [
              "model.safetensors:   0%|          | 0.00/440M [00:00<?, ?B/s]"
            ],
            "application/vnd.jupyter.widget-view+json": {
              "version_major": 2,
              "version_minor": 0,
              "model_id": "a09fa10f1d8947e7a28f08be6ae371a8"
            }
          },
          "metadata": {}
        },
        {
          "output_type": "stream",
          "name": "stdout",
          "text": [
            "24 384\n",
            "Calculating fold 1\n",
            "Calculating fold 2\n",
            "Calculating fold 3\n",
            "Calculating fold 4\n",
            "Calculating fold 5\n",
            "Calculating fold 6\n",
            "Calculating fold 7\n",
            "Calculating fold 8\n",
            "Calculating fold 9\n",
            "Calculating fold 10\n",
            "Calculating fold 11\n",
            "Calculating fold 12\n",
            "Calculating fold 13\n",
            "Calculating fold 14\n",
            "Calculating fold 15\n",
            "Calculating fold 16\n",
            "[44, 186, 52, 329, 21, 44, 290, 199, 1, 11, 17, 11, 169, 153, 79, 90, 54, 127, 203, 125, 11, 55, 256, 19, 98, 68, 4, 1, 7, 32, 54, 63, 80, 114, 235, 19, 26, 44, 298, 319, 15, 24, 180, 16, 14, 23, 27, 67, 6, 51, 309, 25, 372, 371, 49, 76, 83, 59, 119, 16, 20, 52, 37, 21, 68, 212, 44, 9, 15, 105, 110, 119, 141, 227, 379, 206, 189, 131, 66, 93, 96, 41, 283, 343, 48, 25, 64, 200, 24, 1, 47, 73, 55, 274, 16, 145, 16, 81, 5, 79, 332, 5, 66, 186, 260, 22, 28, 249, 246, 133, 240, 333, 9, 306, 248, 59, 26, 40, 26, 45, 343, 81, 371, 135, 3, 89, 99, 19, 194, 38, 207, 21, 62, 2, 58, 19, 173, 144, 11, 4, 66, 35, 67, 209, 34, 226, 154, 324, 2, 33, 2, 148, 28, 130, 174, 210, 26, 9, 162, 27, 110, 18, 32, 265, 20, 59, 65, 57, 89, 177, 278, 216, 11, 120, 24, 53, 88, 300, 240, 207, 1, 58, 54, 10, 44, 43, 58, 172, 21, 133, 165, 168, 212, 108, 47, 4, 322, 5, 31, 5, 18, 34, 132, 312, 91, 326, 217, 350, 18, 12, 98, 32, 123, 50, 8, 5, 16, 12, 92, 237, 76, 37, 292, 42, 158, 61, 23, 12, 12, 5, 112, 58, 187, 24, 7, 179, 360, 141, 146, 155, 59, 359, 36, 370, 208, 134, 133, 59, 54, 31, 332, 279, 105, 35, 81, 227, 258, 295, 10, 16, 59, 230, 43, 58, 19, 96, 2, 20, 27, 56, 95, 220, 203, 129, 33, 54, 5, 99, 62, 39, 185, 221, 234, 371, 36, 52, 2, 15, 96, 70, 45, 31, 8, 297, 312, 18, 3, 87, 150, 124, 123, 33, 63, 270, 146, 196, 40, 197, 57, 278, 18, 85, 70, 7, 28, 88, 25, 52, 30, 10, 116, 39, 199, 200, 5, 101, 87, 120, 21, 38, 269, 195, 218, 48, 37, 241, 116, 81, 151, 72, 364, 27, 32, 67, 198, 364, 92, 46, 112, 349, 303, 336, 349, 132, 260, 304, 98, 359, 311, 90, 170, 23, 154, 6, 6, 95, 139, 91, 348, 16, 176, 147, 19, 34, 213, 30, 27, 202, 124, 296, 4, 57, 70, 16]\n",
            "384\n"
          ]
        }
      ]
    },
    {
      "cell_type": "code",
      "source": [
        "print(\"the average success, meaning the average rank of the true concept is: \", np.mean(average_ranks))\n",
        "from collections import defaultdict\n",
        "\n",
        "concept_rank_dict = defaultdict(list)\n",
        "\n",
        "for concept, rank in zip(concepts_EXP2, concept_ranks):\n",
        "    concept_rank_dict[concept].append(rank)\n",
        "\n",
        "# Calculate the average rank for each concept\n",
        "concept_avg_ranks = {concept: sum(ranks) / len(ranks) for concept, ranks in concept_rank_dict.items()}\n",
        "\n",
        "sorted_concept_avg_ranks = dict(sorted(concept_avg_ranks.items(), key=lambda item: item[1]))\n",
        "\n",
        "# Extract concepts and average ranks for plotting\n",
        "concepts = list(sorted_concept_avg_ranks.keys())\n",
        "avg_ranks = list(sorted_concept_avg_ranks.values())\n",
        "\n",
        "import matplotlib.pyplot as plt\n",
        "# Plotting the concepts with their average ranks\n",
        "plt.figure(figsize=(10, 8))\n",
        "plt.barh(concepts, avg_ranks, color='skyblue')\n",
        "plt.axvline(x=384/2, color='b', label='Average Rank = 192')\n",
        "plt.xlabel('Average Rank')\n",
        "plt.title('Average Rank by Concept for Analysis 2 using BERT')\n",
        "plt.gca().invert_yaxis()\n",
        "plt.show()"
      ],
      "metadata": {
        "colab": {
          "base_uri": "https://localhost:8080/",
          "height": 735
        },
        "id": "TOklYgfkW91t",
        "outputId": "b1b94456-f5e1-42f8-daa9-c6f6ad1e9f72"
      },
      "execution_count": null,
      "outputs": [
        {
          "output_type": "stream",
          "name": "stdout",
          "text": [
            "the average success, meaning the average rank of the true concept is:  112.60677083333333\n"
          ]
        },
        {
          "output_type": "display_data",
          "data": {
            "text/plain": [
              "<Figure size 1000x800 with 1 Axes>"
            ],
            "image/png": "[encoded data removed]"
          },
          "metadata": {}
        }
      ]
    },
    {
      "cell_type": "markdown",
      "source": [
        "## glove"
      ],
      "metadata": {
        "id": "-UboN_7fxap7"
      }
    },
    {
      "cell_type": "code",
      "source": [
        "average_ranks, concept_ranks = create_average_rank(FMRI_EXP2_reshaped, vectors_384, 16, len(FMRI_EXP2_reshaped), concepts_EXP2)"
      ],
      "metadata": {
        "id": "rk8YscRru2NV",
        "colab": {
          "base_uri": "https://localhost:8080/"
        },
        "outputId": "7d633b7d-e536-4605-9593-d88f7b0bf447"
      },
      "execution_count": null,
      "outputs": [
        {
          "output_type": "stream",
          "name": "stdout",
          "text": [
            "24 384\n",
            "Calculating fold 1\n",
            "Calculating fold 2\n",
            "Calculating fold 3\n",
            "Calculating fold 4\n",
            "Calculating fold 5\n",
            "Calculating fold 6\n",
            "Calculating fold 7\n",
            "Calculating fold 8\n",
            "Calculating fold 9\n",
            "Calculating fold 10\n",
            "Calculating fold 11\n",
            "Calculating fold 12\n",
            "Calculating fold 13\n",
            "Calculating fold 14\n",
            "Calculating fold 15\n",
            "Calculating fold 16\n",
            "[354, 131, 196, 343, 51, 110, 63, 101, 5, 6, 44, 182, 334, 224, 18, 145, 354, 265, 103, 65, 23, 37, 143, 294, 73, 31, 198, 100, 33, 75, 304, 87, 15, 154, 150, 72, 323, 188, 131, 186, 265, 118, 336, 93, 67, 149, 47, 55, 71, 24, 49, 25, 310, 71, 180, 209, 149, 150, 381, 69, 212, 88, 349, 276, 75, 155, 42, 241, 51, 78, 76, 46, 382, 122, 190, 312, 133, 97, 196, 98, 75, 17, 40, 194, 45, 176, 178, 117, 18, 2, 156, 204, 286, 178, 114, 82, 164, 90, 162, 130, 259, 19, 18, 106, 189, 59, 27, 13, 126, 188, 82, 100, 102, 289, 308, 216, 22, 4, 108, 6, 238, 19, 193, 9, 36, 24, 227, 109, 117, 31, 264, 21, 345, 35, 279, 30, 55, 217, 17, 91, 38, 17, 5, 93, 34, 159, 73, 377, 40, 105, 2, 56, 238, 179, 26, 317, 11, 106, 14, 145, 39, 150, 207, 100, 61, 23, 35, 45, 194, 89, 357, 116, 140, 43, 20, 203, 169, 377, 118, 63, 5, 9, 13, 15, 127, 41, 24, 99, 23, 43, 263, 170, 288, 113, 297, 87, 270, 17, 26, 198, 132, 25, 1, 303, 96, 79, 145, 178, 52, 14, 382, 49, 83, 4, 136, 100, 176, 184, 59, 109, 29, 22, 88, 309, 40, 201, 95, 38, 225, 15, 213, 92, 107, 173, 165, 77, 140, 51, 36, 60, 85, 376, 43, 42, 306, 23, 77, 240, 56, 14, 20, 151, 47, 28, 370, 376, 33, 74, 218, 125, 125, 91, 122, 372, 87, 163, 8, 2, 312, 12, 216, 206, 138, 10, 138, 32, 14, 7, 71, 318, 88, 322, 361, 366, 183, 14, 32, 102, 325, 187, 147, 306, 211, 146, 261, 37, 44, 149, 145, 80, 373, 115, 117, 348, 211, 63, 135, 353, 27, 169, 58, 40, 32, 52, 140, 8, 195, 50, 300, 59, 343, 265, 221, 124, 85, 13, 35, 50, 137, 71, 180, 91, 104, 172, 243, 197, 204, 224, 116, 272, 272, 100, 124, 91, 120, 339, 196, 72, 161, 229, 45, 65, 83, 174, 76, 18, 253, 250, 363, 109, 311, 31, 40, 25, 5, 68, 165, 60, 12, 2, 64, 283, 131, 359, 339, 267, 35, 8, 67, 26, 22, 283, 8, 55]\n",
            "384\n"
          ]
        }
      ]
    },
    {
      "cell_type": "code",
      "source": [
        "print(\"the average success, meaning the average rank of the true concept is: \", np.mean(average_ranks))\n",
        "from collections import defaultdict\n",
        "\n",
        "concept_rank_dict = defaultdict(list)\n",
        "\n",
        "for concept, rank in zip(concepts_EXP2, concept_ranks):\n",
        "    concept_rank_dict[concept].append(rank)\n",
        "\n",
        "# Calculate the average rank for each concept\n",
        "concept_avg_ranks = {concept: sum(ranks) / len(ranks) for concept, ranks in concept_rank_dict.items()}\n",
        "\n",
        "sorted_concept_avg_ranks = dict(sorted(concept_avg_ranks.items(), key=lambda item: item[1]))\n",
        "\n",
        "# Extract concepts and average ranks for plotting\n",
        "concepts = list(sorted_concept_avg_ranks.keys())\n",
        "avg_ranks = list(sorted_concept_avg_ranks.values())\n",
        "\n",
        "import matplotlib.pyplot as plt\n",
        "# Plotting the concepts with their average ranks\n",
        "plt.figure(figsize=(10, 8))\n",
        "plt.barh(concepts, avg_ranks, color='skyblue')\n",
        "plt.axvline(x=384/2, color='b', label='Average Rank = 192')\n",
        "plt.xlabel('Average Rank')\n",
        "plt.title('Average Rank by Concept for Analysis 2 using GloVe')\n",
        "plt.gca().invert_yaxis()\n",
        "plt.show()"
      ],
      "metadata": {
        "colab": {
          "base_uri": "https://localhost:8080/",
          "height": 735
        },
        "id": "J1pdnAnvyG2x",
        "outputId": "1f668997-1a61-4991-83e7-3ec375b0834f"
      },
      "execution_count": null,
      "outputs": [
        {
          "output_type": "stream",
          "name": "stdout",
          "text": [
            "the average success, meaning the average rank of the true concept is:  131.3046875\n"
          ]
        },
        {
          "output_type": "display_data",
          "data": {
            "text/plain": [
              "<Figure size 1000x800 with 1 Axes>"
            ],
            "image/png": "[encoded data removed]"
          },
          "metadata": {}
        }
      ]
    },
    {
      "cell_type": "markdown",
      "metadata": {
        "id": "VXelmquWxyCo"
      },
      "source": [
        "# Export to PDF\n",
        "\n",
        "Run the following cell to download the notebook as a nicely formatted pdf file."
      ]
    },
    {
      "cell_type": "code",
      "execution_count": null,
      "metadata": {
        "colab": {
          "base_uri": "https://localhost:8080/",
          "height": 332
        },
        "id": "zZusZnCCubWg",
        "outputId": "e35b282a-94cf-450c-f240-7014ca6ac63c"
      },
      "outputs": [
        {
          "output_type": "stream",
          "name": "stdout",
          "text": [
            "File ‘colab_pdf.py’ already there; not retrieving.\n",
            "\n"
          ]
        },
        {
          "output_type": "error",
          "ename": "ValueError",
          "evalue": "file 'Copy of Pset_3.ipynb' not found in path '/content/drive/MyDrive/Colab Notebooks/'.",
          "traceback": [
            "\u001b[0;31m---------------------------------------------------------------------------\u001b[0m",
            "\u001b[0;31mValueError\u001b[0m                                Traceback (most recent call last)",
            "\u001b[0;32m<ipython-input-39-07d057f071e9>\u001b[0m in \u001b[0;36m<cell line: 12>\u001b[0;34m()\u001b[0m\n\u001b[1;32m     10\u001b[0m \u001b[0;31m# If not, adapt accordingly.\u001b[0m\u001b[0;34m\u001b[0m\u001b[0;34m\u001b[0m\u001b[0m\n\u001b[1;32m     11\u001b[0m \u001b[0;34m\u001b[0m\u001b[0m\n\u001b[0;32m---> 12\u001b[0;31m \u001b[0mcolab_pdf\u001b[0m\u001b[0;34m(\u001b[0m\u001b[0mfile_name\u001b[0m\u001b[0;34m=\u001b[0m\u001b[0;34m'Copy of Pset_3.ipynb'\u001b[0m\u001b[0;34m,\u001b[0m \u001b[0mnotebookpath\u001b[0m\u001b[0;34m=\u001b[0m\u001b[0;34m\"/content/drive/MyDrive/Colab Notebooks/\"\u001b[0m\u001b[0;34m)\u001b[0m\u001b[0;34m\u001b[0m\u001b[0;34m\u001b[0m\u001b[0m\n\u001b[0m",
            "\u001b[0;32m/content/drive/.shortcut-targets-by-id/1yyBWcWRg0PudA3G1nDvRZLHr6-kJA2ik/project_lcc/colab_pdf.py\u001b[0m in \u001b[0;36mcolab_pdf\u001b[0;34m(file_name, notebookpath)\u001b[0m\n\u001b[1;32m     20\u001b[0m     \u001b[0;31m# Check if the notebook exists in the Drive.\u001b[0m\u001b[0;34m\u001b[0m\u001b[0;34m\u001b[0m\u001b[0m\n\u001b[1;32m     21\u001b[0m     \u001b[0;32mif\u001b[0m \u001b[0;32mnot\u001b[0m \u001b[0mos\u001b[0m\u001b[0;34m.\u001b[0m\u001b[0mpath\u001b[0m\u001b[0;34m.\u001b[0m\u001b[0misfile\u001b[0m\u001b[0;34m(\u001b[0m\u001b[0mos\u001b[0m\u001b[0;34m.\u001b[0m\u001b[0mpath\u001b[0m\u001b[0;34m.\u001b[0m\u001b[0mjoin\u001b[0m\u001b[0;34m(\u001b[0m\u001b[0mnotebookpath\u001b[0m\u001b[0;34m,\u001b[0m \u001b[0mfile_name\u001b[0m\u001b[0;34m)\u001b[0m\u001b[0;34m)\u001b[0m\u001b[0;34m:\u001b[0m\u001b[0;34m\u001b[0m\u001b[0;34m\u001b[0m\u001b[0m\n\u001b[0;32m---> 22\u001b[0;31m         \u001b[0;32mraise\u001b[0m \u001b[0mValueError\u001b[0m\u001b[0;34m(\u001b[0m\u001b[0;34mf\"file '{file_name}' not found in path '{notebookpath}'.\"\u001b[0m\u001b[0;34m)\u001b[0m\u001b[0;34m\u001b[0m\u001b[0;34m\u001b[0m\u001b[0m\n\u001b[0m\u001b[1;32m     23\u001b[0m \u001b[0;34m\u001b[0m\u001b[0m\n\u001b[1;32m     24\u001b[0m     \u001b[0;31m# Installing all the recommended packages.\u001b[0m\u001b[0;34m\u001b[0m\u001b[0;34m\u001b[0m\u001b[0m\n",
            "\u001b[0;31mValueError\u001b[0m: file 'Copy of Pset_3.ipynb' not found in path '/content/drive/MyDrive/Colab Notebooks/'."
          ]
        }
      ],
      "source": [
        "# Add to a new cell at the end of the notebook and run the follow code,\n",
        "# which will save the notebook as pdf in your google drive (allow the permissions) and download it automatically.\n",
        "\n",
        "!wget -nc https://raw.githubusercontent.com/lacclab/colab-pdf/master/colab_pdf.py\n",
        "\n",
        "from colab_pdf import colab_pdf\n",
        "\n",
        "# If you saved the notebook in the default location in your Google Drive,\n",
        "# and didn't change the name of the file, the code should work as is.\n",
        "# If not, adapt accordingly.\n",
        "\n",
        "colab_pdf(file_name='Copy of Pset_3.ipynb', notebookpath=\"/content/drive/MyDrive/Colab Notebooks/\")"
      ]
    },
    {
      "cell_type": "code",
      "source": [],
      "metadata": {
        "id": "FLslWsogPP5V"
      },
      "execution_count": null,
      "outputs": []
    }
  ],
  "metadata": {
    "colab": {
      "provenance": []
    },
    "kernelspec": {
      "display_name": "Python 3",
      "name": "python3"
    },
    "widgets": {
      "application/vnd.jupyter.widget-state+json": {
        "5c677e8e8aeb42afb5be584a7181a8a8": {
          "model_module": "@jupyter-widgets/controls",
          "model_name": "HBoxModel",
          "model_module_version": "1.5.0",
          "state": {
            "_dom_classes": [],
            "_model_module": "@jupyter-widgets/controls",
            "_model_module_version": "1.5.0",
            "_model_name": "HBoxModel",
            "_view_count": null,
            "_view_module": "@jupyter-widgets/controls",
            "_view_module_version": "1.5.0",
            "_view_name": "HBoxView",
            "box_style": "",
            "children": [
              "IPY_MODEL_74b5de7803e14ba09c61f90fc0caf966",
              "IPY_MODEL_f4f04b8686ee42babb6faa0788d247c0",
              "IPY_MODEL_23b773ce3b8a47dca9b47ca9064949cb"
            ],
            "layout": "IPY_MODEL_39c6d736fe6a4cd3abdf4e9f45073bae"
          }
        },
        "74b5de7803e14ba09c61f90fc0caf966": {
          "model_module": "@jupyter-widgets/controls",
          "model_name": "HTMLModel",
          "model_module_version": "1.5.0",
          "state": {
            "_dom_classes": [],
            "_model_module": "@jupyter-widgets/controls",
            "_model_module_version": "1.5.0",
            "_model_name": "HTMLModel",
            "_view_count": null,
            "_view_module": "@jupyter-widgets/controls",
            "_view_module_version": "1.5.0",
            "_view_name": "HTMLView",
            "description": "",
            "description_tooltip": null,
            "layout": "IPY_MODEL_d4b03dbe81f74f2a9802b3583d9b65f0",
            "placeholder": "​",
            "style": "IPY_MODEL_fb866f1ea0c54b9dafd0118e79263c80",
            "value": "tokenizer_config.json: 100%"
          }
        },
        "f4f04b8686ee42babb6faa0788d247c0": {
          "model_module": "@jupyter-widgets/controls",
          "model_name": "FloatProgressModel",
          "model_module_version": "1.5.0",
          "state": {
            "_dom_classes": [],
            "_model_module": "@jupyter-widgets/controls",
            "_model_module_version": "1.5.0",
            "_model_name": "FloatProgressModel",
            "_view_count": null,
            "_view_module": "@jupyter-widgets/controls",
            "_view_module_version": "1.5.0",
            "_view_name": "ProgressView",
            "bar_style": "success",
            "description": "",
            "description_tooltip": null,
            "layout": "IPY_MODEL_9d66e28d8d2949b293d2ed370d532e54",
            "max": 48,
            "min": 0,
            "orientation": "horizontal",
            "style": "IPY_MODEL_be5ecd87510e4ac883e3a88e2175673e",
            "value": 48
          }
        },
        "23b773ce3b8a47dca9b47ca9064949cb": {
          "model_module": "@jupyter-widgets/controls",
          "model_name": "HTMLModel",
          "model_module_version": "1.5.0",
          "state": {
            "_dom_classes": [],
            "_model_module": "@jupyter-widgets/controls",
            "_model_module_version": "1.5.0",
            "_model_name": "HTMLModel",
            "_view_count": null,
            "_view_module": "@jupyter-widgets/controls",
            "_view_module_version": "1.5.0",
            "_view_name": "HTMLView",
            "description": "",
            "description_tooltip": null,
            "layout": "IPY_MODEL_fbc5a6b4387f4959ba8f6e0953214ecd",
            "placeholder": "​",
            "style": "IPY_MODEL_f205fefdcf8845f9b1954c6912709002",
            "value": " 48.0/48.0 [00:00&lt;00:00, 2.75kB/s]"
          }
        },
        "39c6d736fe6a4cd3abdf4e9f45073bae": {
          "model_module": "@jupyter-widgets/base",
          "model_name": "LayoutModel",
          "model_module_version": "1.2.0",
          "state": {
            "_model_module": "@jupyter-widgets/base",
            "_model_module_version": "1.2.0",
            "_model_name": "LayoutModel",
            "_view_count": null,
            "_view_module": "@jupyter-widgets/base",
            "_view_module_version": "1.2.0",
            "_view_name": "LayoutView",
            "align_content": null,
            "align_items": null,
            "align_self": null,
            "border": null,
            "bottom": null,
            "display": null,
            "flex": null,
            "flex_flow": null,
            "grid_area": null,
            "grid_auto_columns": null,
            "grid_auto_flow": null,
            "grid_auto_rows": null,
            "grid_column": null,
            "grid_gap": null,
            "grid_row": null,
            "grid_template_areas": null,
            "grid_template_columns": null,
            "grid_template_rows": null,
            "height": null,
            "justify_content": null,
            "justify_items": null,
            "left": null,
            "margin": null,
            "max_height": null,
            "max_width": null,
            "min_height": null,
            "min_width": null,
            "object_fit": null,
            "object_position": null,
            "order": null,
            "overflow": null,
            "overflow_x": null,
            "overflow_y": null,
            "padding": null,
            "right": null,
            "top": null,
            "visibility": null,
            "width": null
          }
        },
        "d4b03dbe81f74f2a9802b3583d9b65f0": {
          "model_module": "@jupyter-widgets/base",
          "model_name": "LayoutModel",
          "model_module_version": "1.2.0",
          "state": {
            "_model_module": "@jupyter-widgets/base",
            "_model_module_version": "1.2.0",
            "_model_name": "LayoutModel",
            "_view_count": null,
            "_view_module": "@jupyter-widgets/base",
            "_view_module_version": "1.2.0",
            "_view_name": "LayoutView",
            "align_content": null,
            "align_items": null,
            "align_self": null,
            "border": null,
            "bottom": null,
            "display": null,
            "flex": null,
            "flex_flow": null,
            "grid_area": null,
            "grid_auto_columns": null,
            "grid_auto_flow": null,
            "grid_auto_rows": null,
            "grid_column": null,
            "grid_gap": null,
            "grid_row": null,
            "grid_template_areas": null,
            "grid_template_columns": null,
            "grid_template_rows": null,
            "height": null,
            "justify_content": null,
            "justify_items": null,
            "left": null,
            "margin": null,
            "max_height": null,
            "max_width": null,
            "min_height": null,
            "min_width": null,
            "object_fit": null,
            "object_position": null,
            "order": null,
            "overflow": null,
            "overflow_x": null,
            "overflow_y": null,
            "padding": null,
            "right": null,
            "top": null,
            "visibility": null,
            "width": null
          }
        },
        "fb866f1ea0c54b9dafd0118e79263c80": {
          "model_module": "@jupyter-widgets/controls",
          "model_name": "DescriptionStyleModel",
          "model_module_version": "1.5.0",
          "state": {
            "_model_module": "@jupyter-widgets/controls",
            "_model_module_version": "1.5.0",
            "_model_name": "DescriptionStyleModel",
            "_view_count": null,
            "_view_module": "@jupyter-widgets/base",
            "_view_module_version": "1.2.0",
            "_view_name": "StyleView",
            "description_width": ""
          }
        },
        "9d66e28d8d2949b293d2ed370d532e54": {
          "model_module": "@jupyter-widgets/base",
          "model_name": "LayoutModel",
          "model_module_version": "1.2.0",
          "state": {
            "_model_module": "@jupyter-widgets/base",
            "_model_module_version": "1.2.0",
            "_model_name": "LayoutModel",
            "_view_count": null,
            "_view_module": "@jupyter-widgets/base",
            "_view_module_version": "1.2.0",
            "_view_name": "LayoutView",
            "align_content": null,
            "align_items": null,
            "align_self": null,
            "border": null,
            "bottom": null,
            "display": null,
            "flex": null,
            "flex_flow": null,
            "grid_area": null,
            "grid_auto_columns": null,
            "grid_auto_flow": null,
            "grid_auto_rows": null,
            "grid_column": null,
            "grid_gap": null,
            "grid_row": null,
            "grid_template_areas": null,
            "grid_template_columns": null,
            "grid_template_rows": null,
            "height": null,
            "justify_content": null,
            "justify_items": null,
            "left": null,
            "margin": null,
            "max_height": null,
            "max_width": null,
            "min_height": null,
            "min_width": null,
            "object_fit": null,
            "object_position": null,
            "order": null,
            "overflow": null,
            "overflow_x": null,
            "overflow_y": null,
            "padding": null,
            "right": null,
            "top": null,
            "visibility": null,
            "width": null
          }
        },
        "be5ecd87510e4ac883e3a88e2175673e": {
          "model_module": "@jupyter-widgets/controls",
          "model_name": "ProgressStyleModel",
          "model_module_version": "1.5.0",
          "state": {
            "_model_module": "@jupyter-widgets/controls",
            "_model_module_version": "1.5.0",
            "_model_name": "ProgressStyleModel",
            "_view_count": null,
            "_view_module": "@jupyter-widgets/base",
            "_view_module_version": "1.2.0",
            "_view_name": "StyleView",
            "bar_color": null,
            "description_width": ""
          }
        },
        "fbc5a6b4387f4959ba8f6e0953214ecd": {
          "model_module": "@jupyter-widgets/base",
          "model_name": "LayoutModel",
          "model_module_version": "1.2.0",
          "state": {
            "_model_module": "@jupyter-widgets/base",
            "_model_module_version": "1.2.0",
            "_model_name": "LayoutModel",
            "_view_count": null,
            "_view_module": "@jupyter-widgets/base",
            "_view_module_version": "1.2.0",
            "_view_name": "LayoutView",
            "align_content": null,
            "align_items": null,
            "align_self": null,
            "border": null,
            "bottom": null,
            "display": null,
            "flex": null,
            "flex_flow": null,
            "grid_area": null,
            "grid_auto_columns": null,
            "grid_auto_flow": null,
            "grid_auto_rows": null,
            "grid_column": null,
            "grid_gap": null,
            "grid_row": null,
            "grid_template_areas": null,
            "grid_template_columns": null,
            "grid_template_rows": null,
            "height": null,
            "justify_content": null,
            "justify_items": null,
            "left": null,
            "margin": null,
            "max_height": null,
            "max_width": null,
            "min_height": null,
            "min_width": null,
            "object_fit": null,
            "object_position": null,
            "order": null,
            "overflow": null,
            "overflow_x": null,
            "overflow_y": null,
            "padding": null,
            "right": null,
            "top": null,
            "visibility": null,
            "width": null
          }
        },
        "f205fefdcf8845f9b1954c6912709002": {
          "model_module": "@jupyter-widgets/controls",
          "model_name": "DescriptionStyleModel",
          "model_module_version": "1.5.0",
          "state": {
            "_model_module": "@jupyter-widgets/controls",
            "_model_module_version": "1.5.0",
            "_model_name": "DescriptionStyleModel",
            "_view_count": null,
            "_view_module": "@jupyter-widgets/base",
            "_view_module_version": "1.2.0",
            "_view_name": "StyleView",
            "description_width": ""
          }
        },
        "972239a998c0416cb42316b6a0756769": {
          "model_module": "@jupyter-widgets/controls",
          "model_name": "HBoxModel",
          "model_module_version": "1.5.0",
          "state": {
            "_dom_classes": [],
            "_model_module": "@jupyter-widgets/controls",
            "_model_module_version": "1.5.0",
            "_model_name": "HBoxModel",
            "_view_count": null,
            "_view_module": "@jupyter-widgets/controls",
            "_view_module_version": "1.5.0",
            "_view_name": "HBoxView",
            "box_style": "",
            "children": [
              "IPY_MODEL_665c5f17acf74a1eb0a3004a1d9c879f",
              "IPY_MODEL_c37f877bed164725b66af366207ca9cb",
              "IPY_MODEL_ae70f2d169174c07aeab6642328e7f06"
            ],
            "layout": "IPY_MODEL_88c95bf3a0eb4b75b99dfd246d8d741d"
          }
        },
        "665c5f17acf74a1eb0a3004a1d9c879f": {
          "model_module": "@jupyter-widgets/controls",
          "model_name": "HTMLModel",
          "model_module_version": "1.5.0",
          "state": {
            "_dom_classes": [],
            "_model_module": "@jupyter-widgets/controls",
            "_model_module_version": "1.5.0",
            "_model_name": "HTMLModel",
            "_view_count": null,
            "_view_module": "@jupyter-widgets/controls",
            "_view_module_version": "1.5.0",
            "_view_name": "HTMLView",
            "description": "",
            "description_tooltip": null,
            "layout": "IPY_MODEL_ef4f269ff5344702b6168433442fdff2",
            "placeholder": "​",
            "style": "IPY_MODEL_78af7ce42d844cf896fa58648cc31d47",
            "value": "vocab.txt: 100%"
          }
        },
        "c37f877bed164725b66af366207ca9cb": {
          "model_module": "@jupyter-widgets/controls",
          "model_name": "FloatProgressModel",
          "model_module_version": "1.5.0",
          "state": {
            "_dom_classes": [],
            "_model_module": "@jupyter-widgets/controls",
            "_model_module_version": "1.5.0",
            "_model_name": "FloatProgressModel",
            "_view_count": null,
            "_view_module": "@jupyter-widgets/controls",
            "_view_module_version": "1.5.0",
            "_view_name": "ProgressView",
            "bar_style": "success",
            "description": "",
            "description_tooltip": null,
            "layout": "IPY_MODEL_b98ff2c7e2db4f7682fd3219af188998",
            "max": 231508,
            "min": 0,
            "orientation": "horizontal",
            "style": "IPY_MODEL_b9556d9518ae41ca8f1547f01c6e7e5b",
            "value": 231508
          }
        },
        "ae70f2d169174c07aeab6642328e7f06": {
          "model_module": "@jupyter-widgets/controls",
          "model_name": "HTMLModel",
          "model_module_version": "1.5.0",
          "state": {
            "_dom_classes": [],
            "_model_module": "@jupyter-widgets/controls",
            "_model_module_version": "1.5.0",
            "_model_name": "HTMLModel",
            "_view_count": null,
            "_view_module": "@jupyter-widgets/controls",
            "_view_module_version": "1.5.0",
            "_view_name": "HTMLView",
            "description": "",
            "description_tooltip": null,
            "layout": "IPY_MODEL_2636d914c72b4ce38ff015f285371208",
            "placeholder": "​",
            "style": "IPY_MODEL_fc35d80cab7843f184af9618d330e471",
            "value": " 232k/232k [00:00&lt;00:00, 2.96MB/s]"
          }
        },
        "88c95bf3a0eb4b75b99dfd246d8d741d": {
          "model_module": "@jupyter-widgets/base",
          "model_name": "LayoutModel",
          "model_module_version": "1.2.0",
          "state": {
            "_model_module": "@jupyter-widgets/base",
            "_model_module_version": "1.2.0",
            "_model_name": "LayoutModel",
            "_view_count": null,
            "_view_module": "@jupyter-widgets/base",
            "_view_module_version": "1.2.0",
            "_view_name": "LayoutView",
            "align_content": null,
            "align_items": null,
            "align_self": null,
            "border": null,
            "bottom": null,
            "display": null,
            "flex": null,
            "flex_flow": null,
            "grid_area": null,
            "grid_auto_columns": null,
            "grid_auto_flow": null,
            "grid_auto_rows": null,
            "grid_column": null,
            "grid_gap": null,
            "grid_row": null,
            "grid_template_areas": null,
            "grid_template_columns": null,
            "grid_template_rows": null,
            "height": null,
            "justify_content": null,
            "justify_items": null,
            "left": null,
            "margin": null,
            "max_height": null,
            "max_width": null,
            "min_height": null,
            "min_width": null,
            "object_fit": null,
            "object_position": null,
            "order": null,
            "overflow": null,
            "overflow_x": null,
            "overflow_y": null,
            "padding": null,
            "right": null,
            "top": null,
            "visibility": null,
            "width": null
          }
        },
        "ef4f269ff5344702b6168433442fdff2": {
          "model_module": "@jupyter-widgets/base",
          "model_name": "LayoutModel",
          "model_module_version": "1.2.0",
          "state": {
            "_model_module": "@jupyter-widgets/base",
            "_model_module_version": "1.2.0",
            "_model_name": "LayoutModel",
            "_view_count": null,
            "_view_module": "@jupyter-widgets/base",
            "_view_module_version": "1.2.0",
            "_view_name": "LayoutView",
            "align_content": null,
            "align_items": null,
            "align_self": null,
            "border": null,
            "bottom": null,
            "display": null,
            "flex": null,
            "flex_flow": null,
            "grid_area": null,
            "grid_auto_columns": null,
            "grid_auto_flow": null,
            "grid_auto_rows": null,
            "grid_column": null,
            "grid_gap": null,
            "grid_row": null,
            "grid_template_areas": null,
            "grid_template_columns": null,
            "grid_template_rows": null,
            "height": null,
            "justify_content": null,
            "justify_items": null,
            "left": null,
            "margin": null,
            "max_height": null,
            "max_width": null,
            "min_height": null,
            "min_width": null,
            "object_fit": null,
            "object_position": null,
            "order": null,
            "overflow": null,
            "overflow_x": null,
            "overflow_y": null,
            "padding": null,
            "right": null,
            "top": null,
            "visibility": null,
            "width": null
          }
        },
        "78af7ce42d844cf896fa58648cc31d47": {
          "model_module": "@jupyter-widgets/controls",
          "model_name": "DescriptionStyleModel",
          "model_module_version": "1.5.0",
          "state": {
            "_model_module": "@jupyter-widgets/controls",
            "_model_module_version": "1.5.0",
            "_model_name": "DescriptionStyleModel",
            "_view_count": null,
            "_view_module": "@jupyter-widgets/base",
            "_view_module_version": "1.2.0",
            "_view_name": "StyleView",
            "description_width": ""
          }
        },
        "b98ff2c7e2db4f7682fd3219af188998": {
          "model_module": "@jupyter-widgets/base",
          "model_name": "LayoutModel",
          "model_module_version": "1.2.0",
          "state": {
            "_model_module": "@jupyter-widgets/base",
            "_model_module_version": "1.2.0",
            "_model_name": "LayoutModel",
            "_view_count": null,
            "_view_module": "@jupyter-widgets/base",
            "_view_module_version": "1.2.0",
            "_view_name": "LayoutView",
            "align_content": null,
            "align_items": null,
            "align_self": null,
            "border": null,
            "bottom": null,
            "display": null,
            "flex": null,
            "flex_flow": null,
            "grid_area": null,
            "grid_auto_columns": null,
            "grid_auto_flow": null,
            "grid_auto_rows": null,
            "grid_column": null,
            "grid_gap": null,
            "grid_row": null,
            "grid_template_areas": null,
            "grid_template_columns": null,
            "grid_template_rows": null,
            "height": null,
            "justify_content": null,
            "justify_items": null,
            "left": null,
            "margin": null,
            "max_height": null,
            "max_width": null,
            "min_height": null,
            "min_width": null,
            "object_fit": null,
            "object_position": null,
            "order": null,
            "overflow": null,
            "overflow_x": null,
            "overflow_y": null,
            "padding": null,
            "right": null,
            "top": null,
            "visibility": null,
            "width": null
          }
        },
        "b9556d9518ae41ca8f1547f01c6e7e5b": {
          "model_module": "@jupyter-widgets/controls",
          "model_name": "ProgressStyleModel",
          "model_module_version": "1.5.0",
          "state": {
            "_model_module": "@jupyter-widgets/controls",
            "_model_module_version": "1.5.0",
            "_model_name": "ProgressStyleModel",
            "_view_count": null,
            "_view_module": "@jupyter-widgets/base",
            "_view_module_version": "1.2.0",
            "_view_name": "StyleView",
            "bar_color": null,
            "description_width": ""
          }
        },
        "2636d914c72b4ce38ff015f285371208": {
          "model_module": "@jupyter-widgets/base",
          "model_name": "LayoutModel",
          "model_module_version": "1.2.0",
          "state": {
            "_model_module": "@jupyter-widgets/base",
            "_model_module_version": "1.2.0",
            "_model_name": "LayoutModel",
            "_view_count": null,
            "_view_module": "@jupyter-widgets/base",
            "_view_module_version": "1.2.0",
            "_view_name": "LayoutView",
            "align_content": null,
            "align_items": null,
            "align_self": null,
            "border": null,
            "bottom": null,
            "display": null,
            "flex": null,
            "flex_flow": null,
            "grid_area": null,
            "grid_auto_columns": null,
            "grid_auto_flow": null,
            "grid_auto_rows": null,
            "grid_column": null,
            "grid_gap": null,
            "grid_row": null,
            "grid_template_areas": null,
            "grid_template_columns": null,
            "grid_template_rows": null,
            "height": null,
            "justify_content": null,
            "justify_items": null,
            "left": null,
            "margin": null,
            "max_height": null,
            "max_width": null,
            "min_height": null,
            "min_width": null,
            "object_fit": null,
            "object_position": null,
            "order": null,
            "overflow": null,
            "overflow_x": null,
            "overflow_y": null,
            "padding": null,
            "right": null,
            "top": null,
            "visibility": null,
            "width": null
          }
        },
        "fc35d80cab7843f184af9618d330e471": {
          "model_module": "@jupyter-widgets/controls",
          "model_name": "DescriptionStyleModel",
          "model_module_version": "1.5.0",
          "state": {
            "_model_module": "@jupyter-widgets/controls",
            "_model_module_version": "1.5.0",
            "_model_name": "DescriptionStyleModel",
            "_view_count": null,
            "_view_module": "@jupyter-widgets/base",
            "_view_module_version": "1.2.0",
            "_view_name": "StyleView",
            "description_width": ""
          }
        },
        "ebe3f99712494fdaad38d345404d0fc2": {
          "model_module": "@jupyter-widgets/controls",
          "model_name": "HBoxModel",
          "model_module_version": "1.5.0",
          "state": {
            "_dom_classes": [],
            "_model_module": "@jupyter-widgets/controls",
            "_model_module_version": "1.5.0",
            "_model_name": "HBoxModel",
            "_view_count": null,
            "_view_module": "@jupyter-widgets/controls",
            "_view_module_version": "1.5.0",
            "_view_name": "HBoxView",
            "box_style": "",
            "children": [
              "IPY_MODEL_395480c8150b41f3b18a6e7810b460b7",
              "IPY_MODEL_99bcaf9eeae74623b9fcf67d286de7f4",
              "IPY_MODEL_755bf05c67e348e69d0e2169c17aa93e"
            ],
            "layout": "IPY_MODEL_c5ac011f5ce84a5489a1ca16a5075597"
          }
        },
        "395480c8150b41f3b18a6e7810b460b7": {
          "model_module": "@jupyter-widgets/controls",
          "model_name": "HTMLModel",
          "model_module_version": "1.5.0",
          "state": {
            "_dom_classes": [],
            "_model_module": "@jupyter-widgets/controls",
            "_model_module_version": "1.5.0",
            "_model_name": "HTMLModel",
            "_view_count": null,
            "_view_module": "@jupyter-widgets/controls",
            "_view_module_version": "1.5.0",
            "_view_name": "HTMLView",
            "description": "",
            "description_tooltip": null,
            "layout": "IPY_MODEL_1190a3999f614fe996c7610e5e642a0e",
            "placeholder": "​",
            "style": "IPY_MODEL_d2a8260f2897446ebd8317efe9c0577f",
            "value": "tokenizer.json: 100%"
          }
        },
        "99bcaf9eeae74623b9fcf67d286de7f4": {
          "model_module": "@jupyter-widgets/controls",
          "model_name": "FloatProgressModel",
          "model_module_version": "1.5.0",
          "state": {
            "_dom_classes": [],
            "_model_module": "@jupyter-widgets/controls",
            "_model_module_version": "1.5.0",
            "_model_name": "FloatProgressModel",
            "_view_count": null,
            "_view_module": "@jupyter-widgets/controls",
            "_view_module_version": "1.5.0",
            "_view_name": "ProgressView",
            "bar_style": "success",
            "description": "",
            "description_tooltip": null,
            "layout": "IPY_MODEL_0686d8df70a9476198d60fd6a77a1373",
            "max": 466062,
            "min": 0,
            "orientation": "horizontal",
            "style": "IPY_MODEL_ad2d96d8a2454192b3dabb3e165a935c",
            "value": 466062
          }
        },
        "755bf05c67e348e69d0e2169c17aa93e": {
          "model_module": "@jupyter-widgets/controls",
          "model_name": "HTMLModel",
          "model_module_version": "1.5.0",
          "state": {
            "_dom_classes": [],
            "_model_module": "@jupyter-widgets/controls",
            "_model_module_version": "1.5.0",
            "_model_name": "HTMLModel",
            "_view_count": null,
            "_view_module": "@jupyter-widgets/controls",
            "_view_module_version": "1.5.0",
            "_view_name": "HTMLView",
            "description": "",
            "description_tooltip": null,
            "layout": "IPY_MODEL_b9627c1de8594806974de2a0b2e5b41b",
            "placeholder": "​",
            "style": "IPY_MODEL_5175f0075c3c415e85c5e0b84f826931",
            "value": " 466k/466k [00:00&lt;00:00, 8.37MB/s]"
          }
        },
        "c5ac011f5ce84a5489a1ca16a5075597": {
          "model_module": "@jupyter-widgets/base",
          "model_name": "LayoutModel",
          "model_module_version": "1.2.0",
          "state": {
            "_model_module": "@jupyter-widgets/base",
            "_model_module_version": "1.2.0",
            "_model_name": "LayoutModel",
            "_view_count": null,
            "_view_module": "@jupyter-widgets/base",
            "_view_module_version": "1.2.0",
            "_view_name": "LayoutView",
            "align_content": null,
            "align_items": null,
            "align_self": null,
            "border": null,
            "bottom": null,
            "display": null,
            "flex": null,
            "flex_flow": null,
            "grid_area": null,
            "grid_auto_columns": null,
            "grid_auto_flow": null,
            "grid_auto_rows": null,
            "grid_column": null,
            "grid_gap": null,
            "grid_row": null,
            "grid_template_areas": null,
            "grid_template_columns": null,
            "grid_template_rows": null,
            "height": null,
            "justify_content": null,
            "justify_items": null,
            "left": null,
            "margin": null,
            "max_height": null,
            "max_width": null,
            "min_height": null,
            "min_width": null,
            "object_fit": null,
            "object_position": null,
            "order": null,
            "overflow": null,
            "overflow_x": null,
            "overflow_y": null,
            "padding": null,
            "right": null,
            "top": null,
            "visibility": null,
            "width": null
          }
        },
        "1190a3999f614fe996c7610e5e642a0e": {
          "model_module": "@jupyter-widgets/base",
          "model_name": "LayoutModel",
          "model_module_version": "1.2.0",
          "state": {
            "_model_module": "@jupyter-widgets/base",
            "_model_module_version": "1.2.0",
            "_model_name": "LayoutModel",
            "_view_count": null,
            "_view_module": "@jupyter-widgets/base",
            "_view_module_version": "1.2.0",
            "_view_name": "LayoutView",
            "align_content": null,
            "align_items": null,
            "align_self": null,
            "border": null,
            "bottom": null,
            "display": null,
            "flex": null,
            "flex_flow": null,
            "grid_area": null,
            "grid_auto_columns": null,
            "grid_auto_flow": null,
            "grid_auto_rows": null,
            "grid_column": null,
            "grid_gap": null,
            "grid_row": null,
            "grid_template_areas": null,
            "grid_template_columns": null,
            "grid_template_rows": null,
            "height": null,
            "justify_content": null,
            "justify_items": null,
            "left": null,
            "margin": null,
            "max_height": null,
            "max_width": null,
            "min_height": null,
            "min_width": null,
            "object_fit": null,
            "object_position": null,
            "order": null,
            "overflow": null,
            "overflow_x": null,
            "overflow_y": null,
            "padding": null,
            "right": null,
            "top": null,
            "visibility": null,
            "width": null
          }
        },
        "d2a8260f2897446ebd8317efe9c0577f": {
          "model_module": "@jupyter-widgets/controls",
          "model_name": "DescriptionStyleModel",
          "model_module_version": "1.5.0",
          "state": {
            "_model_module": "@jupyter-widgets/controls",
            "_model_module_version": "1.5.0",
            "_model_name": "DescriptionStyleModel",
            "_view_count": null,
            "_view_module": "@jupyter-widgets/base",
            "_view_module_version": "1.2.0",
            "_view_name": "StyleView",
            "description_width": ""
          }
        },
        "0686d8df70a9476198d60fd6a77a1373": {
          "model_module": "@jupyter-widgets/base",
          "model_name": "LayoutModel",
          "model_module_version": "1.2.0",
          "state": {
            "_model_module": "@jupyter-widgets/base",
            "_model_module_version": "1.2.0",
            "_model_name": "LayoutModel",
            "_view_count": null,
            "_view_module": "@jupyter-widgets/base",
            "_view_module_version": "1.2.0",
            "_view_name": "LayoutView",
            "align_content": null,
            "align_items": null,
            "align_self": null,
            "border": null,
            "bottom": null,
            "display": null,
            "flex": null,
            "flex_flow": null,
            "grid_area": null,
            "grid_auto_columns": null,
            "grid_auto_flow": null,
            "grid_auto_rows": null,
            "grid_column": null,
            "grid_gap": null,
            "grid_row": null,
            "grid_template_areas": null,
            "grid_template_columns": null,
            "grid_template_rows": null,
            "height": null,
            "justify_content": null,
            "justify_items": null,
            "left": null,
            "margin": null,
            "max_height": null,
            "max_width": null,
            "min_height": null,
            "min_width": null,
            "object_fit": null,
            "object_position": null,
            "order": null,
            "overflow": null,
            "overflow_x": null,
            "overflow_y": null,
            "padding": null,
            "right": null,
            "top": null,
            "visibility": null,
            "width": null
          }
        },
        "ad2d96d8a2454192b3dabb3e165a935c": {
          "model_module": "@jupyter-widgets/controls",
          "model_name": "ProgressStyleModel",
          "model_module_version": "1.5.0",
          "state": {
            "_model_module": "@jupyter-widgets/controls",
            "_model_module_version": "1.5.0",
            "_model_name": "ProgressStyleModel",
            "_view_count": null,
            "_view_module": "@jupyter-widgets/base",
            "_view_module_version": "1.2.0",
            "_view_name": "StyleView",
            "bar_color": null,
            "description_width": ""
          }
        },
        "b9627c1de8594806974de2a0b2e5b41b": {
          "model_module": "@jupyter-widgets/base",
          "model_name": "LayoutModel",
          "model_module_version": "1.2.0",
          "state": {
            "_model_module": "@jupyter-widgets/base",
            "_model_module_version": "1.2.0",
            "_model_name": "LayoutModel",
            "_view_count": null,
            "_view_module": "@jupyter-widgets/base",
            "_view_module_version": "1.2.0",
            "_view_name": "LayoutView",
            "align_content": null,
            "align_items": null,
            "align_self": null,
            "border": null,
            "bottom": null,
            "display": null,
            "flex": null,
            "flex_flow": null,
            "grid_area": null,
            "grid_auto_columns": null,
            "grid_auto_flow": null,
            "grid_auto_rows": null,
            "grid_column": null,
            "grid_gap": null,
            "grid_row": null,
            "grid_template_areas": null,
            "grid_template_columns": null,
            "grid_template_rows": null,
            "height": null,
            "justify_content": null,
            "justify_items": null,
            "left": null,
            "margin": null,
            "max_height": null,
            "max_width": null,
            "min_height": null,
            "min_width": null,
            "object_fit": null,
            "object_position": null,
            "order": null,
            "overflow": null,
            "overflow_x": null,
            "overflow_y": null,
            "padding": null,
            "right": null,
            "top": null,
            "visibility": null,
            "width": null
          }
        },
        "5175f0075c3c415e85c5e0b84f826931": {
          "model_module": "@jupyter-widgets/controls",
          "model_name": "DescriptionStyleModel",
          "model_module_version": "1.5.0",
          "state": {
            "_model_module": "@jupyter-widgets/controls",
            "_model_module_version": "1.5.0",
            "_model_name": "DescriptionStyleModel",
            "_view_count": null,
            "_view_module": "@jupyter-widgets/base",
            "_view_module_version": "1.2.0",
            "_view_name": "StyleView",
            "description_width": ""
          }
        },
        "fbb1fe223c504c5e8ab3e2f82743ceeb": {
          "model_module": "@jupyter-widgets/controls",
          "model_name": "HBoxModel",
          "model_module_version": "1.5.0",
          "state": {
            "_dom_classes": [],
            "_model_module": "@jupyter-widgets/controls",
            "_model_module_version": "1.5.0",
            "_model_name": "HBoxModel",
            "_view_count": null,
            "_view_module": "@jupyter-widgets/controls",
            "_view_module_version": "1.5.0",
            "_view_name": "HBoxView",
            "box_style": "",
            "children": [
              "IPY_MODEL_64affe88224143d59b1cb5d4b3cc2221",
              "IPY_MODEL_ed10213a2ca943708e636bc7fc1f3f9e",
              "IPY_MODEL_0c8c1fd3960646a081b35fc5fc0eadfa"
            ],
            "layout": "IPY_MODEL_a88a1ea4b8f04c208482e7d77753f4b2"
          }
        },
        "64affe88224143d59b1cb5d4b3cc2221": {
          "model_module": "@jupyter-widgets/controls",
          "model_name": "HTMLModel",
          "model_module_version": "1.5.0",
          "state": {
            "_dom_classes": [],
            "_model_module": "@jupyter-widgets/controls",
            "_model_module_version": "1.5.0",
            "_model_name": "HTMLModel",
            "_view_count": null,
            "_view_module": "@jupyter-widgets/controls",
            "_view_module_version": "1.5.0",
            "_view_name": "HTMLView",
            "description": "",
            "description_tooltip": null,
            "layout": "IPY_MODEL_6bdf6e56b4164a15a3312db658e98a18",
            "placeholder": "​",
            "style": "IPY_MODEL_b3da0839deb5492c9551a024f4085a1f",
            "value": "config.json: 100%"
          }
        },
        "ed10213a2ca943708e636bc7fc1f3f9e": {
          "model_module": "@jupyter-widgets/controls",
          "model_name": "FloatProgressModel",
          "model_module_version": "1.5.0",
          "state": {
            "_dom_classes": [],
            "_model_module": "@jupyter-widgets/controls",
            "_model_module_version": "1.5.0",
            "_model_name": "FloatProgressModel",
            "_view_count": null,
            "_view_module": "@jupyter-widgets/controls",
            "_view_module_version": "1.5.0",
            "_view_name": "ProgressView",
            "bar_style": "success",
            "description": "",
            "description_tooltip": null,
            "layout": "IPY_MODEL_048c18f5a6bb4825bffff056a10dafcb",
            "max": 570,
            "min": 0,
            "orientation": "horizontal",
            "style": "IPY_MODEL_f1a16660be224b468e2866ed19939cb4",
            "value": 570
          }
        },
        "0c8c1fd3960646a081b35fc5fc0eadfa": {
          "model_module": "@jupyter-widgets/controls",
          "model_name": "HTMLModel",
          "model_module_version": "1.5.0",
          "state": {
            "_dom_classes": [],
            "_model_module": "@jupyter-widgets/controls",
            "_model_module_version": "1.5.0",
            "_model_name": "HTMLModel",
            "_view_count": null,
            "_view_module": "@jupyter-widgets/controls",
            "_view_module_version": "1.5.0",
            "_view_name": "HTMLView",
            "description": "",
            "description_tooltip": null,
            "layout": "IPY_MODEL_5b1ca5839b454a9e9bd253c7863a9ad8",
            "placeholder": "​",
            "style": "IPY_MODEL_a3a2b1bee26341148339820612769d39",
            "value": " 570/570 [00:00&lt;00:00, 39.4kB/s]"
          }
        },
        "a88a1ea4b8f04c208482e7d77753f4b2": {
          "model_module": "@jupyter-widgets/base",
          "model_name": "LayoutModel",
          "model_module_version": "1.2.0",
          "state": {
            "_model_module": "@jupyter-widgets/base",
            "_model_module_version": "1.2.0",
            "_model_name": "LayoutModel",
            "_view_count": null,
            "_view_module": "@jupyter-widgets/base",
            "_view_module_version": "1.2.0",
            "_view_name": "LayoutView",
            "align_content": null,
            "align_items": null,
            "align_self": null,
            "border": null,
            "bottom": null,
            "display": null,
            "flex": null,
            "flex_flow": null,
            "grid_area": null,
            "grid_auto_columns": null,
            "grid_auto_flow": null,
            "grid_auto_rows": null,
            "grid_column": null,
            "grid_gap": null,
            "grid_row": null,
            "grid_template_areas": null,
            "grid_template_columns": null,
            "grid_template_rows": null,
            "height": null,
            "justify_content": null,
            "justify_items": null,
            "left": null,
            "margin": null,
            "max_height": null,
            "max_width": null,
            "min_height": null,
            "min_width": null,
            "object_fit": null,
            "object_position": null,
            "order": null,
            "overflow": null,
            "overflow_x": null,
            "overflow_y": null,
            "padding": null,
            "right": null,
            "top": null,
            "visibility": null,
            "width": null
          }
        },
        "6bdf6e56b4164a15a3312db658e98a18": {
          "model_module": "@jupyter-widgets/base",
          "model_name": "LayoutModel",
          "model_module_version": "1.2.0",
          "state": {
            "_model_module": "@jupyter-widgets/base",
            "_model_module_version": "1.2.0",
            "_model_name": "LayoutModel",
            "_view_count": null,
            "_view_module": "@jupyter-widgets/base",
            "_view_module_version": "1.2.0",
            "_view_name": "LayoutView",
            "align_content": null,
            "align_items": null,
            "align_self": null,
            "border": null,
            "bottom": null,
            "display": null,
            "flex": null,
            "flex_flow": null,
            "grid_area": null,
            "grid_auto_columns": null,
            "grid_auto_flow": null,
            "grid_auto_rows": null,
            "grid_column": null,
            "grid_gap": null,
            "grid_row": null,
            "grid_template_areas": null,
            "grid_template_columns": null,
            "grid_template_rows": null,
            "height": null,
            "justify_content": null,
            "justify_items": null,
            "left": null,
            "margin": null,
            "max_height": null,
            "max_width": null,
            "min_height": null,
            "min_width": null,
            "object_fit": null,
            "object_position": null,
            "order": null,
            "overflow": null,
            "overflow_x": null,
            "overflow_y": null,
            "padding": null,
            "right": null,
            "top": null,
            "visibility": null,
            "width": null
          }
        },
        "b3da0839deb5492c9551a024f4085a1f": {
          "model_module": "@jupyter-widgets/controls",
          "model_name": "DescriptionStyleModel",
          "model_module_version": "1.5.0",
          "state": {
            "_model_module": "@jupyter-widgets/controls",
            "_model_module_version": "1.5.0",
            "_model_name": "DescriptionStyleModel",
            "_view_count": null,
            "_view_module": "@jupyter-widgets/base",
            "_view_module_version": "1.2.0",
            "_view_name": "StyleView",
            "description_width": ""
          }
        },
        "048c18f5a6bb4825bffff056a10dafcb": {
          "model_module": "@jupyter-widgets/base",
          "model_name": "LayoutModel",
          "model_module_version": "1.2.0",
          "state": {
            "_model_module": "@jupyter-widgets/base",
            "_model_module_version": "1.2.0",
            "_model_name": "LayoutModel",
            "_view_count": null,
            "_view_module": "@jupyter-widgets/base",
            "_view_module_version": "1.2.0",
            "_view_name": "LayoutView",
            "align_content": null,
            "align_items": null,
            "align_self": null,
            "border": null,
            "bottom": null,
            "display": null,
            "flex": null,
            "flex_flow": null,
            "grid_area": null,
            "grid_auto_columns": null,
            "grid_auto_flow": null,
            "grid_auto_rows": null,
            "grid_column": null,
            "grid_gap": null,
            "grid_row": null,
            "grid_template_areas": null,
            "grid_template_columns": null,
            "grid_template_rows": null,
            "height": null,
            "justify_content": null,
            "justify_items": null,
            "left": null,
            "margin": null,
            "max_height": null,
            "max_width": null,
            "min_height": null,
            "min_width": null,
            "object_fit": null,
            "object_position": null,
            "order": null,
            "overflow": null,
            "overflow_x": null,
            "overflow_y": null,
            "padding": null,
            "right": null,
            "top": null,
            "visibility": null,
            "width": null
          }
        },
        "f1a16660be224b468e2866ed19939cb4": {
          "model_module": "@jupyter-widgets/controls",
          "model_name": "ProgressStyleModel",
          "model_module_version": "1.5.0",
          "state": {
            "_model_module": "@jupyter-widgets/controls",
            "_model_module_version": "1.5.0",
            "_model_name": "ProgressStyleModel",
            "_view_count": null,
            "_view_module": "@jupyter-widgets/base",
            "_view_module_version": "1.2.0",
            "_view_name": "StyleView",
            "bar_color": null,
            "description_width": ""
          }
        },
        "5b1ca5839b454a9e9bd253c7863a9ad8": {
          "model_module": "@jupyter-widgets/base",
          "model_name": "LayoutModel",
          "model_module_version": "1.2.0",
          "state": {
            "_model_module": "@jupyter-widgets/base",
            "_model_module_version": "1.2.0",
            "_model_name": "LayoutModel",
            "_view_count": null,
            "_view_module": "@jupyter-widgets/base",
            "_view_module_version": "1.2.0",
            "_view_name": "LayoutView",
            "align_content": null,
            "align_items": null,
            "align_self": null,
            "border": null,
            "bottom": null,
            "display": null,
            "flex": null,
            "flex_flow": null,
            "grid_area": null,
            "grid_auto_columns": null,
            "grid_auto_flow": null,
            "grid_auto_rows": null,
            "grid_column": null,
            "grid_gap": null,
            "grid_row": null,
            "grid_template_areas": null,
            "grid_template_columns": null,
            "grid_template_rows": null,
            "height": null,
            "justify_content": null,
            "justify_items": null,
            "left": null,
            "margin": null,
            "max_height": null,
            "max_width": null,
            "min_height": null,
            "min_width": null,
            "object_fit": null,
            "object_position": null,
            "order": null,
            "overflow": null,
            "overflow_x": null,
            "overflow_y": null,
            "padding": null,
            "right": null,
            "top": null,
            "visibility": null,
            "width": null
          }
        },
        "a3a2b1bee26341148339820612769d39": {
          "model_module": "@jupyter-widgets/controls",
          "model_name": "DescriptionStyleModel",
          "model_module_version": "1.5.0",
          "state": {
            "_model_module": "@jupyter-widgets/controls",
            "_model_module_version": "1.5.0",
            "_model_name": "DescriptionStyleModel",
            "_view_count": null,
            "_view_module": "@jupyter-widgets/base",
            "_view_module_version": "1.2.0",
            "_view_name": "StyleView",
            "description_width": ""
          }
        },
        "a09fa10f1d8947e7a28f08be6ae371a8": {
          "model_module": "@jupyter-widgets/controls",
          "model_name": "HBoxModel",
          "model_module_version": "1.5.0",
          "state": {
            "_dom_classes": [],
            "_model_module": "@jupyter-widgets/controls",
            "_model_module_version": "1.5.0",
            "_model_name": "HBoxModel",
            "_view_count": null,
            "_view_module": "@jupyter-widgets/controls",
            "_view_module_version": "1.5.0",
            "_view_name": "HBoxView",
            "box_style": "",
            "children": [
              "IPY_MODEL_87cf4b7056114c6ca8317fcf202473a5",
              "IPY_MODEL_a79ac3c8cfe04d88b049ca017e175c79",
              "IPY_MODEL_4ceb2b4ab49449d581d1a1fcd393d35f"
            ],
            "layout": "IPY_MODEL_486c37aa71434720b0f528149fe1e658"
          }
        },
        "87cf4b7056114c6ca8317fcf202473a5": {
          "model_module": "@jupyter-widgets/controls",
          "model_name": "HTMLModel",
          "model_module_version": "1.5.0",
          "state": {
            "_dom_classes": [],
            "_model_module": "@jupyter-widgets/controls",
            "_model_module_version": "1.5.0",
            "_model_name": "HTMLModel",
            "_view_count": null,
            "_view_module": "@jupyter-widgets/controls",
            "_view_module_version": "1.5.0",
            "_view_name": "HTMLView",
            "description": "",
            "description_tooltip": null,
            "layout": "IPY_MODEL_6ea2254a4d2f4832a4f69659e49518ab",
            "placeholder": "​",
            "style": "IPY_MODEL_d68bdbff40a34678835b773b000f8648",
            "value": "model.safetensors: 100%"
          }
        },
        "a79ac3c8cfe04d88b049ca017e175c79": {
          "model_module": "@jupyter-widgets/controls",
          "model_name": "FloatProgressModel",
          "model_module_version": "1.5.0",
          "state": {
            "_dom_classes": [],
            "_model_module": "@jupyter-widgets/controls",
            "_model_module_version": "1.5.0",
            "_model_name": "FloatProgressModel",
            "_view_count": null,
            "_view_module": "@jupyter-widgets/controls",
            "_view_module_version": "1.5.0",
            "_view_name": "ProgressView",
            "bar_style": "success",
            "description": "",
            "description_tooltip": null,
            "layout": "IPY_MODEL_e68c49c6585c4a04afee00c128275d44",
            "max": 440449768,
            "min": 0,
            "orientation": "horizontal",
            "style": "IPY_MODEL_739c1ddf1d4f4fefadd95c4b895f9a19",
            "value": 440449768
          }
        },
        "4ceb2b4ab49449d581d1a1fcd393d35f": {
          "model_module": "@jupyter-widgets/controls",
          "model_name": "HTMLModel",
          "model_module_version": "1.5.0",
          "state": {
            "_dom_classes": [],
            "_model_module": "@jupyter-widgets/controls",
            "_model_module_version": "1.5.0",
            "_model_name": "HTMLModel",
            "_view_count": null,
            "_view_module": "@jupyter-widgets/controls",
            "_view_module_version": "1.5.0",
            "_view_name": "HTMLView",
            "description": "",
            "description_tooltip": null,
            "layout": "IPY_MODEL_bc0ec10f70cd47dd918a2f79de002d8c",
            "placeholder": "​",
            "style": "IPY_MODEL_bb1cab4df0c64c9e99e0b78a48450836",
            "value": " 440M/440M [00:03&lt;00:00, 133MB/s]"
          }
        },
        "486c37aa71434720b0f528149fe1e658": {
          "model_module": "@jupyter-widgets/base",
          "model_name": "LayoutModel",
          "model_module_version": "1.2.0",
          "state": {
            "_model_module": "@jupyter-widgets/base",
            "_model_module_version": "1.2.0",
            "_model_name": "LayoutModel",
            "_view_count": null,
            "_view_module": "@jupyter-widgets/base",
            "_view_module_version": "1.2.0",
            "_view_name": "LayoutView",
            "align_content": null,
            "align_items": null,
            "align_self": null,
            "border": null,
            "bottom": null,
            "display": null,
            "flex": null,
            "flex_flow": null,
            "grid_area": null,
            "grid_auto_columns": null,
            "grid_auto_flow": null,
            "grid_auto_rows": null,
            "grid_column": null,
            "grid_gap": null,
            "grid_row": null,
            "grid_template_areas": null,
            "grid_template_columns": null,
            "grid_template_rows": null,
            "height": null,
            "justify_content": null,
            "justify_items": null,
            "left": null,
            "margin": null,
            "max_height": null,
            "max_width": null,
            "min_height": null,
            "min_width": null,
            "object_fit": null,
            "object_position": null,
            "order": null,
            "overflow": null,
            "overflow_x": null,
            "overflow_y": null,
            "padding": null,
            "right": null,
            "top": null,
            "visibility": null,
            "width": null
          }
        },
        "6ea2254a4d2f4832a4f69659e49518ab": {
          "model_module": "@jupyter-widgets/base",
          "model_name": "LayoutModel",
          "model_module_version": "1.2.0",
          "state": {
            "_model_module": "@jupyter-widgets/base",
            "_model_module_version": "1.2.0",
            "_model_name": "LayoutModel",
            "_view_count": null,
            "_view_module": "@jupyter-widgets/base",
            "_view_module_version": "1.2.0",
            "_view_name": "LayoutView",
            "align_content": null,
            "align_items": null,
            "align_self": null,
            "border": null,
            "bottom": null,
            "display": null,
            "flex": null,
            "flex_flow": null,
            "grid_area": null,
            "grid_auto_columns": null,
            "grid_auto_flow": null,
            "grid_auto_rows": null,
            "grid_column": null,
            "grid_gap": null,
            "grid_row": null,
            "grid_template_areas": null,
            "grid_template_columns": null,
            "grid_template_rows": null,
            "height": null,
            "justify_content": null,
            "justify_items": null,
            "left": null,
            "margin": null,
            "max_height": null,
            "max_width": null,
            "min_height": null,
            "min_width": null,
            "object_fit": null,
            "object_position": null,
            "order": null,
            "overflow": null,
            "overflow_x": null,
            "overflow_y": null,
            "padding": null,
            "right": null,
            "top": null,
            "visibility": null,
            "width": null
          }
        },
        "d68bdbff40a34678835b773b000f8648": {
          "model_module": "@jupyter-widgets/controls",
          "model_name": "DescriptionStyleModel",
          "model_module_version": "1.5.0",
          "state": {
            "_model_module": "@jupyter-widgets/controls",
            "_model_module_version": "1.5.0",
            "_model_name": "DescriptionStyleModel",
            "_view_count": null,
            "_view_module": "@jupyter-widgets/base",
            "_view_module_version": "1.2.0",
            "_view_name": "StyleView",
            "description_width": ""
          }
        },
        "e68c49c6585c4a04afee00c128275d44": {
          "model_module": "@jupyter-widgets/base",
          "model_name": "LayoutModel",
          "model_module_version": "1.2.0",
          "state": {
            "_model_module": "@jupyter-widgets/base",
            "_model_module_version": "1.2.0",
            "_model_name": "LayoutModel",
            "_view_count": null,
            "_view_module": "@jupyter-widgets/base",
            "_view_module_version": "1.2.0",
            "_view_name": "LayoutView",
            "align_content": null,
            "align_items": null,
            "align_self": null,
            "border": null,
            "bottom": null,
            "display": null,
            "flex": null,
            "flex_flow": null,
            "grid_area": null,
            "grid_auto_columns": null,
            "grid_auto_flow": null,
            "grid_auto_rows": null,
            "grid_column": null,
            "grid_gap": null,
            "grid_row": null,
            "grid_template_areas": null,
            "grid_template_columns": null,
            "grid_template_rows": null,
            "height": null,
            "justify_content": null,
            "justify_items": null,
            "left": null,
            "margin": null,
            "max_height": null,
            "max_width": null,
            "min_height": null,
            "min_width": null,
            "object_fit": null,
            "object_position": null,
            "order": null,
            "overflow": null,
            "overflow_x": null,
            "overflow_y": null,
            "padding": null,
            "right": null,
            "top": null,
            "visibility": null,
            "width": null
          }
        },
        "739c1ddf1d4f4fefadd95c4b895f9a19": {
          "model_module": "@jupyter-widgets/controls",
          "model_name": "ProgressStyleModel",
          "model_module_version": "1.5.0",
          "state": {
            "_model_module": "@jupyter-widgets/controls",
            "_model_module_version": "1.5.0",
            "_model_name": "ProgressStyleModel",
            "_view_count": null,
            "_view_module": "@jupyter-widgets/base",
            "_view_module_version": "1.2.0",
            "_view_name": "StyleView",
            "bar_color": null,
            "description_width": ""
          }
        },
        "bc0ec10f70cd47dd918a2f79de002d8c": {
          "model_module": "@jupyter-widgets/base",
          "model_name": "LayoutModel",
          "model_module_version": "1.2.0",
          "state": {
            "_model_module": "@jupyter-widgets/base",
            "_model_module_version": "1.2.0",
            "_model_name": "LayoutModel",
            "_view_count": null,
            "_view_module": "@jupyter-widgets/base",
            "_view_module_version": "1.2.0",
            "_view_name": "LayoutView",
            "align_content": null,
            "align_items": null,
            "align_self": null,
            "border": null,
            "bottom": null,
            "display": null,
            "flex": null,
            "flex_flow": null,
            "grid_area": null,
            "grid_auto_columns": null,
            "grid_auto_flow": null,
            "grid_auto_rows": null,
            "grid_column": null,
            "grid_gap": null,
            "grid_row": null,
            "grid_template_areas": null,
            "grid_template_columns": null,
            "grid_template_rows": null,
            "height": null,
            "justify_content": null,
            "justify_items": null,
            "left": null,
            "margin": null,
            "max_height": null,
            "max_width": null,
            "min_height": null,
            "min_width": null,
            "object_fit": null,
            "object_position": null,
            "order": null,
            "overflow": null,
            "overflow_x": null,
            "overflow_y": null,
            "padding": null,
            "right": null,
            "top": null,
            "visibility": null,
            "width": null
          }
        },
        "bb1cab4df0c64c9e99e0b78a48450836": {
          "model_module": "@jupyter-widgets/controls",
          "model_name": "DescriptionStyleModel",
          "model_module_version": "1.5.0",
          "state": {
            "_model_module": "@jupyter-widgets/controls",
            "_model_module_version": "1.5.0",
            "_model_name": "DescriptionStyleModel",
            "_view_count": null,
            "_view_module": "@jupyter-widgets/base",
            "_view_module_version": "1.2.0",
            "_view_name": "StyleView",
            "description_width": ""
          }
        }
      }
    }
  },
  "nbformat": 4,
  "nbformat_minor": 0
}