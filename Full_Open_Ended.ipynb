{
  "cells": [
    {
      "cell_type": "markdown",
      "metadata": {
        "id": "4aqU3DDs_kIv"
      },
      "source": [
        "##3) Using semantic vectors to decode brain activation"
      ]
    },
    {
      "cell_type": "markdown",
      "metadata": {
        "id": "cFrD0CUr_sh3"
      },
      "source": [
        "### Load the data"
      ]
    },
    {
      "cell_type": "code",
      "execution_count": 1,
      "metadata": {
        "colab": {
          "base_uri": "https://localhost:8080/"
        },
        "id": "RwgOUIetGxAF",
        "outputId": "74115761-6f80-42e7-bfeb-04e2235d579d"
      },
      "outputs": [
        {
          "output_type": "stream",
          "name": "stdout",
          "text": [
            "--2024-08-27 13:42:09--  https://drive.usercontent.google.com/download?id=1xZaorRH-xxjfochvSesAhOTUg82_Xq56&export=download&authuser=0&confirm=t&uuid=efeb9ce5-a5c5-453b-938d-6c0ece963f3c&at=APZUnTV18b5mSao0MQ2JbtpefTxr%3A1719665236172\n",
            "Resolving drive.usercontent.google.com (drive.usercontent.google.com)... 172.253.63.132, 2607:f8b0:4004:c08::84\n",
            "Connecting to drive.usercontent.google.com (drive.usercontent.google.com)|172.253.63.132|:443... connected.\n",
            "HTTP request sent, awaiting response... 200 OK\n",
            "Length: 97708666 (93M) [application/octet-stream]\n",
            "Saving to: ‘files.zip’\n",
            "\n",
            "files.zip           100%[===================>]  93.18M  61.7MB/s    in 1.5s    \n",
            "\n",
            "2024-08-27 13:42:12 (61.7 MB/s) - ‘files.zip’ saved [97708666/97708666]\n",
            "\n",
            "Archive:  files.zip\n",
            "replace stimuli_180concepts.txt? [y]es, [n]o, [A]ll, [N]one, [r]ename: n\n",
            "replace learn_decoder.py? [y]es, [n]o, [A]ll, [N]one, [r]ename: n\n",
            "replace vectors_180concepts.GV42B300.txt? [y]es, [n]o, [A]ll, [N]one, [r]ename: n\n",
            "replace imaging_data.csv? [y]es, [n]o, [A]ll, [N]one, [r]ename: n\n"
          ]
        }
      ],
      "source": [
        "# Download and extract the data and learn_decoder.py\n",
        "# !wget --load-cookies /tmp/cookies.txt \"https://docs.google.com/uc?export=download&confirm=$(wget --quiet --save-cookies /tmp/cookies.txt --keep-session-cookies --no-check-certificate 'https://docs.google.com/uc?export=download&id=1xZaorRH-xxjfochvSesAhOTUg82_Xq56' -O- | sed -rn 's/.*confirm=([0-9A-Za-z_]+).*/\\1\\n/p')&id=1xZaorRH-xxjfochvSesAhOTUg82_Xq56\" -O files.zip && rm -rf /tmp/cookies.txt\n",
        "!wget --header=\"Host: drive.usercontent.google.com\" --header=\"Accept: text/html,application/xhtml+xml,application/xml;q=0.9,image/avif,image/webp,image/apng,*/*;q=0.8,application/signed-exchange;v=b3;q=0.7\" --header=\"Accept-Language: en-US,en;q=0.9,he;q=0.8\" --header=\"Cookie: HSID=AHJfxja1o67aaDDKP; SSID=AcFaYUEeiC88MwrF9; APISID=-FXvHmBvJ828Jrpq/AaIp_RI6gKwBAA-zy; SAPISID=_psqReiv0O2WdiVv/AhLpZThJtVNAPgAJP; __Secure-1PAPISID=_psqReiv0O2WdiVv/AhLpZThJtVNAPgAJP; __Secure-3PAPISID=_psqReiv0O2WdiVv/AhLpZThJtVNAPgAJP; S=billing-ui-v3=pX9aAWC8SzxQZfQvQ-0SbCFRz65PPkVY:billing-ui-v3-efe=pX9aAWC8SzxQZfQvQ-0SbCFRz65PPkVY:maestro=dsv3G-owxPD6uTATLH0lBQZNadhFo6ZKJiuB9usoQVU; __Secure-BUCKET=CPgG; SID=g.a000kggtmVDh8D92rqHe5fiG-bMoXQw7Ld8Tf_C8qHhSE2ZoFUyx_uObP_F4bCqI8I561ccGMwACgYKAWESARQSFQHGX2Mi5DnhBiJ2gjjbMSP0XJbU5BoVAUF8yKrlBjWMdNOfGnmA7TZzmbWD0076; __Secure-1PSID=g.a000kggtmVDh8D92rqHe5fiG-bMoXQw7Ld8Tf_C8qHhSE2ZoFUyx2BFINS8lXhFUyAFwuvl8CQACgYKAW4SARQSFQHGX2MiWd6bHkI0JN89-1dFZUbS2hoVAUF8yKpc-H3AD8N6tj-dmFG21SeE0076; __Secure-3PSID=g.a000kggtmVDh8D92rqHe5fiG-bMoXQw7Ld8Tf_C8qHhSE2ZoFUyxJl_TGsCsjeiVN72q3lSCWQACgYKASASARQSFQHGX2MiULluXa7aABDwxgCWjB6IyhoVAUF8yKoy_HHYLCqIFMwNjx-GwYWe0076; __Secure-ENID=20.SE=jyM_w2hA8DW6FvPOh9wudde93a0A9P41Epzo098LV_LyU79-VVcJ9K-vNLrhCLuVzi69CyV4RxlSls8AAT9J8odwIXi_ISVn8Z1U1DH52BC3YiwOwO9LKUsBesCbGx2D6u1XwZ5GIP_PZMo1tkLLJq2VCtcxRP9OtC_QgHNbAD4eyc1TTu1C8XbZLFTOIgb0k9IfM2bMBXeha6t3sJysARZWpDIzs3I8wWZ5JtABB253grtjQyCnxyy9MUgTcYAVaoEGwgVHV4V4lSY6gydFkO2gYxl7JqYloqCq74HahGK54TBlsGZIOTM_KvFAsIidcrPaVOBpH6IGQTPChxy3Tr-GLK7VpBiQ8JW7V0xC8XTN1crEaaZnGFQ6MrjDv8f3hCY0Kg; AEC=AQTF6HwEtUB747fVHMzvOWJV9pmRoGs8Ix8FJ1HTrxbE9NY1dtyro2AvNQ; NID=515=Wdt0NWZqVSh3TtdIfjXCGTCCkj7jaJjt-lkOL3hLD_hPSSMyGxKkVthECwGGFbbxmvfM2iKZ1SkPGDVgLwjghAOrV9Ya7iEJJ0eSXZSfszc0WxRXm3Jy6LxqPEZLmY8v3AIkMX-o8KE5ZRXGEzgv_s9pfgS8bmeiIGT13Iiyw9tPzRZDChGijNbZ0Mp1oF-4YKikOZCyo8Km9wXOgLAC9dbeIqAlTdER97cQ7B5GajyRLH_bFrg0lCVN4tyZEycjihHOu6Eq_V88rswgV7uvzemJ_yk4WbbIWJVm9NCO4tWdDQG8NY3EY57xAJbmIhu260jDftYwzjCnpqJ8C1iCm-FjboF6xJwKJEtLkCXagIcSWxfPGqRWIn5KY72ogAMZTlUZ5RE5F8bH4sFgkt5pW_AalY5mxYPOfZgF-9hcJYsF71rMOic6mqSfvR8iNo-k6_SZ-4o5WkYxbwdLgiaIOiCJHkhIGBoXsm5hh5BHDqlk5ERGnFn5zpqOguNLJFjXT3nhaP1g_a2fFvd0bmZw2A9Y6tBNAC7CbDOmSHSmYmLag0qVcqu286CZh5svuhdM-QPcSCt5u0kPgfWN3KBha0G9L9qCiDIwntvnlVNoUYLBM4je1bhGjO9M2tdH_vteLo4vjm9Cq-4I2A; __Secure-1PSIDTS=sidts-CjIB3EgAEi6AJoaJlu_IOdqmparuSFUne3RqD5YKK5hcqKjRlc0CTp9lSpyH2OoVVoqmlxAA; __Secure-3PSIDTS=sidts-CjIB3EgAEi6AJoaJlu_IOdqmparuSFUne3RqD5YKK5hcqKjRlc0CTp9lSpyH2OoVVoqmlxAA; SIDCC=AKEyXzW7IJ8miV8hX_pqzqqPW7--eMWuWfausspLBoDPlfZDCRZDED56ohpancLYOBPizfUzi1aM; __Secure-1PSIDCC=AKEyXzVGnmSuG07J22njRVFPQ_sk88MgnqtYxJd-M0_9Pz3jdh4GpGPhPOqCMrayTU9SJTW3n54; __Secure-3PSIDCC=AKEyXzVScJYbKdtIImPYKpTRkExsc5UhC5n9Rkk8wNFlMZNW3_xkvWlimAXWaZ4T7kTcJy5AE4I\" --header=\"Connection: keep-alive\" \"https://drive.usercontent.google.com/download?id=1xZaorRH-xxjfochvSesAhOTUg82_Xq56&export=download&authuser=0&confirm=t&uuid=efeb9ce5-a5c5-453b-938d-6c0ece963f3c&at=APZUnTV18b5mSao0MQ2JbtpefTxr%3A1719665236172\" -c -O 'files.zip'\n",
        "!unzip files.zip\n",
        "!rm files.zip"
      ]
    },
    {
      "cell_type": "code",
      "execution_count": 2,
      "metadata": {
        "colab": {
          "base_uri": "https://localhost:8080/"
        },
        "id": "sygvslgRVHxi",
        "outputId": "0035bf7f-268c-4c15-b55d-8769f147ae85"
      },
      "outputs": [
        {
          "output_type": "stream",
          "name": "stdout",
          "text": [
            "Original working directory: /content\n"
          ]
        }
      ],
      "source": [
        "import os\n",
        "\n",
        "# Save the current working directory\n",
        "original_working_directory = os.getcwd()\n",
        "print(\"Original working directory:\", original_working_directory)"
      ]
    },
    {
      "cell_type": "code",
      "execution_count": 3,
      "metadata": {
        "colab": {
          "base_uri": "https://localhost:8080/"
        },
        "id": "qan179F-QQQB",
        "outputId": "673ccbf4-69c6-4e38-927d-5c733b816a77"
      },
      "outputs": [
        {
          "output_type": "stream",
          "name": "stdout",
          "text": [
            "Drive already mounted at /content/drive; to attempt to forcibly remount, call drive.mount(\"/content/drive\", force_remount=True).\n"
          ]
        },
        {
          "output_type": "execute_result",
          "data": {
            "text/plain": [
              "['glove.42B.300d.txt',\n",
              " 'vectors_384sentences.GV42B300.average.txt',\n",
              " 'vectors_243sentences.GV42B300.average.txt',\n",
              " 'stimuli_384sentences.txt',\n",
              " 'stimuli_243sentences.txt',\n",
              " 'EXP3.pkl',\n",
              " 'neuralData_for_EXP1.csv',\n",
              " 'EXP2.pkl',\n",
              " 'stimuli_180concepts.txt',\n",
              " 'learn_decoder.py',\n",
              " 'vectors_180concepts.GV42B300.txt',\n",
              " 'imaging_data.csv',\n",
              " '__pycache__',\n",
              " 'colab_pdf.py']"
            ]
          },
          "metadata": {},
          "execution_count": 3
        }
      ],
      "source": [
        "from google.colab import drive\n",
        "drive.mount('/content/drive')\n",
        "import os\n",
        "os.chdir('/content/drive/My Drive/project_lcc')\n",
        "os.listdir('.')\n"
      ]
    },
    {
      "cell_type": "code",
      "execution_count": 4,
      "metadata": {
        "colab": {
          "base_uri": "https://localhost:8080/"
        },
        "id": "Pg90rA4QSdG3",
        "outputId": "f939619a-87d6-4533-f2c0-c68a6fb0df47"
      },
      "outputs": [
        {
          "output_type": "stream",
          "name": "stdout",
          "text": [
            "           0          1          2          3          4         5         6  \\\n",
            "0  -8.173708  -5.593922  -4.737303  -3.210317  -5.064872 -2.867938 -0.647879   \n",
            "1  14.175880  12.258254  15.118346  16.929986  14.128274  7.703238  5.102477   \n",
            "2  11.025751   9.451916  11.282665  10.330555   9.168634  6.326451  8.325448   \n",
            "3  -9.224141 -10.744989 -12.231927  -9.563610  -2.367995 -2.873559 -2.707560   \n",
            "4 -11.051150 -14.732372 -17.551868 -14.449508  -8.301250 -5.309789 -3.145870   \n",
            "\n",
            "           7          8          9  ...     185856     185857     185858  \\\n",
            "0   0.630494   4.112772   7.625108  ...  23.007180  15.161489 -10.211452   \n",
            "1   7.847398  13.293932  18.975664  ...  32.169971  23.818106  11.242535   \n",
            "2  11.559850  10.385498  11.301625  ...  11.159157   5.839374 -29.386549   \n",
            "3  -2.943065  -0.751547   0.859832  ...  22.441511  20.071060  12.036822   \n",
            "4  -6.857210 -13.070992 -13.807587  ...   4.275233  -3.619274 -14.709950   \n",
            "\n",
            "      185859     185860     185861     185862     185863     185864     185865  \n",
            "0 -15.066769  -7.162252 -12.148584  -7.709421  -8.667380  -7.432775  -1.341048  \n",
            "1  10.213672  11.618843  11.568193  16.380403   6.865870  19.064210   3.893508  \n",
            "2 -38.144211 -22.866592 -25.429646 -11.122913 -15.491569  -8.743717 -13.216781  \n",
            "3   9.080935  15.576979  21.669859  11.972719  21.229646   6.781682  13.736124  \n",
            "4 -12.471845 -10.840275   5.344355 -12.400245  13.086634 -17.702188   2.824599  \n",
            "\n",
            "[5 rows x 185866 columns]\n"
          ]
        }
      ],
      "source": [
        "import pandas as pd\n",
        "\n",
        "neural_data_exp1 = pd.read_csv('neuralData_for_EXP1.csv', index_col=0)\n",
        "print(neural_data_exp1.head())\n"
      ]
    },
    {
      "cell_type": "code",
      "execution_count": 5,
      "metadata": {
        "colab": {
          "base_uri": "https://localhost:8080/"
        },
        "id": "hsmldrhVTTNK",
        "outputId": "8b697649-76bf-4a9c-cc43-6f306f974a19"
      },
      "outputs": [
        {
          "output_type": "stream",
          "name": "stdout",
          "text": [
            "Beekeeping encourages the conservation of local habitats.\n",
            "It is in every beekeeper's interest to conserve local plants that produce pollen.\n",
            "As a passive form of agriculture, it does not require that native vegetation be cleared to make way for crops.\n",
            "Beekeepers also discourage the use of pesticides on crops, because they could kill the honeybees.\n",
            "Artisanal beekeepers go to extremes for their craft, but their product is worth the effort.\n",
            "Artisanal honey-making emphasizes quality and character over quantity and consistency.\n",
            "To produce the finest honey, beekeepers become micromanagers of their honeybees.\n",
            "They scout the fields, know when nectar flows, and select the best ways to extract honey.\n",
            "As the beekeeper opens the hive, the deep hum of 40,000 bees fills the air.\n",
            "The beekeeper checks honey stores, pollen supplies, and the bee nursery.\n",
            "Bees crawl across his bare arms and hands, but they don't sting, because they're gentle.\n",
            "I have a recurring dream about exams, even though I'm no longer in college.\n",
            "In my dream, it's the day of my final exam and I suddenly realize I've never gone to class.\n",
            "I've never even done any of the reading assignments.\n",
            "I know many other people who have the same nightmare.\n",
            "Each morning, participants in the study had to write down their dream experience from the previous night.\n",
            "They recorded if they recalled any dreams, and described each dream and its emotional intensity.\n",
            "Participants then assigned each dream to a category, such as a flying dream, a bad dream, or a nightmare.\n",
            "Every night while we sleep, our minds are as active as when we are awake.\n",
            "We dream throughout the night, in cycles of about ninety minutes each.\n",
            "Images, feelings, stories, and strange combinations of characters and places can fill our dreams.\n",
            "When I decided to start playing cards, things went from bad to worse.\n",
            "Gambling was something I had to do, and I had already spent close to $10,000 doing it.\n",
            "My friends were sick of watching me gamble my savings away.\n",
            "The hardest part was the horror of leaving a casino after losing money I did not have.\n",
            "Good data on the social and economic effects of legalized gambling are hard to come by.\n",
            "Some studies indicate that having a casino nearby makes gambling problems more likely.\n",
            "Gambling may also be associated with personal bankruptcies and marriage problems.\n",
            "Over the past generation, there has been a dramatic expansion of legalized gambling.\n",
            "Most states have instituted lotteries, and many have casinos as well.\n",
            "Gambling has become very big but controversial business.\n",
            "The wind from the hurricane shook the house, shattering a window in the kitchen.\n",
            "We ran in, grabbed some food, slammed the door, and surrendered the kitchen to the hurricane.\n",
            "I was afraid our house would be ripped from its foundation.\n",
            "Later that night, with the wind shaking the house, we fell asleep huddled on the sofa.\n",
            "Hurricanes can tear limbs off of trees and suck houses off their foundations.\n",
            "They dump heavy rains that can trigger floods and mudslides.\n",
            "Hurricanes can also bring a storm surge: a wall of ocean water that lurches onto land.\n",
            "Scientists use several methods to look for evidence of ancient hurricanes.\n",
            "The strongest storms deposited layers of windblown beach sand at the bottoms of coastal lakes.\n",
            "Trees drenched by passing hurricanes preserve a record of each storm in their growth rings.\n",
            "American ice cream is exported around the world, but different countries have different preferences.\n",
            "Many people enjoy their ice cream flavored with local delicacies.\n",
            "In some tropical places, vanilla ice cream is topped with bananas and fresh mangos.\n",
            "I remember making ice cream at home as a child.\n",
            "We poured the cream mixture into a frozen tub, then start turning the crank to expose it to the cold.\n",
            "Eventually it froze enough that I couldn't turn the hand crank any more.\n",
            "Then I put the container of half-frozen ice cream into the freezer to harden.\n",
            "Ice cream is a mixture of milk or cream, sugar, flavorings, and up to half whipped-in air.\n",
            "The butterfat in milk and cream is what makes it smooth and silky.\n",
            "High-priced premium ice cream is loaded with butterfat and natural flavorings.\n",
            "When I use the riding lawn mower, the uncomfortable chair makes my back hurt.\n",
            "I use the two levers in front of me to control the machine.\n",
            "The sharp blades underneath the lawn mower precisely sever each blade of grass.\n",
            "Mowing the lawn is a long task and it has taught me patience.\n",
            "A lawn mower is a machine with revolving blades that cut grass to an even height.\n",
            "The blades may be powered by muscle or the machine may have a motor.\n",
            "The most common power source for lawn mowers is a small gas engine.\n",
            "Electric lawnmowers are better for the environment because they do not create emissions.\n",
            "They also need less maintenance and are less expensive to run.\n",
            "Electric lawn mowers use as much electricity as an ordinary toaster.\n",
            "Astronauts train a long time for their spacewalks.\n",
            "Much of their training is conducted underwater.\n",
            "They may spend 8 to 10 hours in the pool for every hour they will spend floating in space.\n",
            "Astronauts practice to be able to perform construction and repair work on the outside of the space station.\n",
            "The commanders of shuttle flights are always pilots, and many have backgrounds as military test pilots.\n",
            "Other astronauts are trained as doctors, engineers, and scientists, who can run experiments in space.\n",
            "Early crews were all young men, but astronauts now are much more diverse.\n",
            "The team of astronauts floated out together to the exterior of the space shuttle.\n",
            "They carried tools needed to repair the broken part on the huge telescope.\n",
            "One astronaut loosened the bolts on the pipe, while the other fitted the replacement part into place.\n",
            "Computers have been used in art for a long time by experimental artists.\n",
            "Now that computers are more affordable and widespread, computer graphics have entered the mainstream art world.\n",
            "Some computer science conferences have art exhibitions that showcase the latest graphics technology.\n",
            "Brand new conferences have sprung up that are devoted to bridging the two cultures.\n",
            "The computer graphics specialist works with doctors to visualize medical conditions and surgical procedures.\n",
            "She uses digital animation to help doctors understand structures within a patient's body.\n",
            "Seeing the internal structures in an animation on a screen is much clearer than squinting at X-rays.\n",
            "Modern digital animation is a powerful tool for education.\n",
            "As the field of computer graphics broadens, we must ask if graphics actually help students.\n",
            "Research does suggest that vivid and engaging digital imagery can be effective in the classroom.\n",
            "The reason he came to law school in the first place was cliche.\n",
            "He wanted to change things for the better.\n",
            "He recalled one evening at law school when he and the program director had pulled an all-nighter.\n",
            "They finally finished drafting a petition for several evicted families at sunrise.\n",
            "Over the past four decades, the cost of legal education has gone up relentlessly.\n",
            "Private law school tuition increased by a factor of four since the 1970s.\n",
            "The market for admission to law school and for new lawyers could eventually crash.\n",
            "Law school faculty often have minimal experience in actually practicing law.\n",
            "Professors focus on writing law review articles for prestigious journals.\n",
            "Law schools often emphasize the theoretical, with classes on topics like property law in feudal England.\n",
            "Pharmacists are increasingly involved in preventive care.\n",
            "They are becoming front-line health advisers because people go to pharmacies often.\n",
            "Pharmacists are often a good source of information about public health.\n",
            "Doctors consult with pharmacists because they know a lot about drug interactions and side effects.\n",
            "Pharmacists dispense prescription drugs to patients and offer advice about the safe use of medications.\n",
            "They also conduct health and wellness screenings and provide vaccines.\n",
            "Pharmacists must have professional degrees and pass two exams in order to be licensed.\n",
            "I think the pharmacy profession chose me as much as I chose to be a pharmacist.\n",
            "I was fascinated by the neatly arranged bottles in pharmacies as a child.\n",
            "I know it's cliche, but I love the impact that I have on lives of my patients.\n",
            "Each person has his or her own response to potentially stressful situations.\n",
            "One person may be devastated by unemployment, while another may find working fulltime stressful.\n",
            "There are everyday stresses, like being stuck in traffic.\n",
            "There are also traumatic stresses, such as divorce or loss of a child.\n",
            "Some people can adapt to different levels of stress.\n",
            "If not dealt with effectively, though, stress can take a real toll on health.\n",
            "Remember that it's your reaction to stress that determines if it will be harmful or beneficial.\n",
            "When my company was downsizing, I felt incredibly stressed and worried.\n",
            "My heart would race for no reason, and I even felt dizzy at times.\n",
            "Then, I started taking yoga to try to manage my stress level.\n",
            "The man wore a jet black tuxedo with satin stripes.\n",
            "It was made with rich fabric cut in the latest style.\n",
            "Clearly he had it tailored, as it fit the man perfectly.\n",
            "It looked like something a professional stylist would have picked out for a formal event.\n",
            "While the tuxedo is still preferred, today's grooms are making personal statements in wedding attire.\n",
            "Shorter jackets are on the cutting edge of wedding fashion for men.\n",
            "Grooms are also jazzing up their tuxedos with colorful shirts and satin ties.\n",
            "A tuxedo jacket is a tailless dinner jacket with black silk lapels.\n",
            "Black tie trousers should be a perfect match to the tuxedo jacket.\n",
            "The shirt should always be plain white and the tie should be black and match the jacket lapels.\n",
            "The concert pianist went blind in adulthood.\n",
            "Her blindness was caused by a genetic condition that slowly damaged the eyes.\n",
            "She told interviewers that being blind was an advantage to a pianist.\n",
            "She had no visual distractions, so she could concentrate more fully on her music.\n",
            "The government defines blindness as vision insufficient for the ordinary activities of life.\n",
            "By establishing the parameters of legal blindness, resources can be focused on the legally blind.\n",
            "This may overlook those who have vision problems but who do not meet the standard.\n",
            "In developing countries, blindness in children is usually caused by infectious disease and nutritional deficiencies.\n",
            "These causes can often be prevented by medicine and vitamin supplements.\n",
            "In developed countries, blindness is more likely to be caused by genetic problems.\n",
            "No one really knows exactly how a taste gets from your mouth to your brain.\n",
            "Scientists think the process begins when a molecule of food touches a taste bud cell.\n",
            "The cell carries a taste message to taste nerves beneath the cell.\n",
            "It was once believed that each taste bud responded to one of the four basic tastes.\n",
            "That is, a taste bud on the tip of the tongue would respond only if you were eating something sweet.\n",
            "Scientists now think that a single taste bud can be sensitive to all of the basic tastes.\n",
            "My sense of taste isn't very good, so I tend to eat foods with very strong flavors.\n",
            "I like lots of hot sauce, and I drink my coffee with no cream, so it's very bitter.\n",
            "I can't even taste sweetness well, so when I make cookies I add extra sugar.\n",
            "Hip fractures are a real problem for aging individuals.\n",
            "Patients are faced with the pain of the break and the difficult process of healing.\n",
            "Families have to adjust to the patient's loss of independence.\n",
            "And for society, hip fractures involve substantial expense and time in the hospital.\n",
            "Halfway through the race, I heard a sound like someone snapping their fingers.\n",
            "I felt a crunch and I knew instantly that my foot was broken.\n",
            "Every step felt like running on spikes.\n",
            "At the doctor's office afterward, the x-ray clearly showed the fracture.\n",
            "There are a few different types of bone fracture.\n",
            "In closed or simple fractures, the bone is broken but the skin is intact.\n",
            "In open or compound fractures, the broken bone has punctured the skin and produced an open wound.\n",
            "New ear piercings can become infected if they're not carefully cleaned.\n",
            "Signs of infection include tenderness, swelling, or redness around the earlobe.\n",
            "If you see these symptoms, clean the area and apply some ointment.\n",
            "If the redness and swelling don't go away, contact your health care provider.\n",
            "A local hospital has initiated new measures to reduce infections.\n",
            "They have improved hand washing habits and ensured that infected patients are isolated from other patients.\n",
            "The hospital has seen infection rates drop since the new measures began.\n",
            "Scrubbing a wound with soap or alcohol delays healing, which increases the risk of infection.\n",
            "Band-aids can increase the risk of infection by holding in heat and moisture.\n",
            "Fortunately, most skin infections can easily be treated once they are diagnosed.\n",
            "Modern opera started at the end of the sixteenth century.\n",
            "It began as an effort to rediscover and imitate Greek tragic performance.\n",
            "Early founders of opera chose tales from antiquity for their subject matter.\n",
            "Later operas branched out into different sources of stories and musical traditions.\n",
            "Opera is an art form in which singers and musicians perform a play that combines words and music.\n",
            "It incorporates many of the elements of spoken theatre, such as acting, scenery, and costumes.\n",
            "Performances are typically given in an opera house and accompanied by an orchestra.\n",
            "The opera singer has worked hard to win the role in the new production.\n",
            "Her job is not just about singing.\n",
            "Acting, stage presence, and musical interpretation are all critical.\n",
            "But her pure, strong voice is certainly the star of the show.\n",
            "A painter must keep many elements in mind while completing a painting.\n",
            "She has to use solid elements of design, like strong composition and lighting.\n",
            "She has to execute the brush strokes with skill.\n",
            "Most importantly, the content of the painting should reveal a glimpse of the painter's soul.\n",
            "Long ago, painters were employed more as skilled artisans than as creative artists.\n",
            "However, prominent painters had the social status of scholars and members of the royal court.\n",
            "They signed their work, decided on its subject and imagery, and established a personal relationship with their patrons.\n",
            "As a painter, I learned to focus less on the actual scene and more on the painting itself.\n",
            "An artist's eye is not a camera lens that has to record everything within its field of vision.\n",
            "I found nature provides useful information, but more than is needed for a good painting.\n",
            "The eagle owl is an impressive bird.\n",
            "It has ear tufts that stick up like horns.\n",
            "Its large orange eyes are downright creepy, and look like they could pierce right through you.\n",
            "This owl hunts at night, flying swiftly and silently through the darkness.\n",
            "While some owl species have become endangered, others are thriving.\n",
            "The barred owl has spread well beyond its previous habitat.\n",
            "Early findings suggest that logging may have facilitated the barred owl's invasion.\n",
            "The owl landed on a thick branch and gripped it with her talons.\n",
            "She pressed her wings to her sides and settled down, half-closing an eye.\n",
            "She might have been a statue but for the glow of her eyes.\n",
            "It's unnerving to watch a polar bear stalk across floating sea ice.\n",
            "It's even worse when you are submerged in the frigid waters directly beneath the huge animal.\n",
            "Overhead, giant paws set down on the ice as the polar bear pursued its prey.\n",
            "As part of the film crew for a polar bear documentary, I spent months capturing these shots.\n",
            "Polar bears are one of the few animals that will attack people for reasons other than fear or confusion.\n",
            "They may attack out of hunger because they live in a food-scarce environment.\n",
            "They will sneak up on people slowly, careful to conserve their energy.\n",
            "The seal is an important part of the polar bear's diet.\n",
            "When hunting, they will wait by a seal's breathing hole, or stalk seals that are basking on the ice.\n",
            "The polar bear will crawl quietly forward and freeze in place when the seal looks around.\n",
            "The medieval castle was not a structure built primarily for defense.\n",
            "Its purpose was to dominate its surroundings.\n",
            "A castle could easily control lands within a day's walk.\n",
            "During times of attack, peasants, livestock, and property could be brought inside the castle's walls for protection.\n",
            "Spectacular castles in dramatic locations provide a record of the stormy history of many regions.\n",
            "Today, they stand atop rocky cliffs overlooking beautiful landscapes and quaint villages.\n",
            "In the past, they were home to battles, plots and intrigue.\n",
            "Upon leaving the train station we saw our hotel looming above:  a magnificent castle built on a cliff.\n",
            "The thick outside walls sheltered an inner courtyard hundreds of feet above the river.\n",
            "Our tower rooms had an incredible but slightly scary view.\n",
            "After climbing fifty feet up the side of the pyramid, the man gestured me into a small black entranceway.\n",
            "This led into the chamber at the pyramid's center.\n",
            "I followed him down the steep, dark, narrow Passage.\n",
            "The smell inside the pyramid was chalky and the air was thick.\n",
            "More than just the tomb of the king, pyramids represented the pride of the nation.\n",
            "The care that the pyramid builders took in their craft is evident.\n",
            "The stones covering the pyramid were precisely fitted together and polished until the structure gleamed.\n",
            "Architects are still working to solve the mysteries of how pyramids were constructed.\n",
            "Some think ramps were built inside the pyramid's walls to raise stone blocks.\n",
            "Others speculate that ramps zigzagged up the exterior walls of the pyramid.\n",
            "Even beginner rock climbing takes courage and strength.\n",
            "Climbers who are learning the sport can try scrambling on large boulders.\n",
            "Once they're comfortable with that, they can begin using ropes to safely climb vertical rock faces.\n",
            "All of the boys on the trip were new to rock climbing.\n",
            "Many were afraid of heights.\n",
            "Having someone else check their knots and harnesses helped them calm down.\n",
            "The adults set up climbing routes appropriate for beginners.\n",
            "Free-climbing is one particular style of rock climbing.\n",
            "The climber relies solely on her skill and physical strength to ascend a rock face.\n",
            "Rope and bolts are the only equipment used.\n",
            "They are meant only to stop the climber if she falls.\n",
            "I hesitantly skied down the steep trail that my buddies convinced me to try.\n",
            "I made a bad turn and I found myself tumbling down.\n",
            "I finally came to a stop at a flat part of the slope.\n",
            "My skis were nowhere to be found and my poles were lodged in a snow drift up the hill.\n",
            "A major strength of professional skiers is how they use ski poles.\n",
            "Proper use of ski poles improves their balance and adds flair to their skiing.\n",
            "It minimizes the need for upper body movements to regain lost balance while skiing.\n",
            "New ski designs and stiffer boots let skiers turn more quickly.\n",
            "But faster and tighter turns increase the twisting force on the legs.\n",
            "This has led to more injuries, particularly to ligaments in the skier's knee.\n",
            "\n"
          ]
        }
      ],
      "source": [
        "with open('stimuli_243sentences.txt', 'r') as file:\n",
        "    stimuli_243sentences = file.read()\n",
        "print(stimuli_243sentences)"
      ]
    },
    {
      "cell_type": "code",
      "execution_count": 6,
      "metadata": {
        "id": "37RJ802hTUqX",
        "colab": {
          "base_uri": "https://localhost:8080/"
        },
        "outputId": "2d6db672-9605-4c2a-a74a-ba6e108f52a3"
      },
      "outputs": [
        {
          "output_type": "stream",
          "name": "stdout",
          "text": [
            "An accordion is a portable musical instrument with two keyboards.\n",
            "One keyboard is used for individual notes, the other for chords.\n",
            "Accordions produce sound with bellows that blow air through reeds.\n",
            "An accordionist plays both keyboards while opening and closing the bellows.\n",
            "An apartment is a self-contained home that is part of a building.\n",
            "An apartment may have one or more rooms, as well as a kitchen and a bathroom.\n",
            "Some apartments are for single people, others for families.\n",
            "The building can have a garage, a laundry facility or extra storage space.\n",
            "An apple is a fruit that can be green, red or yellow.\n",
            "Apples have thin skin, a crisp, sweet pulp and seeds inside.\n",
            "Some very tart apples are used to make cider.\n",
            "Apples can be eaten raw, roasted or baked in pies.\n",
            "Arson is the criminal act of burning a building or wildland.\n",
            "A fire investigation determines if a fire was caused by accident or arson.\n",
            "Arson can be done to cause damage to others or collect insurance.\n",
            "The severity of the crime depends on whether people were harmed.\n",
            "An automobile, or car, is a wheeled vehicle for transporting passengers.\n",
            "A car can be powered by a gasoline or electric engine.\n",
            "The driver steers the car on roads, other passengers just sit.\n",
            "Automobiles vary in size, number of doors and the type of trunk.\n",
            "The axe is a tool used to split and cut wood.\n",
            "The axe usually consists of a head attached to a handle.\n",
            "Historically, axe heads were made of stone and then metal.\n",
            "Axes are used by woodcutters and firemen entering buildings.\n",
            "A banana is a long fruit that grows in bunchs, with a soft edible inside.\n",
            "A banana when ripe can be yellow, purple or red and have small brown spots.\n",
            "The greatest producers are tropical countries, such as India or Ecuador.\n",
            "Unripe bananas and plantains are staple foods and often cooked like potatoes.\n",
            "A bed is a piece of furniture used as a place to sleep or have sex in.\n",
            "A bed is made of a mattress and a box spring, plus sheets, pillows and covers.\n",
            "In waterbeds the mattress is filled with water, and in airbeds it is filled with air.\n",
            "Another type of bed is the hammock, a fabric sling suspended above the ground.\n",
            "A bee is a flying insect, with a black and yellow body and six legs.\n",
            "Bees spread pollen between flowers as they collect nectar to make honey.\n",
            "Bees are social insects and live together in a colony located in a hive.\n",
            "Many bees have stingers and can attack if they feel threatened.\n",
            "A bicycle is a vehicle with two wheels and pedals on a frame.\n",
            "A bicycle is propelled by the pedalling of a cyclist on the saddle.\n",
            "The wheels have rubber tires with an inner tube full of air.\n",
            "People use bicycles for transportation, recreation and racing.\n",
            "A blacksmith creates objects by forging iron or steel.\n",
            "A blacksmith hammers and bends hot iron on an anvil to change its shape.\n",
            "Blacksmiths wears a thick apron and handle the metal with tongs.\n",
            "Blacksmiths make objects like weapons, horse shoes or iron furniture.\n",
            "A blender is a kitchen appliance used to mix ingredients or puree food.\n",
            "Blenders have a glass or plastic container with a rotating blade in the bottom.\n",
            "Blenders are used to make milk shakes and fruit smoothies.\n",
            "Blenders are also used to make cold alcoholic drinks with crushed ice.\n",
            "A boy is a young male child who has not undergone puberty.\n",
            "The term is used to indicate sex distinctions relative to girls.\n",
            "Traditionally boys like to play rough games and fight with each other.\n",
            "An adult male behaving immaturely is often referred to as a boy.\n",
            "Broccoli is a plant in the cabbage family.\n",
            "Broccoli has a green flower head and a thick, tough stalk.\n",
            "Broccoli is high in vitamins, fiber and other nutrients.\n",
            "Broccoli can be boiled, stir-fried or eaten raw.\n",
            "A butterfly is a flying insect with four large wings.\n",
            "The wings of butterflies can be very colorful and patterned.\n",
            "Metamorphosis is the transformation of a caterpillar into a butterfly.\n",
            "Some people collect butterflies because of their colorful wings.\n",
            "A carpenter is an artist or manual laborer who works with wood.\n",
            "Carpenters build and repair houses, furniture, boats and other objects.\n",
            "Carpenters use tools such as hammers, saws, pliers and planes.\n",
            "A luthier is a carpenter that makes and repairs musical instruments.\n",
            "Cats are small furry animals with four legs and a tail.\n",
            "Cats like to groom themselves by licking their fur.\n",
            "Cats can hunt mice or birds, but are often fed by their owners.\n",
            "The claws of cats are retractable so that they keep sharp.\n",
            "A chair is a piece of furniture designed for people to sit on.\n",
            "Chairs consist of a seat raised above floor level, supported by legs.\n",
            "Chairs can also have back and arm rests, as well as a cushion.\n",
            "Seats are fixed chairs located in vehicles or in places like cinemas.\n",
            "A clarinet is a woodwind musical instrument.\n",
            "A clarinet is a long black tube with a flare at the bottom.\n",
            "The player chooses notes by pressing keys and holes.\n",
            "The clarinet is used both in jazz and classical music.\n",
            "A cod is a fish that lives in the colder areas of the Atlantic.\n",
            "Cod flesh is white and mild-tasting, and flakes easily when cooked.\n",
            "Fresh cod is used for fish and chips, salted cod for elaborate dishes.\n",
            "Cod has been caught, salted and traded since the time of the Vikings.\n",
            "Coffee is made from coffee beans, the seeds of the coffee plant.\n",
            "Coffee is a popular drink in many countries, and usually served hot.\n",
            "Coffee contains a mild drug called caffeine that keeps people awake.\n",
            "Coffee is the world's seventh-largest legal agricultural export.\n",
            "A desert is a natural environment where almost no rain falls.\n",
            "Hot deserts are usually filled with sand dunes or rocks.\n",
            "Some animals and plants have adapted to live in deserts.\n",
            "The biggest hot desert is the Sahara in northern Africa.\n",
            "A desk is a piece of furniture used for working at, sometimes with a computer.\n",
            "A desk has a flat surface and can be made of wood, plastic or metal.\n",
            "A desk may have drawers to store supplies and papers.\n",
            "A cubicle consists of a desk surrounded by partitions on three sides.\n",
            "A door is a movable barrier to entrance or exit from an enclosed area.\n",
            "Most doors have locks to control who gets to pass through them.\n",
            "Most doors are opened by pushing or pulling a handle after they are unlocked.\n",
            "Other types of doors can slide or consist of a revolving chamber.\n",
            "A dress is a piece of clothing that women sometimes wear.\n",
            "A dress is like a shirt attached to a long, matching skirt.\n",
            "A dress is usually worn at formal occasions, such as a wedding or a dance.\n",
            "It can be hard to climb stairs or ride a bike in a dress.\n",
            "Drunk driving is the act of driving under the effects of alcohol.\n",
            "Drunk driving of any vehicle is a crime in most of the world.\n",
            "It plays a role in almost half of all vehicle-related deaths.\n",
            "Drunk drivers are caught by field sobriety and breathing tests.\n",
            "A drought is a persistent shortage of the water supply caused by lack of rain.\n",
            "Drought will cause crops and plants to stop growing and die.\n",
            "Extreme drought will eventually turn areas into desert and cause famine.\n",
            "Large numbers of people have to migrate away from dust bowls.\n",
            "Eagles are large birds of prey that hunt during the day and have very good eyesight.\n",
            "Eagles have hooked beaks for tearing flesh, strong legs and sharp talons.\n",
            "Eagles live in eyries and some species eat fish and others small mammals.\n",
            "The bald eagle has a bright white head and is the national bird of the United States.\n",
            "Earthquakes shake the ground and can knock down buildings and other structures.\n",
            "The shaking can also trigger landslides and volcanic activity.\n",
            "Most earthquakes are caused by the release of energy in the Earth's crust.\n",
            "An earthquake at sea can displace the seabed and cause a tsunami.\n",
            "Elephants are the largest kind of land mammal, weighing several tons.\n",
            "An elephant has a long nose called a trunk, which can grab things or food.\n",
            "The elephant has a pair of ivory tusks, for moving objects or digging into trees.\n",
            "The elephant flaps its large ears to cool the blood in them and its body.\n",
            "The eye is an organ for sensing light and coding it for the visual cortex.\n",
            "Most animals have complex eyes which can detect color, motion and texture.\n",
            "The fovea is the center of the human eye and the most sensitive part of it.\n",
            "Insects have compound eyes made up of eye units facing in many directions.\n",
            "A farm is land used to grow plants or raise animals for food.\n",
            "Farmers are the people who run the farm and decide what to produce.\n",
            "Farms usually have a house for farmers, a silo and a barn.\n",
            "A cooperative is a farm where many farmers share the land and equipment.\n",
            "Primates usually have four fingers and a thumb on each hand.\n",
            "Fingers are used for grasping, writing, grooming and other activities.\n",
            "The fingertips are sensitive to temperature, pressure and vibration.\n",
            "The nail protects the tip of the finger and can be grown or decorated.\n",
            "A flood is an overflow of an expanse of water that submerges inhabited land.\n",
            "Flood can be caused by heavy rain or rapid snow melt, as well as earthquakes at sea.\n",
            "In a flood a river will flow out of its channel or break dams and levees.\n",
            "During a flood people evacuate and the contaminated water causes diseases.\n",
            "A floor is a horizontal surface inside a building, used for walking on.\n",
            "Floors may be made of bare concrete, tile, linoleum or wooden floorboards.\n",
            "People often put carpets on a floor, for comfort and to dampen noise.\n",
            "In buildings the floor often has pipes and electrical wiring under it.\n",
            "A foot is a body part on the end of a leg. \n",
            "People use their feet when walking, running or standing straight.\n",
            "People also use their feet to kick, in both fighting and sports.\n",
            "Many cultures have rules for behavior related to feet.\n",
            "A forest is an area with a high density of trees and canopy cover.\n",
            "The type of forest depends on temperature and rainfall in its location.\n",
            "A forest ecosystem has various types of trees and animals, as well as ground plants.\n",
            "Deforestation is the cutting down of forests disregarding regeneration.\n",
            "A fork is a tool for eating solid foods, with a handle and several tines.\n",
            "Forks are usually  made of metal, or plastic, if disposable.\n",
            "Forks are used to lift food to the mouth or to hold food in place while cutting.\n",
            "Forks are used in Western cultures, and there are special kinds for various foods.\n",
            "A frying pan is a small pan with sloping sides and a handle.\n",
            "A frying pan is used to fry, sear and brown food.\n",
            "The food is cooked on oil covering the bottom of the pan.\n",
            "Frying pans are made of iron or teflon-clad steel.\n",
            "A girl is a female human who has not yet reached maturity.\n",
            "At puberty the body of a girl develops into that of a woman.\n",
            "Girls often like playing with dolls and social games.\n",
            "Girls sometimes grow long hair and wear dresses and skirts.\n",
            "A glove is a piece of clothing that covers the hand and fingers.\n",
            "Gloves to protect against cold are made of wool or lined waterproof material.\n",
            "Disposable rubber or latex gloves are used to shield hands from germs or chemicals.\n",
            "A mitten is a kind of glove where the four fingers are covered together.\n",
            "A hammer is a tool used to deliver an impact to an object.\n",
            "A hammer is most often used to drive nails into wood.\n",
            "The claw on the head can be used to remove nails.\n",
            "Hammers vary in the shape of the head and handle length.\n",
            "A hand grenade is an explosive used as a weapon against people.\n",
            "Hand grenades are thrown and timed to explode a bit after that.\n",
            "Grenades can also be fired from rifles or shoulder launchers.\n",
            "Tear gas grenades are thrown into the middle of a mob to disperse it.\n",
            "A horse is a large hoofed mammal with four long, muscular legs.\n",
            "A horse has a tail and a mane on its neck, and is usually gray or brown.\n",
            "Horses have been used for draft work, travel and entertainment.\n",
            "A human can ride a horse while it walks, trots or gallops.\n",
            "People go to hospitals to be healed when they are sick or injured.\n",
            "Hospitals are staffed by professional physicians, surgeons, and nurses.\n",
            "Some patients go there for specialist diagnosis or therapy, leaving the same day.\n",
            "For some operations or treatments patients have to stay for several weeks.\n",
            "A house is a permanent building or structure for people or families to live in.\n",
            "A house has a roof and walls to keep out cold and rain, and windows to let light in.\n",
            "A house can have rooms for purposes like sleeping, cooking or washing.\n",
            "Most people leave the house to work and come back at night to eat and sleep.\n",
            "An igloo is a type of shelter made from blocks of snow by Inuit.\n",
            "Igloos are built in places where snow covers the land most of the time.\n",
            "Igloos are often built in the shape of a dome, with an entrance tunnel.\n",
            "Air pockets in snow insulate the space, and body heat warms igloos.\n",
            "A knife is a tool with a sharp edge that is used to cut things.\n",
            "Modern knives consist of a handle and a blade, usually made of metal.\n",
            "Knives have also been used as weapons and instruments in rituals.\n",
            "A knife can be used to attack by slashing, stabbing or throwing. \n",
            "Lentils are the seeds of a plant of the legume family.\n",
            "Lentils can be red, green, brown, black or yellow.\n",
            "Lentils are commonly used in Indian and Mediterranean cuisines.\n",
            "Lentils are cooked by boiling and are a great source of protein.\n",
            "Lettuce is a biennial plant often grown in temperate climates as a leaf vegetable.\n",
            "Lettuce can be eaten cold and raw, in salads and other dishes, or cooked.\n",
            "Lettuce is considered fairly easy to grow and a suitable crop for beginners.\n",
            "Most lettuce leaves taste bitter, but some are bred to remove the bitterness.\n",
            "A library is a place where a collection of books, documents and media is kept.\n",
            "Librarians work at libraries and are experts at finding and organizing information.\n",
            "People can go to public libraries and borrow books to take home for several weeks.\n",
            "Academic libraries support scholarly research and have specialized books.\n",
            "A log cabin is a small house built from round logs.\n",
            "Log cabin is a symbol of American frontier life and humble origins.\n",
            "Log cabins were used as first shelters by european settlers.\n",
            "Log cabins were built using logs with notch joints at the ends.\n",
            "A man is a male human adult.\n",
            "A boy becomes a man after passing through puberty.\n",
            "Manhood is associated with masculinity and virility.\n",
            "Men differ from women in height, weight, and body structure.\n",
            "Milk is a white liquid produced by female mammals to feed their young.\n",
            "Newborn animals must be fed milk before they can eat solid food.\n",
            "Dairy products such as cheese and butter are made from milk.\n",
            "Liquid produced from soybeans and coconuts is sometimes called milk.\n",
            "Mosquitos are thin, small flying insects that emit a high-pitched sound.\n",
            "Mosquitoes have mouthparts for piercing the skin of plants and animals.\n",
            "Female mosquitoes bite people and animals and suck their blood for protein.\n",
            "Mosquito bites can spread yellow fever, malaria and other parasite diseases.\n",
            "A mountain is a landform that rises steeply above surrounding land.\n",
            "Mountains rise higher than hills and sometimes have snow at the top.\n",
            "A range of mountains forms due to tectonic plate collision.\n",
            "Mountaineers are people who climb or hike up mountains.\n",
            "The mouth is the face cavity we put food in when we eat.\n",
            "The mouth has teeth to chew food and mix it with saliva.\n",
            "The mouth is also used for kissing and talking.\n",
            "Speech sounds are controlled by tongue placement in the mouth.\n",
            "A mug is a sturdy cup with a handle for drinking hot liquids.\n",
            "A mug is normally ceramic, but can also be made of metal or glass.\n",
            "A mug is thick and has a ring base for thermal insulation.\n",
            "Mugs can be plain or have drawings imprinted or carved on them.\n",
            "Murder is the unlawful killing of another human being with intent.\n",
            "Murder a serious crime because it deprives the victim of their existence.\n",
            "Killing in self-defense, accidentally or in war is not considered murder.\n",
            "A convicted murderer is often given a life sentence or the death penalty.\n",
            "Orange juice is a drink made from the liquid in orange pulp.\n",
            "Orange juice has a sweet, acid taste and contains a lot of vitamin C.\n",
            "Freshly squeezed orange juice often contains pulp as well.\n",
            "Orange juice is often drunk at breakfast from a glass.\n",
            "A parrot is a bird that lives in warm and tropical regions.\n",
            "Parrots have brightly-colored feathers and a sharp, curved beak.\n",
            "Parrots can imitate the human voice if they hear it repeatedly.\n",
            "Their appearance and abilities makes them popular pets.\n",
            "A peach is an orange-yellow fruit with a characteristic smell.\n",
            "The skin of a peach is thin and covered in small, fine hairs.\n",
            "Peaches have a large, red-brown stone inside which contains the seed.\n",
            "Peaches are sweet and delicate, and must be harvested after ripening.\n",
            "The piano is a popular musical instrument played by means of a keyboard.\n",
            "Pressing a piano key causes a felt-tipped hammer to hit a vibrating steel string.\n",
            "The piano has an enormous note range, and pedals to change the sound quality.\n",
            "The piano repertoire is large and famous pianists can give solo concerts.\n",
            "Piranhas are small, ferocious fish that live in South American rivers.\n",
            "Piranhas live and attack in schools and are most active during the day.\n",
            "Piranhas have very sharp teeth and are opportunistic carnivores.\n",
            "Piranhas eat fish, insects, lizards, mammals and carrion.\n",
            "The raspberry is a fruit that grows in forest clearings or fields.\n",
            "A single raspberry consists of many small fruits joined together.\n",
            "Raspberries are eaten by themselves or cooked with sugar into jam.\n",
            "Leaves of the raspberry are used fresh or dried in herbal teas.\n",
            "A raven is a large black bird that thrives in many climates.\n",
            "Ravens feed on carrion, insects, berries or small animals. \n",
            "Ravens have large brains and are capable of problem solving.\n",
            "In folklore ravens are birds of ill-omen and also tricksters. \n",
            "A refrigerator is a cooling device used to contain and preserve food.\n",
            "Some refrigerators can have a small compartment at freezing temperature.\n",
            "A refrigerator can have shelves and small compartments for different types of food.\n",
            "A refrigerator is generally white and people often put magnets on its surface.\n",
            "A rifle is a firearm that rests on the shoulder and has a barrel with twisting grooves.\n",
            "The grooves make the bullets spin around the rifle axis as they fly through the air.\n",
            "Rifles are used in hunting and shooting sports, sometimes with scopes.\n",
            "Assault rifles can fire in bursts and are the standard infantry weapon.\n",
            "Salmon is a fish that migrates from fresh water to the ocean and back to spawn.\n",
            "Salmon flesh is orange or red and has high protein content and a nice taste.\n",
            "Salmon can be eaten raw in sushi or cooked by grilling, poaching or in other ways.\n",
            "Salmon is the most common farmed fish, though it can also be caught in the wild.\n",
            "A saw is a tool that uses a hard blade or abrasive wire to cut hard materials.\n",
            "The small sharp points along the cutting side of the saw are called the teeth.\n",
            "Saws can be worked by hand, or powered by an electric motor or gas engine.\n",
            "Saws are used extensively in forestry, construction, carpentry and medicine.\n",
            "A scientist studies and produces new knowledge about the physical world.\n",
            "A scientist creates hypotheses and does experiments to test them.\n",
            "Physics, chemistry and biology are classic examples of sciences.\n",
            "Scientists publish their research in journals and conferences.\n",
            "Scissors are a two-bladed instrument used for cutting.\n",
            "The blades are usually metallic, with plastic or metal handles.\n",
            "Depending on the size and format, scissors can cut paper, hair or fabric.\n",
            "Shears are large scissors used for cutting shrubs or pieces of metal.\n",
            "A screwdriver is a tool for inserting and tightening screws into something.\n",
            "Screwdrivers can also be used to remove screws after they are inserted.\n",
            "The screwdriver tip applies the torque from rotating the handle.\n",
            "The two major types of screwdrivers are Phillips and flathead.\n",
            "A shark is a large fish with a cartilage skeleton.\n",
            "Sharks have streamlined bodies, with a large dorsal fin.\n",
            "Most sharks predate on fish and mammals, with powerful jaws.\n",
            "Sharks have very keen senses and can detect electrical fields.\n",
            "A ship is a large vehicle that floats and travels on water.\n",
            "A ship can be powered in the ocean by sails, steam, or diesel engines.\n",
            "Ships are used to fish in the ocean and to transport cargo containers.\n",
            "Cruise ships are floating hotels that take people between cities.\n",
            "A shoe is clothing for the foot, with a sole, an outsole and a heel.\n",
            "Shoes are usually made of leather, canvas, rubber or plastic.\n",
            "Women's shoes often have high heels and come in many styles and colors.\n",
            "A sneaker is a shoe for sports and athletic activity.\n",
            "A soldier is a member of the national armed forces who fights on land.\n",
            "A soldier in the militia must wear a uniform, usually camouflage.\n",
            "In a volunteer army, a soldier is paid for his or her work.\n",
            "A soldier fights using weapons such as rifles and grenades.\n",
            "Spears are weapons that consist of a pole and sharpened head at one end.\n",
            "Spears were the most common personal weapon before the advent of firearms.\n",
            "Spears were used for stabbing or throwing when fighting in war.\n",
            "Some native people still use the spear for hunting and fishing.\n",
            "Spiders are insects with eight legs that make silk.\n",
            "Spiders build webs with silk and use them to catch insects.\n",
            "Spiders use venomous fangs to paralyse their stuck prey.\n",
            "Spiders can be as small as a coin or as big as a bird.\n",
            "Swamps are low, spongy land subject to frequent inundation.\n",
            "A swamp is covered with shallow water, mud and vegetation.\n",
            "Swamps are nesting and breeding grounds for birds and reptiles.\n",
            "Farmers often drain swamps to produce fertile arable land. \n",
            "A sweater is a heavy garment worn on the torso for warmth.\n",
            "Sweaters are often knitted from wool but cotton is also common.\n",
            "A sweater that opens down the front is called a cardigan.\n",
            "Sweaters differ in cut, collar and sleeve shape, as well as decoration.\n",
            "A table is a piece of furniture with a flat surface and legs.\n",
            "There are usually chairs around a table for people to sit.\n",
            "People set cutlery, plates and food on a table to eat a meal together.\n",
            "Tables are also used as surfaces to work or write on.\n",
            "A television is an appliance with a screen that displays moving images.\n",
            "Televisions are mostly used for watching programs or films.\n",
            "They are used to play videogames when connected to a game console.\n",
            "Television content can be broadcast or received via cable or internet.\n",
            "Theft is the taking of person's property without their consent.\n",
            "Thieves steal to own something or to sell it to receivers.\n",
            "Theft is a crime and can be punishable with jail or fines.\n",
            "Industrial espionage is theft of ideas and intellectual property.\n",
            "A toaster is a kitchen appliance for toasting bread using heating elements.\n",
            "Pop-up toasters toast the bread placed in a slot and eject it once done.\n",
            "Toaster ovens have a door on the side, a tray within and temperature control.\n",
            "They allow bread to be cooked with toppings like garlic or cheese.\n",
            "The tomato is a shiny and smooth red fruit, with a savory taste.\n",
            "A tomato softens and changes color from green to red as it gets more ripe.\n",
            "Tomatoes can be used to make salads, soup or ketchup, as well as sauce.\n",
            "There are many varieties of tomato, with different sizes and tastes.\n",
            "A train is a connected series of cars that moves between stations on a track.\n",
            "The train is pulled by a locomotive, powered by diesel or electricity.\n",
            "A freight train transports containers of goods or fuel over long distances.\n",
            "Commuter trains transport people between suburbs and stations inside a city.\n",
            "A train station is a place where passengers get on or off a train.\n",
            "Train stations have counters or machines for purchasing tickets.\n",
            "There are waiting rooms and places to eat in a station.\n",
            "Passengers or cargo trains enter from a platform next to the line.\n",
            "A tropical cyclone is a storm formed over warm tropical sea.\n",
            "Cyclones can produce very powerful winds and torrential rain.\n",
            "Tropical cyclone can also cause high waves and coastal flooding.\n",
            "A tropical cyclone can move inland and seriously damage property.\n",
            "The violin is an instrument with four strings that is played with a bow.\n",
            "Violin is the smallest and highest pitched instrument in its family.\n",
            "A violinist holds the instrument between the chin and the collarbone.\n",
            "Different notes are made by fingering the neck with one hand while bowing.\n",
            "Vultures are scavenging birds, feeding mostly on the carcasses of dead animals.\n",
            "Many vultures have a bald head without feathers for losing heat.\n",
            "Vultures use their large wings to soar for miles without flapping.\n",
            "Vultures seldom attack healthy animals, but may kill the wounded or sick.\n",
            "A wall is a solid structure that defines and sometimes protects an area.\n",
            "Walls delineate a building, support the roof, and divide the space into rooms.\n",
            "Walls are usually made of stone, brick, or cement, as well as drywall.\n",
            "Retaining walls provide a barrier to movement of earth, stone or water.\n",
            "Water is the most common liquid on Earth, covering 70% of its area.\n",
            "Plants, animals and people must drink water in order to live.\n",
            "Water freezes at a low temperature and becomes solid ice.\n",
            "Rain is water that falls from clouds in the sky, which are condensed vapor.\n",
            "A whale is a very large mammal that lives in the ocean.\n",
            "Whales breathe through blowholes on their heads when surfacing.\n",
            "The blubber in a whale serves as an energy reservoir and as insulation.\n",
            "Whales have been hunted for meat, whale oil and ambergris.\n",
            "A window is a transparent opening in a wall to let light through.\n",
            "A typical window is made of sheets of glass held in place by frames.\n",
            "When open, a window will also let air and sound through.\n",
            "Some windows have multiple panes to increase insulation inside.\n",
            "A woman is a female human adult.\n",
            "A woman is stereotypically seen as a caregiver.\n",
            "A woman can become pregnant and bear children.\n",
            "A woman has different reproductive organs than a man.\n",
            "\n"
          ]
        }
      ],
      "source": [
        "with open('stimuli_384sentences.txt', 'r') as file:\n",
        "    stimuli_384sentences = file.read()\n",
        "print(stimuli_384sentences)"
      ]
    },
    {
      "cell_type": "code",
      "execution_count": 7,
      "metadata": {
        "id": "ZmBaxlGgShJ5"
      },
      "outputs": [],
      "source": [
        "from learn_decoder import *\n",
        "vectors_243 = read_matrix('vectors_243sentences.GV42B300.average.txt', sep=\" \")\n",
        "# print(vectors_243.head())\n",
        "\n",
        "vectors_384 = read_matrix('vectors_384sentences.GV42B300.average.txt', sep=\" \")\n",
        "# print(vectors_384.head())\n"
      ]
    },
    {
      "cell_type": "code",
      "execution_count": 8,
      "metadata": {
        "id": "aNzBwXQJSjaW",
        "colab": {
          "base_uri": "https://localhost:8080/"
        },
        "outputId": "111ad6ab-e468-41a3-f5a6-e1817e061636"
      },
      "outputs": [
        {
          "output_type": "stream",
          "name": "stdout",
          "text": [
            "dict_keys(['__header__', '__version__', '__globals__', 'keyPassageCategory', 'keyPassages', 'keySentences', 'labelsPassageCategory', 'labelsPassageForEachSentence', 'labelsSentences', 'meta', 'Fmridata'])\n",
            "dict_keys(['__header__', '__version__', '__globals__', 'keyPassageCategory', 'keyPassages', 'keySentences', 'labelsPassageCategory', 'labelsPassageForEachSentence', 'labelsSentences', 'meta', 'Fmridata'])\n"
          ]
        }
      ],
      "source": [
        "import pickle\n",
        "\n",
        "with open('EXP3.pkl', 'rb') as f:\n",
        "    exp3_data = pickle.load(f)\n",
        "    print(exp3_data.keys())\n",
        "\n",
        "with open('EXP2.pkl', 'rb') as f:\n",
        "    exp2_data = pickle.load(f)\n",
        "    print(exp2_data.keys())\n"
      ]
    },
    {
      "cell_type": "code",
      "execution_count": 9,
      "metadata": {
        "id": "1eQ3WdSPVNE6",
        "colab": {
          "base_uri": "https://localhost:8080/"
        },
        "outputId": "aa7f03a8-1dc6-4441-f6a3-1119f804e8d9"
      },
      "outputs": [
        {
          "output_type": "stream",
          "name": "stdout",
          "text": [
            "Returned to the default working directory: /content\n"
          ]
        }
      ],
      "source": [
        "\n",
        "# Change back to the default working directory\n",
        "os.chdir('/content')\n",
        "# Confirm the change\n",
        "print(\"Returned to the default working directory:\", os.getcwd())"
      ]
    },
    {
      "cell_type": "code",
      "execution_count": 10,
      "metadata": {
        "id": "Liosd9lWBdQI"
      },
      "outputs": [],
      "source": [
        "#Let's load the functions from learn_decoder.py\n",
        "from learn_decoder import *\n",
        "\n",
        "#and the data\n",
        "data = read_matrix(\"imaging_data.csv\", sep=\",\")\n",
        "vectors = read_matrix(\"vectors_180concepts.GV42B300.txt\", sep=\" \")\n",
        "concepts = np.genfromtxt('stimuli_180concepts.txt', dtype=np.dtype('U')) #The names of the 180 concepts"
      ]
    },
    {
      "cell_type": "code",
      "execution_count": 11,
      "metadata": {
        "id": "CRI_G2E3jWIb",
        "colab": {
          "base_uri": "https://localhost:8080/"
        },
        "outputId": "bb94262a-1bf1-40ea-9e3a-08c988e006ed"
      },
      "outputs": [
        {
          "output_type": "execute_result",
          "data": {
            "text/plain": [
              "numpy.ndarray"
            ]
          },
          "metadata": {},
          "execution_count": 11
        }
      ],
      "source": [
        "type(data)"
      ]
    },
    {
      "cell_type": "markdown",
      "metadata": {
        "id": "h8RI_ZEJEA61"
      },
      "source": [
        "You can verify for your self what learn_decoder consists of by going to Files and opening it."
      ]
    },
    {
      "cell_type": "markdown",
      "metadata": {
        "id": "sIWqcFzpSjNj"
      },
      "source": [
        "### What are the Accuracy scores?"
      ]
    },
    {
      "cell_type": "markdown",
      "metadata": {
        "id": "xGLDercIBFSx"
      },
      "source": [
        "Define a function that computes rank-based accuracy score, then, iterate over the 18 folds. For each fold,  train the decoder **using the `learn_decoder` function** (the function is already imported from `learn_decoder.py`) on the fold train data, obtain the predicions on the fold test data, and store both the accuracy score of each concept (use the labels from `concepts`) as well as the average score of the 10 concepts.  "
      ]
    },
    {
      "cell_type": "code",
      "execution_count": 12,
      "metadata": {
        "id": "yMtlTgG5EdTb"
      },
      "outputs": [],
      "source": [
        "# import numpy as np\n",
        "# import random\n",
        "\n",
        "# seed = 42\n",
        "# indices = list(range(180))\n",
        "\n",
        "# def cosine_similarity(x: np.ndarray, y: np.ndarray) -> float:\n",
        "#     dot_prod = np.dot(x, y)\n",
        "#     norm_prod = np.linalg.norm(x) * np.linalg.norm(y)\n",
        "#     return dot_prod / norm_prod\n",
        "\n",
        "# folds_avg_ranks = []\n",
        "# concept_rank = []\n",
        "\n",
        "# for fold_i in range(18):\n",
        "#     test_inds = indices[fold_i * 10 : (fold_i + 1) * 10]\n",
        "#     train_inds = indices[:fold_i * 10] + indices[(fold_i + 1) * 10:]\n",
        "\n",
        "#     data_test_vectors = np.take(data, test_inds, axis=0)\n",
        "#     data_train_vectors = np.take(data, train_inds, axis=0)\n",
        "#     semantic_test_vectors = np.take(vectors, test_inds, axis=0)\n",
        "#     semantic_train_vectors = np.take(vectors, train_inds, axis=0)\n",
        "\n",
        "#     model = learn_decoder(data_train_vectors, semantic_train_vectors)\n",
        "\n",
        "#     sum_ranks = 0\n",
        "#     for i in range(len(test_inds)):\n",
        "#         our_pred = np.dot(data_test_vectors[i], model)\n",
        "#         true_concept = semantic_test_vectors[i]\n",
        "#         ranked = sorted(vectors, key=lambda sem_vec: cosine_similarity(sem_vec, our_pred), reverse=True)\n",
        "#         rank = np.argwhere(np.all(ranked == true_concept, axis=1))[0][0] + 1\n",
        "#         sum_ranks += rank\n",
        "#         concept_rank.append(rank)\n",
        "\n",
        "#     folds_avg_ranks.append(sum_ranks / 10)\n",
        "\n",
        "# print(data.shape)\n",
        "# print(vectors.shape)\n",
        "# print(concepts.shape)\n"
      ]
    },
    {
      "cell_type": "markdown",
      "metadata": {
        "id": "r4P3Ub86IgcB"
      },
      "source": [
        "Now let's plot the averaged accuracy score for each fold  "
      ]
    },
    {
      "cell_type": "code",
      "execution_count": 13,
      "metadata": {
        "id": "Z4HHdj5xIRnH"
      },
      "outputs": [],
      "source": [
        "# import matplotlib.pyplot as plt\n",
        "# fig = plt.figure()\n",
        "# ax = fig.add_axes([0,0,1,1])\n",
        "# folds = list(range(1,19))\n",
        "# folds = [str(number) for number in folds]\n",
        "# accs = folds_avg_ranks\n",
        "# print(len(folds))\n",
        "# print(len(accs))\n",
        "# ax.bar(folds,accs)\n",
        "# plt.title(\"Avg_rank for each fold\")\n",
        "# plt.show()\n",
        "\n",
        "#TODO"
      ]
    },
    {
      "cell_type": "code",
      "execution_count": 14,
      "metadata": {
        "id": "xvKU61PVDBcI"
      },
      "outputs": [],
      "source": [
        "# average_rank = sum(folds_avg_ranks) / len(folds_avg_ranks)\n",
        "# average_rank"
      ]
    },
    {
      "cell_type": "code",
      "execution_count": 15,
      "metadata": {
        "id": "JBzioWXaDIf5"
      },
      "outputs": [],
      "source": [
        "# max(folds_avg_ranks)"
      ]
    },
    {
      "cell_type": "code",
      "execution_count": 16,
      "metadata": {
        "id": "EvlzaOEUDMSy"
      },
      "outputs": [],
      "source": [
        "# min(folds_avg_ranks)"
      ]
    },
    {
      "cell_type": "code",
      "execution_count": 17,
      "metadata": {
        "id": "3Ok3kgcNDOGV"
      },
      "outputs": [],
      "source": [
        "# var_rank = sum((xi - average_rank) ** 2 for xi in folds_avg_ranks) / len(folds_avg_ranks)\n",
        "# np.sqrt(var_rank)"
      ]
    },
    {
      "cell_type": "markdown",
      "metadata": {
        "id": "jElBCr8_C-B7"
      },
      "source": []
    },
    {
      "cell_type": "markdown",
      "metadata": {
        "id": "Rd3N7q3k_avH"
      },
      "source": [
        "### Which concepts can be decoded with more or less success?"
      ]
    },
    {
      "cell_type": "code",
      "execution_count": 18,
      "metadata": {
        "id": "fAhfAbjOJCtf"
      },
      "outputs": [],
      "source": [
        "#TODO\n",
        "# more_success = []\n",
        "# less_success = []\n",
        "# for i in range(180):\n",
        "#   if concept_rank[i] <= 18:\n",
        "#     more_success.append(concepts[i])\n",
        "#   else:\n",
        "#     less_success.append(concepts[i])\n",
        "# print(f\"{len(more_success)} Concepts were decoded with more success:\")\n",
        "# print(more_success)\n",
        "# print(f\"{len(less_success)} Concepts were decoded with less success:\")\n",
        "# print(less_success)"
      ]
    },
    {
      "cell_type": "markdown",
      "metadata": {
        "id": "3YMW7QzESqf2"
      },
      "source": [
        "### Are the results satisfactory, in your opinion? Why or why not?"
      ]
    },
    {
      "cell_type": "markdown",
      "metadata": {
        "id": "ZMBoho0S_iUU"
      },
      "source": [
        "\\#TODO\n",
        "\n",
        "As shown in the bar graph, all but one fold achieved an average ranking score below 80, indicating strong performance. This is considerably better than a random guess, which would yield a score of 90.\n",
        "\n",
        "We defined a \"successful\" decoding as identifying the correct concept within the top 10% of the rankings (i.e., a rank of 18 or lower). The results show that we achieved this for 48 concepts, which is nearly 27% of our data classified very successfully.\n",
        "\n",
        "Considering the complexity of the task (essentially \"reading minds\"), these results are highly satisfactory. We achieved accuracy significantly above chance, which we regard as a substantial success."
      ]
    },
    {
      "cell_type": "code",
      "execution_count": 19,
      "metadata": {
        "id": "ZFid4Tj9sRHk",
        "colab": {
          "base_uri": "https://localhost:8080/"
        },
        "outputId": "c7deae2a-7058-4a26-de49-fe5d3009fc85"
      },
      "outputs": [
        {
          "output_type": "stream",
          "name": "stdout",
          "text": [
            "Requirement already satisfied: gensim in /usr/local/lib/python3.10/dist-packages (4.3.3)\n",
            "Requirement already satisfied: numpy<2.0,>=1.18.5 in /usr/local/lib/python3.10/dist-packages (from gensim) (1.26.4)\n",
            "Requirement already satisfied: scipy<1.14.0,>=1.7.0 in /usr/local/lib/python3.10/dist-packages (from gensim) (1.13.1)\n",
            "Requirement already satisfied: smart-open>=1.8.1 in /usr/local/lib/python3.10/dist-packages (from gensim) (7.0.4)\n",
            "Requirement already satisfied: wrapt in /usr/local/lib/python3.10/dist-packages (from smart-open>=1.8.1->gensim) (1.16.0)\n"
          ]
        }
      ],
      "source": [
        "# Step 1: Install gensim (uncomment if needed)\n",
        "!pip install gensim"
      ]
    },
    {
      "cell_type": "code",
      "execution_count": 20,
      "metadata": {
        "id": "2WGnq3ow2Lje"
      },
      "outputs": [],
      "source": [
        "import numpy as np\n",
        "import gensim.downloader as api\n",
        "import random\n",
        "import matplotlib.pyplot as plt\n",
        "\n",
        "# Load the Google News pre-trained Word2Vec model\n",
        "word2vec_model = api.load(\"word2vec-google-news-300\")"
      ]
    },
    {
      "cell_type": "code",
      "execution_count": 21,
      "metadata": {
        "id": "URAnWwM96_ai"
      },
      "outputs": [],
      "source": [
        "# Function to get Word2Vec vectors for the concepts\n",
        "def get_word2vec_vectors(concepts):\n",
        "    vectors = []\n",
        "    for concept in concepts:\n",
        "        if concept in word2vec_model:\n",
        "            vectors.append(word2vec_model[concept])\n",
        "        else:\n",
        "            vectors.append(np.random.rand(word2vec_model.vector_size))  # Use random vector for missing concepts\n",
        "    return np.array(vectors)\n",
        "\n",
        "# Get Word2Vec vectors for the concepts\n",
        "# vectors = get_word2vec_vectors(concepts)\n",
        "\n",
        "# seed = 42\n",
        "# random.seed(seed)\n",
        "# indices = list(range(180))\n",
        "\n",
        "# folds_avg_ranks = []\n",
        "# concept_rank = []\n",
        "\n",
        "# for fold_i in range(18):\n",
        "#     test_inds = indices[fold_i * 10 : (fold_i + 1) * 10]\n",
        "#     train_inds = indices[:fold_i * 10] + indices[(fold_i + 1) * 10:]\n",
        "\n",
        "#     data_test_vectors = np.take(data, test_inds, axis=0)\n",
        "#     data_train_vectors = np.take(data, train_inds, axis=0)\n",
        "#     semantic_test_vectors = np.take(vectors, test_inds, axis=0)\n",
        "#     semantic_train_vectors = np.take(vectors, train_inds, axis=0)\n",
        "\n",
        "#     model = learn_decoder(data_train_vectors, semantic_train_vectors)\n",
        "\n",
        "#     sum_ranks = 0\n",
        "#     for i in range(len(test_inds)):\n",
        "#         our_pred = np.dot(data_test_vectors[i], model)\n",
        "#         true_concept = semantic_test_vectors[i]\n",
        "#         ranked = sorted(vectors, key=lambda sem_vec: cosine_similarity(sem_vec, our_pred), reverse=True)\n",
        "#         rank = np.argwhere(np.all(ranked == true_concept, axis=1))[0][0] + 1\n",
        "#         sum_ranks += rank\n",
        "#         concept_rank.append(rank)\n",
        "\n",
        "#     folds_avg_ranks.append(sum_ranks / 10)\n",
        "\n",
        "\n",
        "# # Print the ranks to diagnose\n",
        "# print(\"Folds Average Ranks:\", folds_avg_ranks)\n",
        "# print(\"Concept Ranks:\", concept_rank)\n",
        "\n",
        "# # Plotting\n",
        "# fig = plt.figure()\n",
        "# ax = fig.add_axes([0,0,1,1])\n",
        "# folds = list(range(1, 19))\n",
        "# folds = [str(number) for number in folds]\n",
        "# accs = folds_avg_ranks\n",
        "# ax.bar(folds, accs)\n",
        "# plt.title(\"Avg_rank for each fold\")\n",
        "# plt.xlabel(\"Fold\")\n",
        "# plt.ylabel(\"Average Rank\")\n",
        "# plt.show()\n",
        "\n",
        "# # Additional Analysis\n",
        "# more_success = []\n",
        "# less_success = []\n",
        "# for i in range(180):\n",
        "#     if concept_rank[i] <= 18:\n",
        "#         more_success.append(concepts[i])\n",
        "#     else:\n",
        "#         less_success.append(concepts[i])\n",
        "\n",
        "# print(f\"{len(more_success)} Concepts were decoded with more success:\")\n",
        "# print(more_success)\n",
        "# print(f\"{len(less_success)} Concepts were decoded with less success:\")\n",
        "# print(less_success)"
      ]
    },
    {
      "cell_type": "code",
      "execution_count": 22,
      "metadata": {
        "id": "Qpd_toFiC1Di"
      },
      "outputs": [],
      "source": [
        "# average_rank = sum(folds_avg_ranks) / len(folds_avg_ranks)\n",
        "# average_rank"
      ]
    },
    {
      "cell_type": "code",
      "execution_count": 23,
      "metadata": {
        "id": "GiI-hwybDSbE"
      },
      "outputs": [],
      "source": [
        "#max(folds_avg_ranks)"
      ]
    },
    {
      "cell_type": "code",
      "execution_count": 24,
      "metadata": {
        "id": "pTF2-Su0DTBr"
      },
      "outputs": [],
      "source": [
        "#min(folds_avg_ranks)"
      ]
    },
    {
      "cell_type": "code",
      "execution_count": 25,
      "metadata": {
        "id": "YV-HReokDVjp"
      },
      "outputs": [],
      "source": [
        "# var_rank = sum((xi - average_rank) ** 2 for xi in folds_avg_ranks) / len(folds_avg_ranks)\n",
        "# np.sqrt(var_rank)"
      ]
    },
    {
      "cell_type": "code",
      "execution_count": 25,
      "metadata": {
        "id": "XyL6IqgBv_QC"
      },
      "outputs": [],
      "source": []
    },
    {
      "cell_type": "markdown",
      "metadata": {
        "id": "0Y4wtsaQAwLR"
      },
      "source": [
        "\\#TODO\n",
        "\n",
        "compression between the graphs:\n",
        "\n",
        "We can see thetwo models got simillar avrege resukts as for w2v the average rank was 60.83 and for glove 61.91, but in our opinion from what can be seen from the graph the word2vec model did better as it has less variance and more consistantly proformed well (more robust over folds) in comperision to glove that was very fold dependent.\n",
        "We can see the max avrage rank for glove is 105 compared 80 by word2vec when a random model would get around ~90 avrage rank (lower is better)."
      ]
    },
    {
      "cell_type": "markdown",
      "metadata": {
        "id": "8_ftyRsLM_Qg"
      },
      "source": [
        "## Read Pereira et al., 2018 and describe the similarities and differences between analyzes 1, 2, and 3 in that paper.\n",
        "\n",
        "\\# TODO\n",
        "\n",
        "All of the analyses were focused on evaluating the capabilities of the model to create semantic vectors given stimuli representing concepts but there were also major diffrences between them.\n",
        "In analysis 1 the stimuli are individual concepts (single words) compared to 2 and 3 where the stimuli are sentences.\n",
        "The data used in analysis 1 (180 words) were the base for training the decoder model for all the expiriments, the diffrence is that in 1 it was used in cross validation to see how good we can decode words and in 2 and 3 all of the data was used to train the decoder and the expirement checks the ability of model trained on single words to generalize to sentances.\n",
        "\n",
        "Although analyses 2 and 3 were more similar to each other compered to analysis 1 there are also some diffrences between them.\n",
        " The data from expiriment 2 contained 384 sentances and the data for 3 contained 243, because of the number of sentances expiriment 2 took longer than 3 for each participent (7 min 34 s compared to 4 min 56 s). Both of the expiriments had sentances from 24 topics, the topics in the two expiriments were diffrent. they both shown similar results for the pair-wise comparison for diffrent topic, same topic and same passage comparison, the rank accuracy in analyses 2 was slightly lower (better) then 3.\n",
        "<!-- ### Similarities: -->\n",
        "<!--\n",
        "* All analyses used the same decoding model trained on brain images associated with individual words.\n",
        "* All analyses used pairwise classification and rank accuracy to evaluate the decoding performance.\n",
        "* All analyses used the same training set of 180 words\n",
        "\n",
        "### Differences:\n",
        "\n",
        "* Analysis 1 focused on individual words, while Analyses 2 and 3 focused on sentences.\n",
        "* Analysis 1 aimed to validate the decoding approach for individual words, while Analyses 2 and 3 aimed to test the generalization to sentence-level decoding from different types of textual content, requiring the decoder to generalize beyond single-word meanings to more complex linguistic structures. -->"
      ]
    },
    {
      "cell_type": "code",
      "execution_count": 26,
      "metadata": {
        "id": "I3RGJdnH-aHD"
      },
      "outputs": [],
      "source": [
        "# os.chdir('/content/drive/My Drive/project_lcc')\n",
        "# os.listdir('.')\n",
        "# data = neural_data_exp1\n",
        "# os.chdir('/content')\n",
        "# vectors = read_matrix(\"vectors_180concepts.GV42B300.txt\", sep=\" \")\n",
        "# concepts = np.genfromtxt('stimuli_180concepts.txt', dtype=np.dtype('U')) #The names of the 180 concepts"
      ]
    },
    {
      "cell_type": "code",
      "execution_count": 27,
      "metadata": {
        "id": "t96IKvPo7gA8"
      },
      "outputs": [],
      "source": [
        "# import learn_decoder as ld\n",
        "# glove_model=ld.learn_decoder(data, vectors)"
      ]
    },
    {
      "cell_type": "code",
      "execution_count": 28,
      "metadata": {
        "collapsed": true,
        "id": "RWN7pYjhX3zF"
      },
      "outputs": [],
      "source": [
        "# data_384 = exp2_data['Fmridata']\n",
        "\n",
        "# # Verify the shapes\n",
        "# print(data_384.shape)\n",
        "# print(vectors_384.shape)\n",
        "\n",
        "# # # Set seed for reproducibility\n",
        "# # seed = 42\n",
        "# # random.seed(seed)\n",
        "# indices_384 = list(range(384))\n",
        "\n",
        "# # def cosine_similarity(x: np.ndarray, y: np.ndarray) -> float:\n",
        "# #     dot_prod = np.dot(x, y)\n",
        "# #     norm_prod = np.linalg.norm(x) * np.linalg.norm(y)\n",
        "# #     return dot_prod / norm_prod\n",
        "\n",
        "# # def learn_decoder(train_data, train_semantics):\n",
        "# #     return np.linalg.lstsq(train_data, train_semantics, rcond=None)[0]\n",
        "\n",
        "# # folds_avg_ranks_384 = []\n",
        "# concept_rank_384 = []\n",
        "\n",
        "# # for fold_i in range(38):  # Adjusted for 384 sentences\n",
        "# #     test_inds = indices_384[fold_i * 10 : (fold_i + 1) * 10]\n",
        "# #     train_inds = indices_384[:fold_i * 10] + indices_384[(fold_i + 1) * 10:]\n",
        "\n",
        "# #     data_test_vectors = np.take(data_384, test_inds, axis=0)\n",
        "# #     data_train_vectors = np.take(data_384, train_inds, axis=0)\n",
        "# #     semantic_test_vectors = np.take(vectors_384, test_inds, axis=0)\n",
        "# #     semantic_train_vectors = np.take(vectors_384, train_inds, axis=0)\n",
        "\n",
        "# #     model = learn_decoder(data_train_vectors, semantic_train_vectors)\n",
        "\n",
        "# sum_ranks = 0\n",
        "# for i in range(len(indices_384)):\n",
        "#     our_pred = np.dot(data_384[i], glove_model)\n",
        "#     true_concept = vectors_384[i]  # Convert Series to NumPy array\n",
        "#     ranked = sorted(vectors_384, key=lambda sem_vec: cosine_similarity(sem_vec, our_pred), reverse=True)  # Convert DataFrame to NumPy array\n",
        "#     try:\n",
        "#         rank = np.argwhere(np.all(ranked == true_concept, axis=1))[0][0] + 1  # Now the comparison should work\n",
        "#     except IndexError:\n",
        "#         print(\"True concept not found in ranked list\")\n",
        "#         rank = 0  # Or handle the case as appropriate\n",
        "\n",
        "#     sum_ranks += rank\n",
        "#     concept_rank_384.append(rank)\n",
        "\n",
        "# accuracy_384 = sum_ranks/len(indices_384)\n",
        "#     # folds_avg_ranks_384.append(sum_ranks / 10)\n",
        "\n",
        "# print(\"Average rank for Analysis 2:\", accuracy_384)"
      ]
    },
    {
      "cell_type": "code",
      "execution_count": 29,
      "metadata": {
        "id": "yi7Q1tUeisGx"
      },
      "outputs": [],
      "source": [
        "# Plotting\n",
        "# fig = plt.figure()\n",
        "# ax = fig.add_axes([0,0,1,1])\n",
        "# folds = list(range(1, 39))\n",
        "# folds = [str(number) for number in folds]\n",
        "# accs = folds_avg_ranks_384\n",
        "# ax.bar(folds, accs)\n",
        "# plt.title(\"Avg_rank for each fold\")\n",
        "# plt.xlabel(\"Fold\")\n",
        "# plt.ylabel(\"Average Rank\")\n",
        "# plt.show()"
      ]
    },
    {
      "cell_type": "code",
      "execution_count": 30,
      "metadata": {
        "id": "0FPtlxFub4_3"
      },
      "outputs": [],
      "source": [
        "# data_243 = exp3_data['Fmridata']\n",
        "\n",
        "# indices_243 = list(range(243))\n",
        "# concept_rank_243 = []\n",
        "\n",
        "# sum_ranks = 0\n",
        "# for i in range(len(indices_243)):\n",
        "#     our_pred = np.dot(data_243[i], glove_model)\n",
        "#     true_concept = vectors_243[i]\n",
        "#     ranked = sorted(vectors_243, key=lambda sem_vec: cosine_similarity(sem_vec, our_pred), reverse=True)  # Convert DataFrame to NumPy array\n",
        "#     try:\n",
        "#         rank = np.argwhere(np.all(ranked == true_concept, axis=1))[0][0] + 1  # Now the comparison should work\n",
        "#     except IndexError:\n",
        "#         print(\"True concept not found in ranked list\")\n",
        "#         rank = 0\n",
        "\n",
        "#     sum_ranks += rank\n",
        "#     concept_rank_243.append(rank)\n",
        "\n",
        "# accuracy_243 = sum_ranks/len(indices_243)\n",
        "\n",
        "# print(\"Average rank for Analysis 2:\", accuracy_243)\n"
      ]
    },
    {
      "cell_type": "code",
      "execution_count": 31,
      "metadata": {
        "id": "uxhik8BedS_B"
      },
      "outputs": [],
      "source": [
        "# fig = plt.figure()\n",
        "# ax = fig.add_axes([0,0,1,1])\n",
        "# folds = list(range(1, 25))\n",
        "# folds = [str(number) for number in folds]\n",
        "# accs = folds_avg_ranks_243\n",
        "# ax.bar(folds, accs)\n",
        "# plt.title(\"Avg_rank for each fold\")\n",
        "# plt.xlabel(\"Fold\")\n",
        "# plt.ylabel(\"Average Rank\")\n",
        "# plt.show()"
      ]
    },
    {
      "cell_type": "markdown",
      "metadata": {
        "id": "an3yFxBaxDfy"
      },
      "source": [
        "#Part4"
      ]
    },
    {
      "cell_type": "code",
      "execution_count": 32,
      "metadata": {
        "id": "ws-eVFg5xFIV"
      },
      "outputs": [],
      "source": [
        "# def analyze_accuracy_by_topic(concept_ranks, topics, passages):\n",
        "#     topic_ranks = {}\n",
        "#     for i, rank in enumerate(concept_ranks):\n",
        "#         passage_id = int(passages[i])  # Convert passage_id to integer\n",
        "#         topic_id = int(topics[passage_id-1])  # Convert topic_id to integer\n",
        "\n",
        "#         if topic_id not in topic_ranks:\n",
        "#             topic_ranks[topic_id] = []\n",
        "\n",
        "#         topic_ranks[topic_id].append(rank)\n",
        "\n",
        "#     # Calculate average rank for each topic\n",
        "#     avg_topic_ranks = {topic: np.mean(ranks) for topic, ranks in topic_ranks.items()}\n",
        "\n",
        "#     # Sort topics by their average rank\n",
        "#     sorted_topics = sorted(avg_topic_ranks.items(), key=lambda item: item[1])\n",
        "\n",
        "#     return sorted_topics\n",
        "\n",
        "# # Analysis for 384 dataset\n",
        "# passages_384 = exp2_data['labelsPassageForEachSentence']\n",
        "# topics_384 = exp2_data['labelsPassageCategory']\n",
        "# passage_ids_384 = exp2_data['labelsSentences']\n",
        "# topic_names_384 = exp2_data['keyPassageCategory'][0]\n",
        "# sorted_topics_384 = analyze_accuracy_by_topic(concept_rank_384, topics_384, passages_384)\n",
        "# print(\"Sorted Topics for Analysis 2 by Average Rank Accuracy:\", sorted_topics_384)"
      ]
    },
    {
      "cell_type": "code",
      "execution_count": 33,
      "metadata": {
        "id": "LsBjon0o0ewn"
      },
      "outputs": [],
      "source": [
        "# topic_names_384=[name[0] for name in topic_names_384]\n",
        "# print(topic_names_384)\n",
        "# print(sorted_topics_384)"
      ]
    },
    {
      "cell_type": "code",
      "execution_count": 34,
      "metadata": {
        "id": "Kzp-XDat0KcD"
      },
      "outputs": [],
      "source": [
        "# name_accuracy_384=[]\n",
        "# for id, acc in sorted_topics_384:\n",
        "#   name_accuracy_384.append((topic_names_384[id-1], acc))\n",
        "# name_accuracy_384\n",
        "\n",
        "# topics, avg_ranks = zip(*name_accuracy_384)\n",
        "\n",
        "# # Plotting the topics\n",
        "# plt.figure(figsize=(10, 8))\n",
        "# plt.barh(topics, avg_ranks, color='skyblue')\n",
        "# plt.axvline(x = 384/2, color = 'b', label = 'axvline - full height')\n",
        "# plt.xlabel('Average Rank')\n",
        "# plt.title('Average Rank by Topic for Analysis 2')\n",
        "# plt.gca().invert_yaxis()\n",
        "# plt.show()"
      ]
    },
    {
      "cell_type": "code",
      "execution_count": 35,
      "metadata": {
        "id": "8r93MZVX1p2O"
      },
      "outputs": [],
      "source": [
        "# passages_243 = exp3_data['labelsPassageForEachSentence']\n",
        "# topics_243 = exp3_data['labelsPassageCategory']\n",
        "# passage_ids_243 = exp3_data['labelsSentences']\n",
        "# topic_names_243 = exp3_data['keyPassageCategory'][0]\n",
        "# sorted_topics_243 = analyze_accuracy_by_topic(concept_rank_243, topics_243, passages_243)\n",
        "# print(\"Sorted Topics for Analysis 3 by Average Rank Accuracy:\", sorted_topics_243)"
      ]
    },
    {
      "cell_type": "code",
      "execution_count": 36,
      "metadata": {
        "id": "VGJCNqD_1_6b"
      },
      "outputs": [],
      "source": [
        "# topic_names_243=[name[0] for name in topic_names_243]\n",
        "# print(topic_names_243)\n",
        "# print(sorted_topics_243)"
      ]
    },
    {
      "cell_type": "code",
      "execution_count": 37,
      "metadata": {
        "id": "Ul2DWS0s10eo"
      },
      "outputs": [],
      "source": [
        "# name_accuracy_243=[]\n",
        "# for id, acc in sorted_topics_243:\n",
        "#   name_accuracy_243.append((topic_names_243[id-1], acc))\n",
        "# name_accuracy_243\n",
        "\n",
        "# topics, avg_ranks = zip(*name_accuracy_243)\n",
        "\n",
        "# # Plotting the topics\n",
        "# plt.figure(figsize=(10, 8))\n",
        "# plt.barh(topics, avg_ranks, color='skyblue')\n",
        "# plt.axvline(x = 243/2, color = 'b', label = 'axvline - full height')\n",
        "# plt.xlabel('Average Rank')\n",
        "# plt.title('Average Rank by Topic for Analysis 3')\n",
        "# plt.gca().invert_yaxis()\n",
        "# plt.show()"
      ]
    },
    {
      "cell_type": "markdown",
      "metadata": {
        "id": "EXile-rulZEH"
      },
      "source": [
        "# Semi-Structured Task"
      ]
    },
    {
      "cell_type": "code",
      "execution_count": 38,
      "metadata": {
        "id": "E4MSuP-kriEY",
        "colab": {
          "base_uri": "https://localhost:8080/"
        },
        "outputId": "4ba02311-0919-4bbd-befe-d5a27467c300"
      },
      "outputs": [
        {
          "output_type": "stream",
          "name": "stdout",
          "text": [
            "Drive already mounted at /content/drive; to attempt to forcibly remount, call drive.mount(\"/content/drive\", force_remount=True).\n"
          ]
        },
        {
          "output_type": "execute_result",
          "data": {
            "text/plain": [
              "['glove.42B.300d.txt',\n",
              " 'vectors_384sentences.GV42B300.average.txt',\n",
              " 'vectors_243sentences.GV42B300.average.txt',\n",
              " 'stimuli_384sentences.txt',\n",
              " 'stimuli_243sentences.txt',\n",
              " 'EXP3.pkl',\n",
              " 'neuralData_for_EXP1.csv',\n",
              " 'EXP2.pkl',\n",
              " 'stimuli_180concepts.txt',\n",
              " 'learn_decoder.py',\n",
              " 'vectors_180concepts.GV42B300.txt',\n",
              " 'imaging_data.csv',\n",
              " '__pycache__',\n",
              " 'colab_pdf.py']"
            ]
          },
          "metadata": {},
          "execution_count": 38
        }
      ],
      "source": [
        "from google.colab import drive\n",
        "drive.mount('/content/drive')\n",
        "import os\n",
        "os.chdir('/content/drive/My Drive/project_lcc')\n",
        "os.listdir('.')"
      ]
    },
    {
      "cell_type": "code",
      "execution_count": 39,
      "metadata": {
        "id": "9mzIt_mblYea",
        "colab": {
          "base_uri": "https://localhost:8080/"
        },
        "outputId": "ba23736b-158c-4cf9-e7f4-71eb41151bd4"
      },
      "outputs": [
        {
          "output_type": "stream",
          "name": "stdout",
          "text": [
            "dict_keys(['__header__', '__version__', '__globals__', 'keyPassageCategory', 'keyPassages', 'keySentences', 'labelsPassageCategory', 'labelsPassageForEachSentence', 'labelsSentences', 'meta', 'Fmridata'])\n"
          ]
        },
        {
          "output_type": "stream",
          "name": "stderr",
          "text": [
            "<ipython-input-39-ab05bc9f357b>:13: DeprecationWarning: Conversion of an array with ndim > 0 to a scalar is deprecated, and will error in future. Ensure you extract a single element from your array before performing this operation. (Deprecated NumPy 1.25.)\n",
            "  concept_keys_EXP2 = list(map(lambda x: int(exp2_data['labelsPassageCategory'][int(x)-1]), exp2_data[\"labelsPassageForEachSentence\"]))\n"
          ]
        },
        {
          "output_type": "stream",
          "name": "stdout",
          "text": [
            "dict_keys(['__header__', '__version__', '__globals__', 'keyPassageCategory', 'keyPassages', 'keySentences', 'labelsPassageCategory', 'labelsPassageForEachSentence', 'labelsSentences', 'meta', 'Fmridata'])\n"
          ]
        },
        {
          "output_type": "stream",
          "name": "stderr",
          "text": [
            "<ipython-input-39-ab05bc9f357b>:22: DeprecationWarning: Conversion of an array with ndim > 0 to a scalar is deprecated, and will error in future. Ensure you extract a single element from your array before performing this operation. (Deprecated NumPy 1.25.)\n",
            "  concept_keys_EXP3 = list(map(lambda x: int(exp3_data['labelsPassageCategory'][int(x)-1]), list(exp3_data[\"labelsPassageForEachSentence\"])))\n"
          ]
        },
        {
          "output_type": "stream",
          "name": "stdout",
          "text": [
            "627\n",
            "(627, 185866)\n",
            "627\n",
            "6\n",
            "skiing\n"
          ]
        },
        {
          "output_type": "stream",
          "name": "stderr",
          "text": [
            "/usr/local/lib/python3.10/dist-packages/huggingface_hub/utils/_token.py:89: UserWarning: \n",
            "The secret `HF_TOKEN` does not exist in your Colab secrets.\n",
            "To authenticate with the Hugging Face Hub, create a token in your settings tab (https://huggingface.co/settings/tokens), set it as secret in your Google Colab and restart your session.\n",
            "You will be able to reuse this secret in all of your notebooks.\n",
            "Please note that authentication is recommended but still optional to access public models or datasets.\n",
            "  warnings.warn(\n"
          ]
        }
      ],
      "source": [
        "import numpy as np\n",
        "import pandas as pd\n",
        "from transformers import BertModel, BertTokenizer\n",
        "\n",
        "# Load and prepare data from Experiment 2 and 3\n",
        "import pickle\n",
        "\n",
        "with open('EXP2.pkl', 'rb') as f:\n",
        "    exp2_data = pickle.load(f)\n",
        "    print(exp2_data.keys())\n",
        "\n",
        "FMRI_EXP2 = exp2_data[\"Fmridata\"]\n",
        "concept_keys_EXP2 = list(map(lambda x: int(exp2_data['labelsPassageCategory'][int(x)-1]), exp2_data[\"labelsPassageForEachSentence\"]))\n",
        "concepts_EXP2 = list(map(lambda x: str(exp2_data['keyPassageCategory'][0][x-1][0]), concept_keys_EXP2))\n",
        "\n",
        "\n",
        "with open('EXP3.pkl', 'rb') as f:\n",
        "    exp3_data = pickle.load(f)\n",
        "    print(exp3_data.keys())\n",
        "\n",
        "FMRI_EXP3 = exp3_data[\"Fmridata\"]\n",
        "concept_keys_EXP3 = list(map(lambda x: int(exp3_data['labelsPassageCategory'][int(x)-1]), list(exp3_data[\"labelsPassageForEachSentence\"])))\n",
        "concepts_EXP3 = list(map(lambda x: str(exp3_data['keyPassageCategory'][0][x-1][0]), concept_keys_EXP3))\n",
        "\n",
        "# Combine FMRI data and concepts\n",
        "FMRI_combined = np.vstack((FMRI_EXP2, FMRI_EXP3))\n",
        "concepts_combined = concepts_EXP2 + concepts_EXP3\n",
        "\n",
        "print(len(FMRI_combined))\n",
        "print(FMRI_combined.shape)\n",
        "print(len(concepts_combined))\n",
        "print(len(concepts_combined[626]))\n",
        "print(concepts_combined[626])\n",
        "\n",
        "# Load and process stimuli sentences for Experiment 2\n",
        "sentences_file_path = 'stimuli_384sentences.txt'\n",
        "with open(sentences_file_path, \"r\") as f:\n",
        "    sentences = f.readlines()\n",
        "\n",
        "# Initialize BERT model and tokenizer\n",
        "tokenizer = BertTokenizer.from_pretrained('bert-base-uncased')\n",
        "bert_model = BertModel.from_pretrained('bert-base-uncased')\n",
        "\n",
        "# Embed the raw text sentences using BERT\n",
        "def get_bert_embeddings(sentences, model, tokenizer):\n",
        "    embeddings = []\n",
        "    for sentence in sentences:\n",
        "        inputs = tokenizer(sentence, return_tensors='pt')\n",
        "        outputs = model(**inputs)\n",
        "        embeddings.append(outputs.last_hidden_state.mean(dim=1).detach().numpy())\n",
        "    return np.array(embeddings)\n",
        "\n",
        "# Get embeddings for the sentences\n",
        "# sentences_vectors_BERT = get_bert_embeddings(sentences, bert_model, tokenizer)\n",
        "\n",
        "# Load p-values for significant voxels\n",
        "# df = pd.read_csv(\"regressed_BERT.csv\")\n",
        "# pvals_BERT = df['p_value']\n",
        "\n",
        "# def extract_sig_voxel_inds(Pval_list, sig_threshold=0.05):\n",
        "#     sig_voxels = set()\n",
        "#     for voxel in range(len(Pval_list)):\n",
        "#         if Pval_list[voxel] < sig_threshold:\n",
        "#             sig_voxels.add(voxel)\n",
        "#     return sig_voxels\n",
        "\n",
        "# BERT_sig_voxels = extract_sig_voxel_inds(pvals_BERT)\n",
        "\n",
        "# os.chdir('/content')\n",
        "# # Confirm the change\n",
        "# print(\"Returned to the default working directory:\", os.getcwd())\n",
        "from learn_decoder import *\n",
        "\n",
        "\n",
        "# Decoding and evaluation\n",
        "def cosine_similarity(x, y):\n",
        "    dot_prod = np.dot(x, y)\n",
        "    norm_prod = np.linalg.norm(x) * np.linalg.norm(y)\n",
        "    return dot_prod / norm_prod\n",
        "\n",
        "def create_average_rank(data, vectors, k_folds, num_concepts, concepts_list_ordinal):\n",
        "    folds_avg_ranks = []\n",
        "    concept_rank = []\n",
        "    indices = list(range(num_concepts))\n",
        "    size_of_fold = num_concepts // k_folds\n",
        "    print(size_of_fold, num_concepts)\n",
        "\n",
        "    for fold_i in range(k_folds):\n",
        "        print('Calculating fold ' + str(fold_i + 1))\n",
        "        test_inds = indices[fold_i * size_of_fold:(fold_i + 1) * size_of_fold]\n",
        "        train_inds = indices[0:fold_i * size_of_fold] + indices[(fold_i + 1) * size_of_fold:]\n",
        "\n",
        "        data_test_vectors = np.take(data, test_inds, 0)\n",
        "        data_train_vectors = np.take(data, train_inds, 0)\n",
        "\n",
        "        semantic_test_vectors = np.take(vectors, test_inds, 0)\n",
        "        semantic_train_vectors = np.take(vectors, train_inds, 0)\n",
        "\n",
        "        model = learn_decoder(data_train_vectors, semantic_train_vectors)\n",
        "\n",
        "        sum_ranks = 0\n",
        "        for i in range(len(test_inds)):\n",
        "            our_pred = np.dot(data_test_vectors[i], model)\n",
        "            true_concept = semantic_test_vectors[i]\n",
        "\n",
        "            ranked = sorted(vectors, key=lambda sem_vec: cosine_similarity(sem_vec, our_pred), reverse=True)\n",
        "            sum_ranks += np.argwhere(ranked == true_concept)[0][0] + 1\n",
        "            concept_rank.append(np.argwhere(ranked == true_concept)[0][0] + 1)\n",
        "        folds_avg_ranks.append(sum_ranks / size_of_fold)\n",
        "\n",
        "    print(concept_rank)\n",
        "    print(len(concept_rank))\n",
        "    return folds_avg_ranks, concept_rank\n",
        "\n",
        "# Run decoding analysis\n",
        "# # # Example assuming FMRI_EXP2 is the 3D array with shape (samples, time_steps, features)\n",
        "# FMRI_EXP2_reshaped = FMRI_EXP2.reshape(FMRI_EXP2.shape[0], -1)\n",
        "\n",
        "# # Similarly reshape the BERT embeddings if they are 3D\n",
        "# sentences_vectors_BERT_reshaped = sentences_vectors_BERT.reshape(sentences_vectors_BERT.shape[0], -1)\n",
        "\n",
        "# # Run decoding analysis with reshaped data\n",
        "# average_ranks, concept_ranks = create_average_rank(FMRI_EXP2_reshaped, sentences_vectors_BERT_reshaped, 16, len(FMRI_EXP2_reshaped), concepts_EXP2)"
      ]
    },
    {
      "cell_type": "markdown",
      "metadata": {
        "id": "34bSJFGGZ6Fj"
      },
      "source": [
        "#Open-ended Task"
      ]
    },
    {
      "cell_type": "code",
      "execution_count": 40,
      "metadata": {
        "id": "fkd8F5fXDO2P"
      },
      "outputs": [],
      "source": [
        "data = read_matrix(\"imaging_data.csv\", sep=\",\")\n",
        "glove_vectors = read_matrix(\"vectors_180concepts.GV42B300.txt\", sep=\" \")\n",
        "concepts = np.genfromtxt('stimuli_180concepts.txt', dtype=np.dtype('U')) #The names of the 180 concepts"
      ]
    },
    {
      "cell_type": "code",
      "execution_count": 41,
      "metadata": {
        "id": "-pcQ87H7JFP2"
      },
      "outputs": [],
      "source": [
        "# !wget http://nlp.stanford.edu/data/glove.42B.300d.zip\n",
        "# !unzip glove.42B.300d.zip\n"
      ]
    },
    {
      "cell_type": "code",
      "execution_count": 42,
      "metadata": {
        "id": "9gUwDsJqJI8q"
      },
      "outputs": [],
      "source": [
        "import numpy as np\n",
        "\n",
        "def get_vector_from_glove(glove_file_path, target_word):\n",
        "    with open(glove_file_path, 'r', encoding=\"utf-8\") as f:\n",
        "        for line in f:\n",
        "            split_line = line.split()\n",
        "            word = split_line[0]\n",
        "            if word == target_word:\n",
        "                return np.array([float(val) for val in split_line[1:]])\n",
        "    return None\n",
        "\n",
        "# Path to the GloVe model file (after unzipping)\n",
        "glove_file_path = 'glove.42B.300d.txt'\n"
      ]
    },
    {
      "cell_type": "code",
      "execution_count": 43,
      "metadata": {
        "id": "cV6bD9sCQAO2"
      },
      "outputs": [],
      "source": [
        "fem_concepts=[\"dressing\",\"carefully\",\"kindness\",\"emotionally\",\"cook\",\"dance\",\"attitude\",\"clothes\",\"emotion\",\"elegance\",\"hair\",\"weak\",\"relationship\",\"marriage\"]\n",
        "masc_concepts=[\"driver\",\"fight\",\"gun\",\"computer\",\"code\",\"ability\",\"accomplished\",\"angry\",\"beer\",\"big\",\"business\",\"construction\",\"doctor\",\"engine\",\"money\",\"prison\",\"science\",\"smart\",\"successful\",\"war\"]"
      ]
    },
    {
      "cell_type": "code",
      "execution_count": 44,
      "metadata": {
        "id": "XfxCuOP3ABT-"
      },
      "outputs": [],
      "source": [
        "fem_concepts=[\"dressing\",\"emotionally\",\"clothes\",\"hair\",\"marriage\"]\n",
        "masc_concepts=[\"fight\",\"money\",\"gun\",\"beer\",\"big\"]"
      ]
    },
    {
      "cell_type": "code",
      "execution_count": 45,
      "metadata": {
        "id": "s5ifHy-hvBQ_",
        "colab": {
          "base_uri": "https://localhost:8080/"
        },
        "outputId": "15057976-3490-4a67-9967-43d8931ee426"
      },
      "outputs": [
        {
          "output_type": "stream",
          "name": "stdout",
          "text": [
            "['ability' 'accomplished' 'angry' 'apartment' 'applause' 'argument'\n",
            " 'argumentatively' 'art' 'attitude' 'bag' 'ball' 'bar' 'bear' 'beat' 'bed'\n",
            " 'beer' 'big' 'bird' 'blood' 'body' 'brain' 'broken' 'building' 'burn'\n",
            " 'business' 'camera' 'carefully' 'challenge' 'charity' 'charming'\n",
            " 'clothes' 'cockroach' 'code' 'collection' 'computer' 'construction'\n",
            " 'cook' 'counting' 'crazy' 'damage' 'dance' 'dangerous' 'deceive'\n",
            " 'dedication' 'deliberately' 'delivery' 'dessert' 'device' 'dig' 'dinner'\n",
            " 'disease' 'dissolve' 'disturb' 'do' 'doctor' 'dog' 'dressing' 'driver'\n",
            " 'economy' 'election' 'electron' 'elegance' 'emotion' 'emotionally'\n",
            " 'engine' 'event' 'experiment' 'extremely' 'feeling' 'fight' 'fish' 'flow'\n",
            " 'food' 'garbage' 'gold' 'great' 'gun' 'hair' 'help' 'hurting' 'ignorance'\n",
            " 'illness' 'impress' 'invention' 'investigation' 'invisible' 'job'\n",
            " 'jungle' 'kindness' 'king' 'lady' 'land' 'laugh' 'law' 'left' 'level'\n",
            " 'liar' 'light' 'magic' 'marriage' 'material' 'mathematical' 'mechanism'\n",
            " 'medication' 'money' 'mountain' 'movement' 'movie' 'music' 'nation'\n",
            " 'news' 'noise' 'obligation' 'pain' 'personality' 'philosophy' 'picture'\n",
            " 'pig' 'plan' 'plant' 'play' 'pleasure' 'poor' 'prison' 'professional'\n",
            " 'protection' 'quality' 'reaction' 'read' 'relationship' 'religious'\n",
            " 'residence' 'road' 'sad' 'science' 'seafood' 'sell' 'sew' 'sexy' 'shape'\n",
            " 'ship' 'show' 'sign' 'silly' 'sin' 'skin' 'smart' 'smiling' 'solution'\n",
            " 'soul' 'sound' 'spoke' 'star' 'student' 'stupid' 'successful' 'sugar'\n",
            " 'suspect' 'table' 'taste' 'team' 'texture' 'time' 'tool' 'toy' 'tree'\n",
            " 'trial' 'tried' 'typical' 'unaware' 'usable' 'useless' 'vacation' 'war'\n",
            " 'wash' 'weak' 'wear' 'weather' 'willingly' 'word']\n"
          ]
        }
      ],
      "source": [
        "print(concepts)"
      ]
    },
    {
      "cell_type": "code",
      "execution_count": 46,
      "metadata": {
        "id": "0wVEIe0Zzwbq",
        "colab": {
          "base_uri": "https://localhost:8080/"
        },
        "outputId": "1104b94a-909c-46ac-8d60-9b03fd2ccfa9"
      },
      "outputs": [
        {
          "output_type": "stream",
          "name": "stdout",
          "text": [
            "[]\n"
          ]
        }
      ],
      "source": [
        "# Convert numpy array to a set\n",
        "np_set = set(concepts)\n",
        "\n",
        "# Find words in the list that are not in the numpy array\n",
        "missing_words = [word for word in masc_concepts if word not in np_set]\n",
        "\n",
        "print(missing_words)\n"
      ]
    },
    {
      "cell_type": "code",
      "execution_count": 47,
      "metadata": {
        "id": "gbXAhP4X19Bz"
      },
      "outputs": [],
      "source": [
        "# Find the boolean mask where elements of np_array are in string_list\n",
        "mask = np.isin(concepts, masc_concepts)\n",
        "\n",
        "# Create the array with elements that are in string_list\n",
        "in_list = concepts[mask]\n",
        "\n",
        "# Create the array with elements that are not in string_list\n",
        "not_in_list = concepts[~mask]"
      ]
    },
    {
      "cell_type": "code",
      "execution_count": 48,
      "metadata": {
        "id": "alwFcqQS2EA3",
        "colab": {
          "base_uri": "https://localhost:8080/"
        },
        "outputId": "70ee776a-6e37-4a9a-8b7a-f4ff3c2ed5a4"
      },
      "outputs": [
        {
          "output_type": "execute_result",
          "data": {
            "text/plain": [
              "175"
            ]
          },
          "metadata": {},
          "execution_count": 48
        }
      ],
      "source": [
        "len(not_in_list)"
      ]
    },
    {
      "cell_type": "code",
      "execution_count": 49,
      "metadata": {
        "id": "VGZO0MccNeZX"
      },
      "outputs": [],
      "source": [
        "from scipy.spatial.distance import cdist\n",
        "\n",
        "def calculate_mean_bias(bias_concepts, data, vectors, fem_vector, masc_vector, concepts,type_concepts, model_name):\n",
        "    indices = np.array(range(len(concepts)))\n",
        "\n",
        "    masc_fem = []\n",
        "    masc_fem_real = []\n",
        "    concept_names = []\n",
        "\n",
        "    for i in bias_concepts:\n",
        "        mask = np.isin(concepts, [i])\n",
        "\n",
        "        test_inds = indices[mask]\n",
        "        train_inds = indices[~mask]\n",
        "\n",
        "        data_test_vectors = np.take(data, test_inds, axis=0)\n",
        "        data_train_vectors = np.take(data, train_inds, axis=0)\n",
        "        semantic_test_vectors = np.take(vectors, test_inds, axis=0)\n",
        "        semantic_train_vectors = np.take(vectors, train_inds, axis=0)\n",
        "\n",
        "        model = learn_decoder(data_train_vectors, semantic_train_vectors)\n",
        "\n",
        "        our_pred = np.dot(data_test_vectors[0], model)\n",
        "        true_concept = semantic_test_vectors[0]\n",
        "\n",
        "        masc_fem_diff = 1 - cdist([masc_vector], [our_pred], metric='cosine')[0][0] - (1 - cdist([fem_vector], [our_pred], metric='cosine')[0][0])\n",
        "        masc_fem_real_diff = 1 - cdist([masc_vector], [true_concept], metric='cosine')[0][0] - (1 - cdist([fem_vector], [true_concept], metric='cosine')[0][0])\n",
        "\n",
        "        masc_fem.append(masc_fem_diff)\n",
        "        masc_fem_real.append(masc_fem_real_diff)\n",
        "        concept_names.append(i)\n",
        "\n",
        "        del test_inds, train_inds, data_test_vectors, data_train_vectors, semantic_test_vectors, semantic_train_vectors, model\n",
        "\n",
        "    # Plotting individual concept biases\n",
        "\n",
        "    x = np.arange(len(concept_names))\n",
        "    width = 0.35\n",
        "\n",
        "    fig, ax = plt.subplots(figsize=(12, 7))\n",
        "    bars1 = ax.bar(x - width/2, masc_fem, width, label=f'{model_name} Decoded')\n",
        "    bars2 = ax.bar(x + width/2, masc_fem_real, width, label=f'{model_name} Real')\n",
        "\n",
        "    ax.set_xlabel('Concepts', fontsize=20)\n",
        "    ax.set_ylabel('Bias', fontsize=20)\n",
        "    # ax.set_title(f'Bias in {type_concepts} Concepts - {model_name}', fontsize=25)\n",
        "    ax.axhline(y=0, color='black', linewidth=1)\n",
        "    ax.set_xticks(x)\n",
        "    ax.set_xticklabels(concept_names, rotation=45, ha=\"right\", fontsize=18)\n",
        "    ax.yaxis.set_tick_params(labelsize=15)\n",
        "    ax.legend(fontsize=18)\n",
        "\n",
        "    plt.tight_layout()\n",
        "    plt.show()\n",
        "    plt.close()\n",
        "\n",
        "    return np.mean(masc_fem), np.mean(masc_fem_real)"
      ]
    },
    {
      "cell_type": "code",
      "source": [],
      "metadata": {
        "id": "lenl7k2qHIWf"
      },
      "execution_count": 49,
      "outputs": []
    },
    {
      "cell_type": "code",
      "execution_count": 50,
      "metadata": {
        "id": "WOL1qlgF-SLG"
      },
      "outputs": [],
      "source": [
        "glove_fem_vec=get_vector_from_glove(glove_file_path, \"woman\")\n",
        "glove_masc_vec=get_vector_from_glove(glove_file_path, \"man\")"
      ]
    },
    {
      "cell_type": "code",
      "source": [
        "word2vec_vectors=get_word2vec_vectors(concepts)\n",
        "w2v_fem_vec=get_word2vec_vectors([\"woman\"])[0]\n",
        "w2v_masc_vec=get_word2vec_vectors([\"man\"])[0]"
      ],
      "metadata": {
        "id": "N-IgNhCWHVea"
      },
      "execution_count": 51,
      "outputs": []
    },
    {
      "cell_type": "code",
      "source": [
        "vectors_BERT = get_bert_embeddings(concepts, bert_model, tokenizer)\n",
        "vectors_BERT=vectors_BERT.reshape(vectors_BERT.shape[0], -1)\n",
        "bert_fem_vec=get_bert_embeddings([\"woman\"], bert_model, tokenizer)[0][0]\n",
        "bert_masc_vec=get_bert_embeddings([\"man\"], bert_model, tokenizer)[0][0]"
      ],
      "metadata": {
        "id": "FnZe8K7sHbSG"
      },
      "execution_count": 52,
      "outputs": []
    },
    {
      "cell_type": "code",
      "source": [
        "models = {\n",
        "    \"GloVe\": (data, glove_vectors, glove_fem_vec, glove_masc_vec),\n",
        "    \"Word2Vec\": (data, word2vec_vectors, w2v_fem_vec, w2v_masc_vec),\n",
        "    \"BERT\": (data, vectors_BERT, bert_fem_vec, bert_masc_vec)\n",
        "}\n"
      ],
      "metadata": {
        "id": "HxAOMDiBHQwe"
      },
      "execution_count": 53,
      "outputs": []
    },
    {
      "cell_type": "code",
      "source": [
        "mean_biases = {}\n",
        "for model_name, (data, vectors, fem_vector, masc_vector) in models.items():\n",
        "    mean_predicted_bias_fem, mean_true_bias_fem = calculate_mean_bias(fem_concepts, data, vectors, fem_vector, masc_vector, concepts,\"Feminine\",model_name)\n",
        "    mean_predicted_bias_masc, mean_true_bias_masc = calculate_mean_bias(masc_concepts, data, vectors, fem_vector, masc_vector, concepts,\"Masculine\",model_name)\n",
        "\n",
        "    mean_biases[model_name] = {\n",
        "        \"Feminine(Decoded)\": mean_predicted_bias_fem,\n",
        "        \"Feminine(Real)\": mean_true_bias_fem,\n",
        "        \"Masculine(Decoded)\": mean_predicted_bias_masc,\n",
        "        \"Masculine(Real)\": mean_true_bias_masc\n",
        "    }"
      ],
      "metadata": {
        "colab": {
          "base_uri": "https://localhost:8080/",
          "height": 1000
        },
        "id": "8HErL2NcHsGP",
        "outputId": "4618bc46-e326-4f3c-f664-24c53ab8f896"
      },
      "execution_count": 54,
      "outputs": [
        {
          "output_type": "display_data",
          "data": {
            "text/plain": [
              "<Figure size 1200x700 with 1 Axes>"
            ],
            "image/png": "[encoded data removed]"
          },
          "metadata": {}
        },
        {
          "output_type": "display_data",
          "data": {
            "text/plain": [
              "<Figure size 1200x700 with 1 Axes>"
            ],
            "image/png": "[encoded data removed]"
          },
          "metadata": {}
        },
        {
          "output_type": "display_data",
          "data": {
            "text/plain": [
              "<Figure size 1200x700 with 1 Axes>"
            ],
            "image/png": "[encoded data removed]"
          },
          "metadata": {}
        },
        {
          "output_type": "display_data",
          "data": {
            "text/plain": [
              "<Figure size 1200x700 with 1 Axes>"
            ],
            "image/png": "[encoded data removed]"
          },
          "metadata": {}
        },
        {
          "output_type": "display_data",
          "data": {
            "text/plain": [
              "<Figure size 1200x700 with 1 Axes>"
            ],
            "image/png": "[encoded data removed]"
          },
          "metadata": {}
        },
        {
          "output_type": "display_data",
          "data": {
            "text/plain": [
              "<Figure size 1200x700 with 1 Axes>"
            ],
            "image/png": "[encoded data removed]"
          },
          "metadata": {}
        }
      ]
    },
    {
      "cell_type": "code",
      "source": [
        "\n",
        "\n",
        "categories = [\"Feminine(Decoded)\", \"Feminine(Real)\", \"Masculine(Decoded)\", \"Masculine(Real)\"]\n",
        "x = np.arange(len(categories))\n",
        "width = 0.2\n",
        "\n",
        "fig, ax = plt.subplots(figsize=(12, 7))\n",
        "\n",
        "for i, (model_name, biases) in enumerate(mean_biases.items()):\n",
        "    offsets = (i - len(mean_biases) / 2) * width\n",
        "    ax.bar(x + offsets, [biases[cat] for cat in categories], width, label=model_name)\n",
        "\n",
        "ax.set_xlabel('Categories', fontsize=25)\n",
        "ax.set_ylabel('Mean Gender bias', fontsize=25)\n",
        "# ax.set_title('Mean Bias Comparison Across Models', fontsize=16)\n",
        "ax.set_xticks(x)\n",
        "ax.axhline(y=0, color='black', linewidth=1)\n",
        "ax.set_xticklabels(categories, fontsize=18)\n",
        "ax.yaxis.set_tick_params(labelsize=15)\n",
        "ax.legend(fontsize=20)\n",
        "\n",
        "plt.tight_layout()\n",
        "plt.show()"
      ],
      "metadata": {
        "colab": {
          "base_uri": "https://localhost:8080/",
          "height": 683
        },
        "id": "v18nUaLtHxy7",
        "outputId": "0ee4f96c-9987-4ed0-a9c5-70d0cec29f19"
      },
      "execution_count": 55,
      "outputs": [
        {
          "output_type": "display_data",
          "data": {
            "text/plain": [
              "<Figure size 1200x700 with 1 Axes>"
            ],
            "image/png": "[encoded data removed]"
          },
          "metadata": {}
        }
      ]
    },
    {
      "cell_type": "markdown",
      "metadata": {
        "id": "dqGjXMMKN037"
      },
      "source": [
        "## lack of training data? lets try with more!"
      ]
    },
    {
      "cell_type": "code",
      "execution_count": 56,
      "metadata": {
        "id": "o55l9gYMN6jW",
        "colab": {
          "base_uri": "https://localhost:8080/"
        },
        "outputId": "128b079c-7b27-4923-a15e-2c36f96b9e29"
      },
      "outputs": [
        {
          "output_type": "execute_result",
          "data": {
            "text/plain": [
              "(180, 170712)"
            ]
          },
          "metadata": {},
          "execution_count": 56
        }
      ],
      "source": [
        "data.shape"
      ]
    },
    {
      "cell_type": "code",
      "execution_count": 57,
      "metadata": {
        "id": "fespgb5uU4GA"
      },
      "outputs": [],
      "source": [
        "data180 = neural_data_exp1"
      ]
    },
    {
      "cell_type": "code",
      "execution_count": 58,
      "metadata": {
        "id": "86-ghnWaVG5q",
        "colab": {
          "base_uri": "https://localhost:8080/"
        },
        "outputId": "c27da053-0ae3-41c2-eb48-29380e398bb5"
      },
      "outputs": [
        {
          "output_type": "execute_result",
          "data": {
            "text/plain": [
              "(180, 185866)"
            ]
          },
          "metadata": {},
          "execution_count": 58
        }
      ],
      "source": [
        "data180.shape"
      ]
    },
    {
      "cell_type": "code",
      "execution_count": 59,
      "metadata": {
        "id": "xG4hPtFaUXoo"
      },
      "outputs": [],
      "source": [
        "data_384 = exp2_data['Fmridata']"
      ]
    },
    {
      "cell_type": "code",
      "execution_count": 60,
      "metadata": {
        "id": "pJSfuVrrUZiG",
        "colab": {
          "base_uri": "https://localhost:8080/"
        },
        "outputId": "22b6060c-aec2-45e6-89ba-ab117b6d23db"
      },
      "outputs": [
        {
          "output_type": "execute_result",
          "data": {
            "text/plain": [
              "(384, 185866)"
            ]
          },
          "metadata": {},
          "execution_count": 60
        }
      ],
      "source": [
        "data_384.shape"
      ]
    },
    {
      "cell_type": "code",
      "execution_count": 61,
      "metadata": {
        "id": "OeK1_Kp0UlQ6"
      },
      "outputs": [],
      "source": [
        "data_243 = exp3_data['Fmridata']"
      ]
    },
    {
      "cell_type": "code",
      "execution_count": 62,
      "metadata": {
        "id": "WPE816k3Uo0L",
        "colab": {
          "base_uri": "https://localhost:8080/"
        },
        "outputId": "f47761f8-ff2f-49a1-95a3-9ada49e3a582"
      },
      "outputs": [
        {
          "output_type": "execute_result",
          "data": {
            "text/plain": [
              "(243, 185866)"
            ]
          },
          "metadata": {},
          "execution_count": 62
        }
      ],
      "source": [
        "data_243.shape"
      ]
    },
    {
      "cell_type": "code",
      "execution_count": 63,
      "metadata": {
        "id": "549Y5QJeV1hR"
      },
      "outputs": [],
      "source": [
        "\n",
        "# Combine FMRI data and concepts\n",
        "FMRI_combined = np.vstack((FMRI_EXP2, FMRI_EXP3))\n",
        "concepts_combined = concepts_EXP2 + concepts_EXP3"
      ]
    },
    {
      "cell_type": "code",
      "execution_count": 64,
      "metadata": {
        "id": "a-zS_uEAWHQ0",
        "colab": {
          "base_uri": "https://localhost:8080/"
        },
        "outputId": "08dd7fb5-8043-45a9-d349-9fd3c610bc82"
      },
      "outputs": [
        {
          "output_type": "execute_result",
          "data": {
            "text/plain": [
              "(627, 185866)"
            ]
          },
          "metadata": {},
          "execution_count": 64
        }
      ],
      "source": [
        "FMRI_combined.shape"
      ]
    },
    {
      "cell_type": "code",
      "execution_count": 65,
      "metadata": {
        "id": "jMqoF_2vcLfC"
      },
      "outputs": [],
      "source": [
        "sentences_file_path = 'stimuli_384sentences.txt'\n",
        "with open(sentences_file_path, \"r\") as f:\n",
        "    sentences_384 = f.readlines()\n",
        "\n",
        "sentences_file_path = 'stimuli_243sentences.txt'\n",
        "with open(sentences_file_path, \"r\") as f:\n",
        "    sentences_243 = f.readlines()"
      ]
    },
    {
      "cell_type": "code",
      "execution_count": 66,
      "metadata": {
        "id": "B9rNoECocNFa",
        "colab": {
          "base_uri": "https://localhost:8080/",
          "height": 35
        },
        "outputId": "905fd5cd-be43-4633-f43d-c013d8465bcd"
      },
      "outputs": [
        {
          "output_type": "execute_result",
          "data": {
            "text/plain": [
              "'Beekeeping encourages the conservation of local habitats.\\n'"
            ],
            "application/vnd.google.colaboratory.intrinsic+json": {
              "type": "string"
            }
          },
          "metadata": {},
          "execution_count": 66
        }
      ],
      "source": [
        "sentences_combained=sentences_243+sentences_384\n",
        "sentences_combained[0]"
      ]
    },
    {
      "cell_type": "code",
      "execution_count": 67,
      "metadata": {
        "id": "LAOyyWXeqmRx",
        "colab": {
          "base_uri": "https://localhost:8080/"
        },
        "outputId": "c294bf80-1869-4620-9710-3d563dfc7b41"
      },
      "outputs": [
        {
          "output_type": "stream",
          "name": "stdout",
          "text": [
            "[[ 0.366856 -0.31306   0.028711 ... -0.22306   0.268278  0.199575]\n",
            " [ 0.39413  -0.250356  0.042328 ... -0.286633  0.096377 -0.053102]\n",
            " [-0.032598  0.25447   0.122252 ...  0.033089 -0.003771  0.167761]\n",
            " ...\n",
            " [ 0.12136   0.442767 -0.130527 ...  0.122083 -0.084372 -0.022405]\n",
            " [-0.234316  0.185497 -0.164314 ... -0.044942  0.162396 -0.002788]\n",
            " [-0.16232   0.284525 -0.19418  ... -0.074766  0.098054  0.233641]]\n"
          ]
        }
      ],
      "source": [
        "print(vectors_384)"
      ]
    },
    {
      "cell_type": "code",
      "execution_count": 68,
      "metadata": {
        "id": "j8yTY8-jkXXQ"
      },
      "outputs": [],
      "source": [
        "glove_vectors_combined = np.vstack((vectors_243,vectors_384))"
      ]
    },
    {
      "cell_type": "code",
      "execution_count": 69,
      "metadata": {
        "id": "WUpCNaE1q2EJ",
        "colab": {
          "base_uri": "https://localhost:8080/"
        },
        "outputId": "1da99d02-7cd3-404e-d8a7-76972ad471ba"
      },
      "outputs": [
        {
          "output_type": "execute_result",
          "data": {
            "text/plain": [
              "(627, 300)"
            ]
          },
          "metadata": {},
          "execution_count": 69
        }
      ],
      "source": [
        "glove_vectors_combined.shape"
      ]
    },
    {
      "cell_type": "markdown",
      "metadata": {
        "id": "XpZS2L5VkqIv"
      },
      "source": [
        "##glove:"
      ]
    },
    {
      "cell_type": "code",
      "execution_count": 70,
      "metadata": {
        "id": "6iUkdBuq2JN5"
      },
      "outputs": [],
      "source": [
        "del sentences_243\n",
        "del sentences_384\n",
        "del FMRI_EXP2\n",
        "del FMRI_EXP3\n",
        "del concepts_EXP2\n",
        "del concepts_EXP3\n",
        "del exp3_data\n",
        "del exp2_data\n"
      ]
    },
    {
      "cell_type": "code",
      "execution_count": 71,
      "metadata": {
        "id": "KYc3dvm4lnkb"
      },
      "outputs": [],
      "source": [
        "\n",
        "# Combine FMRI data and concepts\n",
        "FMRI_combined = np.vstack((data180, FMRI_combined))\n",
        "concepts_combined = list(concepts) + concepts_combined\n",
        "glove_vectors_combined = np.vstack((glove_vectors,glove_vectors_combined))"
      ]
    },
    {
      "cell_type": "code",
      "execution_count": 72,
      "metadata": {
        "id": "mF8altGJ2p9d"
      },
      "outputs": [],
      "source": [
        "del neural_data_exp1"
      ]
    },
    {
      "cell_type": "code",
      "execution_count": 73,
      "metadata": {
        "id": "yCodz_kfmTYC",
        "colab": {
          "base_uri": "https://localhost:8080/",
          "height": 696
        },
        "outputId": "cf9aa1eb-0373-4e26-a7ad-5e2fd4560e14"
      },
      "outputs": [
        {
          "output_type": "display_data",
          "data": {
            "text/plain": [
              "<Figure size 1200x700 with 1 Axes>"
            ],
            "image/png": "[encoded data removed]"
          },
          "metadata": {}
        },
        {
          "output_type": "execute_result",
          "data": {
            "text/plain": [
              "(0.036553301105020954, -0.06613849966396171)"
            ]
          },
          "metadata": {},
          "execution_count": 73
        }
      ],
      "source": [
        "calculate_mean_bias(fem_concepts,FMRI_combined,glove_vectors_combined,glove_fem_vec,glove_masc_vec,np.array(concepts_combined),\"Feminine\",\"Extended data GloVe\")"
      ]
    },
    {
      "cell_type": "code",
      "execution_count": 74,
      "metadata": {
        "id": "c-LSArgImkd2",
        "colab": {
          "base_uri": "https://localhost:8080/",
          "height": 696
        },
        "outputId": "933e38ce-76e7-4c1a-f3fb-b6667246a39a"
      },
      "outputs": [
        {
          "output_type": "display_data",
          "data": {
            "text/plain": [
              "<Figure size 1200x700 with 1 Axes>"
            ],
            "image/png": "[encoded data removed]"
          },
          "metadata": {}
        },
        {
          "output_type": "execute_result",
          "data": {
            "text/plain": [
              "(0.02936350469366984, 0.07364727846854564)"
            ]
          },
          "metadata": {},
          "execution_count": 74
        }
      ],
      "source": [
        "calculate_mean_bias(masc_concepts,FMRI_combined,glove_vectors_combined,glove_fem_vec,glove_masc_vec,np.array(concepts_combined),\"Masculine\",\"Extended data GloVe\")"
      ]
    },
    {
      "cell_type": "code",
      "execution_count": 75,
      "metadata": {
        "id": "gzlHC0BOJAl_"
      },
      "outputs": [],
      "source": [
        "del FMRI_combined\n",
        "del glove_vectors_combined"
      ]
    },
    {
      "cell_type": "markdown",
      "metadata": {
        "id": "PfDNsRl_Gey0"
      },
      "source": [
        "# pair-wise comperesion of brain data"
      ]
    },
    {
      "cell_type": "code",
      "execution_count": 76,
      "metadata": {
        "id": "aTN_rdy0ztIJ"
      },
      "outputs": [],
      "source": [
        "fem_concepts=[\"dressing\",\"emotionally\",\"clothes\",\"hair\",\"marriage\"]\n",
        "masc_concepts=[\"fight\",\"money\",\"gun\",\"beer\",\"big\"]"
      ]
    },
    {
      "cell_type": "code",
      "source": [
        "indices= np.array(range(180))"
      ],
      "metadata": {
        "id": "BBwC8imXPuob"
      },
      "execution_count": 77,
      "outputs": []
    },
    {
      "cell_type": "code",
      "execution_count": 78,
      "metadata": {
        "id": "68eCI-9YGpUo"
      },
      "outputs": [],
      "source": [
        "mask = np.isin(concepts, fem_concepts)\n",
        "\n",
        "fem_inds = indices[mask]\n",
        "\n",
        "fem_data = np.take(data180, fem_inds, axis=0)"
      ]
    },
    {
      "cell_type": "code",
      "execution_count": 79,
      "metadata": {
        "id": "CLyFrHvQJ_j3",
        "colab": {
          "base_uri": "https://localhost:8080/",
          "height": 255
        },
        "outputId": "1f1cf5d6-e80b-40f0-effa-5daab1b8bf56"
      },
      "outputs": [
        {
          "output_type": "execute_result",
          "data": {
            "text/plain": [
              "            0          1          2          3          4          5  \\\n",
              "30   5.927615   0.997458   2.363722   4.021942  12.486966   7.074160   \n",
              "56   5.527983   2.789404   4.846739  10.264147   4.108608   3.653222   \n",
              "63 -15.084263 -14.150178 -16.213204 -15.963376 -16.454997 -10.275474   \n",
              "77 -18.875293 -18.264128 -16.378972 -10.840875  -6.398594  -6.704763   \n",
              "99   1.410644   1.911043   0.441896   3.204368  -4.962571   0.372380   \n",
              "\n",
              "           6          7          8          9  ...     185856     185857  \\\n",
              "30  5.609855   5.220205   2.792427  -1.388491  ...   3.364478  -7.915141   \n",
              "56  6.178796   7.292910   7.416240   3.860401  ...   0.387957   1.922225   \n",
              "63 -9.353635 -14.457358 -21.982474 -28.817327  ...  29.617824  26.258576   \n",
              "77  0.120517   3.891065   6.316386   8.190624  ...  28.265442  30.017606   \n",
              "99  3.136115   0.457659   0.327099   3.252228  ...  -8.727970  -6.343280   \n",
              "\n",
              "       185858     185859     185860     185861     185862     185863  \\\n",
              "30 -31.390379 -45.543630 -27.764046 -38.406820 -19.997367 -28.541626   \n",
              "56   0.995963  -0.436340   5.124239   4.815884   5.026034   7.586421   \n",
              "63  15.146203  10.871915  17.175401  24.531362  13.850566  28.580042   \n",
              "77  19.381371  19.673368  27.925580  19.692003  27.089320  18.614179   \n",
              "99   2.082045   7.588795  -3.409840  11.914747 -15.235866   7.859001   \n",
              "\n",
              "       185864     185865  \n",
              "30 -18.554232 -22.333082  \n",
              "56   0.904289   1.525812  \n",
              "63  11.387751  23.183269  \n",
              "77  26.623477  21.662343  \n",
              "99 -16.384990   0.782765  \n",
              "\n",
              "[5 rows x 185866 columns]"
            ],
            "text/html": [
              "\n",
              "  <div id=\"df-c3e2c8ff-0f17-4115-8f72-1e18c4f54eb7\" class=\"colab-df-container\">\n",
              "    <div>\n",
              "<style scoped>\n",
              "    .dataframe tbody tr th:only-of-type {\n",
              "        vertical-align: middle;\n",
              "    }\n",
              "\n",
              "    .dataframe tbody tr th {\n",
              "        vertical-align: top;\n",
              "    }\n",
              "\n",
              "    .dataframe thead th {\n",
              "        text-align: right;\n",
              "    }\n",
              "</style>\n",
              "<table border=\"1\" class=\"dataframe\">\n",
              "  <thead>\n",
              "    <tr style=\"text-align: right;\">\n",
              "      <th></th>\n",
              "      <th>0</th>\n",
              "      <th>1</th>\n",
              "      <th>2</th>\n",
              "      <th>3</th>\n",
              "      <th>4</th>\n",
              "      <th>5</th>\n",
              "      <th>6</th>\n",
              "      <th>7</th>\n",
              "      <th>8</th>\n",
              "      <th>9</th>\n",
              "      <th>...</th>\n",
              "      <th>185856</th>\n",
              "      <th>185857</th>\n",
              "      <th>185858</th>\n",
              "      <th>185859</th>\n",
              "      <th>185860</th>\n",
              "      <th>185861</th>\n",
              "      <th>185862</th>\n",
              "      <th>185863</th>\n",
              "      <th>185864</th>\n",
              "      <th>185865</th>\n",
              "    </tr>\n",
              "  </thead>\n",
              "  <tbody>\n",
              "    <tr>\n",
              "      <th>30</th>\n",
              "      <td>5.927615</td>\n",
              "      <td>0.997458</td>\n",
              "      <td>2.363722</td>\n",
              "      <td>4.021942</td>\n",
              "      <td>12.486966</td>\n",
              "      <td>7.074160</td>\n",
              "      <td>5.609855</td>\n",
              "      <td>5.220205</td>\n",
              "      <td>2.792427</td>\n",
              "      <td>-1.388491</td>\n",
              "      <td>...</td>\n",
              "      <td>3.364478</td>\n",
              "      <td>-7.915141</td>\n",
              "      <td>-31.390379</td>\n",
              "      <td>-45.543630</td>\n",
              "      <td>-27.764046</td>\n",
              "      <td>-38.406820</td>\n",
              "      <td>-19.997367</td>\n",
              "      <td>-28.541626</td>\n",
              "      <td>-18.554232</td>\n",
              "      <td>-22.333082</td>\n",
              "    </tr>\n",
              "    <tr>\n",
              "      <th>56</th>\n",
              "      <td>5.527983</td>\n",
              "      <td>2.789404</td>\n",
              "      <td>4.846739</td>\n",
              "      <td>10.264147</td>\n",
              "      <td>4.108608</td>\n",
              "      <td>3.653222</td>\n",
              "      <td>6.178796</td>\n",
              "      <td>7.292910</td>\n",
              "      <td>7.416240</td>\n",
              "      <td>3.860401</td>\n",
              "      <td>...</td>\n",
              "      <td>0.387957</td>\n",
              "      <td>1.922225</td>\n",
              "      <td>0.995963</td>\n",
              "      <td>-0.436340</td>\n",
              "      <td>5.124239</td>\n",
              "      <td>4.815884</td>\n",
              "      <td>5.026034</td>\n",
              "      <td>7.586421</td>\n",
              "      <td>0.904289</td>\n",
              "      <td>1.525812</td>\n",
              "    </tr>\n",
              "    <tr>\n",
              "      <th>63</th>\n",
              "      <td>-15.084263</td>\n",
              "      <td>-14.150178</td>\n",
              "      <td>-16.213204</td>\n",
              "      <td>-15.963376</td>\n",
              "      <td>-16.454997</td>\n",
              "      <td>-10.275474</td>\n",
              "      <td>-9.353635</td>\n",
              "      <td>-14.457358</td>\n",
              "      <td>-21.982474</td>\n",
              "      <td>-28.817327</td>\n",
              "      <td>...</td>\n",
              "      <td>29.617824</td>\n",
              "      <td>26.258576</td>\n",
              "      <td>15.146203</td>\n",
              "      <td>10.871915</td>\n",
              "      <td>17.175401</td>\n",
              "      <td>24.531362</td>\n",
              "      <td>13.850566</td>\n",
              "      <td>28.580042</td>\n",
              "      <td>11.387751</td>\n",
              "      <td>23.183269</td>\n",
              "    </tr>\n",
              "    <tr>\n",
              "      <th>77</th>\n",
              "      <td>-18.875293</td>\n",
              "      <td>-18.264128</td>\n",
              "      <td>-16.378972</td>\n",
              "      <td>-10.840875</td>\n",
              "      <td>-6.398594</td>\n",
              "      <td>-6.704763</td>\n",
              "      <td>0.120517</td>\n",
              "      <td>3.891065</td>\n",
              "      <td>6.316386</td>\n",
              "      <td>8.190624</td>\n",
              "      <td>...</td>\n",
              "      <td>28.265442</td>\n",
              "      <td>30.017606</td>\n",
              "      <td>19.381371</td>\n",
              "      <td>19.673368</td>\n",
              "      <td>27.925580</td>\n",
              "      <td>19.692003</td>\n",
              "      <td>27.089320</td>\n",
              "      <td>18.614179</td>\n",
              "      <td>26.623477</td>\n",
              "      <td>21.662343</td>\n",
              "    </tr>\n",
              "    <tr>\n",
              "      <th>99</th>\n",
              "      <td>1.410644</td>\n",
              "      <td>1.911043</td>\n",
              "      <td>0.441896</td>\n",
              "      <td>3.204368</td>\n",
              "      <td>-4.962571</td>\n",
              "      <td>0.372380</td>\n",
              "      <td>3.136115</td>\n",
              "      <td>0.457659</td>\n",
              "      <td>0.327099</td>\n",
              "      <td>3.252228</td>\n",
              "      <td>...</td>\n",
              "      <td>-8.727970</td>\n",
              "      <td>-6.343280</td>\n",
              "      <td>2.082045</td>\n",
              "      <td>7.588795</td>\n",
              "      <td>-3.409840</td>\n",
              "      <td>11.914747</td>\n",
              "      <td>-15.235866</td>\n",
              "      <td>7.859001</td>\n",
              "      <td>-16.384990</td>\n",
              "      <td>0.782765</td>\n",
              "    </tr>\n",
              "  </tbody>\n",
              "</table>\n",
              "<p>5 rows × 185866 columns</p>\n",
              "</div>\n",
              "    <div class=\"colab-df-buttons\">\n",
              "\n",
              "  <div class=\"colab-df-container\">\n",
              "    <button class=\"colab-df-convert\" onclick=\"convertToInteractive('df-c3e2c8ff-0f17-4115-8f72-1e18c4f54eb7')\"\n",
              "            title=\"Convert this dataframe to an interactive table.\"\n",
              "            style=\"display:none;\">\n",
              "\n",
              "  <svg xmlns=\"http://www.w3.org/2000/svg\" height=\"24px\" viewBox=\"0 -960 960 960\">\n",
              "    <path d=\"M120-120v-720h720v720H120Zm60-500h600v-160H180v160Zm220 220h160v-160H400v160Zm0 220h160v-160H400v160ZM180-400h160v-160H180v160Zm440 0h160v-160H620v160ZM180-180h160v-160H180v160Zm440 0h160v-160H620v160Z\"/>\n",
              "  </svg>\n",
              "    </button>\n",
              "\n",
              "  <style>\n",
              "    .colab-df-container {\n",
              "      display:flex;\n",
              "      gap: 12px;\n",
              "    }\n",
              "\n",
              "    .colab-df-convert {\n",
              "      background-color: #E8F0FE;\n",
              "      border: none;\n",
              "      border-radius: 50%;\n",
              "      cursor: pointer;\n",
              "      display: none;\n",
              "      fill: #1967D2;\n",
              "      height: 32px;\n",
              "      padding: 0 0 0 0;\n",
              "      width: 32px;\n",
              "    }\n",
              "\n",
              "    .colab-df-convert:hover {\n",
              "      background-color: #E2EBFA;\n",
              "      box-shadow: 0px 1px 2px rgba(60, 64, 67, 0.3), 0px 1px 3px 1px rgba(60, 64, 67, 0.15);\n",
              "      fill: #174EA6;\n",
              "    }\n",
              "\n",
              "    .colab-df-buttons div {\n",
              "      margin-bottom: 4px;\n",
              "    }\n",
              "\n",
              "    [theme=dark] .colab-df-convert {\n",
              "      background-color: #3B4455;\n",
              "      fill: #D2E3FC;\n",
              "    }\n",
              "\n",
              "    [theme=dark] .colab-df-convert:hover {\n",
              "      background-color: #434B5C;\n",
              "      box-shadow: 0px 1px 3px 1px rgba(0, 0, 0, 0.15);\n",
              "      filter: drop-shadow(0px 1px 2px rgba(0, 0, 0, 0.3));\n",
              "      fill: #FFFFFF;\n",
              "    }\n",
              "  </style>\n",
              "\n",
              "    <script>\n",
              "      const buttonEl =\n",
              "        document.querySelector('#df-c3e2c8ff-0f17-4115-8f72-1e18c4f54eb7 button.colab-df-convert');\n",
              "      buttonEl.style.display =\n",
              "        google.colab.kernel.accessAllowed ? 'block' : 'none';\n",
              "\n",
              "      async function convertToInteractive(key) {\n",
              "        const element = document.querySelector('#df-c3e2c8ff-0f17-4115-8f72-1e18c4f54eb7');\n",
              "        const dataTable =\n",
              "          await google.colab.kernel.invokeFunction('convertToInteractive',\n",
              "                                                    [key], {});\n",
              "        if (!dataTable) return;\n",
              "\n",
              "        const docLinkHtml = 'Like what you see? Visit the ' +\n",
              "          '<a target=\"_blank\" href=https://colab.research.google.com/notebooks/data_table.ipynb>data table notebook</a>'\n",
              "          + ' to learn more about interactive tables.';\n",
              "        element.innerHTML = '';\n",
              "        dataTable['output_type'] = 'display_data';\n",
              "        await google.colab.output.renderOutput(dataTable, element);\n",
              "        const docLink = document.createElement('div');\n",
              "        docLink.innerHTML = docLinkHtml;\n",
              "        element.appendChild(docLink);\n",
              "      }\n",
              "    </script>\n",
              "  </div>\n",
              "\n",
              "\n",
              "<div id=\"df-781f1032-73e5-4347-b823-76ab482d5d35\">\n",
              "  <button class=\"colab-df-quickchart\" onclick=\"quickchart('df-781f1032-73e5-4347-b823-76ab482d5d35')\"\n",
              "            title=\"Suggest charts\"\n",
              "            style=\"display:none;\">\n",
              "\n",
              "<svg xmlns=\"http://www.w3.org/2000/svg\" height=\"24px\"viewBox=\"0 0 24 24\"\n",
              "     width=\"24px\">\n",
              "    <g>\n",
              "        <path d=\"M19 3H5c-1.1 0-2 .9-2 2v14c0 1.1.9 2 2 2h14c1.1 0 2-.9 2-2V5c0-1.1-.9-2-2-2zM9 17H7v-7h2v7zm4 0h-2V7h2v10zm4 0h-2v-4h2v4z\"/>\n",
              "    </g>\n",
              "</svg>\n",
              "  </button>\n",
              "\n",
              "<style>\n",
              "  .colab-df-quickchart {\n",
              "      --bg-color: #E8F0FE;\n",
              "      --fill-color: #1967D2;\n",
              "      --hover-bg-color: #E2EBFA;\n",
              "      --hover-fill-color: #174EA6;\n",
              "      --disabled-fill-color: #AAA;\n",
              "      --disabled-bg-color: #DDD;\n",
              "  }\n",
              "\n",
              "  [theme=dark] .colab-df-quickchart {\n",
              "      --bg-color: #3B4455;\n",
              "      --fill-color: #D2E3FC;\n",
              "      --hover-bg-color: #434B5C;\n",
              "      --hover-fill-color: #FFFFFF;\n",
              "      --disabled-bg-color: #3B4455;\n",
              "      --disabled-fill-color: #666;\n",
              "  }\n",
              "\n",
              "  .colab-df-quickchart {\n",
              "    background-color: var(--bg-color);\n",
              "    border: none;\n",
              "    border-radius: 50%;\n",
              "    cursor: pointer;\n",
              "    display: none;\n",
              "    fill: var(--fill-color);\n",
              "    height: 32px;\n",
              "    padding: 0;\n",
              "    width: 32px;\n",
              "  }\n",
              "\n",
              "  .colab-df-quickchart:hover {\n",
              "    background-color: var(--hover-bg-color);\n",
              "    box-shadow: 0 1px 2px rgba(60, 64, 67, 0.3), 0 1px 3px 1px rgba(60, 64, 67, 0.15);\n",
              "    fill: var(--button-hover-fill-color);\n",
              "  }\n",
              "\n",
              "  .colab-df-quickchart-complete:disabled,\n",
              "  .colab-df-quickchart-complete:disabled:hover {\n",
              "    background-color: var(--disabled-bg-color);\n",
              "    fill: var(--disabled-fill-color);\n",
              "    box-shadow: none;\n",
              "  }\n",
              "\n",
              "  .colab-df-spinner {\n",
              "    border: 2px solid var(--fill-color);\n",
              "    border-color: transparent;\n",
              "    border-bottom-color: var(--fill-color);\n",
              "    animation:\n",
              "      spin 1s steps(1) infinite;\n",
              "  }\n",
              "\n",
              "  @keyframes spin {\n",
              "    0% {\n",
              "      border-color: transparent;\n",
              "      border-bottom-color: var(--fill-color);\n",
              "      border-left-color: var(--fill-color);\n",
              "    }\n",
              "    20% {\n",
              "      border-color: transparent;\n",
              "      border-left-color: var(--fill-color);\n",
              "      border-top-color: var(--fill-color);\n",
              "    }\n",
              "    30% {\n",
              "      border-color: transparent;\n",
              "      border-left-color: var(--fill-color);\n",
              "      border-top-color: var(--fill-color);\n",
              "      border-right-color: var(--fill-color);\n",
              "    }\n",
              "    40% {\n",
              "      border-color: transparent;\n",
              "      border-right-color: var(--fill-color);\n",
              "      border-top-color: var(--fill-color);\n",
              "    }\n",
              "    60% {\n",
              "      border-color: transparent;\n",
              "      border-right-color: var(--fill-color);\n",
              "    }\n",
              "    80% {\n",
              "      border-color: transparent;\n",
              "      border-right-color: var(--fill-color);\n",
              "      border-bottom-color: var(--fill-color);\n",
              "    }\n",
              "    90% {\n",
              "      border-color: transparent;\n",
              "      border-bottom-color: var(--fill-color);\n",
              "    }\n",
              "  }\n",
              "</style>\n",
              "\n",
              "  <script>\n",
              "    async function quickchart(key) {\n",
              "      const quickchartButtonEl =\n",
              "        document.querySelector('#' + key + ' button');\n",
              "      quickchartButtonEl.disabled = true;  // To prevent multiple clicks.\n",
              "      quickchartButtonEl.classList.add('colab-df-spinner');\n",
              "      try {\n",
              "        const charts = await google.colab.kernel.invokeFunction(\n",
              "            'suggestCharts', [key], {});\n",
              "      } catch (error) {\n",
              "        console.error('Error during call to suggestCharts:', error);\n",
              "      }\n",
              "      quickchartButtonEl.classList.remove('colab-df-spinner');\n",
              "      quickchartButtonEl.classList.add('colab-df-quickchart-complete');\n",
              "    }\n",
              "    (() => {\n",
              "      let quickchartButtonEl =\n",
              "        document.querySelector('#df-781f1032-73e5-4347-b823-76ab482d5d35 button');\n",
              "      quickchartButtonEl.style.display =\n",
              "        google.colab.kernel.accessAllowed ? 'block' : 'none';\n",
              "    })();\n",
              "  </script>\n",
              "</div>\n",
              "\n",
              "  <div id=\"id_08e281cc-4ff0-4d6e-9756-2f0f38f12ed5\">\n",
              "    <style>\n",
              "      .colab-df-generate {\n",
              "        background-color: #E8F0FE;\n",
              "        border: none;\n",
              "        border-radius: 50%;\n",
              "        cursor: pointer;\n",
              "        display: none;\n",
              "        fill: #1967D2;\n",
              "        height: 32px;\n",
              "        padding: 0 0 0 0;\n",
              "        width: 32px;\n",
              "      }\n",
              "\n",
              "      .colab-df-generate:hover {\n",
              "        background-color: #E2EBFA;\n",
              "        box-shadow: 0px 1px 2px rgba(60, 64, 67, 0.3), 0px 1px 3px 1px rgba(60, 64, 67, 0.15);\n",
              "        fill: #174EA6;\n",
              "      }\n",
              "\n",
              "      [theme=dark] .colab-df-generate {\n",
              "        background-color: #3B4455;\n",
              "        fill: #D2E3FC;\n",
              "      }\n",
              "\n",
              "      [theme=dark] .colab-df-generate:hover {\n",
              "        background-color: #434B5C;\n",
              "        box-shadow: 0px 1px 3px 1px rgba(0, 0, 0, 0.15);\n",
              "        filter: drop-shadow(0px 1px 2px rgba(0, 0, 0, 0.3));\n",
              "        fill: #FFFFFF;\n",
              "      }\n",
              "    </style>\n",
              "    <button class=\"colab-df-generate\" onclick=\"generateWithVariable('fem_data')\"\n",
              "            title=\"Generate code using this dataframe.\"\n",
              "            style=\"display:none;\">\n",
              "\n",
              "  <svg xmlns=\"http://www.w3.org/2000/svg\" height=\"24px\"viewBox=\"0 0 24 24\"\n",
              "       width=\"24px\">\n",
              "    <path d=\"M7,19H8.4L18.45,9,17,7.55,7,17.6ZM5,21V16.75L18.45,3.32a2,2,0,0,1,2.83,0l1.4,1.43a1.91,1.91,0,0,1,.58,1.4,1.91,1.91,0,0,1-.58,1.4L9.25,21ZM18.45,9,17,7.55Zm-12,3A5.31,5.31,0,0,0,4.9,8.1,5.31,5.31,0,0,0,1,6.5,5.31,5.31,0,0,0,4.9,4.9,5.31,5.31,0,0,0,6.5,1,5.31,5.31,0,0,0,8.1,4.9,5.31,5.31,0,0,0,12,6.5,5.46,5.46,0,0,0,6.5,12Z\"/>\n",
              "  </svg>\n",
              "    </button>\n",
              "    <script>\n",
              "      (() => {\n",
              "      const buttonEl =\n",
              "        document.querySelector('#id_08e281cc-4ff0-4d6e-9756-2f0f38f12ed5 button.colab-df-generate');\n",
              "      buttonEl.style.display =\n",
              "        google.colab.kernel.accessAllowed ? 'block' : 'none';\n",
              "\n",
              "      buttonEl.onclick = () => {\n",
              "        google.colab.notebook.generateWithVariable('fem_data');\n",
              "      }\n",
              "      })();\n",
              "    </script>\n",
              "  </div>\n",
              "\n",
              "    </div>\n",
              "  </div>\n"
            ],
            "application/vnd.google.colaboratory.intrinsic+json": {
              "type": "dataframe",
              "variable_name": "fem_data"
            }
          },
          "metadata": {},
          "execution_count": 79
        }
      ],
      "source": [
        "fem_data"
      ]
    },
    {
      "cell_type": "code",
      "execution_count": 80,
      "metadata": {
        "id": "HFKc6mqUJ5M6"
      },
      "outputs": [],
      "source": [
        "mask = np.isin(concepts, masc_concepts)\n",
        "\n",
        "masc_inds = indices[mask]\n",
        "\n",
        "masc_data = np.take(data180, masc_inds, axis=0)"
      ]
    },
    {
      "cell_type": "code",
      "execution_count": 81,
      "metadata": {
        "id": "fFXySbbwK8pH",
        "colab": {
          "base_uri": "https://localhost:8080/"
        },
        "outputId": "05ad6ffc-00ad-4636-9c43-9d2838e926c3"
      },
      "outputs": [
        {
          "output_type": "stream",
          "name": "stdout",
          "text": [
            "[[ 1.          0.0039112  -0.09246913  0.01306441  0.17972824]\n",
            " [ 0.0039112   1.          0.4062682   0.33577355 -0.08076193]\n",
            " [-0.09246913  0.4062682   1.          0.44814771  0.45013057]\n",
            " [ 0.01306441  0.33577355  0.44814771  1.          0.04539271]\n",
            " [ 0.17972824 -0.08076193  0.45013057  0.04539271  1.        ]]\n",
            "[0.02605868 0.16629775 0.30301934 0.2105946  0.1486224 ]\n"
          ]
        }
      ],
      "source": [
        "import numpy as np\n",
        "import pandas as pd\n",
        "from scipy.spatial.distance import cdist\n",
        "\n",
        "# Calculate cosine similarity (1 - cosine distance) from rows in the same dataframe\n",
        "cosine_sim_fem_data = 1 - cdist(fem_data, fem_data, metric='cosine')\n",
        "print(cosine_sim_fem_data)\n",
        "np.fill_diagonal(cosine_sim_fem_data, np.nan)  # Set diagonal to NaN\n",
        "mean_sim_same_fem_data = np.nanmean(cosine_sim_fem_data, axis=1)  # Mean excluding NaN values\n",
        "\n",
        "cosine_sim_masc_data = 1 - cdist(masc_data, masc_data, metric='cosine')\n",
        "np.fill_diagonal(cosine_sim_masc_data, np.nan)  # Set diagonal to NaN\n",
        "mean_sim_same_masc_data = np.nanmean(cosine_sim_masc_data, axis=1)  # Mean excluding NaN values\n",
        "print(mean_sim_same_fem_data)\n",
        "\n",
        "# Calculate cosine similarity (1 - cosine distance) from rows in the other dataframe\n",
        "mean_sim_other_fem_data = (1 - cdist(fem_data, masc_data, metric='cosine')).mean(axis=1)\n",
        "mean_sim_other_masc_data = (1 - cdist(masc_data, fem_data, metric='cosine')).mean(axis=1)\n",
        "\n",
        "# Add these as new columns to the dataframes\n",
        "fem_data['mean_sim_fem'] = mean_sim_same_fem_data\n",
        "fem_data['mean_sim_masc'] = mean_sim_other_fem_data\n",
        "\n",
        "masc_data['mean_sim_masc'] = mean_sim_same_masc_data\n",
        "masc_data['mean_sim_fem'] = mean_sim_other_masc_data\n"
      ]
    },
    {
      "cell_type": "code",
      "execution_count": 82,
      "metadata": {
        "id": "r6StVQun1BnF"
      },
      "outputs": [],
      "source": [
        "fem_data['concept'] = np.array(concepts)[fem_inds]\n",
        "\n",
        "masc_data['concept'] = np.array(concepts)[masc_inds]"
      ]
    },
    {
      "cell_type": "code",
      "execution_count": 83,
      "metadata": {
        "id": "GpETz1ilLWzs",
        "colab": {
          "base_uri": "https://localhost:8080/",
          "height": 206
        },
        "outputId": "a2ef7169-c193-44ad-8a9d-dc832d767bad"
      },
      "outputs": [
        {
          "output_type": "execute_result",
          "data": {
            "text/plain": [
              "        concept  mean_sim_fem  mean_sim_masc\n",
              "30      clothes      0.026059       0.298134\n",
              "56     dressing      0.166298       0.274001\n",
              "63  emotionally      0.303019       0.391552\n",
              "77         hair      0.210595       0.310970\n",
              "99     marriage      0.148622       0.182503"
            ],
            "text/html": [
              "\n",
              "  <div id=\"df-5de59c31-a1bc-4ceb-9075-06a039ad8a38\" class=\"colab-df-container\">\n",
              "    <div>\n",
              "<style scoped>\n",
              "    .dataframe tbody tr th:only-of-type {\n",
              "        vertical-align: middle;\n",
              "    }\n",
              "\n",
              "    .dataframe tbody tr th {\n",
              "        vertical-align: top;\n",
              "    }\n",
              "\n",
              "    .dataframe thead th {\n",
              "        text-align: right;\n",
              "    }\n",
              "</style>\n",
              "<table border=\"1\" class=\"dataframe\">\n",
              "  <thead>\n",
              "    <tr style=\"text-align: right;\">\n",
              "      <th></th>\n",
              "      <th>concept</th>\n",
              "      <th>mean_sim_fem</th>\n",
              "      <th>mean_sim_masc</th>\n",
              "    </tr>\n",
              "  </thead>\n",
              "  <tbody>\n",
              "    <tr>\n",
              "      <th>30</th>\n",
              "      <td>clothes</td>\n",
              "      <td>0.026059</td>\n",
              "      <td>0.298134</td>\n",
              "    </tr>\n",
              "    <tr>\n",
              "      <th>56</th>\n",
              "      <td>dressing</td>\n",
              "      <td>0.166298</td>\n",
              "      <td>0.274001</td>\n",
              "    </tr>\n",
              "    <tr>\n",
              "      <th>63</th>\n",
              "      <td>emotionally</td>\n",
              "      <td>0.303019</td>\n",
              "      <td>0.391552</td>\n",
              "    </tr>\n",
              "    <tr>\n",
              "      <th>77</th>\n",
              "      <td>hair</td>\n",
              "      <td>0.210595</td>\n",
              "      <td>0.310970</td>\n",
              "    </tr>\n",
              "    <tr>\n",
              "      <th>99</th>\n",
              "      <td>marriage</td>\n",
              "      <td>0.148622</td>\n",
              "      <td>0.182503</td>\n",
              "    </tr>\n",
              "  </tbody>\n",
              "</table>\n",
              "</div>\n",
              "    <div class=\"colab-df-buttons\">\n",
              "\n",
              "  <div class=\"colab-df-container\">\n",
              "    <button class=\"colab-df-convert\" onclick=\"convertToInteractive('df-5de59c31-a1bc-4ceb-9075-06a039ad8a38')\"\n",
              "            title=\"Convert this dataframe to an interactive table.\"\n",
              "            style=\"display:none;\">\n",
              "\n",
              "  <svg xmlns=\"http://www.w3.org/2000/svg\" height=\"24px\" viewBox=\"0 -960 960 960\">\n",
              "    <path d=\"M120-120v-720h720v720H120Zm60-500h600v-160H180v160Zm220 220h160v-160H400v160Zm0 220h160v-160H400v160ZM180-400h160v-160H180v160Zm440 0h160v-160H620v160ZM180-180h160v-160H180v160Zm440 0h160v-160H620v160Z\"/>\n",
              "  </svg>\n",
              "    </button>\n",
              "\n",
              "  <style>\n",
              "    .colab-df-container {\n",
              "      display:flex;\n",
              "      gap: 12px;\n",
              "    }\n",
              "\n",
              "    .colab-df-convert {\n",
              "      background-color: #E8F0FE;\n",
              "      border: none;\n",
              "      border-radius: 50%;\n",
              "      cursor: pointer;\n",
              "      display: none;\n",
              "      fill: #1967D2;\n",
              "      height: 32px;\n",
              "      padding: 0 0 0 0;\n",
              "      width: 32px;\n",
              "    }\n",
              "\n",
              "    .colab-df-convert:hover {\n",
              "      background-color: #E2EBFA;\n",
              "      box-shadow: 0px 1px 2px rgba(60, 64, 67, 0.3), 0px 1px 3px 1px rgba(60, 64, 67, 0.15);\n",
              "      fill: #174EA6;\n",
              "    }\n",
              "\n",
              "    .colab-df-buttons div {\n",
              "      margin-bottom: 4px;\n",
              "    }\n",
              "\n",
              "    [theme=dark] .colab-df-convert {\n",
              "      background-color: #3B4455;\n",
              "      fill: #D2E3FC;\n",
              "    }\n",
              "\n",
              "    [theme=dark] .colab-df-convert:hover {\n",
              "      background-color: #434B5C;\n",
              "      box-shadow: 0px 1px 3px 1px rgba(0, 0, 0, 0.15);\n",
              "      filter: drop-shadow(0px 1px 2px rgba(0, 0, 0, 0.3));\n",
              "      fill: #FFFFFF;\n",
              "    }\n",
              "  </style>\n",
              "\n",
              "    <script>\n",
              "      const buttonEl =\n",
              "        document.querySelector('#df-5de59c31-a1bc-4ceb-9075-06a039ad8a38 button.colab-df-convert');\n",
              "      buttonEl.style.display =\n",
              "        google.colab.kernel.accessAllowed ? 'block' : 'none';\n",
              "\n",
              "      async function convertToInteractive(key) {\n",
              "        const element = document.querySelector('#df-5de59c31-a1bc-4ceb-9075-06a039ad8a38');\n",
              "        const dataTable =\n",
              "          await google.colab.kernel.invokeFunction('convertToInteractive',\n",
              "                                                    [key], {});\n",
              "        if (!dataTable) return;\n",
              "\n",
              "        const docLinkHtml = 'Like what you see? Visit the ' +\n",
              "          '<a target=\"_blank\" href=https://colab.research.google.com/notebooks/data_table.ipynb>data table notebook</a>'\n",
              "          + ' to learn more about interactive tables.';\n",
              "        element.innerHTML = '';\n",
              "        dataTable['output_type'] = 'display_data';\n",
              "        await google.colab.output.renderOutput(dataTable, element);\n",
              "        const docLink = document.createElement('div');\n",
              "        docLink.innerHTML = docLinkHtml;\n",
              "        element.appendChild(docLink);\n",
              "      }\n",
              "    </script>\n",
              "  </div>\n",
              "\n",
              "\n",
              "<div id=\"df-906d7347-b41d-4210-ab85-c3eabd46aafb\">\n",
              "  <button class=\"colab-df-quickchart\" onclick=\"quickchart('df-906d7347-b41d-4210-ab85-c3eabd46aafb')\"\n",
              "            title=\"Suggest charts\"\n",
              "            style=\"display:none;\">\n",
              "\n",
              "<svg xmlns=\"http://www.w3.org/2000/svg\" height=\"24px\"viewBox=\"0 0 24 24\"\n",
              "     width=\"24px\">\n",
              "    <g>\n",
              "        <path d=\"M19 3H5c-1.1 0-2 .9-2 2v14c0 1.1.9 2 2 2h14c1.1 0 2-.9 2-2V5c0-1.1-.9-2-2-2zM9 17H7v-7h2v7zm4 0h-2V7h2v10zm4 0h-2v-4h2v4z\"/>\n",
              "    </g>\n",
              "</svg>\n",
              "  </button>\n",
              "\n",
              "<style>\n",
              "  .colab-df-quickchart {\n",
              "      --bg-color: #E8F0FE;\n",
              "      --fill-color: #1967D2;\n",
              "      --hover-bg-color: #E2EBFA;\n",
              "      --hover-fill-color: #174EA6;\n",
              "      --disabled-fill-color: #AAA;\n",
              "      --disabled-bg-color: #DDD;\n",
              "  }\n",
              "\n",
              "  [theme=dark] .colab-df-quickchart {\n",
              "      --bg-color: #3B4455;\n",
              "      --fill-color: #D2E3FC;\n",
              "      --hover-bg-color: #434B5C;\n",
              "      --hover-fill-color: #FFFFFF;\n",
              "      --disabled-bg-color: #3B4455;\n",
              "      --disabled-fill-color: #666;\n",
              "  }\n",
              "\n",
              "  .colab-df-quickchart {\n",
              "    background-color: var(--bg-color);\n",
              "    border: none;\n",
              "    border-radius: 50%;\n",
              "    cursor: pointer;\n",
              "    display: none;\n",
              "    fill: var(--fill-color);\n",
              "    height: 32px;\n",
              "    padding: 0;\n",
              "    width: 32px;\n",
              "  }\n",
              "\n",
              "  .colab-df-quickchart:hover {\n",
              "    background-color: var(--hover-bg-color);\n",
              "    box-shadow: 0 1px 2px rgba(60, 64, 67, 0.3), 0 1px 3px 1px rgba(60, 64, 67, 0.15);\n",
              "    fill: var(--button-hover-fill-color);\n",
              "  }\n",
              "\n",
              "  .colab-df-quickchart-complete:disabled,\n",
              "  .colab-df-quickchart-complete:disabled:hover {\n",
              "    background-color: var(--disabled-bg-color);\n",
              "    fill: var(--disabled-fill-color);\n",
              "    box-shadow: none;\n",
              "  }\n",
              "\n",
              "  .colab-df-spinner {\n",
              "    border: 2px solid var(--fill-color);\n",
              "    border-color: transparent;\n",
              "    border-bottom-color: var(--fill-color);\n",
              "    animation:\n",
              "      spin 1s steps(1) infinite;\n",
              "  }\n",
              "\n",
              "  @keyframes spin {\n",
              "    0% {\n",
              "      border-color: transparent;\n",
              "      border-bottom-color: var(--fill-color);\n",
              "      border-left-color: var(--fill-color);\n",
              "    }\n",
              "    20% {\n",
              "      border-color: transparent;\n",
              "      border-left-color: var(--fill-color);\n",
              "      border-top-color: var(--fill-color);\n",
              "    }\n",
              "    30% {\n",
              "      border-color: transparent;\n",
              "      border-left-color: var(--fill-color);\n",
              "      border-top-color: var(--fill-color);\n",
              "      border-right-color: var(--fill-color);\n",
              "    }\n",
              "    40% {\n",
              "      border-color: transparent;\n",
              "      border-right-color: var(--fill-color);\n",
              "      border-top-color: var(--fill-color);\n",
              "    }\n",
              "    60% {\n",
              "      border-color: transparent;\n",
              "      border-right-color: var(--fill-color);\n",
              "    }\n",
              "    80% {\n",
              "      border-color: transparent;\n",
              "      border-right-color: var(--fill-color);\n",
              "      border-bottom-color: var(--fill-color);\n",
              "    }\n",
              "    90% {\n",
              "      border-color: transparent;\n",
              "      border-bottom-color: var(--fill-color);\n",
              "    }\n",
              "  }\n",
              "</style>\n",
              "\n",
              "  <script>\n",
              "    async function quickchart(key) {\n",
              "      const quickchartButtonEl =\n",
              "        document.querySelector('#' + key + ' button');\n",
              "      quickchartButtonEl.disabled = true;  // To prevent multiple clicks.\n",
              "      quickchartButtonEl.classList.add('colab-df-spinner');\n",
              "      try {\n",
              "        const charts = await google.colab.kernel.invokeFunction(\n",
              "            'suggestCharts', [key], {});\n",
              "      } catch (error) {\n",
              "        console.error('Error during call to suggestCharts:', error);\n",
              "      }\n",
              "      quickchartButtonEl.classList.remove('colab-df-spinner');\n",
              "      quickchartButtonEl.classList.add('colab-df-quickchart-complete');\n",
              "    }\n",
              "    (() => {\n",
              "      let quickchartButtonEl =\n",
              "        document.querySelector('#df-906d7347-b41d-4210-ab85-c3eabd46aafb button');\n",
              "      quickchartButtonEl.style.display =\n",
              "        google.colab.kernel.accessAllowed ? 'block' : 'none';\n",
              "    })();\n",
              "  </script>\n",
              "</div>\n",
              "\n",
              "    </div>\n",
              "  </div>\n"
            ],
            "application/vnd.google.colaboratory.intrinsic+json": {
              "type": "dataframe",
              "summary": "{\n  \"name\": \"fem_data[[\\\"concept\\\",'mean_sim_fem','mean_sim_masc']]\",\n  \"rows\": 5,\n  \"fields\": [\n    {\n      \"column\": \"concept\",\n      \"properties\": {\n        \"dtype\": \"string\",\n        \"num_unique_values\": 5,\n        \"samples\": [\n          \"dressing\",\n          \"marriage\",\n          \"emotionally\"\n        ],\n        \"semantic_type\": \"\",\n        \"description\": \"\"\n      }\n    },\n    {\n      \"column\": \"mean_sim_fem\",\n      \"properties\": {\n        \"dtype\": \"number\",\n        \"std\": 0.1006574120619906,\n        \"min\": 0.026058682385235732,\n        \"max\": 0.30301933894928657,\n        \"num_unique_values\": 5,\n        \"samples\": [\n          0.16629775412642067,\n          0.14862239787330644,\n          0.30301933894928657\n        ],\n        \"semantic_type\": \"\",\n        \"description\": \"\"\n      }\n    },\n    {\n      \"column\": \"mean_sim_masc\",\n      \"properties\": {\n        \"dtype\": \"number\",\n        \"std\": 0.07519965110414606,\n        \"min\": 0.18250338377856318,\n        \"max\": 0.39155210921133576,\n        \"num_unique_values\": 5,\n        \"samples\": [\n          0.27400120161169317,\n          0.18250338377856318,\n          0.39155210921133576\n        ],\n        \"semantic_type\": \"\",\n        \"description\": \"\"\n      }\n    }\n  ]\n}"
            }
          },
          "metadata": {},
          "execution_count": 83
        }
      ],
      "source": [
        "fem_data[[\"concept\",'mean_sim_fem','mean_sim_masc']]"
      ]
    },
    {
      "cell_type": "code",
      "execution_count": 84,
      "metadata": {
        "id": "ogQMyMpzMjCY",
        "colab": {
          "base_uri": "https://localhost:8080/",
          "height": 206
        },
        "outputId": "cb48fe9b-4fcd-4f08-a63d-dd400df086cd"
      },
      "outputs": [
        {
          "output_type": "execute_result",
          "data": {
            "text/plain": [
              "    concept  mean_sim_fem  mean_sim_masc\n",
              "15     beer      0.345859       0.341830\n",
              "16      big      0.198381       0.276001\n",
              "69    fight      0.299717       0.268645\n",
              "76      gun      0.264521       0.275931\n",
              "104   money      0.348682       0.311757"
            ],
            "text/html": [
              "\n",
              "  <div id=\"df-2d0d3c8d-881e-4403-a79d-0d72e8fbe6a6\" class=\"colab-df-container\">\n",
              "    <div>\n",
              "<style scoped>\n",
              "    .dataframe tbody tr th:only-of-type {\n",
              "        vertical-align: middle;\n",
              "    }\n",
              "\n",
              "    .dataframe tbody tr th {\n",
              "        vertical-align: top;\n",
              "    }\n",
              "\n",
              "    .dataframe thead th {\n",
              "        text-align: right;\n",
              "    }\n",
              "</style>\n",
              "<table border=\"1\" class=\"dataframe\">\n",
              "  <thead>\n",
              "    <tr style=\"text-align: right;\">\n",
              "      <th></th>\n",
              "      <th>concept</th>\n",
              "      <th>mean_sim_fem</th>\n",
              "      <th>mean_sim_masc</th>\n",
              "    </tr>\n",
              "  </thead>\n",
              "  <tbody>\n",
              "    <tr>\n",
              "      <th>15</th>\n",
              "      <td>beer</td>\n",
              "      <td>0.345859</td>\n",
              "      <td>0.341830</td>\n",
              "    </tr>\n",
              "    <tr>\n",
              "      <th>16</th>\n",
              "      <td>big</td>\n",
              "      <td>0.198381</td>\n",
              "      <td>0.276001</td>\n",
              "    </tr>\n",
              "    <tr>\n",
              "      <th>69</th>\n",
              "      <td>fight</td>\n",
              "      <td>0.299717</td>\n",
              "      <td>0.268645</td>\n",
              "    </tr>\n",
              "    <tr>\n",
              "      <th>76</th>\n",
              "      <td>gun</td>\n",
              "      <td>0.264521</td>\n",
              "      <td>0.275931</td>\n",
              "    </tr>\n",
              "    <tr>\n",
              "      <th>104</th>\n",
              "      <td>money</td>\n",
              "      <td>0.348682</td>\n",
              "      <td>0.311757</td>\n",
              "    </tr>\n",
              "  </tbody>\n",
              "</table>\n",
              "</div>\n",
              "    <div class=\"colab-df-buttons\">\n",
              "\n",
              "  <div class=\"colab-df-container\">\n",
              "    <button class=\"colab-df-convert\" onclick=\"convertToInteractive('df-2d0d3c8d-881e-4403-a79d-0d72e8fbe6a6')\"\n",
              "            title=\"Convert this dataframe to an interactive table.\"\n",
              "            style=\"display:none;\">\n",
              "\n",
              "  <svg xmlns=\"http://www.w3.org/2000/svg\" height=\"24px\" viewBox=\"0 -960 960 960\">\n",
              "    <path d=\"M120-120v-720h720v720H120Zm60-500h600v-160H180v160Zm220 220h160v-160H400v160Zm0 220h160v-160H400v160ZM180-400h160v-160H180v160Zm440 0h160v-160H620v160ZM180-180h160v-160H180v160Zm440 0h160v-160H620v160Z\"/>\n",
              "  </svg>\n",
              "    </button>\n",
              "\n",
              "  <style>\n",
              "    .colab-df-container {\n",
              "      display:flex;\n",
              "      gap: 12px;\n",
              "    }\n",
              "\n",
              "    .colab-df-convert {\n",
              "      background-color: #E8F0FE;\n",
              "      border: none;\n",
              "      border-radius: 50%;\n",
              "      cursor: pointer;\n",
              "      display: none;\n",
              "      fill: #1967D2;\n",
              "      height: 32px;\n",
              "      padding: 0 0 0 0;\n",
              "      width: 32px;\n",
              "    }\n",
              "\n",
              "    .colab-df-convert:hover {\n",
              "      background-color: #E2EBFA;\n",
              "      box-shadow: 0px 1px 2px rgba(60, 64, 67, 0.3), 0px 1px 3px 1px rgba(60, 64, 67, 0.15);\n",
              "      fill: #174EA6;\n",
              "    }\n",
              "\n",
              "    .colab-df-buttons div {\n",
              "      margin-bottom: 4px;\n",
              "    }\n",
              "\n",
              "    [theme=dark] .colab-df-convert {\n",
              "      background-color: #3B4455;\n",
              "      fill: #D2E3FC;\n",
              "    }\n",
              "\n",
              "    [theme=dark] .colab-df-convert:hover {\n",
              "      background-color: #434B5C;\n",
              "      box-shadow: 0px 1px 3px 1px rgba(0, 0, 0, 0.15);\n",
              "      filter: drop-shadow(0px 1px 2px rgba(0, 0, 0, 0.3));\n",
              "      fill: #FFFFFF;\n",
              "    }\n",
              "  </style>\n",
              "\n",
              "    <script>\n",
              "      const buttonEl =\n",
              "        document.querySelector('#df-2d0d3c8d-881e-4403-a79d-0d72e8fbe6a6 button.colab-df-convert');\n",
              "      buttonEl.style.display =\n",
              "        google.colab.kernel.accessAllowed ? 'block' : 'none';\n",
              "\n",
              "      async function convertToInteractive(key) {\n",
              "        const element = document.querySelector('#df-2d0d3c8d-881e-4403-a79d-0d72e8fbe6a6');\n",
              "        const dataTable =\n",
              "          await google.colab.kernel.invokeFunction('convertToInteractive',\n",
              "                                                    [key], {});\n",
              "        if (!dataTable) return;\n",
              "\n",
              "        const docLinkHtml = 'Like what you see? Visit the ' +\n",
              "          '<a target=\"_blank\" href=https://colab.research.google.com/notebooks/data_table.ipynb>data table notebook</a>'\n",
              "          + ' to learn more about interactive tables.';\n",
              "        element.innerHTML = '';\n",
              "        dataTable['output_type'] = 'display_data';\n",
              "        await google.colab.output.renderOutput(dataTable, element);\n",
              "        const docLink = document.createElement('div');\n",
              "        docLink.innerHTML = docLinkHtml;\n",
              "        element.appendChild(docLink);\n",
              "      }\n",
              "    </script>\n",
              "  </div>\n",
              "\n",
              "\n",
              "<div id=\"df-9708835f-259b-4d38-b5be-1dcb4384ab30\">\n",
              "  <button class=\"colab-df-quickchart\" onclick=\"quickchart('df-9708835f-259b-4d38-b5be-1dcb4384ab30')\"\n",
              "            title=\"Suggest charts\"\n",
              "            style=\"display:none;\">\n",
              "\n",
              "<svg xmlns=\"http://www.w3.org/2000/svg\" height=\"24px\"viewBox=\"0 0 24 24\"\n",
              "     width=\"24px\">\n",
              "    <g>\n",
              "        <path d=\"M19 3H5c-1.1 0-2 .9-2 2v14c0 1.1.9 2 2 2h14c1.1 0 2-.9 2-2V5c0-1.1-.9-2-2-2zM9 17H7v-7h2v7zm4 0h-2V7h2v10zm4 0h-2v-4h2v4z\"/>\n",
              "    </g>\n",
              "</svg>\n",
              "  </button>\n",
              "\n",
              "<style>\n",
              "  .colab-df-quickchart {\n",
              "      --bg-color: #E8F0FE;\n",
              "      --fill-color: #1967D2;\n",
              "      --hover-bg-color: #E2EBFA;\n",
              "      --hover-fill-color: #174EA6;\n",
              "      --disabled-fill-color: #AAA;\n",
              "      --disabled-bg-color: #DDD;\n",
              "  }\n",
              "\n",
              "  [theme=dark] .colab-df-quickchart {\n",
              "      --bg-color: #3B4455;\n",
              "      --fill-color: #D2E3FC;\n",
              "      --hover-bg-color: #434B5C;\n",
              "      --hover-fill-color: #FFFFFF;\n",
              "      --disabled-bg-color: #3B4455;\n",
              "      --disabled-fill-color: #666;\n",
              "  }\n",
              "\n",
              "  .colab-df-quickchart {\n",
              "    background-color: var(--bg-color);\n",
              "    border: none;\n",
              "    border-radius: 50%;\n",
              "    cursor: pointer;\n",
              "    display: none;\n",
              "    fill: var(--fill-color);\n",
              "    height: 32px;\n",
              "    padding: 0;\n",
              "    width: 32px;\n",
              "  }\n",
              "\n",
              "  .colab-df-quickchart:hover {\n",
              "    background-color: var(--hover-bg-color);\n",
              "    box-shadow: 0 1px 2px rgba(60, 64, 67, 0.3), 0 1px 3px 1px rgba(60, 64, 67, 0.15);\n",
              "    fill: var(--button-hover-fill-color);\n",
              "  }\n",
              "\n",
              "  .colab-df-quickchart-complete:disabled,\n",
              "  .colab-df-quickchart-complete:disabled:hover {\n",
              "    background-color: var(--disabled-bg-color);\n",
              "    fill: var(--disabled-fill-color);\n",
              "    box-shadow: none;\n",
              "  }\n",
              "\n",
              "  .colab-df-spinner {\n",
              "    border: 2px solid var(--fill-color);\n",
              "    border-color: transparent;\n",
              "    border-bottom-color: var(--fill-color);\n",
              "    animation:\n",
              "      spin 1s steps(1) infinite;\n",
              "  }\n",
              "\n",
              "  @keyframes spin {\n",
              "    0% {\n",
              "      border-color: transparent;\n",
              "      border-bottom-color: var(--fill-color);\n",
              "      border-left-color: var(--fill-color);\n",
              "    }\n",
              "    20% {\n",
              "      border-color: transparent;\n",
              "      border-left-color: var(--fill-color);\n",
              "      border-top-color: var(--fill-color);\n",
              "    }\n",
              "    30% {\n",
              "      border-color: transparent;\n",
              "      border-left-color: var(--fill-color);\n",
              "      border-top-color: var(--fill-color);\n",
              "      border-right-color: var(--fill-color);\n",
              "    }\n",
              "    40% {\n",
              "      border-color: transparent;\n",
              "      border-right-color: var(--fill-color);\n",
              "      border-top-color: var(--fill-color);\n",
              "    }\n",
              "    60% {\n",
              "      border-color: transparent;\n",
              "      border-right-color: var(--fill-color);\n",
              "    }\n",
              "    80% {\n",
              "      border-color: transparent;\n",
              "      border-right-color: var(--fill-color);\n",
              "      border-bottom-color: var(--fill-color);\n",
              "    }\n",
              "    90% {\n",
              "      border-color: transparent;\n",
              "      border-bottom-color: var(--fill-color);\n",
              "    }\n",
              "  }\n",
              "</style>\n",
              "\n",
              "  <script>\n",
              "    async function quickchart(key) {\n",
              "      const quickchartButtonEl =\n",
              "        document.querySelector('#' + key + ' button');\n",
              "      quickchartButtonEl.disabled = true;  // To prevent multiple clicks.\n",
              "      quickchartButtonEl.classList.add('colab-df-spinner');\n",
              "      try {\n",
              "        const charts = await google.colab.kernel.invokeFunction(\n",
              "            'suggestCharts', [key], {});\n",
              "      } catch (error) {\n",
              "        console.error('Error during call to suggestCharts:', error);\n",
              "      }\n",
              "      quickchartButtonEl.classList.remove('colab-df-spinner');\n",
              "      quickchartButtonEl.classList.add('colab-df-quickchart-complete');\n",
              "    }\n",
              "    (() => {\n",
              "      let quickchartButtonEl =\n",
              "        document.querySelector('#df-9708835f-259b-4d38-b5be-1dcb4384ab30 button');\n",
              "      quickchartButtonEl.style.display =\n",
              "        google.colab.kernel.accessAllowed ? 'block' : 'none';\n",
              "    })();\n",
              "  </script>\n",
              "</div>\n",
              "\n",
              "    </div>\n",
              "  </div>\n"
            ],
            "application/vnd.google.colaboratory.intrinsic+json": {
              "type": "dataframe",
              "summary": "{\n  \"name\": \"masc_data[[\\\"concept\\\",'mean_sim_fem','mean_sim_masc']]\",\n  \"rows\": 5,\n  \"fields\": [\n    {\n      \"column\": \"concept\",\n      \"properties\": {\n        \"dtype\": \"string\",\n        \"num_unique_values\": 5,\n        \"samples\": [\n          \"big\",\n          \"money\",\n          \"fight\"\n        ],\n        \"semantic_type\": \"\",\n        \"description\": \"\"\n      }\n    },\n    {\n      \"column\": \"mean_sim_fem\",\n      \"properties\": {\n        \"dtype\": \"number\",\n        \"std\": 0.06263218872297932,\n        \"min\": 0.19838133738902153,\n        \"max\": 0.34868231858158316,\n        \"num_unique_values\": 5,\n        \"samples\": [\n          0.19838133738902153,\n          0.34868231858158316,\n          0.29971722440469784\n        ],\n        \"semantic_type\": \"\",\n        \"description\": \"\"\n      }\n    },\n    {\n      \"column\": \"mean_sim_masc\",\n      \"properties\": {\n        \"dtype\": \"number\",\n        \"std\": 0.031196254108055075,\n        \"min\": 0.26864511727075846,\n        \"max\": 0.34182969054865237,\n        \"num_unique_values\": 5,\n        \"samples\": [\n          0.27600133636428925,\n          0.311757307660051,\n          0.26864511727075846\n        ],\n        \"semantic_type\": \"\",\n        \"description\": \"\"\n      }\n    }\n  ]\n}"
            }
          },
          "metadata": {},
          "execution_count": 84
        }
      ],
      "source": [
        "masc_data[[\"concept\",'mean_sim_fem','mean_sim_masc']]"
      ]
    },
    {
      "cell_type": "markdown",
      "metadata": {
        "id": "kdeLHIvPmbmA"
      },
      "source": [
        "#economic bias"
      ]
    },
    {
      "cell_type": "code",
      "execution_count": 85,
      "metadata": {
        "id": "zRz-FoDFnKGq"
      },
      "outputs": [],
      "source": [
        "jobs= [\"doctor\",\n",
        "\"driver\",\n",
        "\"cook\",\n",
        "\"science\",\n",
        "\"student\"]"
      ]
    },
    {
      "cell_type": "code",
      "execution_count": 86,
      "metadata": {
        "id": "vnUzE_EOma7Z"
      },
      "outputs": [],
      "source": [
        "def eco_bias(bias_concepts, data, vectors, concepts,bais_word):\n",
        "    indices = np.array(range(len(concepts)))\n",
        "\n",
        "    bias_our = []\n",
        "    bias_mixed = []\n",
        "    bias_real = []\n",
        "    concept_names = []\n",
        "\n",
        "    for i in bias_concepts:\n",
        "        mask = np.isin(concepts, [i, bais_word])\n",
        "\n",
        "        test_inds = indices[mask]\n",
        "        train_inds = indices[~mask]\n",
        "\n",
        "        data_test_vectors = np.take(data, test_inds, axis=0)\n",
        "        data_train_vectors = np.take(data, train_inds, axis=0)\n",
        "        semantic_test_vectors = np.take(vectors, test_inds, axis=0)\n",
        "        semantic_train_vectors = np.take(vectors, train_inds, axis=0)\n",
        "\n",
        "        model = learn_decoder(data_train_vectors, semantic_train_vectors)\n",
        "\n",
        "        # Corrected our_pred assignment\n",
        "        our_pred = np.dot(data_test_vectors[0], model)  # Assuming model is a linear transformation matrix\n",
        "        our_money = np.dot(data_test_vectors[1], model)\n",
        "        true_concept = semantic_test_vectors[0]\n",
        "        true_money = semantic_test_vectors[1]\n",
        "\n",
        "        # Calculate cosine similarities\n",
        "        cosine_our = 1 - cdist([our_pred], [our_money], metric='cosine')[0][0]\n",
        "        cosine_mixed = 1 - cdist([our_pred], [true_money], metric='cosine')[0][0]\n",
        "        cosine_true = 1 - cdist([true_concept], [true_money], metric='cosine')[0][0]\n",
        "\n",
        "        # Store results\n",
        "        bias_our.append(cosine_our)\n",
        "        bias_mixed.append(cosine_mixed)\n",
        "        bias_real.append(cosine_true)\n",
        "        concept_names.append(i)\n",
        "\n",
        "        del test_inds, train_inds, data_test_vectors, data_train_vectors, semantic_test_vectors, semantic_train_vectors, model\n",
        "\n",
        "    # Plotting the results\n",
        "    x = np.arange(len(concept_names))\n",
        "    width = 0.25\n",
        "\n",
        "    fig, ax = plt.subplots(figsize=(10, 6))\n",
        "    bars1 = ax.bar(x - width, bias_our, width, label='Our Predicted')\n",
        "    bars3 = ax.bar(x + width, bias_real, width, label='True')\n",
        "\n",
        "    ax.set_xlabel('Concepts')\n",
        "    ax.set_ylabel('Cosine Similarity')\n",
        "    ax.set_title('Economic Bias in Concepts')\n",
        "    ax.set_xticks(x)\n",
        "    ax.set_xticklabels(concept_names, rotation=45, ha=\"right\")\n",
        "    ax.legend()\n",
        "\n",
        "    plt.tight_layout()\n",
        "    plt.show()\n",
        "    plt.close()\n",
        "\n",
        "    # Print mean cosine similarities\n",
        "    print(\"Mean Cosine Similarities\")\n",
        "    print(\"Our Predicted:\", np.mean(bias_our))\n",
        "    print(\"True:\", np.mean(bias_real))\n",
        "\n",
        "    del bias_our, bias_mixed, bias_real"
      ]
    },
    {
      "cell_type": "code",
      "execution_count": 87,
      "metadata": {
        "id": "Cis2pDxeplvd",
        "colab": {
          "base_uri": "https://localhost:8080/",
          "height": 659
        },
        "outputId": "21914b61-2543-48c5-cb1b-e8a3383ca986"
      },
      "outputs": [
        {
          "output_type": "display_data",
          "data": {
            "text/plain": [
              "<Figure size 1000x600 with 1 Axes>"
            ],
            "image/png": "[encoded data removed]"
          },
          "metadata": {}
        },
        {
          "output_type": "stream",
          "name": "stdout",
          "text": [
            "Mean Cosine Similarities\n",
            "Our Predicted: 0.6705180685249242\n",
            "True: 0.369385158081969\n"
          ]
        }
      ],
      "source": [
        "eco_bias(jobs,data,glove_vectors,concepts,\"money\")"
      ]
    },
    {
      "cell_type": "markdown",
      "source": [
        "#eco FMRI"
      ],
      "metadata": {
        "id": "RTjyFDBvW1kD"
      }
    },
    {
      "cell_type": "code",
      "source": [],
      "metadata": {
        "id": "kksg2ZdaW02j"
      },
      "execution_count": 87,
      "outputs": []
    },
    {
      "cell_type": "code",
      "execution_count": 88,
      "metadata": {
        "id": "Cj3aJQXIXIMq"
      },
      "outputs": [],
      "source": [
        "mask = np.isin(concepts, jobs)\n",
        "\n",
        "jobs_inds = indices[mask]\n",
        "\n",
        "jobs_data = np.take(data180, jobs_inds, axis=0)"
      ]
    },
    {
      "cell_type": "code",
      "source": [
        "mask = np.isin(concepts, [\"money\"])\n",
        "\n",
        "bais_inds = indices[mask]\n",
        "\n",
        "bais_data = np.take(data180, bais_inds, axis=0)\n",
        "bais_data"
      ],
      "metadata": {
        "colab": {
          "base_uri": "https://localhost:8080/",
          "height": 130
        },
        "id": "mHe8Wp18XhWF",
        "outputId": "d52c5285-3536-4ffc-facf-47ad381e680a"
      },
      "execution_count": 89,
      "outputs": [
        {
          "output_type": "execute_result",
          "data": {
            "text/plain": [
              "             0          1          2          3          4          5  \\\n",
              "104 -17.334077 -14.620522 -20.415798 -22.604552 -17.103016 -10.498607   \n",
              "\n",
              "             6          7          8          9  ...    185856    185857  \\\n",
              "104 -11.415728 -18.642627 -21.343695 -22.386242  ... -7.933449  8.751442   \n",
              "\n",
              "       185858    185859    185860    185861     185862    185863     185864  \\\n",
              "104  0.023902  0.298037 -5.841312  0.798497 -12.430827  2.139509 -11.983923   \n",
              "\n",
              "       185865  \n",
              "104  1.879131  \n",
              "\n",
              "[1 rows x 185866 columns]"
            ],
            "text/html": [
              "\n",
              "  <div id=\"df-4982c1fb-9ecf-4615-9e4e-0d53ec45bca0\" class=\"colab-df-container\">\n",
              "    <div>\n",
              "<style scoped>\n",
              "    .dataframe tbody tr th:only-of-type {\n",
              "        vertical-align: middle;\n",
              "    }\n",
              "\n",
              "    .dataframe tbody tr th {\n",
              "        vertical-align: top;\n",
              "    }\n",
              "\n",
              "    .dataframe thead th {\n",
              "        text-align: right;\n",
              "    }\n",
              "</style>\n",
              "<table border=\"1\" class=\"dataframe\">\n",
              "  <thead>\n",
              "    <tr style=\"text-align: right;\">\n",
              "      <th></th>\n",
              "      <th>0</th>\n",
              "      <th>1</th>\n",
              "      <th>2</th>\n",
              "      <th>3</th>\n",
              "      <th>4</th>\n",
              "      <th>5</th>\n",
              "      <th>6</th>\n",
              "      <th>7</th>\n",
              "      <th>8</th>\n",
              "      <th>9</th>\n",
              "      <th>...</th>\n",
              "      <th>185856</th>\n",
              "      <th>185857</th>\n",
              "      <th>185858</th>\n",
              "      <th>185859</th>\n",
              "      <th>185860</th>\n",
              "      <th>185861</th>\n",
              "      <th>185862</th>\n",
              "      <th>185863</th>\n",
              "      <th>185864</th>\n",
              "      <th>185865</th>\n",
              "    </tr>\n",
              "  </thead>\n",
              "  <tbody>\n",
              "    <tr>\n",
              "      <th>104</th>\n",
              "      <td>-17.334077</td>\n",
              "      <td>-14.620522</td>\n",
              "      <td>-20.415798</td>\n",
              "      <td>-22.604552</td>\n",
              "      <td>-17.103016</td>\n",
              "      <td>-10.498607</td>\n",
              "      <td>-11.415728</td>\n",
              "      <td>-18.642627</td>\n",
              "      <td>-21.343695</td>\n",
              "      <td>-22.386242</td>\n",
              "      <td>...</td>\n",
              "      <td>-7.933449</td>\n",
              "      <td>8.751442</td>\n",
              "      <td>0.023902</td>\n",
              "      <td>0.298037</td>\n",
              "      <td>-5.841312</td>\n",
              "      <td>0.798497</td>\n",
              "      <td>-12.430827</td>\n",
              "      <td>2.139509</td>\n",
              "      <td>-11.983923</td>\n",
              "      <td>1.879131</td>\n",
              "    </tr>\n",
              "  </tbody>\n",
              "</table>\n",
              "<p>1 rows × 185866 columns</p>\n",
              "</div>\n",
              "    <div class=\"colab-df-buttons\">\n",
              "\n",
              "  <div class=\"colab-df-container\">\n",
              "    <button class=\"colab-df-convert\" onclick=\"convertToInteractive('df-4982c1fb-9ecf-4615-9e4e-0d53ec45bca0')\"\n",
              "            title=\"Convert this dataframe to an interactive table.\"\n",
              "            style=\"display:none;\">\n",
              "\n",
              "  <svg xmlns=\"http://www.w3.org/2000/svg\" height=\"24px\" viewBox=\"0 -960 960 960\">\n",
              "    <path d=\"M120-120v-720h720v720H120Zm60-500h600v-160H180v160Zm220 220h160v-160H400v160Zm0 220h160v-160H400v160ZM180-400h160v-160H180v160Zm440 0h160v-160H620v160ZM180-180h160v-160H180v160Zm440 0h160v-160H620v160Z\"/>\n",
              "  </svg>\n",
              "    </button>\n",
              "\n",
              "  <style>\n",
              "    .colab-df-container {\n",
              "      display:flex;\n",
              "      gap: 12px;\n",
              "    }\n",
              "\n",
              "    .colab-df-convert {\n",
              "      background-color: #E8F0FE;\n",
              "      border: none;\n",
              "      border-radius: 50%;\n",
              "      cursor: pointer;\n",
              "      display: none;\n",
              "      fill: #1967D2;\n",
              "      height: 32px;\n",
              "      padding: 0 0 0 0;\n",
              "      width: 32px;\n",
              "    }\n",
              "\n",
              "    .colab-df-convert:hover {\n",
              "      background-color: #E2EBFA;\n",
              "      box-shadow: 0px 1px 2px rgba(60, 64, 67, 0.3), 0px 1px 3px 1px rgba(60, 64, 67, 0.15);\n",
              "      fill: #174EA6;\n",
              "    }\n",
              "\n",
              "    .colab-df-buttons div {\n",
              "      margin-bottom: 4px;\n",
              "    }\n",
              "\n",
              "    [theme=dark] .colab-df-convert {\n",
              "      background-color: #3B4455;\n",
              "      fill: #D2E3FC;\n",
              "    }\n",
              "\n",
              "    [theme=dark] .colab-df-convert:hover {\n",
              "      background-color: #434B5C;\n",
              "      box-shadow: 0px 1px 3px 1px rgba(0, 0, 0, 0.15);\n",
              "      filter: drop-shadow(0px 1px 2px rgba(0, 0, 0, 0.3));\n",
              "      fill: #FFFFFF;\n",
              "    }\n",
              "  </style>\n",
              "\n",
              "    <script>\n",
              "      const buttonEl =\n",
              "        document.querySelector('#df-4982c1fb-9ecf-4615-9e4e-0d53ec45bca0 button.colab-df-convert');\n",
              "      buttonEl.style.display =\n",
              "        google.colab.kernel.accessAllowed ? 'block' : 'none';\n",
              "\n",
              "      async function convertToInteractive(key) {\n",
              "        const element = document.querySelector('#df-4982c1fb-9ecf-4615-9e4e-0d53ec45bca0');\n",
              "        const dataTable =\n",
              "          await google.colab.kernel.invokeFunction('convertToInteractive',\n",
              "                                                    [key], {});\n",
              "        if (!dataTable) return;\n",
              "\n",
              "        const docLinkHtml = 'Like what you see? Visit the ' +\n",
              "          '<a target=\"_blank\" href=https://colab.research.google.com/notebooks/data_table.ipynb>data table notebook</a>'\n",
              "          + ' to learn more about interactive tables.';\n",
              "        element.innerHTML = '';\n",
              "        dataTable['output_type'] = 'display_data';\n",
              "        await google.colab.output.renderOutput(dataTable, element);\n",
              "        const docLink = document.createElement('div');\n",
              "        docLink.innerHTML = docLinkHtml;\n",
              "        element.appendChild(docLink);\n",
              "      }\n",
              "    </script>\n",
              "  </div>\n",
              "\n",
              "\n",
              "  <div id=\"id_9390cf02-74b0-4562-a77f-80dc67cfdee6\">\n",
              "    <style>\n",
              "      .colab-df-generate {\n",
              "        background-color: #E8F0FE;\n",
              "        border: none;\n",
              "        border-radius: 50%;\n",
              "        cursor: pointer;\n",
              "        display: none;\n",
              "        fill: #1967D2;\n",
              "        height: 32px;\n",
              "        padding: 0 0 0 0;\n",
              "        width: 32px;\n",
              "      }\n",
              "\n",
              "      .colab-df-generate:hover {\n",
              "        background-color: #E2EBFA;\n",
              "        box-shadow: 0px 1px 2px rgba(60, 64, 67, 0.3), 0px 1px 3px 1px rgba(60, 64, 67, 0.15);\n",
              "        fill: #174EA6;\n",
              "      }\n",
              "\n",
              "      [theme=dark] .colab-df-generate {\n",
              "        background-color: #3B4455;\n",
              "        fill: #D2E3FC;\n",
              "      }\n",
              "\n",
              "      [theme=dark] .colab-df-generate:hover {\n",
              "        background-color: #434B5C;\n",
              "        box-shadow: 0px 1px 3px 1px rgba(0, 0, 0, 0.15);\n",
              "        filter: drop-shadow(0px 1px 2px rgba(0, 0, 0, 0.3));\n",
              "        fill: #FFFFFF;\n",
              "      }\n",
              "    </style>\n",
              "    <button class=\"colab-df-generate\" onclick=\"generateWithVariable('bais_data')\"\n",
              "            title=\"Generate code using this dataframe.\"\n",
              "            style=\"display:none;\">\n",
              "\n",
              "  <svg xmlns=\"http://www.w3.org/2000/svg\" height=\"24px\"viewBox=\"0 0 24 24\"\n",
              "       width=\"24px\">\n",
              "    <path d=\"M7,19H8.4L18.45,9,17,7.55,7,17.6ZM5,21V16.75L18.45,3.32a2,2,0,0,1,2.83,0l1.4,1.43a1.91,1.91,0,0,1,.58,1.4,1.91,1.91,0,0,1-.58,1.4L9.25,21ZM18.45,9,17,7.55Zm-12,3A5.31,5.31,0,0,0,4.9,8.1,5.31,5.31,0,0,0,1,6.5,5.31,5.31,0,0,0,4.9,4.9,5.31,5.31,0,0,0,6.5,1,5.31,5.31,0,0,0,8.1,4.9,5.31,5.31,0,0,0,12,6.5,5.46,5.46,0,0,0,6.5,12Z\"/>\n",
              "  </svg>\n",
              "    </button>\n",
              "    <script>\n",
              "      (() => {\n",
              "      const buttonEl =\n",
              "        document.querySelector('#id_9390cf02-74b0-4562-a77f-80dc67cfdee6 button.colab-df-generate');\n",
              "      buttonEl.style.display =\n",
              "        google.colab.kernel.accessAllowed ? 'block' : 'none';\n",
              "\n",
              "      buttonEl.onclick = () => {\n",
              "        google.colab.notebook.generateWithVariable('bais_data');\n",
              "      }\n",
              "      })();\n",
              "    </script>\n",
              "  </div>\n",
              "\n",
              "    </div>\n",
              "  </div>\n"
            ],
            "application/vnd.google.colaboratory.intrinsic+json": {
              "type": "dataframe",
              "variable_name": "bais_data"
            }
          },
          "metadata": {},
          "execution_count": 89
        }
      ]
    },
    {
      "cell_type": "code",
      "execution_count": 90,
      "metadata": {
        "colab": {
          "base_uri": "https://localhost:8080/",
          "height": 255
        },
        "outputId": "5e4667ab-860c-4952-d907-87b75ef19732",
        "id": "m1F9VP15XIMr"
      },
      "outputs": [
        {
          "output_type": "execute_result",
          "data": {
            "text/plain": [
              "             0          1          2          3          4          5  \\\n",
              "36    0.687507  -0.565040   0.890270   5.654787   3.820499   2.542878   \n",
              "54  -19.232124 -12.471559 -20.118670 -24.620396 -21.996119 -13.193486   \n",
              "57  -12.660749 -10.327192 -15.163770 -17.733703 -14.015553 -12.614226   \n",
              "134  15.751073  14.515414  20.237636  25.566737  16.074658   7.348954   \n",
              "153 -18.369171 -16.772960 -20.077782 -20.556926 -18.515876 -11.451265   \n",
              "\n",
              "             6          7          8          9  ...     185857     185858  \\\n",
              "36    0.568112  -0.572821   3.384618   5.319850  ...   2.322938   5.728440   \n",
              "54  -11.370513 -17.841115 -23.311537 -27.026693  ...  28.932385  18.301486   \n",
              "57  -16.664117 -22.903050 -23.118003 -23.223723  ...  29.791666  12.803786   \n",
              "134   6.467362  10.039004  16.232571  13.554403  ...   8.667870  -6.827635   \n",
              "153  -9.584729 -12.795057 -17.453582 -24.644648  ...   3.678068  -3.831799   \n",
              "\n",
              "        185859     185860     185861     185862     185863     185864  \\\n",
              "36    7.244588   6.119186  12.136558   6.215688  15.272996   8.000573   \n",
              "54   16.524343  21.296282  22.783311  16.357372  23.104409  14.174549   \n",
              "57   19.673754  12.534209  33.271295  10.369589  36.504312   9.601728   \n",
              "134 -22.206884  -2.965632 -19.770655   2.574646 -14.089137   0.952362   \n",
              "153   2.640405  -7.708587  13.102143 -16.859120   9.746214 -14.030622   \n",
              "\n",
              "        185865  mean_sim_fem  \n",
              "36   12.757056      0.347470  \n",
              "54   22.327809      0.458805  \n",
              "57   29.692036      0.429532  \n",
              "134  -8.038694      0.205419  \n",
              "153   4.235499      0.471916  \n",
              "\n",
              "[5 rows x 185867 columns]"
            ],
            "text/html": [
              "\n",
              "  <div id=\"df-d2cfb046-6122-4993-9b37-2c8b0518ff7a\" class=\"colab-df-container\">\n",
              "    <div>\n",
              "<style scoped>\n",
              "    .dataframe tbody tr th:only-of-type {\n",
              "        vertical-align: middle;\n",
              "    }\n",
              "\n",
              "    .dataframe tbody tr th {\n",
              "        vertical-align: top;\n",
              "    }\n",
              "\n",
              "    .dataframe thead th {\n",
              "        text-align: right;\n",
              "    }\n",
              "</style>\n",
              "<table border=\"1\" class=\"dataframe\">\n",
              "  <thead>\n",
              "    <tr style=\"text-align: right;\">\n",
              "      <th></th>\n",
              "      <th>0</th>\n",
              "      <th>1</th>\n",
              "      <th>2</th>\n",
              "      <th>3</th>\n",
              "      <th>4</th>\n",
              "      <th>5</th>\n",
              "      <th>6</th>\n",
              "      <th>7</th>\n",
              "      <th>8</th>\n",
              "      <th>9</th>\n",
              "      <th>...</th>\n",
              "      <th>185857</th>\n",
              "      <th>185858</th>\n",
              "      <th>185859</th>\n",
              "      <th>185860</th>\n",
              "      <th>185861</th>\n",
              "      <th>185862</th>\n",
              "      <th>185863</th>\n",
              "      <th>185864</th>\n",
              "      <th>185865</th>\n",
              "      <th>mean_sim_fem</th>\n",
              "    </tr>\n",
              "  </thead>\n",
              "  <tbody>\n",
              "    <tr>\n",
              "      <th>36</th>\n",
              "      <td>0.687507</td>\n",
              "      <td>-0.565040</td>\n",
              "      <td>0.890270</td>\n",
              "      <td>5.654787</td>\n",
              "      <td>3.820499</td>\n",
              "      <td>2.542878</td>\n",
              "      <td>0.568112</td>\n",
              "      <td>-0.572821</td>\n",
              "      <td>3.384618</td>\n",
              "      <td>5.319850</td>\n",
              "      <td>...</td>\n",
              "      <td>2.322938</td>\n",
              "      <td>5.728440</td>\n",
              "      <td>7.244588</td>\n",
              "      <td>6.119186</td>\n",
              "      <td>12.136558</td>\n",
              "      <td>6.215688</td>\n",
              "      <td>15.272996</td>\n",
              "      <td>8.000573</td>\n",
              "      <td>12.757056</td>\n",
              "      <td>0.347470</td>\n",
              "    </tr>\n",
              "    <tr>\n",
              "      <th>54</th>\n",
              "      <td>-19.232124</td>\n",
              "      <td>-12.471559</td>\n",
              "      <td>-20.118670</td>\n",
              "      <td>-24.620396</td>\n",
              "      <td>-21.996119</td>\n",
              "      <td>-13.193486</td>\n",
              "      <td>-11.370513</td>\n",
              "      <td>-17.841115</td>\n",
              "      <td>-23.311537</td>\n",
              "      <td>-27.026693</td>\n",
              "      <td>...</td>\n",
              "      <td>28.932385</td>\n",
              "      <td>18.301486</td>\n",
              "      <td>16.524343</td>\n",
              "      <td>21.296282</td>\n",
              "      <td>22.783311</td>\n",
              "      <td>16.357372</td>\n",
              "      <td>23.104409</td>\n",
              "      <td>14.174549</td>\n",
              "      <td>22.327809</td>\n",
              "      <td>0.458805</td>\n",
              "    </tr>\n",
              "    <tr>\n",
              "      <th>57</th>\n",
              "      <td>-12.660749</td>\n",
              "      <td>-10.327192</td>\n",
              "      <td>-15.163770</td>\n",
              "      <td>-17.733703</td>\n",
              "      <td>-14.015553</td>\n",
              "      <td>-12.614226</td>\n",
              "      <td>-16.664117</td>\n",
              "      <td>-22.903050</td>\n",
              "      <td>-23.118003</td>\n",
              "      <td>-23.223723</td>\n",
              "      <td>...</td>\n",
              "      <td>29.791666</td>\n",
              "      <td>12.803786</td>\n",
              "      <td>19.673754</td>\n",
              "      <td>12.534209</td>\n",
              "      <td>33.271295</td>\n",
              "      <td>10.369589</td>\n",
              "      <td>36.504312</td>\n",
              "      <td>9.601728</td>\n",
              "      <td>29.692036</td>\n",
              "      <td>0.429532</td>\n",
              "    </tr>\n",
              "    <tr>\n",
              "      <th>134</th>\n",
              "      <td>15.751073</td>\n",
              "      <td>14.515414</td>\n",
              "      <td>20.237636</td>\n",
              "      <td>25.566737</td>\n",
              "      <td>16.074658</td>\n",
              "      <td>7.348954</td>\n",
              "      <td>6.467362</td>\n",
              "      <td>10.039004</td>\n",
              "      <td>16.232571</td>\n",
              "      <td>13.554403</td>\n",
              "      <td>...</td>\n",
              "      <td>8.667870</td>\n",
              "      <td>-6.827635</td>\n",
              "      <td>-22.206884</td>\n",
              "      <td>-2.965632</td>\n",
              "      <td>-19.770655</td>\n",
              "      <td>2.574646</td>\n",
              "      <td>-14.089137</td>\n",
              "      <td>0.952362</td>\n",
              "      <td>-8.038694</td>\n",
              "      <td>0.205419</td>\n",
              "    </tr>\n",
              "    <tr>\n",
              "      <th>153</th>\n",
              "      <td>-18.369171</td>\n",
              "      <td>-16.772960</td>\n",
              "      <td>-20.077782</td>\n",
              "      <td>-20.556926</td>\n",
              "      <td>-18.515876</td>\n",
              "      <td>-11.451265</td>\n",
              "      <td>-9.584729</td>\n",
              "      <td>-12.795057</td>\n",
              "      <td>-17.453582</td>\n",
              "      <td>-24.644648</td>\n",
              "      <td>...</td>\n",
              "      <td>3.678068</td>\n",
              "      <td>-3.831799</td>\n",
              "      <td>2.640405</td>\n",
              "      <td>-7.708587</td>\n",
              "      <td>13.102143</td>\n",
              "      <td>-16.859120</td>\n",
              "      <td>9.746214</td>\n",
              "      <td>-14.030622</td>\n",
              "      <td>4.235499</td>\n",
              "      <td>0.471916</td>\n",
              "    </tr>\n",
              "  </tbody>\n",
              "</table>\n",
              "<p>5 rows × 185867 columns</p>\n",
              "</div>\n",
              "    <div class=\"colab-df-buttons\">\n",
              "\n",
              "  <div class=\"colab-df-container\">\n",
              "    <button class=\"colab-df-convert\" onclick=\"convertToInteractive('df-d2cfb046-6122-4993-9b37-2c8b0518ff7a')\"\n",
              "            title=\"Convert this dataframe to an interactive table.\"\n",
              "            style=\"display:none;\">\n",
              "\n",
              "  <svg xmlns=\"http://www.w3.org/2000/svg\" height=\"24px\" viewBox=\"0 -960 960 960\">\n",
              "    <path d=\"M120-120v-720h720v720H120Zm60-500h600v-160H180v160Zm220 220h160v-160H400v160Zm0 220h160v-160H400v160ZM180-400h160v-160H180v160Zm440 0h160v-160H620v160ZM180-180h160v-160H180v160Zm440 0h160v-160H620v160Z\"/>\n",
              "  </svg>\n",
              "    </button>\n",
              "\n",
              "  <style>\n",
              "    .colab-df-container {\n",
              "      display:flex;\n",
              "      gap: 12px;\n",
              "    }\n",
              "\n",
              "    .colab-df-convert {\n",
              "      background-color: #E8F0FE;\n",
              "      border: none;\n",
              "      border-radius: 50%;\n",
              "      cursor: pointer;\n",
              "      display: none;\n",
              "      fill: #1967D2;\n",
              "      height: 32px;\n",
              "      padding: 0 0 0 0;\n",
              "      width: 32px;\n",
              "    }\n",
              "\n",
              "    .colab-df-convert:hover {\n",
              "      background-color: #E2EBFA;\n",
              "      box-shadow: 0px 1px 2px rgba(60, 64, 67, 0.3), 0px 1px 3px 1px rgba(60, 64, 67, 0.15);\n",
              "      fill: #174EA6;\n",
              "    }\n",
              "\n",
              "    .colab-df-buttons div {\n",
              "      margin-bottom: 4px;\n",
              "    }\n",
              "\n",
              "    [theme=dark] .colab-df-convert {\n",
              "      background-color: #3B4455;\n",
              "      fill: #D2E3FC;\n",
              "    }\n",
              "\n",
              "    [theme=dark] .colab-df-convert:hover {\n",
              "      background-color: #434B5C;\n",
              "      box-shadow: 0px 1px 3px 1px rgba(0, 0, 0, 0.15);\n",
              "      filter: drop-shadow(0px 1px 2px rgba(0, 0, 0, 0.3));\n",
              "      fill: #FFFFFF;\n",
              "    }\n",
              "  </style>\n",
              "\n",
              "    <script>\n",
              "      const buttonEl =\n",
              "        document.querySelector('#df-d2cfb046-6122-4993-9b37-2c8b0518ff7a button.colab-df-convert');\n",
              "      buttonEl.style.display =\n",
              "        google.colab.kernel.accessAllowed ? 'block' : 'none';\n",
              "\n",
              "      async function convertToInteractive(key) {\n",
              "        const element = document.querySelector('#df-d2cfb046-6122-4993-9b37-2c8b0518ff7a');\n",
              "        const dataTable =\n",
              "          await google.colab.kernel.invokeFunction('convertToInteractive',\n",
              "                                                    [key], {});\n",
              "        if (!dataTable) return;\n",
              "\n",
              "        const docLinkHtml = 'Like what you see? Visit the ' +\n",
              "          '<a target=\"_blank\" href=https://colab.research.google.com/notebooks/data_table.ipynb>data table notebook</a>'\n",
              "          + ' to learn more about interactive tables.';\n",
              "        element.innerHTML = '';\n",
              "        dataTable['output_type'] = 'display_data';\n",
              "        await google.colab.output.renderOutput(dataTable, element);\n",
              "        const docLink = document.createElement('div');\n",
              "        docLink.innerHTML = docLinkHtml;\n",
              "        element.appendChild(docLink);\n",
              "      }\n",
              "    </script>\n",
              "  </div>\n",
              "\n",
              "\n",
              "<div id=\"df-ce2f7288-dc8f-4cb7-b218-a8895dcc596b\">\n",
              "  <button class=\"colab-df-quickchart\" onclick=\"quickchart('df-ce2f7288-dc8f-4cb7-b218-a8895dcc596b')\"\n",
              "            title=\"Suggest charts\"\n",
              "            style=\"display:none;\">\n",
              "\n",
              "<svg xmlns=\"http://www.w3.org/2000/svg\" height=\"24px\"viewBox=\"0 0 24 24\"\n",
              "     width=\"24px\">\n",
              "    <g>\n",
              "        <path d=\"M19 3H5c-1.1 0-2 .9-2 2v14c0 1.1.9 2 2 2h14c1.1 0 2-.9 2-2V5c0-1.1-.9-2-2-2zM9 17H7v-7h2v7zm4 0h-2V7h2v10zm4 0h-2v-4h2v4z\"/>\n",
              "    </g>\n",
              "</svg>\n",
              "  </button>\n",
              "\n",
              "<style>\n",
              "  .colab-df-quickchart {\n",
              "      --bg-color: #E8F0FE;\n",
              "      --fill-color: #1967D2;\n",
              "      --hover-bg-color: #E2EBFA;\n",
              "      --hover-fill-color: #174EA6;\n",
              "      --disabled-fill-color: #AAA;\n",
              "      --disabled-bg-color: #DDD;\n",
              "  }\n",
              "\n",
              "  [theme=dark] .colab-df-quickchart {\n",
              "      --bg-color: #3B4455;\n",
              "      --fill-color: #D2E3FC;\n",
              "      --hover-bg-color: #434B5C;\n",
              "      --hover-fill-color: #FFFFFF;\n",
              "      --disabled-bg-color: #3B4455;\n",
              "      --disabled-fill-color: #666;\n",
              "  }\n",
              "\n",
              "  .colab-df-quickchart {\n",
              "    background-color: var(--bg-color);\n",
              "    border: none;\n",
              "    border-radius: 50%;\n",
              "    cursor: pointer;\n",
              "    display: none;\n",
              "    fill: var(--fill-color);\n",
              "    height: 32px;\n",
              "    padding: 0;\n",
              "    width: 32px;\n",
              "  }\n",
              "\n",
              "  .colab-df-quickchart:hover {\n",
              "    background-color: var(--hover-bg-color);\n",
              "    box-shadow: 0 1px 2px rgba(60, 64, 67, 0.3), 0 1px 3px 1px rgba(60, 64, 67, 0.15);\n",
              "    fill: var(--button-hover-fill-color);\n",
              "  }\n",
              "\n",
              "  .colab-df-quickchart-complete:disabled,\n",
              "  .colab-df-quickchart-complete:disabled:hover {\n",
              "    background-color: var(--disabled-bg-color);\n",
              "    fill: var(--disabled-fill-color);\n",
              "    box-shadow: none;\n",
              "  }\n",
              "\n",
              "  .colab-df-spinner {\n",
              "    border: 2px solid var(--fill-color);\n",
              "    border-color: transparent;\n",
              "    border-bottom-color: var(--fill-color);\n",
              "    animation:\n",
              "      spin 1s steps(1) infinite;\n",
              "  }\n",
              "\n",
              "  @keyframes spin {\n",
              "    0% {\n",
              "      border-color: transparent;\n",
              "      border-bottom-color: var(--fill-color);\n",
              "      border-left-color: var(--fill-color);\n",
              "    }\n",
              "    20% {\n",
              "      border-color: transparent;\n",
              "      border-left-color: var(--fill-color);\n",
              "      border-top-color: var(--fill-color);\n",
              "    }\n",
              "    30% {\n",
              "      border-color: transparent;\n",
              "      border-left-color: var(--fill-color);\n",
              "      border-top-color: var(--fill-color);\n",
              "      border-right-color: var(--fill-color);\n",
              "    }\n",
              "    40% {\n",
              "      border-color: transparent;\n",
              "      border-right-color: var(--fill-color);\n",
              "      border-top-color: var(--fill-color);\n",
              "    }\n",
              "    60% {\n",
              "      border-color: transparent;\n",
              "      border-right-color: var(--fill-color);\n",
              "    }\n",
              "    80% {\n",
              "      border-color: transparent;\n",
              "      border-right-color: var(--fill-color);\n",
              "      border-bottom-color: var(--fill-color);\n",
              "    }\n",
              "    90% {\n",
              "      border-color: transparent;\n",
              "      border-bottom-color: var(--fill-color);\n",
              "    }\n",
              "  }\n",
              "</style>\n",
              "\n",
              "  <script>\n",
              "    async function quickchart(key) {\n",
              "      const quickchartButtonEl =\n",
              "        document.querySelector('#' + key + ' button');\n",
              "      quickchartButtonEl.disabled = true;  // To prevent multiple clicks.\n",
              "      quickchartButtonEl.classList.add('colab-df-spinner');\n",
              "      try {\n",
              "        const charts = await google.colab.kernel.invokeFunction(\n",
              "            'suggestCharts', [key], {});\n",
              "      } catch (error) {\n",
              "        console.error('Error during call to suggestCharts:', error);\n",
              "      }\n",
              "      quickchartButtonEl.classList.remove('colab-df-spinner');\n",
              "      quickchartButtonEl.classList.add('colab-df-quickchart-complete');\n",
              "    }\n",
              "    (() => {\n",
              "      let quickchartButtonEl =\n",
              "        document.querySelector('#df-ce2f7288-dc8f-4cb7-b218-a8895dcc596b button');\n",
              "      quickchartButtonEl.style.display =\n",
              "        google.colab.kernel.accessAllowed ? 'block' : 'none';\n",
              "    })();\n",
              "  </script>\n",
              "</div>\n",
              "\n",
              "  <div id=\"id_a030d8d4-b711-4836-8c05-bb67c8044a6a\">\n",
              "    <style>\n",
              "      .colab-df-generate {\n",
              "        background-color: #E8F0FE;\n",
              "        border: none;\n",
              "        border-radius: 50%;\n",
              "        cursor: pointer;\n",
              "        display: none;\n",
              "        fill: #1967D2;\n",
              "        height: 32px;\n",
              "        padding: 0 0 0 0;\n",
              "        width: 32px;\n",
              "      }\n",
              "\n",
              "      .colab-df-generate:hover {\n",
              "        background-color: #E2EBFA;\n",
              "        box-shadow: 0px 1px 2px rgba(60, 64, 67, 0.3), 0px 1px 3px 1px rgba(60, 64, 67, 0.15);\n",
              "        fill: #174EA6;\n",
              "      }\n",
              "\n",
              "      [theme=dark] .colab-df-generate {\n",
              "        background-color: #3B4455;\n",
              "        fill: #D2E3FC;\n",
              "      }\n",
              "\n",
              "      [theme=dark] .colab-df-generate:hover {\n",
              "        background-color: #434B5C;\n",
              "        box-shadow: 0px 1px 3px 1px rgba(0, 0, 0, 0.15);\n",
              "        filter: drop-shadow(0px 1px 2px rgba(0, 0, 0, 0.3));\n",
              "        fill: #FFFFFF;\n",
              "      }\n",
              "    </style>\n",
              "    <button class=\"colab-df-generate\" onclick=\"generateWithVariable('jobs_data')\"\n",
              "            title=\"Generate code using this dataframe.\"\n",
              "            style=\"display:none;\">\n",
              "\n",
              "  <svg xmlns=\"http://www.w3.org/2000/svg\" height=\"24px\"viewBox=\"0 0 24 24\"\n",
              "       width=\"24px\">\n",
              "    <path d=\"M7,19H8.4L18.45,9,17,7.55,7,17.6ZM5,21V16.75L18.45,3.32a2,2,0,0,1,2.83,0l1.4,1.43a1.91,1.91,0,0,1,.58,1.4,1.91,1.91,0,0,1-.58,1.4L9.25,21ZM18.45,9,17,7.55Zm-12,3A5.31,5.31,0,0,0,4.9,8.1,5.31,5.31,0,0,0,1,6.5,5.31,5.31,0,0,0,4.9,4.9,5.31,5.31,0,0,0,6.5,1,5.31,5.31,0,0,0,8.1,4.9,5.31,5.31,0,0,0,12,6.5,5.46,5.46,0,0,0,6.5,12Z\"/>\n",
              "  </svg>\n",
              "    </button>\n",
              "    <script>\n",
              "      (() => {\n",
              "      const buttonEl =\n",
              "        document.querySelector('#id_a030d8d4-b711-4836-8c05-bb67c8044a6a button.colab-df-generate');\n",
              "      buttonEl.style.display =\n",
              "        google.colab.kernel.accessAllowed ? 'block' : 'none';\n",
              "\n",
              "      buttonEl.onclick = () => {\n",
              "        google.colab.notebook.generateWithVariable('jobs_data');\n",
              "      }\n",
              "      })();\n",
              "    </script>\n",
              "  </div>\n",
              "\n",
              "    </div>\n",
              "  </div>\n"
            ],
            "application/vnd.google.colaboratory.intrinsic+json": {
              "type": "dataframe",
              "variable_name": "jobs_data"
            }
          },
          "metadata": {},
          "execution_count": 90
        }
      ],
      "source": [
        "import numpy as np\n",
        "import pandas as pd\n",
        "from scipy.spatial.distance import cdist\n",
        "\n",
        "\n",
        "mean_sim_other_jobs_data = (1 - cdist(jobs_data, bais_data, metric='cosine'))\n",
        "\n",
        "# Add these as new columns to the dataframes\n",
        "jobs_data['mean_sim_fem'] = mean_sim_other_jobs_data\n",
        "jobs_data"
      ]
    },
    {
      "cell_type": "code",
      "execution_count": 91,
      "metadata": {
        "id": "j9I67xRbXIMs"
      },
      "outputs": [],
      "source": [
        "jobs_data['concept'] = np.array(concepts)[jobs_inds]"
      ]
    },
    {
      "cell_type": "code",
      "execution_count": 92,
      "metadata": {
        "colab": {
          "base_uri": "https://localhost:8080/",
          "height": 206
        },
        "outputId": "48b39f18-58b2-4983-86a1-bac22f2df2a2",
        "id": "MVpch27VXIMt"
      },
      "outputs": [
        {
          "output_type": "execute_result",
          "data": {
            "text/plain": [
              "     concept  mean_sim_fem\n",
              "36      cook      0.347470\n",
              "54    doctor      0.458805\n",
              "57    driver      0.429532\n",
              "134  science      0.205419\n",
              "153  student      0.471916"
            ],
            "text/html": [
              "\n",
              "  <div id=\"df-ca5928bc-6aa1-4079-8268-6829bf5638ae\" class=\"colab-df-container\">\n",
              "    <div>\n",
              "<style scoped>\n",
              "    .dataframe tbody tr th:only-of-type {\n",
              "        vertical-align: middle;\n",
              "    }\n",
              "\n",
              "    .dataframe tbody tr th {\n",
              "        vertical-align: top;\n",
              "    }\n",
              "\n",
              "    .dataframe thead th {\n",
              "        text-align: right;\n",
              "    }\n",
              "</style>\n",
              "<table border=\"1\" class=\"dataframe\">\n",
              "  <thead>\n",
              "    <tr style=\"text-align: right;\">\n",
              "      <th></th>\n",
              "      <th>concept</th>\n",
              "      <th>mean_sim_fem</th>\n",
              "    </tr>\n",
              "  </thead>\n",
              "  <tbody>\n",
              "    <tr>\n",
              "      <th>36</th>\n",
              "      <td>cook</td>\n",
              "      <td>0.347470</td>\n",
              "    </tr>\n",
              "    <tr>\n",
              "      <th>54</th>\n",
              "      <td>doctor</td>\n",
              "      <td>0.458805</td>\n",
              "    </tr>\n",
              "    <tr>\n",
              "      <th>57</th>\n",
              "      <td>driver</td>\n",
              "      <td>0.429532</td>\n",
              "    </tr>\n",
              "    <tr>\n",
              "      <th>134</th>\n",
              "      <td>science</td>\n",
              "      <td>0.205419</td>\n",
              "    </tr>\n",
              "    <tr>\n",
              "      <th>153</th>\n",
              "      <td>student</td>\n",
              "      <td>0.471916</td>\n",
              "    </tr>\n",
              "  </tbody>\n",
              "</table>\n",
              "</div>\n",
              "    <div class=\"colab-df-buttons\">\n",
              "\n",
              "  <div class=\"colab-df-container\">\n",
              "    <button class=\"colab-df-convert\" onclick=\"convertToInteractive('df-ca5928bc-6aa1-4079-8268-6829bf5638ae')\"\n",
              "            title=\"Convert this dataframe to an interactive table.\"\n",
              "            style=\"display:none;\">\n",
              "\n",
              "  <svg xmlns=\"http://www.w3.org/2000/svg\" height=\"24px\" viewBox=\"0 -960 960 960\">\n",
              "    <path d=\"M120-120v-720h720v720H120Zm60-500h600v-160H180v160Zm220 220h160v-160H400v160Zm0 220h160v-160H400v160ZM180-400h160v-160H180v160Zm440 0h160v-160H620v160ZM180-180h160v-160H180v160Zm440 0h160v-160H620v160Z\"/>\n",
              "  </svg>\n",
              "    </button>\n",
              "\n",
              "  <style>\n",
              "    .colab-df-container {\n",
              "      display:flex;\n",
              "      gap: 12px;\n",
              "    }\n",
              "\n",
              "    .colab-df-convert {\n",
              "      background-color: #E8F0FE;\n",
              "      border: none;\n",
              "      border-radius: 50%;\n",
              "      cursor: pointer;\n",
              "      display: none;\n",
              "      fill: #1967D2;\n",
              "      height: 32px;\n",
              "      padding: 0 0 0 0;\n",
              "      width: 32px;\n",
              "    }\n",
              "\n",
              "    .colab-df-convert:hover {\n",
              "      background-color: #E2EBFA;\n",
              "      box-shadow: 0px 1px 2px rgba(60, 64, 67, 0.3), 0px 1px 3px 1px rgba(60, 64, 67, 0.15);\n",
              "      fill: #174EA6;\n",
              "    }\n",
              "\n",
              "    .colab-df-buttons div {\n",
              "      margin-bottom: 4px;\n",
              "    }\n",
              "\n",
              "    [theme=dark] .colab-df-convert {\n",
              "      background-color: #3B4455;\n",
              "      fill: #D2E3FC;\n",
              "    }\n",
              "\n",
              "    [theme=dark] .colab-df-convert:hover {\n",
              "      background-color: #434B5C;\n",
              "      box-shadow: 0px 1px 3px 1px rgba(0, 0, 0, 0.15);\n",
              "      filter: drop-shadow(0px 1px 2px rgba(0, 0, 0, 0.3));\n",
              "      fill: #FFFFFF;\n",
              "    }\n",
              "  </style>\n",
              "\n",
              "    <script>\n",
              "      const buttonEl =\n",
              "        document.querySelector('#df-ca5928bc-6aa1-4079-8268-6829bf5638ae button.colab-df-convert');\n",
              "      buttonEl.style.display =\n",
              "        google.colab.kernel.accessAllowed ? 'block' : 'none';\n",
              "\n",
              "      async function convertToInteractive(key) {\n",
              "        const element = document.querySelector('#df-ca5928bc-6aa1-4079-8268-6829bf5638ae');\n",
              "        const dataTable =\n",
              "          await google.colab.kernel.invokeFunction('convertToInteractive',\n",
              "                                                    [key], {});\n",
              "        if (!dataTable) return;\n",
              "\n",
              "        const docLinkHtml = 'Like what you see? Visit the ' +\n",
              "          '<a target=\"_blank\" href=https://colab.research.google.com/notebooks/data_table.ipynb>data table notebook</a>'\n",
              "          + ' to learn more about interactive tables.';\n",
              "        element.innerHTML = '';\n",
              "        dataTable['output_type'] = 'display_data';\n",
              "        await google.colab.output.renderOutput(dataTable, element);\n",
              "        const docLink = document.createElement('div');\n",
              "        docLink.innerHTML = docLinkHtml;\n",
              "        element.appendChild(docLink);\n",
              "      }\n",
              "    </script>\n",
              "  </div>\n",
              "\n",
              "\n",
              "<div id=\"df-74ad2c48-cd7e-416d-baa9-4ed19e8da2a4\">\n",
              "  <button class=\"colab-df-quickchart\" onclick=\"quickchart('df-74ad2c48-cd7e-416d-baa9-4ed19e8da2a4')\"\n",
              "            title=\"Suggest charts\"\n",
              "            style=\"display:none;\">\n",
              "\n",
              "<svg xmlns=\"http://www.w3.org/2000/svg\" height=\"24px\"viewBox=\"0 0 24 24\"\n",
              "     width=\"24px\">\n",
              "    <g>\n",
              "        <path d=\"M19 3H5c-1.1 0-2 .9-2 2v14c0 1.1.9 2 2 2h14c1.1 0 2-.9 2-2V5c0-1.1-.9-2-2-2zM9 17H7v-7h2v7zm4 0h-2V7h2v10zm4 0h-2v-4h2v4z\"/>\n",
              "    </g>\n",
              "</svg>\n",
              "  </button>\n",
              "\n",
              "<style>\n",
              "  .colab-df-quickchart {\n",
              "      --bg-color: #E8F0FE;\n",
              "      --fill-color: #1967D2;\n",
              "      --hover-bg-color: #E2EBFA;\n",
              "      --hover-fill-color: #174EA6;\n",
              "      --disabled-fill-color: #AAA;\n",
              "      --disabled-bg-color: #DDD;\n",
              "  }\n",
              "\n",
              "  [theme=dark] .colab-df-quickchart {\n",
              "      --bg-color: #3B4455;\n",
              "      --fill-color: #D2E3FC;\n",
              "      --hover-bg-color: #434B5C;\n",
              "      --hover-fill-color: #FFFFFF;\n",
              "      --disabled-bg-color: #3B4455;\n",
              "      --disabled-fill-color: #666;\n",
              "  }\n",
              "\n",
              "  .colab-df-quickchart {\n",
              "    background-color: var(--bg-color);\n",
              "    border: none;\n",
              "    border-radius: 50%;\n",
              "    cursor: pointer;\n",
              "    display: none;\n",
              "    fill: var(--fill-color);\n",
              "    height: 32px;\n",
              "    padding: 0;\n",
              "    width: 32px;\n",
              "  }\n",
              "\n",
              "  .colab-df-quickchart:hover {\n",
              "    background-color: var(--hover-bg-color);\n",
              "    box-shadow: 0 1px 2px rgba(60, 64, 67, 0.3), 0 1px 3px 1px rgba(60, 64, 67, 0.15);\n",
              "    fill: var(--button-hover-fill-color);\n",
              "  }\n",
              "\n",
              "  .colab-df-quickchart-complete:disabled,\n",
              "  .colab-df-quickchart-complete:disabled:hover {\n",
              "    background-color: var(--disabled-bg-color);\n",
              "    fill: var(--disabled-fill-color);\n",
              "    box-shadow: none;\n",
              "  }\n",
              "\n",
              "  .colab-df-spinner {\n",
              "    border: 2px solid var(--fill-color);\n",
              "    border-color: transparent;\n",
              "    border-bottom-color: var(--fill-color);\n",
              "    animation:\n",
              "      spin 1s steps(1) infinite;\n",
              "  }\n",
              "\n",
              "  @keyframes spin {\n",
              "    0% {\n",
              "      border-color: transparent;\n",
              "      border-bottom-color: var(--fill-color);\n",
              "      border-left-color: var(--fill-color);\n",
              "    }\n",
              "    20% {\n",
              "      border-color: transparent;\n",
              "      border-left-color: var(--fill-color);\n",
              "      border-top-color: var(--fill-color);\n",
              "    }\n",
              "    30% {\n",
              "      border-color: transparent;\n",
              "      border-left-color: var(--fill-color);\n",
              "      border-top-color: var(--fill-color);\n",
              "      border-right-color: var(--fill-color);\n",
              "    }\n",
              "    40% {\n",
              "      border-color: transparent;\n",
              "      border-right-color: var(--fill-color);\n",
              "      border-top-color: var(--fill-color);\n",
              "    }\n",
              "    60% {\n",
              "      border-color: transparent;\n",
              "      border-right-color: var(--fill-color);\n",
              "    }\n",
              "    80% {\n",
              "      border-color: transparent;\n",
              "      border-right-color: var(--fill-color);\n",
              "      border-bottom-color: var(--fill-color);\n",
              "    }\n",
              "    90% {\n",
              "      border-color: transparent;\n",
              "      border-bottom-color: var(--fill-color);\n",
              "    }\n",
              "  }\n",
              "</style>\n",
              "\n",
              "  <script>\n",
              "    async function quickchart(key) {\n",
              "      const quickchartButtonEl =\n",
              "        document.querySelector('#' + key + ' button');\n",
              "      quickchartButtonEl.disabled = true;  // To prevent multiple clicks.\n",
              "      quickchartButtonEl.classList.add('colab-df-spinner');\n",
              "      try {\n",
              "        const charts = await google.colab.kernel.invokeFunction(\n",
              "            'suggestCharts', [key], {});\n",
              "      } catch (error) {\n",
              "        console.error('Error during call to suggestCharts:', error);\n",
              "      }\n",
              "      quickchartButtonEl.classList.remove('colab-df-spinner');\n",
              "      quickchartButtonEl.classList.add('colab-df-quickchart-complete');\n",
              "    }\n",
              "    (() => {\n",
              "      let quickchartButtonEl =\n",
              "        document.querySelector('#df-74ad2c48-cd7e-416d-baa9-4ed19e8da2a4 button');\n",
              "      quickchartButtonEl.style.display =\n",
              "        google.colab.kernel.accessAllowed ? 'block' : 'none';\n",
              "    })();\n",
              "  </script>\n",
              "</div>\n",
              "\n",
              "    </div>\n",
              "  </div>\n"
            ],
            "application/vnd.google.colaboratory.intrinsic+json": {
              "type": "dataframe",
              "summary": "{\n  \"name\": \"jobs_data[[\\\"concept\\\",'mean_sim_fem']]\",\n  \"rows\": 5,\n  \"fields\": [\n    {\n      \"column\": \"concept\",\n      \"properties\": {\n        \"dtype\": \"string\",\n        \"num_unique_values\": 5,\n        \"samples\": [\n          \"doctor\",\n          \"student\",\n          \"driver\"\n        ],\n        \"semantic_type\": \"\",\n        \"description\": \"\"\n      }\n    },\n    {\n      \"column\": \"mean_sim_fem\",\n      \"properties\": {\n        \"dtype\": \"number\",\n        \"std\": 0.11024335638263637,\n        \"min\": 0.20541872088666369,\n        \"max\": 0.4719157216958134,\n        \"num_unique_values\": 5,\n        \"samples\": [\n          0.4588051106168871,\n          0.4719157216958134,\n          0.42953170643646743\n        ],\n        \"semantic_type\": \"\",\n        \"description\": \"\"\n      }\n    }\n  ]\n}"
            }
          },
          "metadata": {},
          "execution_count": 92
        }
      ],
      "source": [
        "jobs_data[[\"concept\",'mean_sim_fem']]"
      ]
    },
    {
      "cell_type": "code",
      "source": [],
      "metadata": {
        "id": "IBUCQhH8W0HZ"
      },
      "execution_count": 92,
      "outputs": []
    },
    {
      "cell_type": "markdown",
      "metadata": {
        "id": "VXelmquWxyCo"
      },
      "source": [
        "# Export to PDF\n",
        "\n",
        "Run the following cell to download the notebook as a nicely formatted pdf file."
      ]
    },
    {
      "cell_type": "code",
      "execution_count": 93,
      "metadata": {
        "id": "zZusZnCCubWg",
        "colab": {
          "base_uri": "https://localhost:8080/"
        },
        "outputId": "d1a4bf5d-fbe2-409b-f1e6-74bee301c865"
      },
      "outputs": [
        {
          "output_type": "stream",
          "name": "stdout",
          "text": [
            "File ‘colab_pdf.py’ already there; not retrieving.\n",
            "\n"
          ]
        }
      ],
      "source": [
        "# Add to a new cell at the end of the notebook and run the follow code,\n",
        "# which will save the notebook as pdf in your google drive (allow the permissions) and download it automatically.\n",
        "\n",
        "!wget -nc https://raw.githubusercontent.com/lacclab/colab-pdf/master/colab_pdf.py\n",
        "\n",
        "from colab_pdf import colab_pdf\n",
        "\n",
        "# If you saved the notebook in the default location in your Google Drive,\n",
        "# and didn't change the name of the file, the code should work as is.\n",
        "# If not, adapt accordingly.\n",
        "\n",
        "# colab_pdf(file_name='Copy of Pset_3.ipynb', notebookpath=\"/content/drive/MyDrive/Colab Notebooks/\")"
      ]
    },
    {
      "cell_type": "code",
      "execution_count": 93,
      "metadata": {
        "id": "FLslWsogPP5V"
      },
      "outputs": [],
      "source": []
    }
  ],
  "metadata": {
    "colab": {
      "provenance": []
    },
    "kernelspec": {
      "display_name": "Python 3",
      "name": "python3"
    }
  },
  "nbformat": 4,
  "nbformat_minor": 0
}
